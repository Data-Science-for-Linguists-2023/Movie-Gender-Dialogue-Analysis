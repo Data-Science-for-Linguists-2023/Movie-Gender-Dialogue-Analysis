{
 "cells": [
  {
   "cell_type": "markdown",
   "id": "76559349",
   "metadata": {},
   "source": [
    "# Characters"
   ]
  },
  {
   "cell_type": "markdown",
   "id": "41b6f74a",
   "metadata": {},
   "source": [
    "EXISTING"
   ]
  },
  {
   "cell_type": "markdown",
   "id": "dc3300b7",
   "metadata": {},
   "source": [
    "This data frame lists all characters, their movie, their gender, and their credit position. The `character_ID` column is later referenced in other data frames."
   ]
  },
  {
   "cell_type": "code",
   "execution_count": 1,
   "id": "847157bb",
   "metadata": {
    "scrolled": true
   },
   "outputs": [
    {
     "name": "stderr",
     "output_type": "stream",
     "text": [
      "/opt/anaconda3/lib/python3.8/site-packages/scipy/__init__.py:138: UserWarning: A NumPy version >=1.16.5 and <1.23.0 is required for this version of SciPy (detected version 1.24.1)\n",
      "  warnings.warn(f\"A NumPy version >={np_minversion} and <{np_maxversion} is required for this version of \"\n"
     ]
    }
   ],
   "source": [
    "# import packages\n",
    "import numpy as np\n",
    "import pandas as pd\n",
    "import nltk\n",
    "import re\n",
    "import matplotlib.pyplot as plt\n",
    "import seaborn as sns"
   ]
  },
  {
   "cell_type": "markdown",
   "id": "92b6aaf9",
   "metadata": {},
   "source": [
    "## Loading in the data and basic summary"
   ]
  },
  {
   "cell_type": "code",
   "execution_count": 2,
   "id": "692b8e93",
   "metadata": {
    "scrolled": true
   },
   "outputs": [],
   "source": [
    "# creating the df\n",
    "characters_df = pd.read_csv('./data/movie_characters_metadata.txt', sep='\\s+\\+\\+\\+\\$\\+\\+\\+\\s?',\n",
    "                            names = ['character_ID', 'character_name', 'movie_ID', 'movie_title', 'gender', 'credit_position'], \n",
    "                            dtype='string', engine='python', encoding='ISO-8859-1')"
   ]
  },
  {
   "cell_type": "markdown",
   "id": "33516489",
   "metadata": {},
   "source": [
    "The data was all separated with ' +++$+++ ' and did not have column names. The README described what each column was in the data so I used that to create column names. Where logical, I made the index of the df the initial ID column."
   ]
  },
  {
   "cell_type": "code",
   "execution_count": 3,
   "id": "c90beafc",
   "metadata": {},
   "outputs": [
    {
     "data": {
      "text/plain": [
       "(9035, 6)"
      ]
     },
     "execution_count": 3,
     "metadata": {},
     "output_type": "execute_result"
    }
   ],
   "source": [
    "characters_df.shape"
   ]
  },
  {
   "cell_type": "code",
   "execution_count": 4,
   "id": "ba661d48",
   "metadata": {},
   "outputs": [
    {
     "name": "stdout",
     "output_type": "stream",
     "text": [
      "<class 'pandas.core.frame.DataFrame'>\n",
      "RangeIndex: 9035 entries, 0 to 9034\n",
      "Data columns (total 6 columns):\n",
      " #   Column           Non-Null Count  Dtype \n",
      "---  ------           --------------  ----- \n",
      " 0   character_ID     9035 non-null   string\n",
      " 1   character_name   9033 non-null   string\n",
      " 2   movie_ID         9035 non-null   string\n",
      " 3   movie_title      9035 non-null   string\n",
      " 4   gender           9035 non-null   string\n",
      " 5   credit_position  9035 non-null   string\n",
      "dtypes: string(6)\n",
      "memory usage: 423.6 KB\n"
     ]
    }
   ],
   "source": [
    "characters_df.info()\n",
    "# some characters are unnamed"
   ]
  },
  {
   "cell_type": "code",
   "execution_count": 5,
   "id": "5523c8cc",
   "metadata": {
    "scrolled": true
   },
   "outputs": [
    {
     "data": {
      "text/html": [
       "<div>\n",
       "<style scoped>\n",
       "    .dataframe tbody tr th:only-of-type {\n",
       "        vertical-align: middle;\n",
       "    }\n",
       "\n",
       "    .dataframe tbody tr th {\n",
       "        vertical-align: top;\n",
       "    }\n",
       "\n",
       "    .dataframe thead th {\n",
       "        text-align: right;\n",
       "    }\n",
       "</style>\n",
       "<table border=\"1\" class=\"dataframe\">\n",
       "  <thead>\n",
       "    <tr style=\"text-align: right;\">\n",
       "      <th></th>\n",
       "      <th>character_ID</th>\n",
       "      <th>character_name</th>\n",
       "      <th>movie_ID</th>\n",
       "      <th>movie_title</th>\n",
       "      <th>gender</th>\n",
       "      <th>credit_position</th>\n",
       "    </tr>\n",
       "  </thead>\n",
       "  <tbody>\n",
       "    <tr>\n",
       "      <th>0</th>\n",
       "      <td>u0</td>\n",
       "      <td>BIANCA</td>\n",
       "      <td>m0</td>\n",
       "      <td>10 things i hate about you</td>\n",
       "      <td>f</td>\n",
       "      <td>4</td>\n",
       "    </tr>\n",
       "    <tr>\n",
       "      <th>1</th>\n",
       "      <td>u1</td>\n",
       "      <td>BRUCE</td>\n",
       "      <td>m0</td>\n",
       "      <td>10 things i hate about you</td>\n",
       "      <td>?</td>\n",
       "      <td>?</td>\n",
       "    </tr>\n",
       "    <tr>\n",
       "      <th>2</th>\n",
       "      <td>u2</td>\n",
       "      <td>CAMERON</td>\n",
       "      <td>m0</td>\n",
       "      <td>10 things i hate about you</td>\n",
       "      <td>m</td>\n",
       "      <td>3</td>\n",
       "    </tr>\n",
       "    <tr>\n",
       "      <th>3</th>\n",
       "      <td>u3</td>\n",
       "      <td>CHASTITY</td>\n",
       "      <td>m0</td>\n",
       "      <td>10 things i hate about you</td>\n",
       "      <td>?</td>\n",
       "      <td>?</td>\n",
       "    </tr>\n",
       "    <tr>\n",
       "      <th>4</th>\n",
       "      <td>u4</td>\n",
       "      <td>JOEY</td>\n",
       "      <td>m0</td>\n",
       "      <td>10 things i hate about you</td>\n",
       "      <td>m</td>\n",
       "      <td>6</td>\n",
       "    </tr>\n",
       "  </tbody>\n",
       "</table>\n",
       "</div>"
      ],
      "text/plain": [
       "  character_ID character_name movie_ID                 movie_title gender  \\\n",
       "0           u0         BIANCA       m0  10 things i hate about you      f   \n",
       "1           u1          BRUCE       m0  10 things i hate about you      ?   \n",
       "2           u2        CAMERON       m0  10 things i hate about you      m   \n",
       "3           u3       CHASTITY       m0  10 things i hate about you      ?   \n",
       "4           u4           JOEY       m0  10 things i hate about you      m   \n",
       "\n",
       "  credit_position  \n",
       "0               4  \n",
       "1               ?  \n",
       "2               3  \n",
       "3               ?  \n",
       "4               6  "
      ]
     },
     "execution_count": 5,
     "metadata": {},
     "output_type": "execute_result"
    }
   ],
   "source": [
    "characters_df.head()"
   ]
  },
  {
   "cell_type": "code",
   "execution_count": 6,
   "id": "078ffb27",
   "metadata": {},
   "outputs": [
    {
     "data": {
      "text/html": [
       "<div>\n",
       "<style scoped>\n",
       "    .dataframe tbody tr th:only-of-type {\n",
       "        vertical-align: middle;\n",
       "    }\n",
       "\n",
       "    .dataframe tbody tr th {\n",
       "        vertical-align: top;\n",
       "    }\n",
       "\n",
       "    .dataframe thead th {\n",
       "        text-align: right;\n",
       "    }\n",
       "</style>\n",
       "<table border=\"1\" class=\"dataframe\">\n",
       "  <thead>\n",
       "    <tr style=\"text-align: right;\">\n",
       "      <th></th>\n",
       "      <th>character_ID</th>\n",
       "      <th>character_name</th>\n",
       "      <th>movie_ID</th>\n",
       "      <th>movie_title</th>\n",
       "      <th>gender</th>\n",
       "      <th>credit_position</th>\n",
       "    </tr>\n",
       "  </thead>\n",
       "  <tbody>\n",
       "    <tr>\n",
       "      <th>9030</th>\n",
       "      <td>u9030</td>\n",
       "      <td>DURNFORD</td>\n",
       "      <td>m616</td>\n",
       "      <td>zulu dawn</td>\n",
       "      <td>?</td>\n",
       "      <td>?</td>\n",
       "    </tr>\n",
       "    <tr>\n",
       "      <th>9031</th>\n",
       "      <td>u9031</td>\n",
       "      <td>MELVILL</td>\n",
       "      <td>m616</td>\n",
       "      <td>zulu dawn</td>\n",
       "      <td>?</td>\n",
       "      <td>?</td>\n",
       "    </tr>\n",
       "    <tr>\n",
       "      <th>9032</th>\n",
       "      <td>u9032</td>\n",
       "      <td>NORRIS-NEWMAN</td>\n",
       "      <td>m616</td>\n",
       "      <td>zulu dawn</td>\n",
       "      <td>?</td>\n",
       "      <td>?</td>\n",
       "    </tr>\n",
       "    <tr>\n",
       "      <th>9033</th>\n",
       "      <td>u9033</td>\n",
       "      <td>STUART SMITH</td>\n",
       "      <td>m616</td>\n",
       "      <td>zulu dawn</td>\n",
       "      <td>?</td>\n",
       "      <td>?</td>\n",
       "    </tr>\n",
       "    <tr>\n",
       "      <th>9034</th>\n",
       "      <td>u9034</td>\n",
       "      <td>VEREKER</td>\n",
       "      <td>m616</td>\n",
       "      <td>zulu dawn</td>\n",
       "      <td>?</td>\n",
       "      <td>?</td>\n",
       "    </tr>\n",
       "  </tbody>\n",
       "</table>\n",
       "</div>"
      ],
      "text/plain": [
       "     character_ID character_name movie_ID movie_title gender credit_position\n",
       "9030        u9030       DURNFORD     m616   zulu dawn      ?               ?\n",
       "9031        u9031        MELVILL     m616   zulu dawn      ?               ?\n",
       "9032        u9032  NORRIS-NEWMAN     m616   zulu dawn      ?               ?\n",
       "9033        u9033   STUART SMITH     m616   zulu dawn      ?               ?\n",
       "9034        u9034        VEREKER     m616   zulu dawn      ?               ?"
      ]
     },
     "execution_count": 6,
     "metadata": {},
     "output_type": "execute_result"
    }
   ],
   "source": [
    "characters_df.tail()"
   ]
  },
  {
   "cell_type": "markdown",
   "id": "e6942f9d",
   "metadata": {},
   "source": [
    "Some gender makers are missing for characters in this dataframe, I will work on filling in the missing data."
   ]
  },
  {
   "cell_type": "code",
   "execution_count": 7,
   "id": "1db6a8c8",
   "metadata": {
    "scrolled": true
   },
   "outputs": [
    {
     "data": {
      "text/html": [
       "<div>\n",
       "<style scoped>\n",
       "    .dataframe tbody tr th:only-of-type {\n",
       "        vertical-align: middle;\n",
       "    }\n",
       "\n",
       "    .dataframe tbody tr th {\n",
       "        vertical-align: top;\n",
       "    }\n",
       "\n",
       "    .dataframe thead th {\n",
       "        text-align: right;\n",
       "    }\n",
       "</style>\n",
       "<table border=\"1\" class=\"dataframe\">\n",
       "  <thead>\n",
       "    <tr style=\"text-align: right;\">\n",
       "      <th></th>\n",
       "      <th>character_ID</th>\n",
       "      <th>character_name</th>\n",
       "      <th>movie_ID</th>\n",
       "      <th>movie_title</th>\n",
       "      <th>credit_position</th>\n",
       "    </tr>\n",
       "    <tr>\n",
       "      <th>gender</th>\n",
       "      <th></th>\n",
       "      <th></th>\n",
       "      <th></th>\n",
       "      <th></th>\n",
       "      <th></th>\n",
       "    </tr>\n",
       "  </thead>\n",
       "  <tbody>\n",
       "    <tr>\n",
       "      <th>?</th>\n",
       "      <td>6020</td>\n",
       "      <td>6018</td>\n",
       "      <td>6020</td>\n",
       "      <td>6020</td>\n",
       "      <td>6020</td>\n",
       "    </tr>\n",
       "    <tr>\n",
       "      <th>F</th>\n",
       "      <td>45</td>\n",
       "      <td>45</td>\n",
       "      <td>45</td>\n",
       "      <td>45</td>\n",
       "      <td>45</td>\n",
       "    </tr>\n",
       "    <tr>\n",
       "      <th>M</th>\n",
       "      <td>150</td>\n",
       "      <td>150</td>\n",
       "      <td>150</td>\n",
       "      <td>150</td>\n",
       "      <td>150</td>\n",
       "    </tr>\n",
       "    <tr>\n",
       "      <th>f</th>\n",
       "      <td>921</td>\n",
       "      <td>921</td>\n",
       "      <td>921</td>\n",
       "      <td>921</td>\n",
       "      <td>921</td>\n",
       "    </tr>\n",
       "    <tr>\n",
       "      <th>m</th>\n",
       "      <td>1899</td>\n",
       "      <td>1899</td>\n",
       "      <td>1899</td>\n",
       "      <td>1899</td>\n",
       "      <td>1899</td>\n",
       "    </tr>\n",
       "  </tbody>\n",
       "</table>\n",
       "</div>"
      ],
      "text/plain": [
       "        character_ID  character_name  movie_ID  movie_title  credit_position\n",
       "gender                                                                      \n",
       "?               6020            6018      6020         6020             6020\n",
       "F                 45              45        45           45               45\n",
       "M                150             150       150          150              150\n",
       "f                921             921       921          921              921\n",
       "m               1899            1899      1899         1899             1899"
      ]
     },
     "execution_count": 7,
     "metadata": {},
     "output_type": "execute_result"
    }
   ],
   "source": [
    "# how many characters are missing gender?\n",
    "characters_df.groupby('gender').count()"
   ]
  },
  {
   "cell_type": "markdown",
   "id": "d8ab8897",
   "metadata": {},
   "source": [
    "Looks like a lot of missing gender markers! Looks like some of the flags are inconsist too, there is 'm' and 'M.'"
   ]
  },
  {
   "cell_type": "code",
   "execution_count": 8,
   "id": "b6a6a7d9",
   "metadata": {},
   "outputs": [
    {
     "data": {
      "image/png": "[encoded data removed]",
      "text/plain": [
       "<Figure size 432x288 with 1 Axes>"
      ]
     },
     "metadata": {
      "needs_background": "light"
     },
     "output_type": "display_data"
    }
   ],
   "source": [
    "sns.countplot(x = \"gender\",\n",
    "             data = characters_df)\n",
    "plt.show()"
   ]
  },
  {
   "cell_type": "markdown",
   "id": "2283e816",
   "metadata": {},
   "source": [
    "More characters are missing gender markers than have gender markers."
   ]
  },
  {
   "cell_type": "code",
   "execution_count": 9,
   "id": "4531bfbd",
   "metadata": {},
   "outputs": [],
   "source": [
    "# making all gender markers uppercase\n",
    "characters_df['gender'] = characters_df.gender.map(lambda x: re.sub(r'f', r'F', x))\n",
    "characters_df['gender'] = characters_df.gender.map(lambda x: re.sub(r'm', r'M', x))"
   ]
  },
  {
   "cell_type": "code",
   "execution_count": 10,
   "id": "4be57ec1",
   "metadata": {},
   "outputs": [
    {
     "data": {
      "text/html": [
       "<div>\n",
       "<style scoped>\n",
       "    .dataframe tbody tr th:only-of-type {\n",
       "        vertical-align: middle;\n",
       "    }\n",
       "\n",
       "    .dataframe tbody tr th {\n",
       "        vertical-align: top;\n",
       "    }\n",
       "\n",
       "    .dataframe thead th {\n",
       "        text-align: right;\n",
       "    }\n",
       "</style>\n",
       "<table border=\"1\" class=\"dataframe\">\n",
       "  <thead>\n",
       "    <tr style=\"text-align: right;\">\n",
       "      <th></th>\n",
       "      <th>character_ID</th>\n",
       "      <th>character_name</th>\n",
       "      <th>movie_ID</th>\n",
       "      <th>movie_title</th>\n",
       "      <th>gender</th>\n",
       "      <th>credit_position</th>\n",
       "    </tr>\n",
       "  </thead>\n",
       "  <tbody>\n",
       "    <tr>\n",
       "      <th>count</th>\n",
       "      <td>9035</td>\n",
       "      <td>9033</td>\n",
       "      <td>9035</td>\n",
       "      <td>9035</td>\n",
       "      <td>9035</td>\n",
       "      <td>9035</td>\n",
       "    </tr>\n",
       "    <tr>\n",
       "      <th>unique</th>\n",
       "      <td>9035</td>\n",
       "      <td>5355</td>\n",
       "      <td>617</td>\n",
       "      <td>617</td>\n",
       "      <td>3</td>\n",
       "      <td>57</td>\n",
       "    </tr>\n",
       "    <tr>\n",
       "      <th>top</th>\n",
       "      <td>u0</td>\n",
       "      <td>MAN</td>\n",
       "      <td>m289</td>\n",
       "      <td>casino</td>\n",
       "      <td>?</td>\n",
       "      <td>?</td>\n",
       "    </tr>\n",
       "    <tr>\n",
       "      <th>freq</th>\n",
       "      <td>1</td>\n",
       "      <td>44</td>\n",
       "      <td>44</td>\n",
       "      <td>44</td>\n",
       "      <td>6020</td>\n",
       "      <td>6356</td>\n",
       "    </tr>\n",
       "  </tbody>\n",
       "</table>\n",
       "</div>"
      ],
      "text/plain": [
       "       character_ID character_name movie_ID movie_title gender credit_position\n",
       "count          9035           9033     9035        9035   9035            9035\n",
       "unique         9035           5355      617         617      3              57\n",
       "top              u0            MAN     m289      casino      ?               ?\n",
       "freq              1             44       44          44   6020            6356"
      ]
     },
     "execution_count": 10,
     "metadata": {},
     "output_type": "execute_result"
    }
   ],
   "source": [
    "characters_df.describe()"
   ]
  },
  {
   "cell_type": "code",
   "execution_count": 11,
   "id": "85e7eeb7",
   "metadata": {},
   "outputs": [],
   "source": [
    "# adding separate columns for first and last name\n",
    "# name = 'Mack Campbell'\n",
    "# name.split()[0] # first name\n",
    "# name.split()[1] # last name\n",
    "# what if they have more than 2 words?"
   ]
  },
  {
   "cell_type": "markdown",
   "id": "2f9ac010",
   "metadata": {},
   "source": [
    "## Generating Gender Markers"
   ]
  },
  {
   "cell_type": "code",
   "execution_count": 12,
   "id": "33adf64b",
   "metadata": {},
   "outputs": [],
   "source": [
    "# df for characters without gender markers\n",
    "characters_ng_df = characters_df[characters_df.gender == '?']"
   ]
  },
  {
   "cell_type": "code",
   "execution_count": 13,
   "id": "2d92a86d",
   "metadata": {},
   "outputs": [],
   "source": [
    "# df for characters with gender markers, these will get remerged later\n",
    "characters_g_df = characters_df[characters_df.gender != '?']"
   ]
  },
  {
   "cell_type": "code",
   "execution_count": 14,
   "id": "d151e18c",
   "metadata": {},
   "outputs": [
    {
     "name": "stdout",
     "output_type": "stream",
     "text": [
      "<class 'pandas.core.frame.DataFrame'>\n",
      "Int64Index: 6020 entries, 1 to 9034\n",
      "Data columns (total 6 columns):\n",
      " #   Column           Non-Null Count  Dtype \n",
      "---  ------           --------------  ----- \n",
      " 0   character_ID     6020 non-null   string\n",
      " 1   character_name   6018 non-null   string\n",
      " 2   movie_ID         6020 non-null   string\n",
      " 3   movie_title      6020 non-null   string\n",
      " 4   gender           6020 non-null   object\n",
      " 5   credit_position  6020 non-null   string\n",
      "dtypes: object(1), string(5)\n",
      "memory usage: 329.2+ KB\n"
     ]
    }
   ],
   "source": [
    "characters_ng_df.info()"
   ]
  },
  {
   "cell_type": "code",
   "execution_count": 15,
   "id": "680d791e",
   "metadata": {},
   "outputs": [
    {
     "data": {
      "text/html": [
       "<div>\n",
       "<style scoped>\n",
       "    .dataframe tbody tr th:only-of-type {\n",
       "        vertical-align: middle;\n",
       "    }\n",
       "\n",
       "    .dataframe tbody tr th {\n",
       "        vertical-align: top;\n",
       "    }\n",
       "\n",
       "    .dataframe thead th {\n",
       "        text-align: right;\n",
       "    }\n",
       "</style>\n",
       "<table border=\"1\" class=\"dataframe\">\n",
       "  <thead>\n",
       "    <tr style=\"text-align: right;\">\n",
       "      <th></th>\n",
       "      <th>character_ID</th>\n",
       "      <th>character_name</th>\n",
       "      <th>movie_ID</th>\n",
       "      <th>movie_title</th>\n",
       "      <th>gender</th>\n",
       "      <th>credit_position</th>\n",
       "    </tr>\n",
       "  </thead>\n",
       "  <tbody>\n",
       "    <tr>\n",
       "      <th>3764</th>\n",
       "      <td>u3764</td>\n",
       "      <td>&lt;NA&gt;</td>\n",
       "      <td>m248</td>\n",
       "      <td>arctic blue</td>\n",
       "      <td>?</td>\n",
       "      <td>?</td>\n",
       "    </tr>\n",
       "    <tr>\n",
       "      <th>6558</th>\n",
       "      <td>u6558</td>\n",
       "      <td>&lt;NA&gt;</td>\n",
       "      <td>m436</td>\n",
       "      <td>memento</td>\n",
       "      <td>?</td>\n",
       "      <td>?</td>\n",
       "    </tr>\n",
       "  </tbody>\n",
       "</table>\n",
       "</div>"
      ],
      "text/plain": [
       "     character_ID character_name movie_ID  movie_title gender credit_position\n",
       "3764        u3764           <NA>     m248  arctic blue      ?               ?\n",
       "6558        u6558           <NA>     m436      memento      ?               ?"
      ]
     },
     "execution_count": 15,
     "metadata": {},
     "output_type": "execute_result"
    }
   ],
   "source": [
    "# there are two characters missing names\n",
    "characters_ng_df[characters_ng_df.character_name.isnull()]"
   ]
  },
  {
   "cell_type": "code",
   "execution_count": 16,
   "id": "473a3758",
   "metadata": {},
   "outputs": [
    {
     "name": "stderr",
     "output_type": "stream",
     "text": [
      "<ipython-input-16-ee62cec4db58>:2: SettingWithCopyWarning: \n",
      "A value is trying to be set on a copy of a slice from a DataFrame\n",
      "\n",
      "See the caveats in the documentation: https://pandas.pydata.org/pandas-docs/stable/user_guide/indexing.html#returning-a-view-versus-a-copy\n",
      "  characters_ng_df['character_name'].fillna('', inplace=True)\n"
     ]
    }
   ],
   "source": [
    "# i will replace them with empty strings for now\n",
    "characters_ng_df['character_name'].fillna('', inplace=True)"
   ]
  },
  {
   "cell_type": "markdown",
   "id": "5641f8d5",
   "metadata": {},
   "source": [
    "I will use the NLTK names list and specific strings to help fill in missing gender markers."
   ]
  },
  {
   "cell_type": "markdown",
   "id": "ae854cb4",
   "metadata": {},
   "source": [
    "### NLTK Names List"
   ]
  },
  {
   "cell_type": "code",
   "execution_count": 17,
   "id": "3fd97ea9",
   "metadata": {},
   "outputs": [],
   "source": [
    "# I will use the names corpus from NLTK to fill in some gaps in gender data\n",
    "names = nltk.corpus.names\n",
    "male_names = names.words('male.txt')\n",
    "female_names = names.words('female.txt')"
   ]
  },
  {
   "cell_type": "code",
   "execution_count": 18,
   "id": "2be10678",
   "metadata": {},
   "outputs": [
    {
     "data": {
      "text/plain": [
       "['Aamir', 'Aaron', 'Abbey', 'Abbie', 'Abbot']"
      ]
     },
     "execution_count": 18,
     "metadata": {},
     "output_type": "execute_result"
    }
   ],
   "source": [
    "male_names[:5]"
   ]
  },
  {
   "cell_type": "code",
   "execution_count": 19,
   "id": "ebf32625",
   "metadata": {},
   "outputs": [
    {
     "data": {
      "text/plain": [
       "['Abagael', 'Abagail', 'Abbe', 'Abbey', 'Abbi']"
      ]
     },
     "execution_count": 19,
     "metadata": {},
     "output_type": "execute_result"
    }
   ],
   "source": [
    "female_names[:5]"
   ]
  },
  {
   "cell_type": "markdown",
   "id": "4143c307",
   "metadata": {},
   "source": [
    "Some names appear on both lists, this will be addressed below. I will add a gender marker 'A' for ambiguous, the names in both lists as well as certain strings will make up this category."
   ]
  },
  {
   "cell_type": "markdown",
   "id": "7b8d6f53",
   "metadata": {},
   "source": [
    "### Using Strings"
   ]
  },
  {
   "cell_type": "markdown",
   "id": "912d6884",
   "metadata": {},
   "source": [
    "Miss Perky is a character, turns out there are numerous other characters with honorifics and stereotypically gendered words (boy, girl, brother, sister, etc.). "
   ]
  },
  {
   "cell_type": "code",
   "execution_count": 20,
   "id": "a6abeba3",
   "metadata": {},
   "outputs": [
    {
     "data": {
      "text/html": [
       "<div>\n",
       "<style scoped>\n",
       "    .dataframe tbody tr th:only-of-type {\n",
       "        vertical-align: middle;\n",
       "    }\n",
       "\n",
       "    .dataframe tbody tr th {\n",
       "        vertical-align: top;\n",
       "    }\n",
       "\n",
       "    .dataframe thead th {\n",
       "        text-align: right;\n",
       "    }\n",
       "</style>\n",
       "<table border=\"1\" class=\"dataframe\">\n",
       "  <thead>\n",
       "    <tr style=\"text-align: right;\">\n",
       "      <th></th>\n",
       "      <th>character_ID</th>\n",
       "      <th>character_name</th>\n",
       "      <th>movie_ID</th>\n",
       "      <th>movie_title</th>\n",
       "      <th>gender</th>\n",
       "      <th>credit_position</th>\n",
       "    </tr>\n",
       "  </thead>\n",
       "  <tbody>\n",
       "    <tr>\n",
       "      <th>291</th>\n",
       "      <td>u291</td>\n",
       "      <td>GUARD</td>\n",
       "      <td>m18</td>\n",
       "      <td>american madness</td>\n",
       "      <td>?</td>\n",
       "      <td>?</td>\n",
       "    </tr>\n",
       "    <tr>\n",
       "      <th>369</th>\n",
       "      <td>u369</td>\n",
       "      <td>GUARD</td>\n",
       "      <td>m22</td>\n",
       "      <td>austin powers: international man of mystery</td>\n",
       "      <td>?</td>\n",
       "      <td>?</td>\n",
       "    </tr>\n",
       "    <tr>\n",
       "      <th>995</th>\n",
       "      <td>u995</td>\n",
       "      <td>BORDER GUARD</td>\n",
       "      <td>m65</td>\n",
       "      <td>from dusk till dawn</td>\n",
       "      <td>?</td>\n",
       "      <td>?</td>\n",
       "    </tr>\n",
       "    <tr>\n",
       "      <th>1085</th>\n",
       "      <td>u1085</td>\n",
       "      <td>COASTGUARD DISPATCHER</td>\n",
       "      <td>m71</td>\n",
       "      <td>ghost ship</td>\n",
       "      <td>?</td>\n",
       "      <td>?</td>\n",
       "    </tr>\n",
       "    <tr>\n",
       "      <th>1296</th>\n",
       "      <td>u1296</td>\n",
       "      <td>LOBBY GUARD</td>\n",
       "      <td>m86</td>\n",
       "      <td>hellboy</td>\n",
       "      <td>?</td>\n",
       "      <td>?</td>\n",
       "    </tr>\n",
       "    <tr>\n",
       "      <th>1540</th>\n",
       "      <td>u1540</td>\n",
       "      <td>GUARD</td>\n",
       "      <td>m103</td>\n",
       "      <td>it happened one night</td>\n",
       "      <td>?</td>\n",
       "      <td>?</td>\n",
       "    </tr>\n",
       "    <tr>\n",
       "      <th>1771</th>\n",
       "      <td>u1771</td>\n",
       "      <td>GUARD</td>\n",
       "      <td>m117</td>\n",
       "      <td>legally blonde</td>\n",
       "      <td>?</td>\n",
       "      <td>?</td>\n",
       "    </tr>\n",
       "    <tr>\n",
       "      <th>1878</th>\n",
       "      <td>u1878</td>\n",
       "      <td>GUARD</td>\n",
       "      <td>m123</td>\n",
       "      <td>lost highway</td>\n",
       "      <td>?</td>\n",
       "      <td>?</td>\n",
       "    </tr>\n",
       "    <tr>\n",
       "      <th>1987</th>\n",
       "      <td>u1987</td>\n",
       "      <td>GUARDIAN TWO</td>\n",
       "      <td>m129</td>\n",
       "      <td>man on fire</td>\n",
       "      <td>?</td>\n",
       "      <td>?</td>\n",
       "    </tr>\n",
       "    <tr>\n",
       "      <th>2058</th>\n",
       "      <td>u2058</td>\n",
       "      <td>JAIL GUARD #2</td>\n",
       "      <td>m133</td>\n",
       "      <td>metro</td>\n",
       "      <td>?</td>\n",
       "      <td>?</td>\n",
       "    </tr>\n",
       "    <tr>\n",
       "      <th>2153</th>\n",
       "      <td>u2153</td>\n",
       "      <td>2ND BODYGUARD</td>\n",
       "      <td>m140</td>\n",
       "      <td>mr. deeds goes to town</td>\n",
       "      <td>?</td>\n",
       "      <td>?</td>\n",
       "    </tr>\n",
       "    <tr>\n",
       "      <th>2285</th>\n",
       "      <td>u2285</td>\n",
       "      <td>GUARD</td>\n",
       "      <td>m147</td>\n",
       "      <td>the night of the hunter</td>\n",
       "      <td>?</td>\n",
       "      <td>?</td>\n",
       "    </tr>\n",
       "    <tr>\n",
       "      <th>2380</th>\n",
       "      <td>u2380</td>\n",
       "      <td>GUARD</td>\n",
       "      <td>m152</td>\n",
       "      <td>nurse betty</td>\n",
       "      <td>?</td>\n",
       "      <td>?</td>\n",
       "    </tr>\n",
       "    <tr>\n",
       "      <th>2781</th>\n",
       "      <td>u2781</td>\n",
       "      <td>SECURITY GUARD</td>\n",
       "      <td>m181</td>\n",
       "      <td>simone</td>\n",
       "      <td>?</td>\n",
       "      <td>?</td>\n",
       "    </tr>\n",
       "    <tr>\n",
       "      <th>3048</th>\n",
       "      <td>u3048</td>\n",
       "      <td>SECURITY GUARD</td>\n",
       "      <td>m199</td>\n",
       "      <td>starman</td>\n",
       "      <td>?</td>\n",
       "      <td>?</td>\n",
       "    </tr>\n",
       "    <tr>\n",
       "      <th>3938</th>\n",
       "      <td>u3938</td>\n",
       "      <td>GUARD</td>\n",
       "      <td>m261</td>\n",
       "      <td>batman forever</td>\n",
       "      <td>?</td>\n",
       "      <td>?</td>\n",
       "    </tr>\n",
       "    <tr>\n",
       "      <th>4364</th>\n",
       "      <td>u4364</td>\n",
       "      <td>SECURITY GUARD #1</td>\n",
       "      <td>m289</td>\n",
       "      <td>casino</td>\n",
       "      <td>?</td>\n",
       "      <td>?</td>\n",
       "    </tr>\n",
       "    <tr>\n",
       "      <th>5638</th>\n",
       "      <td>u5638</td>\n",
       "      <td>GUARD</td>\n",
       "      <td>m374</td>\n",
       "      <td>the grapes of wrath</td>\n",
       "      <td>?</td>\n",
       "      <td>?</td>\n",
       "    </tr>\n",
       "    <tr>\n",
       "      <th>5673</th>\n",
       "      <td>u5673</td>\n",
       "      <td>SOUTHTEC GUARD</td>\n",
       "      <td>m375</td>\n",
       "      <td>grosse pointe blank</td>\n",
       "      <td>?</td>\n",
       "      <td>?</td>\n",
       "    </tr>\n",
       "    <tr>\n",
       "      <th>6233</th>\n",
       "      <td>u6233</td>\n",
       "      <td>BODYGUARD</td>\n",
       "      <td>m417</td>\n",
       "      <td>kundun</td>\n",
       "      <td>?</td>\n",
       "      <td>?</td>\n",
       "    </tr>\n",
       "    <tr>\n",
       "      <th>6486</th>\n",
       "      <td>u6486</td>\n",
       "      <td>GUARD</td>\n",
       "      <td>m431</td>\n",
       "      <td>manhunter</td>\n",
       "      <td>?</td>\n",
       "      <td>?</td>\n",
       "    </tr>\n",
       "    <tr>\n",
       "      <th>6634</th>\n",
       "      <td>u6634</td>\n",
       "      <td>GUARD RANDALL</td>\n",
       "      <td>m443</td>\n",
       "      <td>mission: impossible</td>\n",
       "      <td>?</td>\n",
       "      <td>?</td>\n",
       "    </tr>\n",
       "    <tr>\n",
       "      <th>6673</th>\n",
       "      <td>u6673</td>\n",
       "      <td>FIRST GUARD</td>\n",
       "      <td>m445</td>\n",
       "      <td>monty python and the holy grail</td>\n",
       "      <td>?</td>\n",
       "      <td>?</td>\n",
       "    </tr>\n",
       "    <tr>\n",
       "      <th>6731</th>\n",
       "      <td>u6731</td>\n",
       "      <td>PARAMOUNT GUARD</td>\n",
       "      <td>m448</td>\n",
       "      <td>mulholland dr.</td>\n",
       "      <td>?</td>\n",
       "      <td>?</td>\n",
       "    </tr>\n",
       "    <tr>\n",
       "      <th>7266</th>\n",
       "      <td>u7266</td>\n",
       "      <td>BODYGUARD</td>\n",
       "      <td>m491</td>\n",
       "      <td>rocky</td>\n",
       "      <td>?</td>\n",
       "      <td>?</td>\n",
       "    </tr>\n",
       "    <tr>\n",
       "      <th>7742</th>\n",
       "      <td>u7742</td>\n",
       "      <td>GUARD</td>\n",
       "      <td>m524</td>\n",
       "      <td>sounder</td>\n",
       "      <td>?</td>\n",
       "      <td>?</td>\n",
       "    </tr>\n",
       "    <tr>\n",
       "      <th>8175</th>\n",
       "      <td>u8175</td>\n",
       "      <td>GUARD 1</td>\n",
       "      <td>m555</td>\n",
       "      <td>the truman show</td>\n",
       "      <td>?</td>\n",
       "      <td>?</td>\n",
       "    </tr>\n",
       "    <tr>\n",
       "      <th>8176</th>\n",
       "      <td>u8176</td>\n",
       "      <td>GUARD 2</td>\n",
       "      <td>m555</td>\n",
       "      <td>the truman show</td>\n",
       "      <td>?</td>\n",
       "      <td>?</td>\n",
       "    </tr>\n",
       "    <tr>\n",
       "      <th>8202</th>\n",
       "      <td>u8202</td>\n",
       "      <td>YOUNG NAVAL GUARD</td>\n",
       "      <td>m556</td>\n",
       "      <td>the x files</td>\n",
       "      <td>?</td>\n",
       "      <td>?</td>\n",
       "    </tr>\n",
       "    <tr>\n",
       "      <th>8562</th>\n",
       "      <td>u8562</td>\n",
       "      <td>GUARD</td>\n",
       "      <td>m581</td>\n",
       "      <td>traffic</td>\n",
       "      <td>?</td>\n",
       "      <td>?</td>\n",
       "    </tr>\n",
       "  </tbody>\n",
       "</table>\n",
       "</div>"
      ],
      "text/plain": [
       "     character_ID         character_name movie_ID  \\\n",
       "291          u291                  GUARD      m18   \n",
       "369          u369                  GUARD      m22   \n",
       "995          u995           BORDER GUARD      m65   \n",
       "1085        u1085  COASTGUARD DISPATCHER      m71   \n",
       "1296        u1296            LOBBY GUARD      m86   \n",
       "1540        u1540                  GUARD     m103   \n",
       "1771        u1771                  GUARD     m117   \n",
       "1878        u1878                  GUARD     m123   \n",
       "1987        u1987           GUARDIAN TWO     m129   \n",
       "2058        u2058          JAIL GUARD #2     m133   \n",
       "2153        u2153          2ND BODYGUARD     m140   \n",
       "2285        u2285                  GUARD     m147   \n",
       "2380        u2380                  GUARD     m152   \n",
       "2781        u2781         SECURITY GUARD     m181   \n",
       "3048        u3048         SECURITY GUARD     m199   \n",
       "3938        u3938                  GUARD     m261   \n",
       "4364        u4364      SECURITY GUARD #1     m289   \n",
       "5638        u5638                  GUARD     m374   \n",
       "5673        u5673         SOUTHTEC GUARD     m375   \n",
       "6233        u6233              BODYGUARD     m417   \n",
       "6486        u6486                  GUARD     m431   \n",
       "6634        u6634          GUARD RANDALL     m443   \n",
       "6673        u6673            FIRST GUARD     m445   \n",
       "6731        u6731        PARAMOUNT GUARD     m448   \n",
       "7266        u7266              BODYGUARD     m491   \n",
       "7742        u7742                  GUARD     m524   \n",
       "8175        u8175                GUARD 1     m555   \n",
       "8176        u8176                GUARD 2     m555   \n",
       "8202        u8202      YOUNG NAVAL GUARD     m556   \n",
       "8562        u8562                  GUARD     m581   \n",
       "\n",
       "                                      movie_title gender credit_position  \n",
       "291                              american madness      ?               ?  \n",
       "369   austin powers: international man of mystery      ?               ?  \n",
       "995                           from dusk till dawn      ?               ?  \n",
       "1085                                   ghost ship      ?               ?  \n",
       "1296                                      hellboy      ?               ?  \n",
       "1540                        it happened one night      ?               ?  \n",
       "1771                               legally blonde      ?               ?  \n",
       "1878                                 lost highway      ?               ?  \n",
       "1987                                  man on fire      ?               ?  \n",
       "2058                                        metro      ?               ?  \n",
       "2153                       mr. deeds goes to town      ?               ?  \n",
       "2285                      the night of the hunter      ?               ?  \n",
       "2380                                  nurse betty      ?               ?  \n",
       "2781                                       simone      ?               ?  \n",
       "3048                                      starman      ?               ?  \n",
       "3938                               batman forever      ?               ?  \n",
       "4364                                       casino      ?               ?  \n",
       "5638                          the grapes of wrath      ?               ?  \n",
       "5673                          grosse pointe blank      ?               ?  \n",
       "6233                                       kundun      ?               ?  \n",
       "6486                                    manhunter      ?               ?  \n",
       "6634                          mission: impossible      ?               ?  \n",
       "6673              monty python and the holy grail      ?               ?  \n",
       "6731                               mulholland dr.      ?               ?  \n",
       "7266                                        rocky      ?               ?  \n",
       "7742                                      sounder      ?               ?  \n",
       "8175                              the truman show      ?               ?  \n",
       "8176                              the truman show      ?               ?  \n",
       "8202                                  the x files      ?               ?  \n",
       "8562                                      traffic      ?               ?  "
      ]
     },
     "execution_count": 20,
     "metadata": {},
     "output_type": "execute_result"
    }
   ],
   "source": [
    "characters_ng_df[characters_ng_df.character_name.str.contains('GUARD')]"
   ]
  },
  {
   "cell_type": "markdown",
   "id": "ebe6e903",
   "metadata": {},
   "source": [
    "### Using the Dictionaries"
   ]
  },
  {
   "cell_type": "code",
   "execution_count": 21,
   "id": "b4437c80",
   "metadata": {},
   "outputs": [],
   "source": [
    "# code created by Na-Rae Han and refined by me\n",
    "def getGender(name):\n",
    "    nltkname_m = set([n.upper() for n in male_names])\n",
    "    nltkname_f = set([n.upper() for n in female_names])\n",
    "    nltkname_mf = nltkname_m.intersection(nltkname_f)\n",
    "    name = name.upper()  # uppercase incoming name\n",
    "    if name in nltkname_mf: return 'A'\n",
    "    elif name in nltkname_f: return 'F'\n",
    "    elif name in nltkname_m: return 'M'\n",
    "    elif re.match(r'(.* ?)?(\\bMAN\\b|BOYFRIEND|DAD|FATHER|GRANDFATHER|GRANDDAD|GRANDPA|GRANDSON|BROTHER|BOY|SIR|MR.|MISTER|UNCLE|MALE|\\bHERR\\b|HOST\\b|LORD|PRIEST|COUNT|WIZARD|EMPEROR|GOVERNOR|DUDE)', name):\n",
    "        return 'M'\n",
    "    elif 'WOMAN' in name or re.match(r'(.* ?)?(MS\\.|MISS\\b|GIRL|WIFE|MOM|MOTHER|DAUGHTER|SISTER|MRS.|AUNT|MAMA|\\bMA|LADY|\\bFEMALE|FRAU|PRINCESS|QUEEN|GRANDMA|GRANDMOTHER|WAITRESS|HOSTESS|NUN|WITCH|ACTRESS|GOVERNESS|STEWARDESS|CHICK)', name): \n",
    "        return 'F'\n",
    "    elif re.match(r'(DR. |DR |DOCTOR|PROFESSOR|TEACHER|JUDGE|PILOT|LAWYER|KID|CHILD|GUARD)', name): \n",
    "        return 'A'\n",
    "    else:\n",
    "        return 'unknown'"
   ]
  },
  {
   "cell_type": "code",
   "execution_count": 22,
   "id": "3f0a99ef",
   "metadata": {},
   "outputs": [
    {
     "name": "stderr",
     "output_type": "stream",
     "text": [
      "<ipython-input-22-d2c06cdbc673>:1: SettingWithCopyWarning: \n",
      "A value is trying to be set on a copy of a slice from a DataFrame.\n",
      "Try using .loc[row_indexer,col_indexer] = value instead\n",
      "\n",
      "See the caveats in the documentation: https://pandas.pydata.org/pandas-docs/stable/user_guide/indexing.html#returning-a-view-versus-a-copy\n",
      "  characters_ng_df['gender'] = characters_ng_df['character_name'].map(getGender)\n"
     ]
    }
   ],
   "source": [
    "characters_ng_df['gender'] = characters_ng_df['character_name'].map(getGender)"
   ]
  },
  {
   "cell_type": "code",
   "execution_count": 23,
   "id": "da8de7c3",
   "metadata": {},
   "outputs": [
    {
     "data": {
      "text/html": [
       "<div>\n",
       "<style scoped>\n",
       "    .dataframe tbody tr th:only-of-type {\n",
       "        vertical-align: middle;\n",
       "    }\n",
       "\n",
       "    .dataframe tbody tr th {\n",
       "        vertical-align: top;\n",
       "    }\n",
       "\n",
       "    .dataframe thead th {\n",
       "        text-align: right;\n",
       "    }\n",
       "</style>\n",
       "<table border=\"1\" class=\"dataframe\">\n",
       "  <thead>\n",
       "    <tr style=\"text-align: right;\">\n",
       "      <th></th>\n",
       "      <th>character_ID</th>\n",
       "      <th>character_name</th>\n",
       "      <th>movie_ID</th>\n",
       "      <th>movie_title</th>\n",
       "      <th>credit_position</th>\n",
       "    </tr>\n",
       "    <tr>\n",
       "      <th>gender</th>\n",
       "      <th></th>\n",
       "      <th></th>\n",
       "      <th></th>\n",
       "      <th></th>\n",
       "      <th></th>\n",
       "    </tr>\n",
       "  </thead>\n",
       "  <tbody>\n",
       "    <tr>\n",
       "      <th>A</th>\n",
       "      <td>551</td>\n",
       "      <td>551</td>\n",
       "      <td>551</td>\n",
       "      <td>551</td>\n",
       "      <td>551</td>\n",
       "    </tr>\n",
       "    <tr>\n",
       "      <th>F</th>\n",
       "      <td>1076</td>\n",
       "      <td>1076</td>\n",
       "      <td>1076</td>\n",
       "      <td>1076</td>\n",
       "      <td>1076</td>\n",
       "    </tr>\n",
       "    <tr>\n",
       "      <th>M</th>\n",
       "      <td>1550</td>\n",
       "      <td>1550</td>\n",
       "      <td>1550</td>\n",
       "      <td>1550</td>\n",
       "      <td>1550</td>\n",
       "    </tr>\n",
       "    <tr>\n",
       "      <th>unknown</th>\n",
       "      <td>2843</td>\n",
       "      <td>2843</td>\n",
       "      <td>2843</td>\n",
       "      <td>2843</td>\n",
       "      <td>2843</td>\n",
       "    </tr>\n",
       "  </tbody>\n",
       "</table>\n",
       "</div>"
      ],
      "text/plain": [
       "         character_ID  character_name  movie_ID  movie_title  credit_position\n",
       "gender                                                                       \n",
       "A                 551             551       551          551              551\n",
       "F                1076            1076      1076         1076             1076\n",
       "M                1550            1550      1550         1550             1550\n",
       "unknown          2843            2843      2843         2843             2843"
      ]
     },
     "execution_count": 23,
     "metadata": {},
     "output_type": "execute_result"
    }
   ],
   "source": [
    "characters_ng_df.groupby('gender').count()"
   ]
  },
  {
   "cell_type": "markdown",
   "id": "cad51401",
   "metadata": {},
   "source": [
    "Initially 6020 characters were missing gender markers. Using NLTK name list and strings I added 2,883 gender markers.\n",
    "Just NLTK: 2229\n",
    "\n",
    "NLTK + initial strings: 2883\n",
    "\n",
    "second pass: 2894\n",
    "\n",
    "third pass: 2907 \n",
    "\n",
    "fourth pass: 2920\n",
    "\n",
    "fifth pass: 3062\n",
    "\n",
    "sixth pass 3122\n",
    "\n",
    "seventh pass: 3136\n",
    "\n",
    "eighth pass: 3141\n",
    "\n",
    "nineth pass: 3177\n",
    "\n",
    "900+ added by strings!"
   ]
  },
  {
   "cell_type": "code",
   "execution_count": 24,
   "id": "9a71e1e0",
   "metadata": {},
   "outputs": [
    {
     "data": {
      "image/png": "[encoded data removed]",
      "text/plain": [
       "<Figure size 432x288 with 1 Axes>"
      ]
     },
     "metadata": {
      "needs_background": "light"
     },
     "output_type": "display_data"
    }
   ],
   "source": [
    "sns.countplot(x = \"gender\",\n",
    "             data = characters_ng_df)\n",
    "plt.show()\n",
    "# still a lot of unknown genders, but about half were resolved"
   ]
  },
  {
   "cell_type": "markdown",
   "id": "2e1acdd4",
   "metadata": {},
   "source": [
    "## Remerging the dataframes"
   ]
  },
  {
   "cell_type": "code",
   "execution_count": 25,
   "id": "cde23abd",
   "metadata": {},
   "outputs": [],
   "source": [
    "# now that i have made progress on adding gender markers, lets add the two dataframes back together\n",
    "characters_update_df = pd.concat([characters_ng_df, characters_g_df])"
   ]
  },
  {
   "cell_type": "code",
   "execution_count": 26,
   "id": "c920a0c5",
   "metadata": {},
   "outputs": [
    {
     "data": {
      "image/png": "[encoded data removed]",
      "text/plain": [
       "<Figure size 432x288 with 1 Axes>"
      ]
     },
     "metadata": {
      "needs_background": "light"
     },
     "output_type": "display_data"
    }
   ],
   "source": [
    "# updated dataframe gender breakdown\n",
    "sns.countplot(x = \"gender\",\n",
    "             data = characters_update_df)\n",
    "plt.show()"
   ]
  },
  {
   "cell_type": "code",
   "execution_count": 27,
   "id": "1fc82ea8",
   "metadata": {},
   "outputs": [
    {
     "data": {
      "image/png": "[encoded data removed]",
      "text/plain": [
       "<Figure size 432x288 with 1 Axes>"
      ]
     },
     "metadata": {
      "needs_background": "light"
     },
     "output_type": "display_data"
    }
   ],
   "source": [
    "# compared to the original dataframe! huge improvement, I was able to cut the unknown gender markers down by half\n",
    "sns.countplot(x = \"gender\",\n",
    "             data = characters_df)\n",
    "plt.show()"
   ]
  },
  {
   "cell_type": "markdown",
   "id": "d603923b",
   "metadata": {},
   "source": [
    "## Pickling the data and creating a csv"
   ]
  },
  {
   "cell_type": "code",
   "execution_count": 28,
   "id": "5bcc47f4",
   "metadata": {},
   "outputs": [],
   "source": [
    "import pickle"
   ]
  },
  {
   "cell_type": "code",
   "execution_count": 29,
   "id": "e9aca51b",
   "metadata": {},
   "outputs": [],
   "source": [
    "# pickle the data to use in other notebooks for further analysis\n",
    "f = open('characters_update_df.pkl', 'wb')\n",
    "pickle.dump(characters_update_df, f, -1)\n",
    "f.close()"
   ]
  },
  {
   "cell_type": "code",
   "execution_count": 30,
   "id": "7ff1c70b",
   "metadata": {},
   "outputs": [],
   "source": [
    "characters_update_df.to_csv('./new_data/characters_df.csv', header=True)"
   ]
  }
 ],
 "metadata": {
  "kernelspec": {
   "display_name": "Python 3",
   "language": "python",
   "name": "python3"
  },
  "language_info": {
   "codemirror_mode": {
    "name": "ipython",
    "version": 3
   },
   "file_extension": ".py",
   "mimetype": "text/x-python",
   "name": "python",
   "nbconvert_exporter": "python",
   "pygments_lexer": "ipython3",
   "version": "3.8.8"
  }
 },
 "nbformat": 4,
 "nbformat_minor": 5
}
