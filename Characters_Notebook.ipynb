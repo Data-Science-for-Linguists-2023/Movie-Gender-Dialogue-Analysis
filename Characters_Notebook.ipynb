{
 "cells": [
  {
   "cell_type": "markdown",
   "id": "76559349",
   "metadata": {},
   "source": [
    "# Characters"
   ]
  },
  {
   "cell_type": "markdown",
   "id": "41b6f74a",
   "metadata": {},
   "source": [
    "NEW REPLACEMENT"
   ]
  },
  {
   "cell_type": "markdown",
   "id": "dc3300b7",
   "metadata": {},
   "source": [
    "This data frame lists all characters, their movie, their gender, and their credit position. The `character_ID` column is later referenced in other data frames."
   ]
  },
  {
   "cell_type": "code",
   "execution_count": 1,
   "id": "847157bb",
   "metadata": {
    "scrolled": true
   },
   "outputs": [
    {
     "name": "stderr",
     "output_type": "stream",
     "text": [
      "/opt/anaconda3/lib/python3.8/site-packages/scipy/__init__.py:138: UserWarning: A NumPy version >=1.16.5 and <1.23.0 is required for this version of SciPy (detected version 1.24.1)\n",
      "  warnings.warn(f\"A NumPy version >={np_minversion} and <{np_maxversion} is required for this version of \"\n"
     ]
    }
   ],
   "source": [
    "# import packages\n",
    "import numpy as np\n",
    "import pandas as pd\n",
    "import nltk\n",
    "import re\n",
    "import matplotlib.pyplot as plt\n",
    "import seaborn as sns"
   ]
  },
  {
   "cell_type": "markdown",
   "id": "92b6aaf9",
   "metadata": {},
   "source": [
    "## Loading in the data and basic summary"
   ]
  },
  {
   "cell_type": "code",
   "execution_count": 3,
   "id": "692b8e93",
   "metadata": {
    "scrolled": true
   },
   "outputs": [],
   "source": [
    "# creating the df\n",
    "characters_df = pd.read_csv('./data/movie_characters_metadata.txt', sep='\\s+\\+\\+\\+\\$\\+\\+\\+\\s?',\n",
    "                            names = ['character_ID', 'character_name', 'movie_ID', 'movie_title', 'gender', 'credit_position'], \n",
    "                            dtype='string', engine='python', encoding='ISO-8859-1')"
   ]
  },
  {
   "cell_type": "markdown",
   "id": "33516489",
   "metadata": {},
   "source": [
    "The data was all separated with ' +++$+++ ' and did not have column names. The README described what each column was in the data so I used that to create column names. Where logical, I made the index of the df the initial ID column."
   ]
  },
  {
   "cell_type": "code",
   "execution_count": 4,
   "id": "c90beafc",
   "metadata": {},
   "outputs": [
    {
     "data": {
      "text/plain": [
       "(9035, 6)"
      ]
     },
     "execution_count": 4,
     "metadata": {},
     "output_type": "execute_result"
    }
   ],
   "source": [
    "characters_df.shape"
   ]
  },
  {
   "cell_type": "code",
   "execution_count": 5,
   "id": "ba661d48",
   "metadata": {},
   "outputs": [
    {
     "name": "stdout",
     "output_type": "stream",
     "text": [
      "<class 'pandas.core.frame.DataFrame'>\n",
      "RangeIndex: 9035 entries, 0 to 9034\n",
      "Data columns (total 6 columns):\n",
      " #   Column           Non-Null Count  Dtype \n",
      "---  ------           --------------  ----- \n",
      " 0   character_ID     9035 non-null   string\n",
      " 1   character_name   9033 non-null   string\n",
      " 2   movie_ID         9035 non-null   string\n",
      " 3   movie_title      9035 non-null   string\n",
      " 4   gender           9035 non-null   string\n",
      " 5   credit_position  9035 non-null   string\n",
      "dtypes: string(6)\n",
      "memory usage: 423.6 KB\n"
     ]
    }
   ],
   "source": [
    "characters_df.info()\n",
    "# some characters are unnamed"
   ]
  },
  {
   "cell_type": "code",
   "execution_count": 6,
   "id": "5523c8cc",
   "metadata": {
    "scrolled": true
   },
   "outputs": [
    {
     "data": {
      "text/html": [
       "<div>\n",
       "<style scoped>\n",
       "    .dataframe tbody tr th:only-of-type {\n",
       "        vertical-align: middle;\n",
       "    }\n",
       "\n",
       "    .dataframe tbody tr th {\n",
       "        vertical-align: top;\n",
       "    }\n",
       "\n",
       "    .dataframe thead th {\n",
       "        text-align: right;\n",
       "    }\n",
       "</style>\n",
       "<table border=\"1\" class=\"dataframe\">\n",
       "  <thead>\n",
       "    <tr style=\"text-align: right;\">\n",
       "      <th></th>\n",
       "      <th>character_ID</th>\n",
       "      <th>character_name</th>\n",
       "      <th>movie_ID</th>\n",
       "      <th>movie_title</th>\n",
       "      <th>gender</th>\n",
       "      <th>credit_position</th>\n",
       "    </tr>\n",
       "  </thead>\n",
       "  <tbody>\n",
       "    <tr>\n",
       "      <th>0</th>\n",
       "      <td>u0</td>\n",
       "      <td>BIANCA</td>\n",
       "      <td>m0</td>\n",
       "      <td>10 things i hate about you</td>\n",
       "      <td>f</td>\n",
       "      <td>4</td>\n",
       "    </tr>\n",
       "    <tr>\n",
       "      <th>1</th>\n",
       "      <td>u1</td>\n",
       "      <td>BRUCE</td>\n",
       "      <td>m0</td>\n",
       "      <td>10 things i hate about you</td>\n",
       "      <td>?</td>\n",
       "      <td>?</td>\n",
       "    </tr>\n",
       "    <tr>\n",
       "      <th>2</th>\n",
       "      <td>u2</td>\n",
       "      <td>CAMERON</td>\n",
       "      <td>m0</td>\n",
       "      <td>10 things i hate about you</td>\n",
       "      <td>m</td>\n",
       "      <td>3</td>\n",
       "    </tr>\n",
       "    <tr>\n",
       "      <th>3</th>\n",
       "      <td>u3</td>\n",
       "      <td>CHASTITY</td>\n",
       "      <td>m0</td>\n",
       "      <td>10 things i hate about you</td>\n",
       "      <td>?</td>\n",
       "      <td>?</td>\n",
       "    </tr>\n",
       "    <tr>\n",
       "      <th>4</th>\n",
       "      <td>u4</td>\n",
       "      <td>JOEY</td>\n",
       "      <td>m0</td>\n",
       "      <td>10 things i hate about you</td>\n",
       "      <td>m</td>\n",
       "      <td>6</td>\n",
       "    </tr>\n",
       "  </tbody>\n",
       "</table>\n",
       "</div>"
      ],
      "text/plain": [
       "  character_ID character_name movie_ID                 movie_title gender  \\\n",
       "0           u0         BIANCA       m0  10 things i hate about you      f   \n",
       "1           u1          BRUCE       m0  10 things i hate about you      ?   \n",
       "2           u2        CAMERON       m0  10 things i hate about you      m   \n",
       "3           u3       CHASTITY       m0  10 things i hate about you      ?   \n",
       "4           u4           JOEY       m0  10 things i hate about you      m   \n",
       "\n",
       "  credit_position  \n",
       "0               4  \n",
       "1               ?  \n",
       "2               3  \n",
       "3               ?  \n",
       "4               6  "
      ]
     },
     "execution_count": 6,
     "metadata": {},
     "output_type": "execute_result"
    }
   ],
   "source": [
    "characters_df.head()"
   ]
  },
  {
   "cell_type": "code",
   "execution_count": 7,
   "id": "078ffb27",
   "metadata": {},
   "outputs": [
    {
     "data": {
      "text/html": [
       "<div>\n",
       "<style scoped>\n",
       "    .dataframe tbody tr th:only-of-type {\n",
       "        vertical-align: middle;\n",
       "    }\n",
       "\n",
       "    .dataframe tbody tr th {\n",
       "        vertical-align: top;\n",
       "    }\n",
       "\n",
       "    .dataframe thead th {\n",
       "        text-align: right;\n",
       "    }\n",
       "</style>\n",
       "<table border=\"1\" class=\"dataframe\">\n",
       "  <thead>\n",
       "    <tr style=\"text-align: right;\">\n",
       "      <th></th>\n",
       "      <th>character_ID</th>\n",
       "      <th>character_name</th>\n",
       "      <th>movie_ID</th>\n",
       "      <th>movie_title</th>\n",
       "      <th>gender</th>\n",
       "      <th>credit_position</th>\n",
       "    </tr>\n",
       "  </thead>\n",
       "  <tbody>\n",
       "    <tr>\n",
       "      <th>9030</th>\n",
       "      <td>u9030</td>\n",
       "      <td>DURNFORD</td>\n",
       "      <td>m616</td>\n",
       "      <td>zulu dawn</td>\n",
       "      <td>?</td>\n",
       "      <td>?</td>\n",
       "    </tr>\n",
       "    <tr>\n",
       "      <th>9031</th>\n",
       "      <td>u9031</td>\n",
       "      <td>MELVILL</td>\n",
       "      <td>m616</td>\n",
       "      <td>zulu dawn</td>\n",
       "      <td>?</td>\n",
       "      <td>?</td>\n",
       "    </tr>\n",
       "    <tr>\n",
       "      <th>9032</th>\n",
       "      <td>u9032</td>\n",
       "      <td>NORRIS-NEWMAN</td>\n",
       "      <td>m616</td>\n",
       "      <td>zulu dawn</td>\n",
       "      <td>?</td>\n",
       "      <td>?</td>\n",
       "    </tr>\n",
       "    <tr>\n",
       "      <th>9033</th>\n",
       "      <td>u9033</td>\n",
       "      <td>STUART SMITH</td>\n",
       "      <td>m616</td>\n",
       "      <td>zulu dawn</td>\n",
       "      <td>?</td>\n",
       "      <td>?</td>\n",
       "    </tr>\n",
       "    <tr>\n",
       "      <th>9034</th>\n",
       "      <td>u9034</td>\n",
       "      <td>VEREKER</td>\n",
       "      <td>m616</td>\n",
       "      <td>zulu dawn</td>\n",
       "      <td>?</td>\n",
       "      <td>?</td>\n",
       "    </tr>\n",
       "  </tbody>\n",
       "</table>\n",
       "</div>"
      ],
      "text/plain": [
       "     character_ID character_name movie_ID movie_title gender credit_position\n",
       "9030        u9030       DURNFORD     m616   zulu dawn      ?               ?\n",
       "9031        u9031        MELVILL     m616   zulu dawn      ?               ?\n",
       "9032        u9032  NORRIS-NEWMAN     m616   zulu dawn      ?               ?\n",
       "9033        u9033   STUART SMITH     m616   zulu dawn      ?               ?\n",
       "9034        u9034        VEREKER     m616   zulu dawn      ?               ?"
      ]
     },
     "execution_count": 7,
     "metadata": {},
     "output_type": "execute_result"
    }
   ],
   "source": [
    "characters_df.tail()"
   ]
  },
  {
   "cell_type": "markdown",
   "id": "e6942f9d",
   "metadata": {},
   "source": [
    "Some gender makers are missing for characters in this dataframe, I will work on filling in the missing data."
   ]
  },
  {
   "cell_type": "code",
   "execution_count": 8,
   "id": "1db6a8c8",
   "metadata": {
    "scrolled": true
   },
   "outputs": [
    {
     "data": {
      "text/html": [
       "<div>\n",
       "<style scoped>\n",
       "    .dataframe tbody tr th:only-of-type {\n",
       "        vertical-align: middle;\n",
       "    }\n",
       "\n",
       "    .dataframe tbody tr th {\n",
       "        vertical-align: top;\n",
       "    }\n",
       "\n",
       "    .dataframe thead th {\n",
       "        text-align: right;\n",
       "    }\n",
       "</style>\n",
       "<table border=\"1\" class=\"dataframe\">\n",
       "  <thead>\n",
       "    <tr style=\"text-align: right;\">\n",
       "      <th></th>\n",
       "      <th>character_ID</th>\n",
       "      <th>character_name</th>\n",
       "      <th>movie_ID</th>\n",
       "      <th>movie_title</th>\n",
       "      <th>credit_position</th>\n",
       "    </tr>\n",
       "    <tr>\n",
       "      <th>gender</th>\n",
       "      <th></th>\n",
       "      <th></th>\n",
       "      <th></th>\n",
       "      <th></th>\n",
       "      <th></th>\n",
       "    </tr>\n",
       "  </thead>\n",
       "  <tbody>\n",
       "    <tr>\n",
       "      <th>?</th>\n",
       "      <td>6020</td>\n",
       "      <td>6018</td>\n",
       "      <td>6020</td>\n",
       "      <td>6020</td>\n",
       "      <td>6020</td>\n",
       "    </tr>\n",
       "    <tr>\n",
       "      <th>F</th>\n",
       "      <td>45</td>\n",
       "      <td>45</td>\n",
       "      <td>45</td>\n",
       "      <td>45</td>\n",
       "      <td>45</td>\n",
       "    </tr>\n",
       "    <tr>\n",
       "      <th>M</th>\n",
       "      <td>150</td>\n",
       "      <td>150</td>\n",
       "      <td>150</td>\n",
       "      <td>150</td>\n",
       "      <td>150</td>\n",
       "    </tr>\n",
       "    <tr>\n",
       "      <th>f</th>\n",
       "      <td>921</td>\n",
       "      <td>921</td>\n",
       "      <td>921</td>\n",
       "      <td>921</td>\n",
       "      <td>921</td>\n",
       "    </tr>\n",
       "    <tr>\n",
       "      <th>m</th>\n",
       "      <td>1899</td>\n",
       "      <td>1899</td>\n",
       "      <td>1899</td>\n",
       "      <td>1899</td>\n",
       "      <td>1899</td>\n",
       "    </tr>\n",
       "  </tbody>\n",
       "</table>\n",
       "</div>"
      ],
      "text/plain": [
       "        character_ID  character_name  movie_ID  movie_title  credit_position\n",
       "gender                                                                      \n",
       "?               6020            6018      6020         6020             6020\n",
       "F                 45              45        45           45               45\n",
       "M                150             150       150          150              150\n",
       "f                921             921       921          921              921\n",
       "m               1899            1899      1899         1899             1899"
      ]
     },
     "execution_count": 8,
     "metadata": {},
     "output_type": "execute_result"
    }
   ],
   "source": [
    "# how many characters are missing gender?\n",
    "characters_df.groupby('gender').count()"
   ]
  },
  {
   "cell_type": "markdown",
   "id": "d8ab8897",
   "metadata": {},
   "source": [
    "Looks like a lot of missing gender markers! Looks like some of the flags are inconsist too, there is 'm' and 'M.'"
   ]
  },
  {
   "cell_type": "code",
   "execution_count": 9,
   "id": "b6a6a7d9",
   "metadata": {},
   "outputs": [
    {
     "data": {
      "image/png": "[encoded data removed]",
      "text/plain": [
       "<Figure size 432x288 with 1 Axes>"
      ]
     },
     "metadata": {
      "needs_background": "light"
     },
     "output_type": "display_data"
    }
   ],
   "source": [
    "sns.countplot(x = \"gender\",\n",
    "             data = characters_df)\n",
    "plt.show()"
   ]
  },
  {
   "cell_type": "markdown",
   "id": "2283e816",
   "metadata": {},
   "source": [
    "More characters are missing gender markers than have gender markers."
   ]
  },
  {
   "cell_type": "code",
   "execution_count": 10,
   "id": "4531bfbd",
   "metadata": {},
   "outputs": [],
   "source": [
    "# making all gender markers uppercase\n",
    "characters_df['gender'] = characters_df.gender.map(lambda x: re.sub(r'f', r'F', x))\n",
    "characters_df['gender'] = characters_df.gender.map(lambda x: re.sub(r'm', r'M', x))"
   ]
  },
  {
   "cell_type": "code",
   "execution_count": 11,
   "id": "4be57ec1",
   "metadata": {},
   "outputs": [
    {
     "data": {
      "text/html": [
       "<div>\n",
       "<style scoped>\n",
       "    .dataframe tbody tr th:only-of-type {\n",
       "        vertical-align: middle;\n",
       "    }\n",
       "\n",
       "    .dataframe tbody tr th {\n",
       "        vertical-align: top;\n",
       "    }\n",
       "\n",
       "    .dataframe thead th {\n",
       "        text-align: right;\n",
       "    }\n",
       "</style>\n",
       "<table border=\"1\" class=\"dataframe\">\n",
       "  <thead>\n",
       "    <tr style=\"text-align: right;\">\n",
       "      <th></th>\n",
       "      <th>character_ID</th>\n",
       "      <th>character_name</th>\n",
       "      <th>movie_ID</th>\n",
       "      <th>movie_title</th>\n",
       "      <th>gender</th>\n",
       "      <th>credit_position</th>\n",
       "    </tr>\n",
       "  </thead>\n",
       "  <tbody>\n",
       "    <tr>\n",
       "      <th>count</th>\n",
       "      <td>9035</td>\n",
       "      <td>9033</td>\n",
       "      <td>9035</td>\n",
       "      <td>9035</td>\n",
       "      <td>9035</td>\n",
       "      <td>9035</td>\n",
       "    </tr>\n",
       "    <tr>\n",
       "      <th>unique</th>\n",
       "      <td>9035</td>\n",
       "      <td>5355</td>\n",
       "      <td>617</td>\n",
       "      <td>617</td>\n",
       "      <td>3</td>\n",
       "      <td>57</td>\n",
       "    </tr>\n",
       "    <tr>\n",
       "      <th>top</th>\n",
       "      <td>u0</td>\n",
       "      <td>MAN</td>\n",
       "      <td>m289</td>\n",
       "      <td>casino</td>\n",
       "      <td>?</td>\n",
       "      <td>?</td>\n",
       "    </tr>\n",
       "    <tr>\n",
       "      <th>freq</th>\n",
       "      <td>1</td>\n",
       "      <td>44</td>\n",
       "      <td>44</td>\n",
       "      <td>44</td>\n",
       "      <td>6020</td>\n",
       "      <td>6356</td>\n",
       "    </tr>\n",
       "  </tbody>\n",
       "</table>\n",
       "</div>"
      ],
      "text/plain": [
       "       character_ID character_name movie_ID movie_title gender credit_position\n",
       "count          9035           9033     9035        9035   9035            9035\n",
       "unique         9035           5355      617         617      3              57\n",
       "top              u0            MAN     m289      casino      ?               ?\n",
       "freq              1             44       44          44   6020            6356"
      ]
     },
     "execution_count": 11,
     "metadata": {},
     "output_type": "execute_result"
    }
   ],
   "source": [
    "characters_df.describe()"
   ]
  },
  {
   "cell_type": "code",
   "execution_count": 12,
   "id": "85e7eeb7",
   "metadata": {},
   "outputs": [],
   "source": [
    "# adding separate columns for first and last name\n",
    "# name = 'Mack Campbell'\n",
    "# name.split()[0] # first name\n",
    "# name.split()[1] # last name\n",
    "# what if they have more than 2 words?"
   ]
  },
  {
   "cell_type": "markdown",
   "id": "2f9ac010",
   "metadata": {},
   "source": [
    "## Generating Gender Markers"
   ]
  },
  {
   "cell_type": "code",
   "execution_count": 13,
   "id": "33adf64b",
   "metadata": {},
   "outputs": [],
   "source": [
    "# df for characters without gender markers\n",
    "characters_ng_df = characters_df[characters_df.gender == '?']"
   ]
  },
  {
   "cell_type": "code",
   "execution_count": 14,
   "id": "2d92a86d",
   "metadata": {},
   "outputs": [],
   "source": [
    "# df for characters with gender markers, these will get remerged later\n",
    "characters_g_df = characters_df[characters_df.gender != '?']"
   ]
  },
  {
   "cell_type": "code",
   "execution_count": 15,
   "id": "d151e18c",
   "metadata": {},
   "outputs": [
    {
     "name": "stdout",
     "output_type": "stream",
     "text": [
      "<class 'pandas.core.frame.DataFrame'>\n",
      "Int64Index: 6020 entries, 1 to 9034\n",
      "Data columns (total 6 columns):\n",
      " #   Column           Non-Null Count  Dtype \n",
      "---  ------           --------------  ----- \n",
      " 0   character_ID     6020 non-null   string\n",
      " 1   character_name   6018 non-null   string\n",
      " 2   movie_ID         6020 non-null   string\n",
      " 3   movie_title      6020 non-null   string\n",
      " 4   gender           6020 non-null   object\n",
      " 5   credit_position  6020 non-null   string\n",
      "dtypes: object(1), string(5)\n",
      "memory usage: 329.2+ KB\n"
     ]
    }
   ],
   "source": [
    "characters_ng_df.info()"
   ]
  },
  {
   "cell_type": "code",
   "execution_count": 16,
   "id": "680d791e",
   "metadata": {},
   "outputs": [
    {
     "data": {
      "text/html": [
       "<div>\n",
       "<style scoped>\n",
       "    .dataframe tbody tr th:only-of-type {\n",
       "        vertical-align: middle;\n",
       "    }\n",
       "\n",
       "    .dataframe tbody tr th {\n",
       "        vertical-align: top;\n",
       "    }\n",
       "\n",
       "    .dataframe thead th {\n",
       "        text-align: right;\n",
       "    }\n",
       "</style>\n",
       "<table border=\"1\" class=\"dataframe\">\n",
       "  <thead>\n",
       "    <tr style=\"text-align: right;\">\n",
       "      <th></th>\n",
       "      <th>character_ID</th>\n",
       "      <th>character_name</th>\n",
       "      <th>movie_ID</th>\n",
       "      <th>movie_title</th>\n",
       "      <th>gender</th>\n",
       "      <th>credit_position</th>\n",
       "    </tr>\n",
       "  </thead>\n",
       "  <tbody>\n",
       "    <tr>\n",
       "      <th>3764</th>\n",
       "      <td>u3764</td>\n",
       "      <td>&lt;NA&gt;</td>\n",
       "      <td>m248</td>\n",
       "      <td>arctic blue</td>\n",
       "      <td>?</td>\n",
       "      <td>?</td>\n",
       "    </tr>\n",
       "    <tr>\n",
       "      <th>6558</th>\n",
       "      <td>u6558</td>\n",
       "      <td>&lt;NA&gt;</td>\n",
       "      <td>m436</td>\n",
       "      <td>memento</td>\n",
       "      <td>?</td>\n",
       "      <td>?</td>\n",
       "    </tr>\n",
       "  </tbody>\n",
       "</table>\n",
       "</div>"
      ],
      "text/plain": [
       "     character_ID character_name movie_ID  movie_title gender credit_position\n",
       "3764        u3764           <NA>     m248  arctic blue      ?               ?\n",
       "6558        u6558           <NA>     m436      memento      ?               ?"
      ]
     },
     "execution_count": 16,
     "metadata": {},
     "output_type": "execute_result"
    }
   ],
   "source": [
    "# there are two characters missing names\n",
    "characters_ng_df[characters_ng_df.character_name.isnull()]"
   ]
  },
  {
   "cell_type": "code",
   "execution_count": 17,
   "id": "473a3758",
   "metadata": {},
   "outputs": [
    {
     "name": "stderr",
     "output_type": "stream",
     "text": [
      "<ipython-input-17-ee62cec4db58>:2: SettingWithCopyWarning: \n",
      "A value is trying to be set on a copy of a slice from a DataFrame\n",
      "\n",
      "See the caveats in the documentation: https://pandas.pydata.org/pandas-docs/stable/user_guide/indexing.html#returning-a-view-versus-a-copy\n",
      "  characters_ng_df['character_name'].fillna('', inplace=True)\n"
     ]
    }
   ],
   "source": [
    "# i will replace them with empty strings for now\n",
    "characters_ng_df['character_name'].fillna('', inplace=True)"
   ]
  },
  {
   "cell_type": "markdown",
   "id": "5641f8d5",
   "metadata": {},
   "source": [
    "I will use the NLTK names list and specific strings to help fill in missing gender markers."
   ]
  },
  {
   "cell_type": "markdown",
   "id": "ae854cb4",
   "metadata": {},
   "source": [
    "### NLTK Names List"
   ]
  },
  {
   "cell_type": "code",
   "execution_count": 18,
   "id": "3fd97ea9",
   "metadata": {},
   "outputs": [],
   "source": [
    "# I will use the names corpus from NLTK to fill in some gaps in gender data\n",
    "names = nltk.corpus.names\n",
    "male_names = names.words('male.txt')\n",
    "female_names = names.words('female.txt')"
   ]
  },
  {
   "cell_type": "code",
   "execution_count": 19,
   "id": "2be10678",
   "metadata": {},
   "outputs": [
    {
     "data": {
      "text/plain": [
       "['Aamir', 'Aaron', 'Abbey', 'Abbie', 'Abbot']"
      ]
     },
     "execution_count": 19,
     "metadata": {},
     "output_type": "execute_result"
    }
   ],
   "source": [
    "male_names[:5]"
   ]
  },
  {
   "cell_type": "code",
   "execution_count": 20,
   "id": "ebf32625",
   "metadata": {},
   "outputs": [
    {
     "data": {
      "text/plain": [
       "['Abagael', 'Abagail', 'Abbe', 'Abbey', 'Abbi']"
      ]
     },
     "execution_count": 20,
     "metadata": {},
     "output_type": "execute_result"
    }
   ],
   "source": [
    "female_names[:5]"
   ]
  },
  {
   "cell_type": "markdown",
   "id": "4143c307",
   "metadata": {},
   "source": [
    "Some names appear on both lists, this will be addressed below. I will add a gender marker 'A' for ambiguous, the names in both lists as well as certain strings will make up this category."
   ]
  },
  {
   "cell_type": "markdown",
   "id": "7b8d6f53",
   "metadata": {},
   "source": [
    "### Using Strings"
   ]
  },
  {
   "cell_type": "markdown",
   "id": "912d6884",
   "metadata": {},
   "source": [
    "Miss Perky is a character, turns out there are numerous other characters with honorifics and stereotypically gendered words (boy, girl, brother, sister, etc.). "
   ]
  },
  {
   "cell_type": "code",
   "execution_count": 370,
   "id": "a6abeba3",
   "metadata": {},
   "outputs": [
    {
     "data": {
      "text/html": [
       "<div>\n",
       "<style scoped>\n",
       "    .dataframe tbody tr th:only-of-type {\n",
       "        vertical-align: middle;\n",
       "    }\n",
       "\n",
       "    .dataframe tbody tr th {\n",
       "        vertical-align: top;\n",
       "    }\n",
       "\n",
       "    .dataframe thead th {\n",
       "        text-align: right;\n",
       "    }\n",
       "</style>\n",
       "<table border=\"1\" class=\"dataframe\">\n",
       "  <thead>\n",
       "    <tr style=\"text-align: right;\">\n",
       "      <th></th>\n",
       "      <th>character_ID</th>\n",
       "      <th>character_name</th>\n",
       "      <th>movie_ID</th>\n",
       "      <th>movie_title</th>\n",
       "      <th>gender</th>\n",
       "      <th>credit_position</th>\n",
       "    </tr>\n",
       "  </thead>\n",
       "  <tbody>\n",
       "    <tr>\n",
       "      <th>4273</th>\n",
       "      <td>u4273</td>\n",
       "      <td>CAMERAMAN</td>\n",
       "      <td>m285</td>\n",
       "      <td>broadcast news</td>\n",
       "      <td>unknown</td>\n",
       "      <td>?</td>\n",
       "    </tr>\n",
       "    <tr>\n",
       "      <th>4936</th>\n",
       "      <td>u4936</td>\n",
       "      <td>CAMERAMAN BILL</td>\n",
       "      <td>m329</td>\n",
       "      <td>ed wood</td>\n",
       "      <td>unknown</td>\n",
       "      <td>?</td>\n",
       "    </tr>\n",
       "  </tbody>\n",
       "</table>\n",
       "</div>"
      ],
      "text/plain": [
       "     character_ID  character_name movie_ID     movie_title   gender  \\\n",
       "4273        u4273       CAMERAMAN     m285  broadcast news  unknown   \n",
       "4936        u4936  CAMERAMAN BILL     m329         ed wood  unknown   \n",
       "\n",
       "     credit_position  \n",
       "4273               ?  \n",
       "4936               ?  "
      ]
     },
     "execution_count": 370,
     "metadata": {},
     "output_type": "execute_result"
    }
   ],
   "source": [
    "characters_ng_df[characters_ng_df.character_name.str.contains('')]"
   ]
  },
  {
   "cell_type": "markdown",
   "id": "ebe6e903",
   "metadata": {},
   "source": [
    "### Using the Dictionaries"
   ]
  },
  {
   "cell_type": "code",
   "execution_count": 371,
   "id": "b4437c80",
   "metadata": {},
   "outputs": [],
   "source": [
    "# code created by Na-Rae Han and refined by me\n",
    "def getGender(name):\n",
    "    nltkname_m = set([n.upper() for n in male_names])\n",
    "    nltkname_f = set([n.upper() for n in female_names])\n",
    "    nltkname_mf = nltkname_m.intersection(nltkname_f)\n",
    "    name = name.upper()  # uppercase incoming name\n",
    "    if name in nltkname_mf: return 'A'\n",
    "    elif name in nltkname_f: return 'F'\n",
    "    elif name in nltkname_m: return 'M'\n",
    "    elif re.match(r'(.* ?)?(\\bMAN\\b|BOYFRIEND|DAD|FATHER|GRANDFATHER|GRANDDAD|GRANDPA|GRANDSON|BROTHER|BOY|SIR|MR.|MISTER|UNCLE|MALE|\\bHERR\\b|HOST\\b|LORD|PRIEST|COUNT|WIZARD|EMPEROR|GOVERNOR|DUDE)', name):\n",
    "        return 'M'\n",
    "    elif 'WOMAN' in name or re.match(r'(.* ?)?(MS\\.|MISS\\b|GIRL|WIFE|MOM|MOTHER|DAUGHTER|SISTER|MRS.|AUNT|MAMA|\\bMA|LADY|\\bFEMALE|FRAU|PRINCESS|QUEEN|GRANDMA|GRANDMOTHER|WAITRESS|HOSTESS|NUN|WITCH|ACTRESS|GOVERNESS|STEWARDESS|CHICK)', name): \n",
    "        return 'F'\n",
    "    elif re.match(r'(DR. |DR |DOCTOR|PROFESSOR|TEACHER|JUDGE|PILOT)', name): \n",
    "        return 'A'\n",
    "    else:\n",
    "        return 'unknown'"
   ]
  },
  {
   "cell_type": "code",
   "execution_count": 372,
   "id": "3f0a99ef",
   "metadata": {},
   "outputs": [
    {
     "name": "stderr",
     "output_type": "stream",
     "text": [
      "<ipython-input-372-d2c06cdbc673>:1: SettingWithCopyWarning: \n",
      "A value is trying to be set on a copy of a slice from a DataFrame.\n",
      "Try using .loc[row_indexer,col_indexer] = value instead\n",
      "\n",
      "See the caveats in the documentation: https://pandas.pydata.org/pandas-docs/stable/user_guide/indexing.html#returning-a-view-versus-a-copy\n",
      "  characters_ng_df['gender'] = characters_ng_df['character_name'].map(getGender)\n"
     ]
    }
   ],
   "source": [
    "characters_ng_df['gender'] = characters_ng_df['character_name'].map(getGender)"
   ]
  },
  {
   "cell_type": "code",
   "execution_count": 373,
   "id": "da8de7c3",
   "metadata": {},
   "outputs": [
    {
     "data": {
      "text/html": [
       "<div>\n",
       "<style scoped>\n",
       "    .dataframe tbody tr th:only-of-type {\n",
       "        vertical-align: middle;\n",
       "    }\n",
       "\n",
       "    .dataframe tbody tr th {\n",
       "        vertical-align: top;\n",
       "    }\n",
       "\n",
       "    .dataframe thead th {\n",
       "        text-align: right;\n",
       "    }\n",
       "</style>\n",
       "<table border=\"1\" class=\"dataframe\">\n",
       "  <thead>\n",
       "    <tr style=\"text-align: right;\">\n",
       "      <th></th>\n",
       "      <th>character_ID</th>\n",
       "      <th>character_name</th>\n",
       "      <th>movie_ID</th>\n",
       "      <th>movie_title</th>\n",
       "      <th>credit_position</th>\n",
       "    </tr>\n",
       "    <tr>\n",
       "      <th>gender</th>\n",
       "      <th></th>\n",
       "      <th></th>\n",
       "      <th></th>\n",
       "      <th></th>\n",
       "      <th></th>\n",
       "    </tr>\n",
       "  </thead>\n",
       "  <tbody>\n",
       "    <tr>\n",
       "      <th>A</th>\n",
       "      <td>515</td>\n",
       "      <td>515</td>\n",
       "      <td>515</td>\n",
       "      <td>515</td>\n",
       "      <td>515</td>\n",
       "    </tr>\n",
       "    <tr>\n",
       "      <th>F</th>\n",
       "      <td>1076</td>\n",
       "      <td>1076</td>\n",
       "      <td>1076</td>\n",
       "      <td>1076</td>\n",
       "      <td>1076</td>\n",
       "    </tr>\n",
       "    <tr>\n",
       "      <th>M</th>\n",
       "      <td>1550</td>\n",
       "      <td>1550</td>\n",
       "      <td>1550</td>\n",
       "      <td>1550</td>\n",
       "      <td>1550</td>\n",
       "    </tr>\n",
       "    <tr>\n",
       "      <th>unknown</th>\n",
       "      <td>2879</td>\n",
       "      <td>2879</td>\n",
       "      <td>2879</td>\n",
       "      <td>2879</td>\n",
       "      <td>2879</td>\n",
       "    </tr>\n",
       "  </tbody>\n",
       "</table>\n",
       "</div>"
      ],
      "text/plain": [
       "         character_ID  character_name  movie_ID  movie_title  credit_position\n",
       "gender                                                                       \n",
       "A                 515             515       515          515              515\n",
       "F                1076            1076      1076         1076             1076\n",
       "M                1550            1550      1550         1550             1550\n",
       "unknown          2879            2879      2879         2879             2879"
      ]
     },
     "execution_count": 373,
     "metadata": {},
     "output_type": "execute_result"
    }
   ],
   "source": [
    "characters_ng_df.groupby('gender').count()"
   ]
  },
  {
   "cell_type": "markdown",
   "id": "cad51401",
   "metadata": {},
   "source": [
    "Initially 6020 characters were missing gender markers. Using NLTK name list and strings I added 2,883 gender markers.\n",
    "Just NLTK: 2229\n",
    "\n",
    "NLTK + initial strings: 2883\n",
    "\n",
    "second pass: 2894\n",
    "\n",
    "third pass: 2907 \n",
    "\n",
    "fourth pass: 2920\n",
    "\n",
    "FIFTH PASS: 3062\n",
    "\n",
    "sixth pass 3122\n",
    "\n",
    "seventh pass: 3136\n",
    "\n",
    "eighth pass: 3141\n",
    "\n",
    "900+ added by strings!"
   ]
  },
  {
   "cell_type": "code",
   "execution_count": 375,
   "id": "9a71e1e0",
   "metadata": {},
   "outputs": [
    {
     "data": {
      "image/png": "[encoded data removed]",
      "text/plain": [
       "<Figure size 432x288 with 1 Axes>"
      ]
     },
     "metadata": {
      "needs_background": "light"
     },
     "output_type": "display_data"
    }
   ],
   "source": [
    "sns.countplot(x = \"gender\",\n",
    "             data = characters_ng_df)\n",
    "plt.show()\n",
    "# still a lot of unknown genders, but about half were resolved"
   ]
  },
  {
   "cell_type": "markdown",
   "id": "2e1acdd4",
   "metadata": {},
   "source": [
    "## Remerging the dataframes"
   ]
  },
  {
   "cell_type": "code",
   "execution_count": 377,
   "id": "cde23abd",
   "metadata": {},
   "outputs": [],
   "source": [
    "# now that i have made progress on adding gender markers, lets add the two dataframes back together\n",
    "characters_update_df = pd.concat([characters_ng_df, characters_g_df])"
   ]
  },
  {
   "cell_type": "code",
   "execution_count": 379,
   "id": "c920a0c5",
   "metadata": {},
   "outputs": [
    {
     "data": {
      "image/png": "[encoded data removed]",
      "text/plain": [
       "<Figure size 432x288 with 1 Axes>"
      ]
     },
     "metadata": {
      "needs_background": "light"
     },
     "output_type": "display_data"
    }
   ],
   "source": [
    "# updated dataframe gender breakdown\n",
    "sns.countplot(x = \"gender\",\n",
    "             data = characters_update_df)\n",
    "plt.show()"
   ]
  },
  {
   "cell_type": "code",
   "execution_count": 380,
   "id": "1fc82ea8",
   "metadata": {},
   "outputs": [
    {
     "data": {
      "image/png": "[encoded data removed]",
      "text/plain": [
       "<Figure size 432x288 with 1 Axes>"
      ]
     },
     "metadata": {
      "needs_background": "light"
     },
     "output_type": "display_data"
    }
   ],
   "source": [
    "# compared to the original dataframe! huge improvement, I was able to cut the unknown gender markers down by half\n",
    "sns.countplot(x = \"gender\",\n",
    "             data = characters_df)\n",
    "plt.show()"
   ]
  },
  {
   "cell_type": "markdown",
   "id": "d603923b",
   "metadata": {},
   "source": [
    "## Pickling the data and creating a csv"
   ]
  },
  {
   "cell_type": "code",
   "execution_count": 381,
   "id": "5bcc47f4",
   "metadata": {},
   "outputs": [],
   "source": [
    "import pickle"
   ]
  },
  {
   "cell_type": "code",
   "execution_count": 382,
   "id": "e9aca51b",
   "metadata": {},
   "outputs": [],
   "source": [
    "# pickle the data to use in other notebooks for further analysis\n",
    "f = open('characters_update_df.pkl', 'wb')\n",
    "pickle.dump(characters_update_df, f, -1)\n",
    "f.close()"
   ]
  },
  {
   "cell_type": "code",
   "execution_count": 32,
   "id": "a72e6497",
   "metadata": {},
   "outputs": [],
   "source": [
    "characters_update_df.to_csv('./new_data/characters_df.csv', header=True)"
   ]
  }
 ],
 "metadata": {
  "kernelspec": {
   "display_name": "Python 3",
   "language": "python",
   "name": "python3"
  },
  "language_info": {
   "codemirror_mode": {
    "name": "ipython",
    "version": 3
   },
   "file_extension": ".py",
   "mimetype": "text/x-python",
   "name": "python",
   "nbconvert_exporter": "python",
   "pygments_lexer": "ipython3",
   "version": "3.8.8"
  }
 },
 "nbformat": 4,
 "nbformat_minor": 5
}
