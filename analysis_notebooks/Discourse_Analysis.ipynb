{
 "cells": [
  {
   "cell_type": "markdown",
   "id": "089a29f0",
   "metadata": {},
   "source": [
    "# Discourse Analysis"
   ]
  },
  {
   "cell_type": "markdown",
   "id": "079f3e03",
   "metadata": {},
   "source": [
    "## Table of Contents\n",
    "- [1st Section](#Loading-in-the-data) is where I import the files\n",
    "- [2nd Section](#Discourse-exploration) is where I look at specific conversations\n",
    "- [3rd section](#Conversations-between-genders) is where I import gender information per conversation\n",
    "- [4th section](#Tokens-and-gender) is where I look at tokens per turn by gender\n",
    "- [5th section](#Token-and-movie-decade) is where I factor in movie decade to look at change over time\n",
    "- [Conclusion](#Conclusion) summarizes the notebook"
   ]
  },
  {
   "cell_type": "markdown",
   "id": "03f23405",
   "metadata": {},
   "source": [
    "## Loading in the data"
   ]
  },
  {
   "cell_type": "code",
   "execution_count": 1,
   "id": "051ed6c6",
   "metadata": {},
   "outputs": [],
   "source": [
    "# loading packages\n",
    "import numpy as np\n",
    "import pandas as pd\n",
    "import pickle\n",
    "import matplotlib.pyplot as plt\n",
    "import seaborn as sns\n",
    "import seaborn.objects as so\n",
    "from scipy import stats"
   ]
  },
  {
   "cell_type": "code",
   "execution_count": 2,
   "id": "5050f77f",
   "metadata": {},
   "outputs": [],
   "source": [
    "f1 = open('../analysis_notebooks/discourse_df.pkl', 'rb')\n",
    "discourse_df = pickle.load(f1)\n",
    "f1.close()\n",
    "\n",
    "f2 = open('../dataframe_notebooks/conversations_intact_df.pkl', 'rb')\n",
    "conversations_df = pickle.load(f2)\n",
    "f2.close()\n",
    "\n",
    "f3 = open('../dataframe_notebooks/characters_update_df.pkl', 'rb')\n",
    "characters_df = pickle.load(f3)\n",
    "f3.close()"
   ]
  },
  {
   "cell_type": "markdown",
   "id": "1841c29a",
   "metadata": {},
   "source": [
    "## Discourse exploration"
   ]
  },
  {
   "cell_type": "markdown",
   "id": "3205fe23",
   "metadata": {},
   "source": [
    "I will work with the `discourse_df` which has gender, turn, and conversation information. This will allow me to understand different aspects of the conversations."
   ]
  },
  {
   "cell_type": "code",
   "execution_count": 3,
   "id": "41499f46",
   "metadata": {},
   "outputs": [
    {
     "data": {
      "text/html": [
       "<div>\n",
       "<style scoped>\n",
       "    .dataframe tbody tr th:only-of-type {\n",
       "        vertical-align: middle;\n",
       "    }\n",
       "\n",
       "    .dataframe tbody tr th {\n",
       "        vertical-align: top;\n",
       "    }\n",
       "\n",
       "    .dataframe thead th {\n",
       "        text-align: right;\n",
       "    }\n",
       "</style>\n",
       "<table border=\"1\" class=\"dataframe\">\n",
       "  <thead>\n",
       "    <tr style=\"text-align: right;\">\n",
       "      <th></th>\n",
       "      <th>conversation_ID</th>\n",
       "      <th>line_ID</th>\n",
       "      <th>character_ID</th>\n",
       "      <th>character_name</th>\n",
       "      <th>gender</th>\n",
       "      <th>movie_ID</th>\n",
       "      <th>movie_title</th>\n",
       "      <th>genres</th>\n",
       "      <th>movie_year</th>\n",
       "      <th>movie_decade</th>\n",
       "      <th>utterance</th>\n",
       "      <th>sents</th>\n",
       "      <th>tokens</th>\n",
       "      <th>sent_count</th>\n",
       "      <th>token_count</th>\n",
       "      <th>avg_sent_length</th>\n",
       "    </tr>\n",
       "  </thead>\n",
       "  <tbody>\n",
       "    <tr>\n",
       "      <th>0</th>\n",
       "      <td>24</td>\n",
       "      <td>L1045</td>\n",
       "      <td>u0</td>\n",
       "      <td>BIANCA</td>\n",
       "      <td>F</td>\n",
       "      <td>m0</td>\n",
       "      <td>10 things i hate about you</td>\n",
       "      <td>['comedy', 'romance']</td>\n",
       "      <td>1999</td>\n",
       "      <td>1990</td>\n",
       "      <td>They do not!</td>\n",
       "      <td>[They do not!]</td>\n",
       "      <td>[They, do, not, !]</td>\n",
       "      <td>1</td>\n",
       "      <td>4</td>\n",
       "      <td>4.000000</td>\n",
       "    </tr>\n",
       "    <tr>\n",
       "      <th>1</th>\n",
       "      <td>23</td>\n",
       "      <td>L985</td>\n",
       "      <td>u0</td>\n",
       "      <td>BIANCA</td>\n",
       "      <td>F</td>\n",
       "      <td>m0</td>\n",
       "      <td>10 things i hate about you</td>\n",
       "      <td>['comedy', 'romance']</td>\n",
       "      <td>1999</td>\n",
       "      <td>1990</td>\n",
       "      <td>I hope so.</td>\n",
       "      <td>[I hope so.]</td>\n",
       "      <td>[I, hope, so, .]</td>\n",
       "      <td>1</td>\n",
       "      <td>4</td>\n",
       "      <td>4.000000</td>\n",
       "    </tr>\n",
       "    <tr>\n",
       "      <th>2</th>\n",
       "      <td>22</td>\n",
       "      <td>L925</td>\n",
       "      <td>u0</td>\n",
       "      <td>BIANCA</td>\n",
       "      <td>F</td>\n",
       "      <td>m0</td>\n",
       "      <td>10 things i hate about you</td>\n",
       "      <td>['comedy', 'romance']</td>\n",
       "      <td>1999</td>\n",
       "      <td>1990</td>\n",
       "      <td>Let's go.</td>\n",
       "      <td>[Let's go.]</td>\n",
       "      <td>[Let, 's, go, .]</td>\n",
       "      <td>1</td>\n",
       "      <td>4</td>\n",
       "      <td>4.000000</td>\n",
       "    </tr>\n",
       "    <tr>\n",
       "      <th>3</th>\n",
       "      <td>21</td>\n",
       "      <td>L872</td>\n",
       "      <td>u0</td>\n",
       "      <td>BIANCA</td>\n",
       "      <td>F</td>\n",
       "      <td>m0</td>\n",
       "      <td>10 things i hate about you</td>\n",
       "      <td>['comedy', 'romance']</td>\n",
       "      <td>1999</td>\n",
       "      <td>1990</td>\n",
       "      <td>Okay -- you're gonna need to learn how to lie.</td>\n",
       "      <td>[Okay -- you're gonna need to learn how to lie.]</td>\n",
       "      <td>[Okay, --, you, 're, gon, na, need, to, learn,...</td>\n",
       "      <td>1</td>\n",
       "      <td>13</td>\n",
       "      <td>13.000000</td>\n",
       "    </tr>\n",
       "    <tr>\n",
       "      <th>4</th>\n",
       "      <td>21</td>\n",
       "      <td>L870</td>\n",
       "      <td>u0</td>\n",
       "      <td>BIANCA</td>\n",
       "      <td>F</td>\n",
       "      <td>m0</td>\n",
       "      <td>10 things i hate about you</td>\n",
       "      <td>['comedy', 'romance']</td>\n",
       "      <td>1999</td>\n",
       "      <td>1990</td>\n",
       "      <td>I'm kidding.  You know how sometimes you just ...</td>\n",
       "      <td>[I'm kidding., You know how sometimes you just...</td>\n",
       "      <td>[I, 'm, kidding, ., You, know, how, sometimes,...</td>\n",
       "      <td>3</td>\n",
       "      <td>25</td>\n",
       "      <td>8.333333</td>\n",
       "    </tr>\n",
       "  </tbody>\n",
       "</table>\n",
       "</div>"
      ],
      "text/plain": [
       "   conversation_ID line_ID character_ID character_name gender movie_ID  \\\n",
       "0               24   L1045           u0         BIANCA      F       m0   \n",
       "1               23    L985           u0         BIANCA      F       m0   \n",
       "2               22    L925           u0         BIANCA      F       m0   \n",
       "3               21    L872           u0         BIANCA      F       m0   \n",
       "4               21    L870           u0         BIANCA      F       m0   \n",
       "\n",
       "                  movie_title                 genres  movie_year  \\\n",
       "0  10 things i hate about you  ['comedy', 'romance']        1999   \n",
       "1  10 things i hate about you  ['comedy', 'romance']        1999   \n",
       "2  10 things i hate about you  ['comedy', 'romance']        1999   \n",
       "3  10 things i hate about you  ['comedy', 'romance']        1999   \n",
       "4  10 things i hate about you  ['comedy', 'romance']        1999   \n",
       "\n",
       "   movie_decade                                          utterance  \\\n",
       "0          1990                                       They do not!   \n",
       "1          1990                                         I hope so.   \n",
       "2          1990                                          Let's go.   \n",
       "3          1990     Okay -- you're gonna need to learn how to lie.   \n",
       "4          1990  I'm kidding.  You know how sometimes you just ...   \n",
       "\n",
       "                                               sents  \\\n",
       "0                                     [They do not!]   \n",
       "1                                       [I hope so.]   \n",
       "2                                        [Let's go.]   \n",
       "3   [Okay -- you're gonna need to learn how to lie.]   \n",
       "4  [I'm kidding., You know how sometimes you just...   \n",
       "\n",
       "                                              tokens  sent_count  token_count  \\\n",
       "0                                 [They, do, not, !]           1            4   \n",
       "1                                   [I, hope, so, .]           1            4   \n",
       "2                                   [Let, 's, go, .]           1            4   \n",
       "3  [Okay, --, you, 're, gon, na, need, to, learn,...           1           13   \n",
       "4  [I, 'm, kidding, ., You, know, how, sometimes,...           3           25   \n",
       "\n",
       "   avg_sent_length  \n",
       "0         4.000000  \n",
       "1         4.000000  \n",
       "2         4.000000  \n",
       "3        13.000000  \n",
       "4         8.333333  "
      ]
     },
     "execution_count": 3,
     "metadata": {},
     "output_type": "execute_result"
    }
   ],
   "source": [
    "discourse_df.head()"
   ]
  },
  {
   "cell_type": "code",
   "execution_count": 4,
   "id": "4e59189a",
   "metadata": {},
   "outputs": [
    {
     "data": {
      "text/plain": [
       "line_ID            1\n",
       "character_ID       1\n",
       "character_name     1\n",
       "gender             1\n",
       "movie_ID           1\n",
       "movie_title        1\n",
       "genres             1\n",
       "movie_year         1\n",
       "movie_decade       1\n",
       "utterance          1\n",
       "sents              1\n",
       "tokens             1\n",
       "sent_count         1\n",
       "token_count        1\n",
       "avg_sent_length    1\n",
       "dtype: int64"
      ]
     },
     "execution_count": 4,
     "metadata": {},
     "output_type": "execute_result"
    }
   ],
   "source": [
    "# what is the shortest conversation? \n",
    "discourse_df.groupby('conversation_ID').count().min()"
   ]
  },
  {
   "cell_type": "code",
   "execution_count": 5,
   "id": "b11a1ce1",
   "metadata": {},
   "outputs": [
    {
     "data": {
      "text/plain": [
       "line_ID            3.664019\n",
       "character_ID       3.664019\n",
       "character_name     3.664019\n",
       "gender             3.664019\n",
       "movie_ID           3.664019\n",
       "movie_title        3.664019\n",
       "genres             3.664019\n",
       "movie_year         3.664019\n",
       "movie_decade       3.664019\n",
       "utterance          3.664019\n",
       "sents              3.664019\n",
       "tokens             3.664019\n",
       "sent_count         3.664019\n",
       "token_count        3.664019\n",
       "avg_sent_length    3.664019\n",
       "dtype: float64"
      ]
     },
     "execution_count": 5,
     "metadata": {},
     "output_type": "execute_result"
    }
   ],
   "source": [
    "# how long is the average conversation?\n",
    "discourse_df.groupby('conversation_ID').count().mean()"
   ]
  },
  {
   "cell_type": "code",
   "execution_count": 6,
   "id": "04cc4924",
   "metadata": {},
   "outputs": [
    {
     "data": {
      "text/plain": [
       "line_ID            89\n",
       "character_ID       89\n",
       "character_name     89\n",
       "gender             89\n",
       "movie_ID           89\n",
       "movie_title        89\n",
       "genres             89\n",
       "movie_year         89\n",
       "movie_decade       89\n",
       "utterance          89\n",
       "sents              89\n",
       "tokens             89\n",
       "sent_count         89\n",
       "token_count        89\n",
       "avg_sent_length    89\n",
       "dtype: int64"
      ]
     },
     "execution_count": 6,
     "metadata": {},
     "output_type": "execute_result"
    }
   ],
   "source": [
    "# what's the longest conversation?\n",
    "discourse_df.groupby('conversation_ID').count().max()"
   ]
  },
  {
   "cell_type": "markdown",
   "id": "ed799539",
   "metadata": {},
   "source": [
    "What does the longest conversation look like? What movie is it from and who are the characters involved? Based on exploration from the [Conversations_Notebook](../dataframe_notebooks/Conversations_Notebook.ipynb) I know that the `conversation_ID` for this 89-turn conversation is 42477."
   ]
  },
  {
   "cell_type": "code",
   "execution_count": 7,
   "id": "904a64b2",
   "metadata": {},
   "outputs": [
    {
     "data": {
      "text/html": [
       "<div>\n",
       "<style scoped>\n",
       "    .dataframe tbody tr th:only-of-type {\n",
       "        vertical-align: middle;\n",
       "    }\n",
       "\n",
       "    .dataframe tbody tr th {\n",
       "        vertical-align: top;\n",
       "    }\n",
       "\n",
       "    .dataframe thead th {\n",
       "        text-align: right;\n",
       "    }\n",
       "</style>\n",
       "<table border=\"1\" class=\"dataframe\">\n",
       "  <thead>\n",
       "    <tr style=\"text-align: right;\">\n",
       "      <th></th>\n",
       "      <th>conversation_ID</th>\n",
       "      <th>line_ID</th>\n",
       "      <th>character_ID</th>\n",
       "      <th>character_name</th>\n",
       "      <th>gender</th>\n",
       "      <th>movie_ID</th>\n",
       "      <th>movie_title</th>\n",
       "      <th>genres</th>\n",
       "      <th>movie_year</th>\n",
       "      <th>movie_decade</th>\n",
       "      <th>utterance</th>\n",
       "      <th>sents</th>\n",
       "      <th>tokens</th>\n",
       "      <th>sent_count</th>\n",
       "      <th>token_count</th>\n",
       "      <th>avg_sent_length</th>\n",
       "    </tr>\n",
       "  </thead>\n",
       "  <tbody>\n",
       "    <tr>\n",
       "      <th>156153</th>\n",
       "      <td>42477</td>\n",
       "      <td>L135447</td>\n",
       "      <td>u4525</td>\n",
       "      <td>DANTE</td>\n",
       "      <td>M</td>\n",
       "      <td>m299</td>\n",
       "      <td>clerks.</td>\n",
       "      <td>['comedy']</td>\n",
       "      <td>1994</td>\n",
       "      <td>1990</td>\n",
       "      <td>What happened to the walk and the nakedness?</td>\n",
       "      <td>[What happened to the walk and the nakedness?]</td>\n",
       "      <td>[What, happened, to, the, walk, and, the, nake...</td>\n",
       "      <td>1</td>\n",
       "      <td>9</td>\n",
       "      <td>9.0</td>\n",
       "    </tr>\n",
       "    <tr>\n",
       "      <th>156154</th>\n",
       "      <td>42477</td>\n",
       "      <td>L135445</td>\n",
       "      <td>u4525</td>\n",
       "      <td>DANTE</td>\n",
       "      <td>M</td>\n",
       "      <td>m299</td>\n",
       "      <td>clerks.</td>\n",
       "      <td>['comedy']</td>\n",
       "      <td>1994</td>\n",
       "      <td>1990</td>\n",
       "      <td>Who doesn't?</td>\n",
       "      <td>[Who doesn't?]</td>\n",
       "      <td>[Who, does, n't, ?]</td>\n",
       "      <td>1</td>\n",
       "      <td>4</td>\n",
       "      <td>4.0</td>\n",
       "    </tr>\n",
       "    <tr>\n",
       "      <th>156155</th>\n",
       "      <td>42477</td>\n",
       "      <td>L135443</td>\n",
       "      <td>u4525</td>\n",
       "      <td>DANTE</td>\n",
       "      <td>M</td>\n",
       "      <td>m299</td>\n",
       "      <td>clerks.</td>\n",
       "      <td>['comedy']</td>\n",
       "      <td>1994</td>\n",
       "      <td>1990</td>\n",
       "      <td>He went to rent a movie, but he hasn't gotten ...</td>\n",
       "      <td>[He went to rent a movie, but he hasn't gotten...</td>\n",
       "      <td>[He, went, to, rent, a, movie, ,, but, he, has...</td>\n",
       "      <td>2</td>\n",
       "      <td>33</td>\n",
       "      <td>16.5</td>\n",
       "    </tr>\n",
       "    <tr>\n",
       "      <th>156156</th>\n",
       "      <td>42477</td>\n",
       "      <td>L135441</td>\n",
       "      <td>u4525</td>\n",
       "      <td>DANTE</td>\n",
       "      <td>M</td>\n",
       "      <td>m299</td>\n",
       "      <td>clerks.</td>\n",
       "      <td>['comedy']</td>\n",
       "      <td>1994</td>\n",
       "      <td>1990</td>\n",
       "      <td>I'll ask Randal to close up for me when he get...</td>\n",
       "      <td>[I'll ask Randal to close up for me when he ge...</td>\n",
       "      <td>[I, 'll, ask, Randal, to, close, up, for, me, ...</td>\n",
       "      <td>1</td>\n",
       "      <td>14</td>\n",
       "      <td>14.0</td>\n",
       "    </tr>\n",
       "    <tr>\n",
       "      <th>156157</th>\n",
       "      <td>42477</td>\n",
       "      <td>L135439</td>\n",
       "      <td>u4525</td>\n",
       "      <td>DANTE</td>\n",
       "      <td>M</td>\n",
       "      <td>m299</td>\n",
       "      <td>clerks.</td>\n",
       "      <td>['comedy']</td>\n",
       "      <td>1994</td>\n",
       "      <td>1990</td>\n",
       "      <td>I'm just kidding.</td>\n",
       "      <td>[I'm just kidding.]</td>\n",
       "      <td>[I, 'm, just, kidding, .]</td>\n",
       "      <td>1</td>\n",
       "      <td>5</td>\n",
       "      <td>5.0</td>\n",
       "    </tr>\n",
       "    <tr>\n",
       "      <th>...</th>\n",
       "      <td>...</td>\n",
       "      <td>...</td>\n",
       "      <td>...</td>\n",
       "      <td>...</td>\n",
       "      <td>...</td>\n",
       "      <td>...</td>\n",
       "      <td>...</td>\n",
       "      <td>...</td>\n",
       "      <td>...</td>\n",
       "      <td>...</td>\n",
       "      <td>...</td>\n",
       "      <td>...</td>\n",
       "      <td>...</td>\n",
       "      <td>...</td>\n",
       "      <td>...</td>\n",
       "      <td>...</td>\n",
       "    </tr>\n",
       "    <tr>\n",
       "      <th>156740</th>\n",
       "      <td>42477</td>\n",
       "      <td>L135368</td>\n",
       "      <td>u4522</td>\n",
       "      <td>CAITLIN</td>\n",
       "      <td>F</td>\n",
       "      <td>m299</td>\n",
       "      <td>clerks.</td>\n",
       "      <td>['comedy']</td>\n",
       "      <td>1994</td>\n",
       "      <td>1990</td>\n",
       "      <td>I was going to tell you. But then we were gett...</td>\n",
       "      <td>[I was going to tell you., But then we were ge...</td>\n",
       "      <td>[I, was, going, to, tell, you, ., But, then, w...</td>\n",
       "      <td>2</td>\n",
       "      <td>25</td>\n",
       "      <td>12.5</td>\n",
       "    </tr>\n",
       "    <tr>\n",
       "      <th>156741</th>\n",
       "      <td>42477</td>\n",
       "      <td>L135366</td>\n",
       "      <td>u4522</td>\n",
       "      <td>CAITLIN</td>\n",
       "      <td>F</td>\n",
       "      <td>m299</td>\n",
       "      <td>clerks.</td>\n",
       "      <td>['comedy']</td>\n",
       "      <td>1994</td>\n",
       "      <td>1990</td>\n",
       "      <td>I'm not pregnant.</td>\n",
       "      <td>[I'm not pregnant.]</td>\n",
       "      <td>[I, 'm, not, pregnant, .]</td>\n",
       "      <td>1</td>\n",
       "      <td>5</td>\n",
       "      <td>5.0</td>\n",
       "    </tr>\n",
       "    <tr>\n",
       "      <th>156742</th>\n",
       "      <td>42477</td>\n",
       "      <td>L135364</td>\n",
       "      <td>u4522</td>\n",
       "      <td>CAITLIN</td>\n",
       "      <td>F</td>\n",
       "      <td>m299</td>\n",
       "      <td>clerks.</td>\n",
       "      <td>['comedy']</td>\n",
       "      <td>1994</td>\n",
       "      <td>1990</td>\n",
       "      <td>It's not what you think.</td>\n",
       "      <td>[It's not what you think.]</td>\n",
       "      <td>[It, 's, not, what, you, think, .]</td>\n",
       "      <td>1</td>\n",
       "      <td>7</td>\n",
       "      <td>7.0</td>\n",
       "    </tr>\n",
       "    <tr>\n",
       "      <th>156743</th>\n",
       "      <td>42477</td>\n",
       "      <td>L135362</td>\n",
       "      <td>u4522</td>\n",
       "      <td>CAITLIN</td>\n",
       "      <td>F</td>\n",
       "      <td>m299</td>\n",
       "      <td>clerks.</td>\n",
       "      <td>['comedy']</td>\n",
       "      <td>1994</td>\n",
       "      <td>1990</td>\n",
       "      <td>You saw it?</td>\n",
       "      <td>[You saw it?]</td>\n",
       "      <td>[You, saw, it, ?]</td>\n",
       "      <td>1</td>\n",
       "      <td>4</td>\n",
       "      <td>4.0</td>\n",
       "    </tr>\n",
       "    <tr>\n",
       "      <th>156744</th>\n",
       "      <td>42477</td>\n",
       "      <td>L135360</td>\n",
       "      <td>u4522</td>\n",
       "      <td>CAITLIN</td>\n",
       "      <td>F</td>\n",
       "      <td>m299</td>\n",
       "      <td>clerks.</td>\n",
       "      <td>['comedy']</td>\n",
       "      <td>1994</td>\n",
       "      <td>1990</td>\n",
       "      <td>You're just going to lock the store like that?</td>\n",
       "      <td>[You're just going to lock the store like that?]</td>\n",
       "      <td>[You, 're, just, going, to, lock, the, store, ...</td>\n",
       "      <td>1</td>\n",
       "      <td>11</td>\n",
       "      <td>11.0</td>\n",
       "    </tr>\n",
       "  </tbody>\n",
       "</table>\n",
       "<p>89 rows × 16 columns</p>\n",
       "</div>"
      ],
      "text/plain": [
       "        conversation_ID  line_ID character_ID character_name gender movie_ID  \\\n",
       "156153            42477  L135447        u4525          DANTE      M     m299   \n",
       "156154            42477  L135445        u4525          DANTE      M     m299   \n",
       "156155            42477  L135443        u4525          DANTE      M     m299   \n",
       "156156            42477  L135441        u4525          DANTE      M     m299   \n",
       "156157            42477  L135439        u4525          DANTE      M     m299   \n",
       "...                 ...      ...          ...            ...    ...      ...   \n",
       "156740            42477  L135368        u4522        CAITLIN      F     m299   \n",
       "156741            42477  L135366        u4522        CAITLIN      F     m299   \n",
       "156742            42477  L135364        u4522        CAITLIN      F     m299   \n",
       "156743            42477  L135362        u4522        CAITLIN      F     m299   \n",
       "156744            42477  L135360        u4522        CAITLIN      F     m299   \n",
       "\n",
       "       movie_title      genres  movie_year  movie_decade  \\\n",
       "156153     clerks.  ['comedy']        1994          1990   \n",
       "156154     clerks.  ['comedy']        1994          1990   \n",
       "156155     clerks.  ['comedy']        1994          1990   \n",
       "156156     clerks.  ['comedy']        1994          1990   \n",
       "156157     clerks.  ['comedy']        1994          1990   \n",
       "...            ...         ...         ...           ...   \n",
       "156740     clerks.  ['comedy']        1994          1990   \n",
       "156741     clerks.  ['comedy']        1994          1990   \n",
       "156742     clerks.  ['comedy']        1994          1990   \n",
       "156743     clerks.  ['comedy']        1994          1990   \n",
       "156744     clerks.  ['comedy']        1994          1990   \n",
       "\n",
       "                                                utterance  \\\n",
       "156153       What happened to the walk and the nakedness?   \n",
       "156154                                       Who doesn't?   \n",
       "156155  He went to rent a movie, but he hasn't gotten ...   \n",
       "156156  I'll ask Randal to close up for me when he get...   \n",
       "156157                                  I'm just kidding.   \n",
       "...                                                   ...   \n",
       "156740  I was going to tell you. But then we were gett...   \n",
       "156741                                  I'm not pregnant.   \n",
       "156742                           It's not what you think.   \n",
       "156743                                        You saw it?   \n",
       "156744     You're just going to lock the store like that?   \n",
       "\n",
       "                                                    sents  \\\n",
       "156153     [What happened to the walk and the nakedness?]   \n",
       "156154                                     [Who doesn't?]   \n",
       "156155  [He went to rent a movie, but he hasn't gotten...   \n",
       "156156  [I'll ask Randal to close up for me when he ge...   \n",
       "156157                                [I'm just kidding.]   \n",
       "...                                                   ...   \n",
       "156740  [I was going to tell you., But then we were ge...   \n",
       "156741                                [I'm not pregnant.]   \n",
       "156742                         [It's not what you think.]   \n",
       "156743                                      [You saw it?]   \n",
       "156744   [You're just going to lock the store like that?]   \n",
       "\n",
       "                                                   tokens  sent_count  \\\n",
       "156153  [What, happened, to, the, walk, and, the, nake...           1   \n",
       "156154                                [Who, does, n't, ?]           1   \n",
       "156155  [He, went, to, rent, a, movie, ,, but, he, has...           2   \n",
       "156156  [I, 'll, ask, Randal, to, close, up, for, me, ...           1   \n",
       "156157                          [I, 'm, just, kidding, .]           1   \n",
       "...                                                   ...         ...   \n",
       "156740  [I, was, going, to, tell, you, ., But, then, w...           2   \n",
       "156741                          [I, 'm, not, pregnant, .]           1   \n",
       "156742                 [It, 's, not, what, you, think, .]           1   \n",
       "156743                                  [You, saw, it, ?]           1   \n",
       "156744  [You, 're, just, going, to, lock, the, store, ...           1   \n",
       "\n",
       "        token_count  avg_sent_length  \n",
       "156153            9              9.0  \n",
       "156154            4              4.0  \n",
       "156155           33             16.5  \n",
       "156156           14             14.0  \n",
       "156157            5              5.0  \n",
       "...             ...              ...  \n",
       "156740           25             12.5  \n",
       "156741            5              5.0  \n",
       "156742            7              7.0  \n",
       "156743            4              4.0  \n",
       "156744           11             11.0  \n",
       "\n",
       "[89 rows x 16 columns]"
      ]
     },
     "execution_count": 7,
     "metadata": {},
     "output_type": "execute_result"
    }
   ],
   "source": [
    "discourse_df[discourse_df.conversation_ID==42477]"
   ]
  },
  {
   "cell_type": "markdown",
   "id": "798a1144",
   "metadata": {},
   "source": [
    "The conversation is from *Clerks* and is between Caitlin and Dante. What are the specifics of the conversation?"
   ]
  },
  {
   "cell_type": "code",
   "execution_count": 8,
   "id": "ac60dbae",
   "metadata": {
    "scrolled": true
   },
   "outputs": [
    {
     "data": {
      "text/plain": [
       "gender\n",
       "F    45\n",
       "M    44\n",
       "Name: line_ID, dtype: int64"
      ]
     },
     "execution_count": 8,
     "metadata": {},
     "output_type": "execute_result"
    }
   ],
   "source": [
    "# how many turns does each character have?\n",
    "discourse_df[discourse_df.conversation_ID==42477].groupby('gender')['line_ID'].count()"
   ]
  },
  {
   "cell_type": "markdown",
   "id": "28ee0462",
   "metadata": {},
   "source": [
    "The lines are pretty much evenly split, so no one is dominating the conversation by taking more turns. Let's look at how many tokens each character has in this interaction."
   ]
  },
  {
   "cell_type": "code",
   "execution_count": 9,
   "id": "f1cef516",
   "metadata": {},
   "outputs": [
    {
     "data": {
      "text/plain": [
       "gender\n",
       "F    922\n",
       "M    532\n",
       "Name: token_count, dtype: int64"
      ]
     },
     "execution_count": 9,
     "metadata": {},
     "output_type": "execute_result"
    }
   ],
   "source": [
    "# how many tokens per character?\n",
    "discourse_df[discourse_df.conversation_ID==42477].groupby('gender')['token_count'].sum()"
   ]
  },
  {
   "cell_type": "markdown",
   "id": "46559791",
   "metadata": {},
   "source": [
    "Caitlin has almost twice as many tokens as Dante does in this conversation."
   ]
  },
  {
   "cell_type": "code",
   "execution_count": 10,
   "id": "29b071b5",
   "metadata": {},
   "outputs": [
    {
     "data": {
      "text/plain": [
       "gender\n",
       "F    20.488889\n",
       "M    12.090909\n",
       "Name: token_count, dtype: float64"
      ]
     },
     "execution_count": 10,
     "metadata": {},
     "output_type": "execute_result"
    }
   ],
   "source": [
    "# what is the average token count per turn?\n",
    "discourse_df[discourse_df.conversation_ID==42477].groupby('gender')['token_count'].mean()"
   ]
  },
  {
   "cell_type": "markdown",
   "id": "7dff6710",
   "metadata": {},
   "source": [
    "Based on the [Utterances_Notebook](../dataframe_notebooks/Utterances_Notebook.ipynb) I know that the mean token count is 13.74, so Dante is below the average by almost two tokens and Caitlin is above the average by almost seven tokens.\n",
    "\n",
    "Let's see how these tokens compare to the rest of the corpus. "
   ]
  },
  {
   "cell_type": "code",
   "execution_count": 11,
   "id": "c4eaf3e7",
   "metadata": {},
   "outputs": [
    {
     "data": {
      "text/plain": [
       "gender\n",
       "A          13.211688\n",
       "F          13.115384\n",
       "M          13.909054\n",
       "unknown    14.701443\n",
       "Name: token_count, dtype: float64"
      ]
     },
     "execution_count": 11,
     "metadata": {},
     "output_type": "execute_result"
    }
   ],
   "source": [
    "# how does token count compare?\n",
    "discourse_df.groupby('gender')['token_count'].mean()"
   ]
  },
  {
   "cell_type": "markdown",
   "id": "1fda99d4",
   "metadata": {},
   "source": [
    "For the entire corpus unknown characters have the highest average token count per turn and female characters have the shortest. This conversation completely defies the norm for this corpus.\n",
    "\n",
    "I will dive more into gender difference in the corpus in the \"Tokens and gender\" section below."
   ]
  },
  {
   "cell_type": "markdown",
   "id": "abe87c14",
   "metadata": {},
   "source": [
    "## Conversations between genders"
   ]
  },
  {
   "cell_type": "markdown",
   "id": "d2a2eeb0",
   "metadata": {},
   "source": [
    "The unexploded version of the conversations_df is the simplest way to compile this information."
   ]
  },
  {
   "cell_type": "code",
   "execution_count": 12,
   "id": "fc4e4caa",
   "metadata": {},
   "outputs": [],
   "source": [
    "# adding gender to the first character in the conversation\n",
    "convo_gender_df = conversations_df.merge(characters_df, left_on='character1_ID', right_on='character_ID')"
   ]
  },
  {
   "cell_type": "code",
   "execution_count": 13,
   "id": "4ee1b682",
   "metadata": {},
   "outputs": [],
   "source": [
    "# adding gender to the second character in the conversation\n",
    "convo_gender_df = convo_gender_df.merge(characters_df, left_on='character2_ID', right_on='character_ID')"
   ]
  },
  {
   "cell_type": "code",
   "execution_count": 14,
   "id": "51b1361e",
   "metadata": {},
   "outputs": [],
   "source": [
    "# dropping columns and renaming the columns\n",
    "convo_gender_df = convo_gender_df[['conversation_ID', 'character1_ID', 'gender_x', 'character2_ID', 'gender_y', 'movie_ID_x', 'dialogue']]\n",
    "convo_gender_df.rename(columns={'movie_ID_x': 'movie_ID', 'gender_x': 'ch1_gender', 'gender_y': 'ch2_gender'}, inplace=True)"
   ]
  },
  {
   "cell_type": "code",
   "execution_count": 15,
   "id": "80e8dbbd",
   "metadata": {},
   "outputs": [
    {
     "data": {
      "text/html": [
       "<div>\n",
       "<style scoped>\n",
       "    .dataframe tbody tr th:only-of-type {\n",
       "        vertical-align: middle;\n",
       "    }\n",
       "\n",
       "    .dataframe tbody tr th {\n",
       "        vertical-align: top;\n",
       "    }\n",
       "\n",
       "    .dataframe thead th {\n",
       "        text-align: right;\n",
       "    }\n",
       "</style>\n",
       "<table border=\"1\" class=\"dataframe\">\n",
       "  <thead>\n",
       "    <tr style=\"text-align: right;\">\n",
       "      <th></th>\n",
       "      <th>conversation_ID</th>\n",
       "      <th>character1_ID</th>\n",
       "      <th>ch1_gender</th>\n",
       "      <th>character2_ID</th>\n",
       "      <th>ch2_gender</th>\n",
       "      <th>movie_ID</th>\n",
       "      <th>dialogue</th>\n",
       "    </tr>\n",
       "  </thead>\n",
       "  <tbody>\n",
       "    <tr>\n",
       "      <th>0</th>\n",
       "      <td>0</td>\n",
       "      <td>u0</td>\n",
       "      <td>F</td>\n",
       "      <td>u2</td>\n",
       "      <td>M</td>\n",
       "      <td>m0</td>\n",
       "      <td>[L194, L195, L196, L197]</td>\n",
       "    </tr>\n",
       "    <tr>\n",
       "      <th>1</th>\n",
       "      <td>1</td>\n",
       "      <td>u0</td>\n",
       "      <td>F</td>\n",
       "      <td>u2</td>\n",
       "      <td>M</td>\n",
       "      <td>m0</td>\n",
       "      <td>[L198, L199]</td>\n",
       "    </tr>\n",
       "    <tr>\n",
       "      <th>2</th>\n",
       "      <td>2</td>\n",
       "      <td>u0</td>\n",
       "      <td>F</td>\n",
       "      <td>u2</td>\n",
       "      <td>M</td>\n",
       "      <td>m0</td>\n",
       "      <td>[L200, L201, L202, L203]</td>\n",
       "    </tr>\n",
       "    <tr>\n",
       "      <th>3</th>\n",
       "      <td>3</td>\n",
       "      <td>u0</td>\n",
       "      <td>F</td>\n",
       "      <td>u2</td>\n",
       "      <td>M</td>\n",
       "      <td>m0</td>\n",
       "      <td>[L204, L205, L206]</td>\n",
       "    </tr>\n",
       "    <tr>\n",
       "      <th>4</th>\n",
       "      <td>4</td>\n",
       "      <td>u0</td>\n",
       "      <td>F</td>\n",
       "      <td>u2</td>\n",
       "      <td>M</td>\n",
       "      <td>m0</td>\n",
       "      <td>[L207, L208]</td>\n",
       "    </tr>\n",
       "  </tbody>\n",
       "</table>\n",
       "</div>"
      ],
      "text/plain": [
       "   conversation_ID character1_ID ch1_gender character2_ID ch2_gender movie_ID  \\\n",
       "0                0            u0          F            u2          M       m0   \n",
       "1                1            u0          F            u2          M       m0   \n",
       "2                2            u0          F            u2          M       m0   \n",
       "3                3            u0          F            u2          M       m0   \n",
       "4                4            u0          F            u2          M       m0   \n",
       "\n",
       "                   dialogue  \n",
       "0  [L194, L195, L196, L197]  \n",
       "1              [L198, L199]  \n",
       "2  [L200, L201, L202, L203]  \n",
       "3        [L204, L205, L206]  \n",
       "4              [L207, L208]  "
      ]
     },
     "execution_count": 15,
     "metadata": {},
     "output_type": "execute_result"
    }
   ],
   "source": [
    "convo_gender_df.head()"
   ]
  },
  {
   "cell_type": "markdown",
   "id": "ce61b0bc",
   "metadata": {},
   "source": [
    "Possible gender pairings:\n",
    "\n",
    "A - A<br>\n",
    "F - F<br>\n",
    "M - M<br>\n",
    "U - U<br>\n",
    "A - F<br>\n",
    "A - M<br>\n",
    "A - U<br>\n",
    "F - M<br>\n",
    "F - U<br>\n",
    "M - U<br>"
   ]
  },
  {
   "cell_type": "code",
   "execution_count": 16,
   "id": "64bc52ba",
   "metadata": {},
   "outputs": [],
   "source": [
    "# function to return conversational gender pairs\n",
    "def gender_pairs(a, b):\n",
    "    if a == 'M' and b == 'F' or a == 'F' and b == 'M':\n",
    "        return 'F:M'\n",
    "    elif a == 'M' and b == 'A' or a == 'A' and b == 'M':\n",
    "        return 'A:M'\n",
    "    elif a == 'M' and b == 'unknown' or a == 'unknown' and b == 'M':\n",
    "        return 'M:unknown'\n",
    "    elif a == 'A' and b =='F' or a == 'F' and b =='A':\n",
    "        return 'A:F'\n",
    "    elif a == 'A' and b == 'unknown' or a == 'unknown' and b == 'A':\n",
    "        return 'A:unknown'\n",
    "    elif a == 'F' and b == 'unknown' or a == 'unknown' and b == 'F':\n",
    "        return 'F:unknown'\n",
    "    elif a == 'A' and b == 'A':\n",
    "        return 'A:A'\n",
    "    elif a == 'F' and b == 'F':\n",
    "        return 'F:F'\n",
    "    elif a == 'M' and b == 'M':\n",
    "        return 'M:M'\n",
    "    else:\n",
    "        return 'unknown:unknown'    "
   ]
  },
  {
   "cell_type": "code",
   "execution_count": 17,
   "id": "437ddfbc",
   "metadata": {},
   "outputs": [],
   "source": [
    "# add column combining gender pairs\n",
    "convo_gender_df['gender_pair'] = convo_gender_df.apply(lambda x: gender_pairs(a = x['ch1_gender'], b = x['ch2_gender']), axis=1)"
   ]
  },
  {
   "cell_type": "code",
   "execution_count": 18,
   "id": "bb586b2c",
   "metadata": {},
   "outputs": [
    {
     "data": {
      "text/html": [
       "<div>\n",
       "<style scoped>\n",
       "    .dataframe tbody tr th:only-of-type {\n",
       "        vertical-align: middle;\n",
       "    }\n",
       "\n",
       "    .dataframe tbody tr th {\n",
       "        vertical-align: top;\n",
       "    }\n",
       "\n",
       "    .dataframe thead th {\n",
       "        text-align: right;\n",
       "    }\n",
       "</style>\n",
       "<table border=\"1\" class=\"dataframe\">\n",
       "  <thead>\n",
       "    <tr style=\"text-align: right;\">\n",
       "      <th></th>\n",
       "      <th>conversation_ID</th>\n",
       "      <th>character1_ID</th>\n",
       "      <th>ch1_gender</th>\n",
       "      <th>character2_ID</th>\n",
       "      <th>ch2_gender</th>\n",
       "      <th>movie_ID</th>\n",
       "      <th>dialogue</th>\n",
       "      <th>gender_pair</th>\n",
       "    </tr>\n",
       "  </thead>\n",
       "  <tbody>\n",
       "    <tr>\n",
       "      <th>0</th>\n",
       "      <td>0</td>\n",
       "      <td>u0</td>\n",
       "      <td>F</td>\n",
       "      <td>u2</td>\n",
       "      <td>M</td>\n",
       "      <td>m0</td>\n",
       "      <td>[L194, L195, L196, L197]</td>\n",
       "      <td>F:M</td>\n",
       "    </tr>\n",
       "    <tr>\n",
       "      <th>1</th>\n",
       "      <td>1</td>\n",
       "      <td>u0</td>\n",
       "      <td>F</td>\n",
       "      <td>u2</td>\n",
       "      <td>M</td>\n",
       "      <td>m0</td>\n",
       "      <td>[L198, L199]</td>\n",
       "      <td>F:M</td>\n",
       "    </tr>\n",
       "    <tr>\n",
       "      <th>2</th>\n",
       "      <td>2</td>\n",
       "      <td>u0</td>\n",
       "      <td>F</td>\n",
       "      <td>u2</td>\n",
       "      <td>M</td>\n",
       "      <td>m0</td>\n",
       "      <td>[L200, L201, L202, L203]</td>\n",
       "      <td>F:M</td>\n",
       "    </tr>\n",
       "    <tr>\n",
       "      <th>3</th>\n",
       "      <td>3</td>\n",
       "      <td>u0</td>\n",
       "      <td>F</td>\n",
       "      <td>u2</td>\n",
       "      <td>M</td>\n",
       "      <td>m0</td>\n",
       "      <td>[L204, L205, L206]</td>\n",
       "      <td>F:M</td>\n",
       "    </tr>\n",
       "    <tr>\n",
       "      <th>4</th>\n",
       "      <td>4</td>\n",
       "      <td>u0</td>\n",
       "      <td>F</td>\n",
       "      <td>u2</td>\n",
       "      <td>M</td>\n",
       "      <td>m0</td>\n",
       "      <td>[L207, L208]</td>\n",
       "      <td>F:M</td>\n",
       "    </tr>\n",
       "  </tbody>\n",
       "</table>\n",
       "</div>"
      ],
      "text/plain": [
       "   conversation_ID character1_ID ch1_gender character2_ID ch2_gender movie_ID  \\\n",
       "0                0            u0          F            u2          M       m0   \n",
       "1                1            u0          F            u2          M       m0   \n",
       "2                2            u0          F            u2          M       m0   \n",
       "3                3            u0          F            u2          M       m0   \n",
       "4                4            u0          F            u2          M       m0   \n",
       "\n",
       "                   dialogue gender_pair  \n",
       "0  [L194, L195, L196, L197]         F:M  \n",
       "1              [L198, L199]         F:M  \n",
       "2  [L200, L201, L202, L203]         F:M  \n",
       "3        [L204, L205, L206]         F:M  \n",
       "4              [L207, L208]         F:M  "
      ]
     },
     "execution_count": 18,
     "metadata": {},
     "output_type": "execute_result"
    }
   ],
   "source": [
    "# make sure that it works\n",
    "convo_gender_df.head()"
   ]
  },
  {
   "cell_type": "code",
   "execution_count": 19,
   "id": "a89b2a9d",
   "metadata": {},
   "outputs": [
    {
     "data": {
      "text/html": [
       "<div>\n",
       "<style scoped>\n",
       "    .dataframe tbody tr th:only-of-type {\n",
       "        vertical-align: middle;\n",
       "    }\n",
       "\n",
       "    .dataframe tbody tr th {\n",
       "        vertical-align: top;\n",
       "    }\n",
       "\n",
       "    .dataframe thead th {\n",
       "        text-align: right;\n",
       "    }\n",
       "</style>\n",
       "<table border=\"1\" class=\"dataframe\">\n",
       "  <thead>\n",
       "    <tr style=\"text-align: right;\">\n",
       "      <th></th>\n",
       "      <th>conversation_ID</th>\n",
       "      <th>character1_ID</th>\n",
       "      <th>ch1_gender</th>\n",
       "      <th>character2_ID</th>\n",
       "      <th>ch2_gender</th>\n",
       "      <th>movie_ID</th>\n",
       "      <th>dialogue</th>\n",
       "    </tr>\n",
       "    <tr>\n",
       "      <th>gender_pair</th>\n",
       "      <th></th>\n",
       "      <th></th>\n",
       "      <th></th>\n",
       "      <th></th>\n",
       "      <th></th>\n",
       "      <th></th>\n",
       "      <th></th>\n",
       "    </tr>\n",
       "  </thead>\n",
       "  <tbody>\n",
       "    <tr>\n",
       "      <th>A:A</th>\n",
       "      <td>185</td>\n",
       "      <td>185</td>\n",
       "      <td>185</td>\n",
       "      <td>185</td>\n",
       "      <td>185</td>\n",
       "      <td>185</td>\n",
       "      <td>185</td>\n",
       "    </tr>\n",
       "    <tr>\n",
       "      <th>A:F</th>\n",
       "      <td>1057</td>\n",
       "      <td>1057</td>\n",
       "      <td>1057</td>\n",
       "      <td>1057</td>\n",
       "      <td>1057</td>\n",
       "      <td>1057</td>\n",
       "      <td>1057</td>\n",
       "    </tr>\n",
       "    <tr>\n",
       "      <th>A:M</th>\n",
       "      <td>3362</td>\n",
       "      <td>3362</td>\n",
       "      <td>3362</td>\n",
       "      <td>3362</td>\n",
       "      <td>3362</td>\n",
       "      <td>3362</td>\n",
       "      <td>3362</td>\n",
       "    </tr>\n",
       "    <tr>\n",
       "      <th>A:unknown</th>\n",
       "      <td>481</td>\n",
       "      <td>481</td>\n",
       "      <td>481</td>\n",
       "      <td>481</td>\n",
       "      <td>481</td>\n",
       "      <td>481</td>\n",
       "      <td>481</td>\n",
       "    </tr>\n",
       "    <tr>\n",
       "      <th>F:F</th>\n",
       "      <td>4601</td>\n",
       "      <td>4601</td>\n",
       "      <td>4601</td>\n",
       "      <td>4601</td>\n",
       "      <td>4601</td>\n",
       "      <td>4601</td>\n",
       "      <td>4601</td>\n",
       "    </tr>\n",
       "    <tr>\n",
       "      <th>F:M</th>\n",
       "      <td>31459</td>\n",
       "      <td>31459</td>\n",
       "      <td>31459</td>\n",
       "      <td>31459</td>\n",
       "      <td>31459</td>\n",
       "      <td>31459</td>\n",
       "      <td>31459</td>\n",
       "    </tr>\n",
       "    <tr>\n",
       "      <th>F:unknown</th>\n",
       "      <td>2370</td>\n",
       "      <td>2370</td>\n",
       "      <td>2370</td>\n",
       "      <td>2370</td>\n",
       "      <td>2370</td>\n",
       "      <td>2370</td>\n",
       "      <td>2370</td>\n",
       "    </tr>\n",
       "    <tr>\n",
       "      <th>M:M</th>\n",
       "      <td>29065</td>\n",
       "      <td>29065</td>\n",
       "      <td>29065</td>\n",
       "      <td>29065</td>\n",
       "      <td>29065</td>\n",
       "      <td>29065</td>\n",
       "      <td>29065</td>\n",
       "    </tr>\n",
       "    <tr>\n",
       "      <th>M:unknown</th>\n",
       "      <td>8886</td>\n",
       "      <td>8886</td>\n",
       "      <td>8886</td>\n",
       "      <td>8886</td>\n",
       "      <td>8886</td>\n",
       "      <td>8886</td>\n",
       "      <td>8886</td>\n",
       "    </tr>\n",
       "    <tr>\n",
       "      <th>unknown:unknown</th>\n",
       "      <td>1588</td>\n",
       "      <td>1588</td>\n",
       "      <td>1588</td>\n",
       "      <td>1588</td>\n",
       "      <td>1588</td>\n",
       "      <td>1588</td>\n",
       "      <td>1588</td>\n",
       "    </tr>\n",
       "  </tbody>\n",
       "</table>\n",
       "</div>"
      ],
      "text/plain": [
       "                 conversation_ID  character1_ID  ch1_gender  character2_ID  \\\n",
       "gender_pair                                                                  \n",
       "A:A                          185            185         185            185   \n",
       "A:F                         1057           1057        1057           1057   \n",
       "A:M                         3362           3362        3362           3362   \n",
       "A:unknown                    481            481         481            481   \n",
       "F:F                         4601           4601        4601           4601   \n",
       "F:M                        31459          31459       31459          31459   \n",
       "F:unknown                   2370           2370        2370           2370   \n",
       "M:M                        29065          29065       29065          29065   \n",
       "M:unknown                   8886           8886        8886           8886   \n",
       "unknown:unknown             1588           1588        1588           1588   \n",
       "\n",
       "                 ch2_gender  movie_ID  dialogue  \n",
       "gender_pair                                      \n",
       "A:A                     185       185       185  \n",
       "A:F                    1057      1057      1057  \n",
       "A:M                    3362      3362      3362  \n",
       "A:unknown               481       481       481  \n",
       "F:F                    4601      4601      4601  \n",
       "F:M                   31459     31459     31459  \n",
       "F:unknown              2370      2370      2370  \n",
       "M:M                   29065     29065     29065  \n",
       "M:unknown              8886      8886      8886  \n",
       "unknown:unknown        1588      1588      1588  "
      ]
     },
     "execution_count": 19,
     "metadata": {},
     "output_type": "execute_result"
    }
   ],
   "source": [
    "# how does the breakout look?\n",
    "convo_gender_df.groupby('gender_pair').count()"
   ]
  },
  {
   "cell_type": "code",
   "execution_count": 20,
   "id": "efe35653",
   "metadata": {},
   "outputs": [
    {
     "data": {
      "image/png": "[encoded data removed]",
      "text/plain": [
       "<Figure size 432x288 with 1 Axes>"
      ]
     },
     "metadata": {
      "needs_background": "light"
     },
     "output_type": "display_data"
    }
   ],
   "source": [
    "# visualizing it is easier\n",
    "sns.countplot(x = \"gender_pair\",\n",
    "             data = convo_gender_df)\n",
    "plt.xticks(rotation=75)\n",
    "plt.savefig('../data_visualization/gender_pair_dialogue.png')\n",
    "plt.show()"
   ]
  },
  {
   "cell_type": "markdown",
   "id": "02652d8b",
   "metadata": {},
   "source": [
    "Male-female conversations are the most common dialogue pair, followed closely by male-male. This makes sense because there are more male characters in the movies overall."
   ]
  },
  {
   "cell_type": "markdown",
   "id": "63dd939b",
   "metadata": {},
   "source": [
    "## Tokens and gender"
   ]
  },
  {
   "cell_type": "markdown",
   "id": "cbbbaddf",
   "metadata": {},
   "source": [
    "I will look at token counts to see if there is a difference between turns by gender."
   ]
  },
  {
   "cell_type": "code",
   "execution_count": 21,
   "id": "67c3d3d6",
   "metadata": {},
   "outputs": [
    {
     "data": {
      "text/html": [
       "<div>\n",
       "<style scoped>\n",
       "    .dataframe tbody tr th:only-of-type {\n",
       "        vertical-align: middle;\n",
       "    }\n",
       "\n",
       "    .dataframe tbody tr th {\n",
       "        vertical-align: top;\n",
       "    }\n",
       "\n",
       "    .dataframe thead tr th {\n",
       "        text-align: left;\n",
       "    }\n",
       "\n",
       "    .dataframe thead tr:last-of-type th {\n",
       "        text-align: right;\n",
       "    }\n",
       "</style>\n",
       "<table border=\"1\" class=\"dataframe\">\n",
       "  <thead>\n",
       "    <tr>\n",
       "      <th></th>\n",
       "      <th colspan=\"5\" halign=\"left\">token_count</th>\n",
       "    </tr>\n",
       "    <tr>\n",
       "      <th></th>\n",
       "      <th>sum</th>\n",
       "      <th>mean</th>\n",
       "      <th>min</th>\n",
       "      <th>max</th>\n",
       "      <th>std</th>\n",
       "    </tr>\n",
       "    <tr>\n",
       "      <th>gender</th>\n",
       "      <th></th>\n",
       "      <th></th>\n",
       "      <th></th>\n",
       "      <th></th>\n",
       "      <th></th>\n",
       "    </tr>\n",
       "  </thead>\n",
       "  <tbody>\n",
       "    <tr>\n",
       "      <th>A</th>\n",
       "      <td>120266</td>\n",
       "      <td>13.211688</td>\n",
       "      <td>1</td>\n",
       "      <td>225</td>\n",
       "      <td>13.406066</td>\n",
       "    </tr>\n",
       "    <tr>\n",
       "      <th>F</th>\n",
       "      <td>1085298</td>\n",
       "      <td>13.115384</td>\n",
       "      <td>1</td>\n",
       "      <td>368</td>\n",
       "      <td>13.639057</td>\n",
       "    </tr>\n",
       "    <tr>\n",
       "      <th>M</th>\n",
       "      <td>2616140</td>\n",
       "      <td>13.909054</td>\n",
       "      <td>1</td>\n",
       "      <td>684</td>\n",
       "      <td>15.170149</td>\n",
       "    </tr>\n",
       "    <tr>\n",
       "      <th>unknown</th>\n",
       "      <td>359612</td>\n",
       "      <td>14.701443</td>\n",
       "      <td>1</td>\n",
       "      <td>337</td>\n",
       "      <td>15.014589</td>\n",
       "    </tr>\n",
       "  </tbody>\n",
       "</table>\n",
       "</div>"
      ],
      "text/plain": [
       "        token_count                               \n",
       "                sum       mean min  max        std\n",
       "gender                                            \n",
       "A            120266  13.211688   1  225  13.406066\n",
       "F           1085298  13.115384   1  368  13.639057\n",
       "M           2616140  13.909054   1  684  15.170149\n",
       "unknown      359612  14.701443   1  337  15.014589"
      ]
     },
     "execution_count": 21,
     "metadata": {},
     "output_type": "execute_result"
    }
   ],
   "source": [
    "discourse_df.groupby('gender').agg({'token_count': ['sum', 'mean', 'min', 'max', 'std']})"
   ]
  },
  {
   "cell_type": "markdown",
   "id": "3fe08968",
   "metadata": {},
   "source": [
    "Characters with unknown gender markers have the longest turns at 14.7. Female characters have the shortest tokens per turn. Female and ambiguous characters fall below the overall token mean of 13.74 and male and unknown are above the mean. The longest turn is from a male character. \n",
    "\n",
    "Raw count doesn't help for comparison across categories, but by looking at this we can see that there are more male characters because the average token count above does not differ as much as the raw counts.\n",
    "\n",
    "Characters across all gender markers have utterances that are only one token long. I expect these will be interjections of some kind."
   ]
  },
  {
   "cell_type": "code",
   "execution_count": 22,
   "id": "97d148f0",
   "metadata": {},
   "outputs": [
    {
     "data": {
      "text/html": [
       "<div>\n",
       "<style scoped>\n",
       "    .dataframe tbody tr th:only-of-type {\n",
       "        vertical-align: middle;\n",
       "    }\n",
       "\n",
       "    .dataframe tbody tr th {\n",
       "        vertical-align: top;\n",
       "    }\n",
       "\n",
       "    .dataframe thead th {\n",
       "        text-align: right;\n",
       "    }\n",
       "</style>\n",
       "<table border=\"1\" class=\"dataframe\">\n",
       "  <thead>\n",
       "    <tr style=\"text-align: right;\">\n",
       "      <th></th>\n",
       "      <th>conversation_ID</th>\n",
       "      <th>line_ID</th>\n",
       "      <th>character_ID</th>\n",
       "      <th>character_name</th>\n",
       "      <th>gender</th>\n",
       "      <th>movie_ID</th>\n",
       "      <th>movie_title</th>\n",
       "      <th>genres</th>\n",
       "      <th>movie_year</th>\n",
       "      <th>movie_decade</th>\n",
       "      <th>utterance</th>\n",
       "      <th>sents</th>\n",
       "      <th>tokens</th>\n",
       "      <th>sent_count</th>\n",
       "      <th>token_count</th>\n",
       "      <th>avg_sent_length</th>\n",
       "    </tr>\n",
       "  </thead>\n",
       "  <tbody>\n",
       "    <tr>\n",
       "      <th>10</th>\n",
       "      <td>17</td>\n",
       "      <td>L698</td>\n",
       "      <td>u0</td>\n",
       "      <td>BIANCA</td>\n",
       "      <td>F</td>\n",
       "      <td>m0</td>\n",
       "      <td>10 things i hate about you</td>\n",
       "      <td>['comedy', 'romance']</td>\n",
       "      <td>1999</td>\n",
       "      <td>1990</td>\n",
       "      <td>But</td>\n",
       "      <td>[But]</td>\n",
       "      <td>[But]</td>\n",
       "      <td>1</td>\n",
       "      <td>1</td>\n",
       "      <td>1.0</td>\n",
       "    </tr>\n",
       "    <tr>\n",
       "      <th>13</th>\n",
       "      <td>15</td>\n",
       "      <td>L663</td>\n",
       "      <td>u0</td>\n",
       "      <td>BIANCA</td>\n",
       "      <td>F</td>\n",
       "      <td>m0</td>\n",
       "      <td>10 things i hate about you</td>\n",
       "      <td>['comedy', 'romance']</td>\n",
       "      <td>1999</td>\n",
       "      <td>1990</td>\n",
       "      <td>Tons</td>\n",
       "      <td>[Tons]</td>\n",
       "      <td>[Tons]</td>\n",
       "      <td>1</td>\n",
       "      <td>1</td>\n",
       "      <td>1.0</td>\n",
       "    </tr>\n",
       "    <tr>\n",
       "      <th>61</th>\n",
       "      <td>50</td>\n",
       "      <td>L904</td>\n",
       "      <td>u0</td>\n",
       "      <td>BIANCA</td>\n",
       "      <td>F</td>\n",
       "      <td>m0</td>\n",
       "      <td>10 things i hate about you</td>\n",
       "      <td>['comedy', 'romance']</td>\n",
       "      <td>1999</td>\n",
       "      <td>1990</td>\n",
       "      <td>But</td>\n",
       "      <td>[But]</td>\n",
       "      <td>[But]</td>\n",
       "      <td>1</td>\n",
       "      <td>1</td>\n",
       "      <td>1.0</td>\n",
       "    </tr>\n",
       "    <tr>\n",
       "      <th>100</th>\n",
       "      <td>22</td>\n",
       "      <td>L924</td>\n",
       "      <td>u2</td>\n",
       "      <td>CAMERON</td>\n",
       "      <td>M</td>\n",
       "      <td>m0</td>\n",
       "      <td>10 things i hate about you</td>\n",
       "      <td>['comedy', 'romance']</td>\n",
       "      <td>1999</td>\n",
       "      <td>1990</td>\n",
       "      <td>Wow</td>\n",
       "      <td>[Wow]</td>\n",
       "      <td>[Wow]</td>\n",
       "      <td>1</td>\n",
       "      <td>1</td>\n",
       "      <td>1.0</td>\n",
       "    </tr>\n",
       "    <tr>\n",
       "      <th>101</th>\n",
       "      <td>21</td>\n",
       "      <td>L871</td>\n",
       "      <td>u2</td>\n",
       "      <td>CAMERON</td>\n",
       "      <td>M</td>\n",
       "      <td>m0</td>\n",
       "      <td>10 things i hate about you</td>\n",
       "      <td>['comedy', 'romance']</td>\n",
       "      <td>1999</td>\n",
       "      <td>1990</td>\n",
       "      <td>No</td>\n",
       "      <td>[No]</td>\n",
       "      <td>[No]</td>\n",
       "      <td>1</td>\n",
       "      <td>1</td>\n",
       "      <td>1.0</td>\n",
       "    </tr>\n",
       "    <tr>\n",
       "      <th>...</th>\n",
       "      <td>...</td>\n",
       "      <td>...</td>\n",
       "      <td>...</td>\n",
       "      <td>...</td>\n",
       "      <td>...</td>\n",
       "      <td>...</td>\n",
       "      <td>...</td>\n",
       "      <td>...</td>\n",
       "      <td>...</td>\n",
       "      <td>...</td>\n",
       "      <td>...</td>\n",
       "      <td>...</td>\n",
       "      <td>...</td>\n",
       "      <td>...</td>\n",
       "      <td>...</td>\n",
       "      <td>...</td>\n",
       "    </tr>\n",
       "    <tr>\n",
       "      <th>298231</th>\n",
       "      <td>81206</td>\n",
       "      <td>L646110</td>\n",
       "      <td>u8846</td>\n",
       "      <td>CHINA</td>\n",
       "      <td>unknown</td>\n",
       "      <td>m600</td>\n",
       "      <td>waxwork</td>\n",
       "      <td>['comedy', 'fantasy', 'horror']</td>\n",
       "      <td>1988</td>\n",
       "      <td>1980</td>\n",
       "      <td>Yeah</td>\n",
       "      <td>[Yeah]</td>\n",
       "      <td>[Yeah]</td>\n",
       "      <td>1</td>\n",
       "      <td>1</td>\n",
       "      <td>1.0</td>\n",
       "    </tr>\n",
       "    <tr>\n",
       "      <th>298292</th>\n",
       "      <td>81231</td>\n",
       "      <td>L646365</td>\n",
       "      <td>u8851</td>\n",
       "      <td>MARK</td>\n",
       "      <td>M</td>\n",
       "      <td>m600</td>\n",
       "      <td>waxwork</td>\n",
       "      <td>['comedy', 'fantasy', 'horror']</td>\n",
       "      <td>1988</td>\n",
       "      <td>1980</td>\n",
       "      <td>China</td>\n",
       "      <td>[China]</td>\n",
       "      <td>[China]</td>\n",
       "      <td>1</td>\n",
       "      <td>1</td>\n",
       "      <td>1.0</td>\n",
       "    </tr>\n",
       "    <tr>\n",
       "      <th>298325</th>\n",
       "      <td>81213</td>\n",
       "      <td>L646309</td>\n",
       "      <td>u8853</td>\n",
       "      <td>MR LINCOLN</td>\n",
       "      <td>M</td>\n",
       "      <td>m600</td>\n",
       "      <td>waxwork</td>\n",
       "      <td>['comedy', 'fantasy', 'horror']</td>\n",
       "      <td>1988</td>\n",
       "      <td>1980</td>\n",
       "      <td>Hi</td>\n",
       "      <td>[Hi]</td>\n",
       "      <td>[Hi]</td>\n",
       "      <td>1</td>\n",
       "      <td>1</td>\n",
       "      <td>1.0</td>\n",
       "    </tr>\n",
       "    <tr>\n",
       "      <th>301982</th>\n",
       "      <td>82387</td>\n",
       "      <td>L659811</td>\n",
       "      <td>u8950</td>\n",
       "      <td>DOROTHY</td>\n",
       "      <td>F</td>\n",
       "      <td>m610</td>\n",
       "      <td>the wizard of oz</td>\n",
       "      <td>['adventure', 'family', 'fantasy', 'musical']</td>\n",
       "      <td>1939</td>\n",
       "      <td>1930</td>\n",
       "      <td>Oh-oh-</td>\n",
       "      <td>[Oh-oh-]</td>\n",
       "      <td>[Oh-oh-]</td>\n",
       "      <td>1</td>\n",
       "      <td>1</td>\n",
       "      <td>1.0</td>\n",
       "    </tr>\n",
       "    <tr>\n",
       "      <th>304316</th>\n",
       "      <td>83066</td>\n",
       "      <td>L666152</td>\n",
       "      <td>u9020</td>\n",
       "      <td>INGA</td>\n",
       "      <td>F</td>\n",
       "      <td>m615</td>\n",
       "      <td>young frankenstein</td>\n",
       "      <td>['comedy', 'sci-fi']</td>\n",
       "      <td>1974</td>\n",
       "      <td>1970</td>\n",
       "      <td>Four</td>\n",
       "      <td>[Four]</td>\n",
       "      <td>[Four]</td>\n",
       "      <td>1</td>\n",
       "      <td>1</td>\n",
       "      <td>1.0</td>\n",
       "    </tr>\n",
       "  </tbody>\n",
       "</table>\n",
       "<p>177 rows × 16 columns</p>\n",
       "</div>"
      ],
      "text/plain": [
       "        conversation_ID  line_ID character_ID character_name   gender  \\\n",
       "10                   17     L698           u0         BIANCA        F   \n",
       "13                   15     L663           u0         BIANCA        F   \n",
       "61                   50     L904           u0         BIANCA        F   \n",
       "100                  22     L924           u2        CAMERON        M   \n",
       "101                  21     L871           u2        CAMERON        M   \n",
       "...                 ...      ...          ...            ...      ...   \n",
       "298231            81206  L646110        u8846          CHINA  unknown   \n",
       "298292            81231  L646365        u8851           MARK        M   \n",
       "298325            81213  L646309        u8853     MR LINCOLN        M   \n",
       "301982            82387  L659811        u8950        DOROTHY        F   \n",
       "304316            83066  L666152        u9020           INGA        F   \n",
       "\n",
       "       movie_ID                 movie_title  \\\n",
       "10           m0  10 things i hate about you   \n",
       "13           m0  10 things i hate about you   \n",
       "61           m0  10 things i hate about you   \n",
       "100          m0  10 things i hate about you   \n",
       "101          m0  10 things i hate about you   \n",
       "...         ...                         ...   \n",
       "298231     m600                     waxwork   \n",
       "298292     m600                     waxwork   \n",
       "298325     m600                     waxwork   \n",
       "301982     m610            the wizard of oz   \n",
       "304316     m615          young frankenstein   \n",
       "\n",
       "                                               genres  movie_year  \\\n",
       "10                              ['comedy', 'romance']        1999   \n",
       "13                              ['comedy', 'romance']        1999   \n",
       "61                              ['comedy', 'romance']        1999   \n",
       "100                             ['comedy', 'romance']        1999   \n",
       "101                             ['comedy', 'romance']        1999   \n",
       "...                                               ...         ...   \n",
       "298231                ['comedy', 'fantasy', 'horror']        1988   \n",
       "298292                ['comedy', 'fantasy', 'horror']        1988   \n",
       "298325                ['comedy', 'fantasy', 'horror']        1988   \n",
       "301982  ['adventure', 'family', 'fantasy', 'musical']        1939   \n",
       "304316                           ['comedy', 'sci-fi']        1974   \n",
       "\n",
       "        movie_decade utterance     sents    tokens  sent_count  token_count  \\\n",
       "10              1990       But     [But]     [But]           1            1   \n",
       "13              1990      Tons    [Tons]    [Tons]           1            1   \n",
       "61              1990       But     [But]     [But]           1            1   \n",
       "100             1990       Wow     [Wow]     [Wow]           1            1   \n",
       "101             1990        No      [No]      [No]           1            1   \n",
       "...              ...       ...       ...       ...         ...          ...   \n",
       "298231          1980      Yeah    [Yeah]    [Yeah]           1            1   \n",
       "298292          1980     China   [China]   [China]           1            1   \n",
       "298325          1980        Hi      [Hi]      [Hi]           1            1   \n",
       "301982          1930    Oh-oh-  [Oh-oh-]  [Oh-oh-]           1            1   \n",
       "304316          1970      Four    [Four]    [Four]           1            1   \n",
       "\n",
       "        avg_sent_length  \n",
       "10                  1.0  \n",
       "13                  1.0  \n",
       "61                  1.0  \n",
       "100                 1.0  \n",
       "101                 1.0  \n",
       "...                 ...  \n",
       "298231              1.0  \n",
       "298292              1.0  \n",
       "298325              1.0  \n",
       "301982              1.0  \n",
       "304316              1.0  \n",
       "\n",
       "[177 rows x 16 columns]"
      ]
     },
     "execution_count": 22,
     "metadata": {},
     "output_type": "execute_result"
    }
   ],
   "source": [
    "discourse_df[discourse_df.token_count==1]"
   ]
  },
  {
   "cell_type": "markdown",
   "id": "5d2dbce0",
   "metadata": {},
   "source": [
    "At quick glance, some answers, greetings, and interjections."
   ]
  },
  {
   "cell_type": "code",
   "execution_count": 23,
   "id": "3ec4f0bd",
   "metadata": {},
   "outputs": [
    {
     "data": {
      "image/png": "[encoded data removed]",
      "text/plain": [
       "<Figure size 360x360 with 1 Axes>"
      ]
     },
     "metadata": {
      "needs_background": "light"
     },
     "output_type": "display_data"
    }
   ],
   "source": [
    "# let's visualize the difference between token counts\n",
    "sns.catplot(data=discourse_df, x='gender', y='token_count', kind='bar')\n",
    "plt.savefig('../data_visualization/gender_token.png')\n",
    "plt.show()"
   ]
  },
  {
   "cell_type": "code",
   "execution_count": 24,
   "id": "d5bc1093",
   "metadata": {},
   "outputs": [
    {
     "data": {
      "text/plain": [
       "F_onewayResult(statistic=96.80918038167995, pvalue=1.2568045316489117e-62)"
      ]
     },
     "execution_count": 24,
     "metadata": {},
     "output_type": "execute_result"
    }
   ],
   "source": [
    "# is there a statistically significant difference between this variance?\n",
    "stats.f_oneway(discourse_df[discourse_df.gender=='F'].token_count, discourse_df[discourse_df.gender=='M'].token_count, discourse_df[discourse_df.gender=='unknown'].token_count, discourse_df[discourse_df.gender=='A'].token_count)"
   ]
  },
  {
   "cell_type": "markdown",
   "id": "adf38f3d",
   "metadata": {},
   "source": [
    "The difference between average token count is significant at p ≤ 0.05."
   ]
  },
  {
   "cell_type": "markdown",
   "id": "116cd5a5",
   "metadata": {},
   "source": [
    "## Token and movie decade"
   ]
  },
  {
   "cell_type": "markdown",
   "id": "f2258f30",
   "metadata": {},
   "source": [
    "I will factor in movie decade to see if any differences can be detected across time."
   ]
  },
  {
   "cell_type": "code",
   "execution_count": 25,
   "id": "ea1b720e",
   "metadata": {},
   "outputs": [
    {
     "data": {
      "text/plain": [
       "movie_decade  gender \n",
       "1920          A          10.882353\n",
       "              F           6.137931\n",
       "              M          10.054054\n",
       "              unknown     8.714286\n",
       "1930          A          10.429487\n",
       "              F          13.953283\n",
       "              M          15.468050\n",
       "              unknown    15.525862\n",
       "1940          A          15.484076\n",
       "              F          15.083987\n",
       "              M          15.317989\n",
       "              unknown    14.523220\n",
       "1950          A          13.398305\n",
       "              F          14.269518\n",
       "              M          13.995191\n",
       "              unknown    13.518856\n",
       "1960          A          16.606557\n",
       "              F          12.064139\n",
       "              M          14.054879\n",
       "              unknown    14.871824\n",
       "1970          A          12.406340\n",
       "              F          12.909269\n",
       "              M          13.892245\n",
       "              unknown    15.359916\n",
       "1980          A          12.722094\n",
       "              F          12.216716\n",
       "              M          13.121848\n",
       "              unknown    14.185000\n",
       "1990          A          13.289806\n",
       "              F          13.379428\n",
       "              M          14.192997\n",
       "              unknown    14.895010\n",
       "2000          A          13.271791\n",
       "              F          12.933671\n",
       "              M          13.472382\n",
       "              unknown    14.676616\n",
       "2010          A          19.925926\n",
       "              F          16.915789\n",
       "              M          15.073826\n",
       "              unknown    13.666667\n",
       "Name: token_count, dtype: float64"
      ]
     },
     "execution_count": 25,
     "metadata": {},
     "output_type": "execute_result"
    }
   ],
   "source": [
    "# what is the average token count by decade and gender?\n",
    "discourse_df.groupby(['movie_decade','gender']).token_count.mean()"
   ]
  },
  {
   "cell_type": "code",
   "execution_count": 26,
   "id": "16ff97e0",
   "metadata": {},
   "outputs": [
    {
     "name": "stderr",
     "output_type": "stream",
     "text": [
      "/opt/anaconda3/lib/python3.8/_collections_abc.py:832: MatplotlibDeprecationWarning: \n",
      "The savefig.jpeg_quality rcparam was deprecated in Matplotlib 3.3 and will be removed two minor releases later.\n",
      "  self[key] = other[key]\n",
      "/opt/anaconda3/lib/python3.8/_collections_abc.py:832: MatplotlibDeprecationWarning: \n",
      "The savefig.jpeg_quality rcparam was deprecated in Matplotlib 3.3 and will be removed two minor releases later.\n",
      "  self[key] = other[key]\n",
      "/opt/anaconda3/lib/python3.8/_collections_abc.py:832: MatplotlibDeprecationWarning: \n",
      "The savefig.jpeg_quality rcparam was deprecated in Matplotlib 3.3 and will be removed two minor releases later.\n",
      "  self[key] = other[key]\n",
      "/opt/anaconda3/lib/python3.8/_collections_abc.py:832: MatplotlibDeprecationWarning: \n",
      "The savefig.jpeg_quality rcparam was deprecated in Matplotlib 3.3 and will be removed two minor releases later.\n",
      "  self[key] = other[key]\n"
     ]
    },
    {
     "data": {
      "image/png": "[encoded data removed]",
      "text/plain": [
       "<seaborn._core.plot.Plot at 0x7f7975f26670>"
      ]
     },
     "execution_count": 26,
     "metadata": {
      "image/png": {
       "height": 378.25,
       "width": 614.125
      }
     },
     "output_type": "execute_result"
    }
   ],
   "source": [
    "# visualizing it is easier\n",
    "so.Plot(discourse_df, \"movie_decade\", \"token_count\").add(so.Bar(), so.Agg(), so.Dodge(), color=\"gender\").save('../data_visualization/gender_token_mean_decade.png')"
   ]
  },
  {
   "cell_type": "markdown",
   "id": "c67b30e9",
   "metadata": {},
   "source": [
    "Female characters have the longest average turn two decades in the corpus. Comparatively, male characters have the longest average turn for seven of the decades. Unknown has the longest average turn in the remaining decade.\n",
    "\n",
    "There is no discernable trend regarding average turns by gender and decade, but the turns do get longer over time."
   ]
  },
  {
   "cell_type": "code",
   "execution_count": 27,
   "id": "3f51fa3b",
   "metadata": {
    "scrolled": false
   },
   "outputs": [
    {
     "data": {
      "text/plain": [
       "movie_decade  gender \n",
       "1920          A           33\n",
       "              F           20\n",
       "              M          165\n",
       "              unknown     39\n",
       "1930          A           91\n",
       "              F          160\n",
       "              M          227\n",
       "              unknown    337\n",
       "1940          A          146\n",
       "              F          229\n",
       "              M          358\n",
       "              unknown    118\n",
       "1950          A           77\n",
       "              F          317\n",
       "              M          247\n",
       "              unknown    120\n",
       "1960          A          126\n",
       "              F          238\n",
       "              M          366\n",
       "              unknown    118\n",
       "1970          A           93\n",
       "              F          239\n",
       "              M          253\n",
       "              unknown    208\n",
       "1980          A          197\n",
       "              F          368\n",
       "              M          266\n",
       "              unknown    173\n",
       "1990          A          159\n",
       "              F          243\n",
       "              M          684\n",
       "              unknown    243\n",
       "2000          A          225\n",
       "              F          239\n",
       "              M          389\n",
       "              unknown    242\n",
       "2010          A           89\n",
       "              F          102\n",
       "              M          108\n",
       "              unknown     16\n",
       "Name: token_count, dtype: int64"
      ]
     },
     "execution_count": 27,
     "metadata": {},
     "output_type": "execute_result"
    }
   ],
   "source": [
    "# what is the max token count by decade and gender?\n",
    "discourse_df.groupby(['movie_decade','gender']).token_count.max()"
   ]
  },
  {
   "cell_type": "code",
   "execution_count": 28,
   "id": "cda762a3",
   "metadata": {
    "scrolled": false
   },
   "outputs": [
    {
     "name": "stderr",
     "output_type": "stream",
     "text": [
      "/opt/anaconda3/lib/python3.8/_collections_abc.py:832: MatplotlibDeprecationWarning: \n",
      "The savefig.jpeg_quality rcparam was deprecated in Matplotlib 3.3 and will be removed two minor releases later.\n",
      "  self[key] = other[key]\n",
      "/opt/anaconda3/lib/python3.8/_collections_abc.py:832: MatplotlibDeprecationWarning: \n",
      "The savefig.jpeg_quality rcparam was deprecated in Matplotlib 3.3 and will be removed two minor releases later.\n",
      "  self[key] = other[key]\n",
      "/opt/anaconda3/lib/python3.8/_collections_abc.py:832: MatplotlibDeprecationWarning: \n",
      "The savefig.jpeg_quality rcparam was deprecated in Matplotlib 3.3 and will be removed two minor releases later.\n",
      "  self[key] = other[key]\n",
      "/opt/anaconda3/lib/python3.8/_collections_abc.py:832: MatplotlibDeprecationWarning: \n",
      "The savefig.jpeg_quality rcparam was deprecated in Matplotlib 3.3 and will be removed two minor releases later.\n",
      "  self[key] = other[key]\n"
     ]
    },
    {
     "data": {
      "image/png": "[encoded data removed]",
      "text/plain": [
       "<seaborn._core.plot.Plot at 0x7f7962436310>"
      ]
     },
     "execution_count": 28,
     "metadata": {
      "image/png": {
       "height": 378.25,
       "width": 614.125
      }
     },
     "output_type": "execute_result"
    }
   ],
   "source": [
    "# and visualize it\n",
    "so.Plot(discourse_df, \"movie_decade\", \"token_count\").add(so.Bar(), so.Agg('max'), so.Dodge(), color=\"gender\").save('../data_visualization/gender_token_max_decade.png')"
   ]
  },
  {
   "cell_type": "markdown",
   "id": "cd8c1ae8",
   "metadata": {},
   "source": [
    "Male characters have the highest number of tokens per turn for seven of the ten decades. Based on this, male characters tend to dominate conversations more than any other gender."
   ]
  },
  {
   "cell_type": "markdown",
   "id": "74e6ca56",
   "metadata": {},
   "source": [
    "Let's filter down to one gender at a time."
   ]
  },
  {
   "cell_type": "markdown",
   "id": "b41992bd",
   "metadata": {},
   "source": [
    "### Female token decade"
   ]
  },
  {
   "cell_type": "code",
   "execution_count": 29,
   "id": "187df6ff",
   "metadata": {},
   "outputs": [
    {
     "data": {
      "text/html": [
       "<div>\n",
       "<style scoped>\n",
       "    .dataframe tbody tr th:only-of-type {\n",
       "        vertical-align: middle;\n",
       "    }\n",
       "\n",
       "    .dataframe tbody tr th {\n",
       "        vertical-align: top;\n",
       "    }\n",
       "\n",
       "    .dataframe thead tr th {\n",
       "        text-align: left;\n",
       "    }\n",
       "\n",
       "    .dataframe thead tr:last-of-type th {\n",
       "        text-align: right;\n",
       "    }\n",
       "</style>\n",
       "<table border=\"1\" class=\"dataframe\">\n",
       "  <thead>\n",
       "    <tr>\n",
       "      <th></th>\n",
       "      <th colspan=\"3\" halign=\"left\">token_count</th>\n",
       "    </tr>\n",
       "    <tr>\n",
       "      <th></th>\n",
       "      <th>mean</th>\n",
       "      <th>min</th>\n",
       "      <th>max</th>\n",
       "    </tr>\n",
       "    <tr>\n",
       "      <th>movie_decade</th>\n",
       "      <th></th>\n",
       "      <th></th>\n",
       "      <th></th>\n",
       "    </tr>\n",
       "  </thead>\n",
       "  <tbody>\n",
       "    <tr>\n",
       "      <th>1920</th>\n",
       "      <td>6.137931</td>\n",
       "      <td>2</td>\n",
       "      <td>20</td>\n",
       "    </tr>\n",
       "    <tr>\n",
       "      <th>1930</th>\n",
       "      <td>13.953283</td>\n",
       "      <td>1</td>\n",
       "      <td>160</td>\n",
       "    </tr>\n",
       "    <tr>\n",
       "      <th>1940</th>\n",
       "      <td>15.083987</td>\n",
       "      <td>1</td>\n",
       "      <td>229</td>\n",
       "    </tr>\n",
       "    <tr>\n",
       "      <th>1950</th>\n",
       "      <td>14.269518</td>\n",
       "      <td>1</td>\n",
       "      <td>317</td>\n",
       "    </tr>\n",
       "    <tr>\n",
       "      <th>1960</th>\n",
       "      <td>12.064139</td>\n",
       "      <td>1</td>\n",
       "      <td>238</td>\n",
       "    </tr>\n",
       "    <tr>\n",
       "      <th>1970</th>\n",
       "      <td>12.909269</td>\n",
       "      <td>1</td>\n",
       "      <td>239</td>\n",
       "    </tr>\n",
       "    <tr>\n",
       "      <th>1980</th>\n",
       "      <td>12.216716</td>\n",
       "      <td>1</td>\n",
       "      <td>368</td>\n",
       "    </tr>\n",
       "    <tr>\n",
       "      <th>1990</th>\n",
       "      <td>13.379428</td>\n",
       "      <td>1</td>\n",
       "      <td>243</td>\n",
       "    </tr>\n",
       "    <tr>\n",
       "      <th>2000</th>\n",
       "      <td>12.933671</td>\n",
       "      <td>1</td>\n",
       "      <td>239</td>\n",
       "    </tr>\n",
       "    <tr>\n",
       "      <th>2010</th>\n",
       "      <td>16.915789</td>\n",
       "      <td>2</td>\n",
       "      <td>102</td>\n",
       "    </tr>\n",
       "  </tbody>\n",
       "</table>\n",
       "</div>"
      ],
      "text/plain": [
       "             token_count         \n",
       "                    mean min  max\n",
       "movie_decade                     \n",
       "1920            6.137931   2   20\n",
       "1930           13.953283   1  160\n",
       "1940           15.083987   1  229\n",
       "1950           14.269518   1  317\n",
       "1960           12.064139   1  238\n",
       "1970           12.909269   1  239\n",
       "1980           12.216716   1  368\n",
       "1990           13.379428   1  243\n",
       "2000           12.933671   1  239\n",
       "2010           16.915789   2  102"
      ]
     },
     "execution_count": 29,
     "metadata": {},
     "output_type": "execute_result"
    }
   ],
   "source": [
    "# what do female token counts look like by decade?\n",
    "discourse_df[discourse_df.gender=='F'].groupby('movie_decade').agg({'token_count': ['mean', 'min', 'max']})"
   ]
  },
  {
   "cell_type": "code",
   "execution_count": 30,
   "id": "0708ab9c",
   "metadata": {
    "scrolled": false
   },
   "outputs": [
    {
     "data": {
      "image/png": "[encoded data removed]",
      "text/plain": [
       "<Figure size 360x360 with 1 Axes>"
      ]
     },
     "metadata": {
      "needs_background": "light"
     },
     "output_type": "display_data"
    }
   ],
   "source": [
    "# what does that look visually?\n",
    "sns.catplot(data=discourse_df[discourse_df.gender=='F'], x='movie_decade', y='token_count', kind='bar')\n",
    "plt.savefig('../data_visualization/female_token_decade.png')\n",
    "plt.show()"
   ]
  },
  {
   "cell_type": "code",
   "execution_count": 31,
   "id": "63e05ede",
   "metadata": {},
   "outputs": [
    {
     "data": {
      "text/plain": [
       "F_onewayResult(statistic=23.323920695243288, pvalue=3.118315263502376e-40)"
      ]
     },
     "execution_count": 31,
     "metadata": {},
     "output_type": "execute_result"
    }
   ],
   "source": [
    "# is there a statistically significant difference between this variance?\n",
    "stats.f_oneway(discourse_df[(discourse_df.gender=='F') & (discourse_df.movie_decade==1920)].token_count, \n",
    "               discourse_df[(discourse_df.gender=='F') & (discourse_df.movie_decade==1930)].token_count,\n",
    "               discourse_df[(discourse_df.gender=='F') & (discourse_df.movie_decade==1940)].token_count,\n",
    "               discourse_df[(discourse_df.gender=='F') & (discourse_df.movie_decade==1950)].token_count,\n",
    "               discourse_df[(discourse_df.gender=='F') & (discourse_df.movie_decade==1960)].token_count,\n",
    "               discourse_df[(discourse_df.gender=='F') & (discourse_df.movie_decade==1970)].token_count,\n",
    "               discourse_df[(discourse_df.gender=='F') & (discourse_df.movie_decade==1980)].token_count,\n",
    "               discourse_df[(discourse_df.gender=='F') & (discourse_df.movie_decade==1990)].token_count,\n",
    "               discourse_df[(discourse_df.gender=='F') & (discourse_df.movie_decade==2000)].token_count,\n",
    "               discourse_df[(discourse_df.gender=='F') & (discourse_df.movie_decade==2010)].token_count)"
   ]
  },
  {
   "cell_type": "markdown",
   "id": "e65e800c",
   "metadata": {},
   "source": [
    "This variation is significant at p ≤ 0.05."
   ]
  },
  {
   "cell_type": "markdown",
   "id": "e9f320d2",
   "metadata": {},
   "source": [
    "### Male token decade"
   ]
  },
  {
   "cell_type": "code",
   "execution_count": 32,
   "id": "bf96f5e0",
   "metadata": {},
   "outputs": [
    {
     "data": {
      "text/html": [
       "<div>\n",
       "<style scoped>\n",
       "    .dataframe tbody tr th:only-of-type {\n",
       "        vertical-align: middle;\n",
       "    }\n",
       "\n",
       "    .dataframe tbody tr th {\n",
       "        vertical-align: top;\n",
       "    }\n",
       "\n",
       "    .dataframe thead tr th {\n",
       "        text-align: left;\n",
       "    }\n",
       "\n",
       "    .dataframe thead tr:last-of-type th {\n",
       "        text-align: right;\n",
       "    }\n",
       "</style>\n",
       "<table border=\"1\" class=\"dataframe\">\n",
       "  <thead>\n",
       "    <tr>\n",
       "      <th></th>\n",
       "      <th colspan=\"3\" halign=\"left\">token_count</th>\n",
       "    </tr>\n",
       "    <tr>\n",
       "      <th></th>\n",
       "      <th>mean</th>\n",
       "      <th>min</th>\n",
       "      <th>max</th>\n",
       "    </tr>\n",
       "    <tr>\n",
       "      <th>movie_decade</th>\n",
       "      <th></th>\n",
       "      <th></th>\n",
       "      <th></th>\n",
       "    </tr>\n",
       "  </thead>\n",
       "  <tbody>\n",
       "    <tr>\n",
       "      <th>1920</th>\n",
       "      <td>10.054054</td>\n",
       "      <td>2</td>\n",
       "      <td>165</td>\n",
       "    </tr>\n",
       "    <tr>\n",
       "      <th>1930</th>\n",
       "      <td>15.468050</td>\n",
       "      <td>1</td>\n",
       "      <td>227</td>\n",
       "    </tr>\n",
       "    <tr>\n",
       "      <th>1940</th>\n",
       "      <td>15.317989</td>\n",
       "      <td>1</td>\n",
       "      <td>358</td>\n",
       "    </tr>\n",
       "    <tr>\n",
       "      <th>1950</th>\n",
       "      <td>13.995191</td>\n",
       "      <td>2</td>\n",
       "      <td>247</td>\n",
       "    </tr>\n",
       "    <tr>\n",
       "      <th>1960</th>\n",
       "      <td>14.054879</td>\n",
       "      <td>2</td>\n",
       "      <td>366</td>\n",
       "    </tr>\n",
       "    <tr>\n",
       "      <th>1970</th>\n",
       "      <td>13.892245</td>\n",
       "      <td>1</td>\n",
       "      <td>253</td>\n",
       "    </tr>\n",
       "    <tr>\n",
       "      <th>1980</th>\n",
       "      <td>13.121848</td>\n",
       "      <td>1</td>\n",
       "      <td>266</td>\n",
       "    </tr>\n",
       "    <tr>\n",
       "      <th>1990</th>\n",
       "      <td>14.192997</td>\n",
       "      <td>1</td>\n",
       "      <td>684</td>\n",
       "    </tr>\n",
       "    <tr>\n",
       "      <th>2000</th>\n",
       "      <td>13.472382</td>\n",
       "      <td>1</td>\n",
       "      <td>389</td>\n",
       "    </tr>\n",
       "    <tr>\n",
       "      <th>2010</th>\n",
       "      <td>15.073826</td>\n",
       "      <td>2</td>\n",
       "      <td>108</td>\n",
       "    </tr>\n",
       "  </tbody>\n",
       "</table>\n",
       "</div>"
      ],
      "text/plain": [
       "             token_count         \n",
       "                    mean min  max\n",
       "movie_decade                     \n",
       "1920           10.054054   2  165\n",
       "1930           15.468050   1  227\n",
       "1940           15.317989   1  358\n",
       "1950           13.995191   2  247\n",
       "1960           14.054879   2  366\n",
       "1970           13.892245   1  253\n",
       "1980           13.121848   1  266\n",
       "1990           14.192997   1  684\n",
       "2000           13.472382   1  389\n",
       "2010           15.073826   2  108"
      ]
     },
     "execution_count": 32,
     "metadata": {},
     "output_type": "execute_result"
    }
   ],
   "source": [
    "# what do male token counts look like by decade?\n",
    "discourse_df[discourse_df.gender=='M'].groupby('movie_decade').agg({'token_count': ['mean', 'min', 'max']})"
   ]
  },
  {
   "cell_type": "code",
   "execution_count": 33,
   "id": "00f68aa2",
   "metadata": {},
   "outputs": [
    {
     "data": {
      "image/png": "[encoded data removed]",
      "text/plain": [
       "<Figure size 360x360 with 1 Axes>"
      ]
     },
     "metadata": {
      "needs_background": "light"
     },
     "output_type": "display_data"
    }
   ],
   "source": [
    "# what does that look visually?\n",
    "sns.catplot(data=discourse_df[discourse_df.gender=='M'], x='movie_decade', y='token_count', kind='bar')\n",
    "plt.savefig('../data_visualization/male_token_decade.png')\n",
    "plt.show()"
   ]
  },
  {
   "cell_type": "code",
   "execution_count": 34,
   "id": "f1b3cbf1",
   "metadata": {},
   "outputs": [
    {
     "data": {
      "text/plain": [
       "F_onewayResult(statistic=28.267736794187584, pvalue=1.267942650831952e-49)"
      ]
     },
     "execution_count": 34,
     "metadata": {},
     "output_type": "execute_result"
    }
   ],
   "source": [
    "# is there a statistically significant difference between this variance?\n",
    "stats.f_oneway(discourse_df[(discourse_df.gender=='M') & (discourse_df.movie_decade==1920)].token_count, \n",
    "               discourse_df[(discourse_df.gender=='M') & (discourse_df.movie_decade==1930)].token_count,\n",
    "               discourse_df[(discourse_df.gender=='M') & (discourse_df.movie_decade==1940)].token_count,\n",
    "               discourse_df[(discourse_df.gender=='M') & (discourse_df.movie_decade==1950)].token_count,\n",
    "               discourse_df[(discourse_df.gender=='M') & (discourse_df.movie_decade==1960)].token_count,\n",
    "               discourse_df[(discourse_df.gender=='M') & (discourse_df.movie_decade==1970)].token_count,\n",
    "               discourse_df[(discourse_df.gender=='M') & (discourse_df.movie_decade==1980)].token_count,\n",
    "               discourse_df[(discourse_df.gender=='M') & (discourse_df.movie_decade==1990)].token_count,\n",
    "               discourse_df[(discourse_df.gender=='M') & (discourse_df.movie_decade==2000)].token_count,\n",
    "               discourse_df[(discourse_df.gender=='M') & (discourse_df.movie_decade==2010)].token_count)"
   ]
  },
  {
   "cell_type": "markdown",
   "id": "fa9118be",
   "metadata": {},
   "source": [
    "This variation is significant at p ≤ 0.05."
   ]
  },
  {
   "cell_type": "markdown",
   "id": "d00f2dd7",
   "metadata": {},
   "source": [
    "### Unknown token decade"
   ]
  },
  {
   "cell_type": "code",
   "execution_count": 35,
   "id": "e56f773a",
   "metadata": {},
   "outputs": [
    {
     "data": {
      "text/html": [
       "<div>\n",
       "<style scoped>\n",
       "    .dataframe tbody tr th:only-of-type {\n",
       "        vertical-align: middle;\n",
       "    }\n",
       "\n",
       "    .dataframe tbody tr th {\n",
       "        vertical-align: top;\n",
       "    }\n",
       "\n",
       "    .dataframe thead tr th {\n",
       "        text-align: left;\n",
       "    }\n",
       "\n",
       "    .dataframe thead tr:last-of-type th {\n",
       "        text-align: right;\n",
       "    }\n",
       "</style>\n",
       "<table border=\"1\" class=\"dataframe\">\n",
       "  <thead>\n",
       "    <tr>\n",
       "      <th></th>\n",
       "      <th colspan=\"3\" halign=\"left\">token_count</th>\n",
       "    </tr>\n",
       "    <tr>\n",
       "      <th></th>\n",
       "      <th>mean</th>\n",
       "      <th>min</th>\n",
       "      <th>max</th>\n",
       "    </tr>\n",
       "    <tr>\n",
       "      <th>movie_decade</th>\n",
       "      <th></th>\n",
       "      <th></th>\n",
       "      <th></th>\n",
       "    </tr>\n",
       "  </thead>\n",
       "  <tbody>\n",
       "    <tr>\n",
       "      <th>1920</th>\n",
       "      <td>8.714286</td>\n",
       "      <td>2</td>\n",
       "      <td>39</td>\n",
       "    </tr>\n",
       "    <tr>\n",
       "      <th>1930</th>\n",
       "      <td>15.525862</td>\n",
       "      <td>1</td>\n",
       "      <td>337</td>\n",
       "    </tr>\n",
       "    <tr>\n",
       "      <th>1940</th>\n",
       "      <td>14.523220</td>\n",
       "      <td>1</td>\n",
       "      <td>118</td>\n",
       "    </tr>\n",
       "    <tr>\n",
       "      <th>1950</th>\n",
       "      <td>13.518856</td>\n",
       "      <td>2</td>\n",
       "      <td>120</td>\n",
       "    </tr>\n",
       "    <tr>\n",
       "      <th>1960</th>\n",
       "      <td>14.871824</td>\n",
       "      <td>1</td>\n",
       "      <td>118</td>\n",
       "    </tr>\n",
       "    <tr>\n",
       "      <th>1970</th>\n",
       "      <td>15.359916</td>\n",
       "      <td>1</td>\n",
       "      <td>208</td>\n",
       "    </tr>\n",
       "    <tr>\n",
       "      <th>1980</th>\n",
       "      <td>14.185000</td>\n",
       "      <td>1</td>\n",
       "      <td>173</td>\n",
       "    </tr>\n",
       "    <tr>\n",
       "      <th>1990</th>\n",
       "      <td>14.895010</td>\n",
       "      <td>1</td>\n",
       "      <td>243</td>\n",
       "    </tr>\n",
       "    <tr>\n",
       "      <th>2000</th>\n",
       "      <td>14.676616</td>\n",
       "      <td>2</td>\n",
       "      <td>242</td>\n",
       "    </tr>\n",
       "    <tr>\n",
       "      <th>2010</th>\n",
       "      <td>13.666667</td>\n",
       "      <td>10</td>\n",
       "      <td>16</td>\n",
       "    </tr>\n",
       "  </tbody>\n",
       "</table>\n",
       "</div>"
      ],
      "text/plain": [
       "             token_count         \n",
       "                    mean min  max\n",
       "movie_decade                     \n",
       "1920            8.714286   2   39\n",
       "1930           15.525862   1  337\n",
       "1940           14.523220   1  118\n",
       "1950           13.518856   2  120\n",
       "1960           14.871824   1  118\n",
       "1970           15.359916   1  208\n",
       "1980           14.185000   1  173\n",
       "1990           14.895010   1  243\n",
       "2000           14.676616   2  242\n",
       "2010           13.666667  10   16"
      ]
     },
     "execution_count": 35,
     "metadata": {},
     "output_type": "execute_result"
    }
   ],
   "source": [
    "# what do unknown token counts look like by decade?\n",
    "discourse_df[discourse_df.gender=='unknown'].groupby('movie_decade').agg({'token_count': ['mean', 'min', 'max']})"
   ]
  },
  {
   "cell_type": "code",
   "execution_count": 36,
   "id": "b593905d",
   "metadata": {},
   "outputs": [
    {
     "data": {
      "image/png": "[encoded data removed]",
      "text/plain": [
       "<Figure size 360x360 with 1 Axes>"
      ]
     },
     "metadata": {
      "needs_background": "light"
     },
     "output_type": "display_data"
    }
   ],
   "source": [
    "# what does that look visually?\n",
    "sns.catplot(data=discourse_df[discourse_df.gender=='unknown'], x='movie_decade', y='token_count', kind='bar')\n",
    "plt.savefig('../data_visualization/unknown_token_decade.png')\n",
    "plt.show()"
   ]
  },
  {
   "cell_type": "code",
   "execution_count": 37,
   "id": "e91ac9ae",
   "metadata": {},
   "outputs": [
    {
     "data": {
      "text/plain": [
       "F_onewayResult(statistic=3.146118731542804, pvalue=0.0008488480238859613)"
      ]
     },
     "execution_count": 37,
     "metadata": {},
     "output_type": "execute_result"
    }
   ],
   "source": [
    "# is there a statistically significant difference between this variance?\n",
    "stats.f_oneway(discourse_df[(discourse_df.gender=='unknown') & (discourse_df.movie_decade==1920)].token_count, \n",
    "               discourse_df[(discourse_df.gender=='unknown') & (discourse_df.movie_decade==1930)].token_count,\n",
    "               discourse_df[(discourse_df.gender=='unknown') & (discourse_df.movie_decade==1940)].token_count,\n",
    "               discourse_df[(discourse_df.gender=='unknown') & (discourse_df.movie_decade==1950)].token_count,\n",
    "               discourse_df[(discourse_df.gender=='unknown') & (discourse_df.movie_decade==1960)].token_count,\n",
    "               discourse_df[(discourse_df.gender=='unknown') & (discourse_df.movie_decade==1970)].token_count,\n",
    "               discourse_df[(discourse_df.gender=='unknown') & (discourse_df.movie_decade==1980)].token_count,\n",
    "               discourse_df[(discourse_df.gender=='unknown') & (discourse_df.movie_decade==1990)].token_count,\n",
    "               discourse_df[(discourse_df.gender=='unknown') & (discourse_df.movie_decade==2000)].token_count,\n",
    "               discourse_df[(discourse_df.gender=='unknown') & (discourse_df.movie_decade==2010)].token_count)"
   ]
  },
  {
   "cell_type": "markdown",
   "id": "6af167c6",
   "metadata": {},
   "source": [
    "This variation is significant at p ≤ 0.05."
   ]
  },
  {
   "cell_type": "markdown",
   "id": "81c610fe",
   "metadata": {},
   "source": [
    "### Ambiguous token decade"
   ]
  },
  {
   "cell_type": "code",
   "execution_count": 38,
   "id": "21abfd66",
   "metadata": {},
   "outputs": [
    {
     "data": {
      "text/html": [
       "<div>\n",
       "<style scoped>\n",
       "    .dataframe tbody tr th:only-of-type {\n",
       "        vertical-align: middle;\n",
       "    }\n",
       "\n",
       "    .dataframe tbody tr th {\n",
       "        vertical-align: top;\n",
       "    }\n",
       "\n",
       "    .dataframe thead tr th {\n",
       "        text-align: left;\n",
       "    }\n",
       "\n",
       "    .dataframe thead tr:last-of-type th {\n",
       "        text-align: right;\n",
       "    }\n",
       "</style>\n",
       "<table border=\"1\" class=\"dataframe\">\n",
       "  <thead>\n",
       "    <tr>\n",
       "      <th></th>\n",
       "      <th colspan=\"3\" halign=\"left\">token_count</th>\n",
       "    </tr>\n",
       "    <tr>\n",
       "      <th></th>\n",
       "      <th>mean</th>\n",
       "      <th>min</th>\n",
       "      <th>max</th>\n",
       "    </tr>\n",
       "    <tr>\n",
       "      <th>movie_decade</th>\n",
       "      <th></th>\n",
       "      <th></th>\n",
       "      <th></th>\n",
       "    </tr>\n",
       "  </thead>\n",
       "  <tbody>\n",
       "    <tr>\n",
       "      <th>1920</th>\n",
       "      <td>10.882353</td>\n",
       "      <td>2</td>\n",
       "      <td>33</td>\n",
       "    </tr>\n",
       "    <tr>\n",
       "      <th>1930</th>\n",
       "      <td>10.429487</td>\n",
       "      <td>2</td>\n",
       "      <td>91</td>\n",
       "    </tr>\n",
       "    <tr>\n",
       "      <th>1940</th>\n",
       "      <td>15.484076</td>\n",
       "      <td>2</td>\n",
       "      <td>146</td>\n",
       "    </tr>\n",
       "    <tr>\n",
       "      <th>1950</th>\n",
       "      <td>13.398305</td>\n",
       "      <td>2</td>\n",
       "      <td>77</td>\n",
       "    </tr>\n",
       "    <tr>\n",
       "      <th>1960</th>\n",
       "      <td>16.606557</td>\n",
       "      <td>2</td>\n",
       "      <td>126</td>\n",
       "    </tr>\n",
       "    <tr>\n",
       "      <th>1970</th>\n",
       "      <td>12.406340</td>\n",
       "      <td>1</td>\n",
       "      <td>93</td>\n",
       "    </tr>\n",
       "    <tr>\n",
       "      <th>1980</th>\n",
       "      <td>12.722094</td>\n",
       "      <td>1</td>\n",
       "      <td>197</td>\n",
       "    </tr>\n",
       "    <tr>\n",
       "      <th>1990</th>\n",
       "      <td>13.289806</td>\n",
       "      <td>2</td>\n",
       "      <td>159</td>\n",
       "    </tr>\n",
       "    <tr>\n",
       "      <th>2000</th>\n",
       "      <td>13.271791</td>\n",
       "      <td>2</td>\n",
       "      <td>225</td>\n",
       "    </tr>\n",
       "    <tr>\n",
       "      <th>2010</th>\n",
       "      <td>19.925926</td>\n",
       "      <td>2</td>\n",
       "      <td>89</td>\n",
       "    </tr>\n",
       "  </tbody>\n",
       "</table>\n",
       "</div>"
      ],
      "text/plain": [
       "             token_count         \n",
       "                    mean min  max\n",
       "movie_decade                     \n",
       "1920           10.882353   2   33\n",
       "1930           10.429487   2   91\n",
       "1940           15.484076   2  146\n",
       "1950           13.398305   2   77\n",
       "1960           16.606557   2  126\n",
       "1970           12.406340   1   93\n",
       "1980           12.722094   1  197\n",
       "1990           13.289806   2  159\n",
       "2000           13.271791   2  225\n",
       "2010           19.925926   2   89"
      ]
     },
     "execution_count": 38,
     "metadata": {},
     "output_type": "execute_result"
    }
   ],
   "source": [
    "# what do ambiguous token counts look like by decade?\n",
    "discourse_df[discourse_df.gender=='A'].groupby('movie_decade').agg({'token_count': ['mean', 'min', 'max']})"
   ]
  },
  {
   "cell_type": "code",
   "execution_count": 39,
   "id": "ae2cc133",
   "metadata": {},
   "outputs": [
    {
     "data": {
      "image/png": "[encoded data removed]",
      "text/plain": [
       "<Figure size 360x360 with 1 Axes>"
      ]
     },
     "metadata": {
      "needs_background": "light"
     },
     "output_type": "display_data"
    }
   ],
   "source": [
    "# what does that look visually?\n",
    "sns.catplot(data=discourse_df[discourse_df.gender=='A'], x='movie_decade', y='token_count', kind='bar')\n",
    "plt.savefig('../data_visualization/ambiguous_token_decade.png')\n",
    "plt.show()"
   ]
  },
  {
   "cell_type": "code",
   "execution_count": 40,
   "id": "1decc9a5",
   "metadata": {},
   "outputs": [
    {
     "data": {
      "text/plain": [
       "F_onewayResult(statistic=5.843487618680486, pvalue=3.6992833676113645e-08)"
      ]
     },
     "execution_count": 40,
     "metadata": {},
     "output_type": "execute_result"
    }
   ],
   "source": [
    "# is there a statistically significant difference between this variance?\n",
    "stats.f_oneway(discourse_df[(discourse_df.gender=='A') & (discourse_df.movie_decade==1920)].token_count, \n",
    "               discourse_df[(discourse_df.gender=='A') & (discourse_df.movie_decade==1930)].token_count,\n",
    "               discourse_df[(discourse_df.gender=='A') & (discourse_df.movie_decade==1940)].token_count,\n",
    "               discourse_df[(discourse_df.gender=='A') & (discourse_df.movie_decade==1950)].token_count,\n",
    "               discourse_df[(discourse_df.gender=='A') & (discourse_df.movie_decade==1960)].token_count,\n",
    "               discourse_df[(discourse_df.gender=='A') & (discourse_df.movie_decade==1970)].token_count,\n",
    "               discourse_df[(discourse_df.gender=='A') & (discourse_df.movie_decade==1980)].token_count,\n",
    "               discourse_df[(discourse_df.gender=='A') & (discourse_df.movie_decade==1990)].token_count,\n",
    "               discourse_df[(discourse_df.gender=='A') & (discourse_df.movie_decade==2000)].token_count,\n",
    "               discourse_df[(discourse_df.gender=='A') & (discourse_df.movie_decade==2010)].token_count)"
   ]
  },
  {
   "cell_type": "markdown",
   "id": "e8ab61e7",
   "metadata": {},
   "source": [
    "This variation is significant at p ≤ 0.05."
   ]
  },
  {
   "cell_type": "markdown",
   "id": "0a118bc4",
   "metadata": {},
   "source": [
    "## Conclusion"
   ]
  },
  {
   "cell_type": "markdown",
   "id": "4d497164",
   "metadata": {},
   "source": [
    "There is significant difference at p ≤ 0.05 for average token count by gender. This significance difference is found for all movie decades as well. All genders also have longer average turns by 2010 compared to the beginning of the corpus.\n",
    "\n",
    "Conversations between a male and a female character are the most common out of the corpus, followed by male-male conversations.\n",
    "\n",
    "The longest conversation has 89 turns that are evenly split between the male and female speaker. However Caitlin has almost twice as many tokens as Dante."
   ]
  }
 ],
 "metadata": {
  "kernelspec": {
   "display_name": "Python 3",
   "language": "python",
   "name": "python3"
  },
  "language_info": {
   "codemirror_mode": {
    "name": "ipython",
    "version": 3
   },
   "file_extension": ".py",
   "mimetype": "text/x-python",
   "name": "python",
   "nbconvert_exporter": "python",
   "pygments_lexer": "ipython3",
   "version": "3.8.8"
  }
 },
 "nbformat": 4,
 "nbformat_minor": 5
}
