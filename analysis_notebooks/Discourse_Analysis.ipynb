{
 "cells": [
  {
   "cell_type": "markdown",
   "id": "089a29f0",
   "metadata": {},
   "source": [
    "# Discourse Analysis"
   ]
  },
  {
   "cell_type": "markdown",
   "id": "079f3e03",
   "metadata": {},
   "source": [
    "## Table of Contents\n",
    "- [1st Section](#Loading-in-the-data) is where I import the files\n",
    "- [2nd section](#Conversations-between-genders) is where I import gender information per conversation\n",
    "- [3rd section](# ) \n",
    "- [4th section](# ) \n",
    "- [Conclusion](#Conclusion) summarizes the notebook"
   ]
  },
  {
   "cell_type": "markdown",
   "id": "03f23405",
   "metadata": {},
   "source": [
    "## Loading in the data"
   ]
  },
  {
   "cell_type": "code",
   "execution_count": null,
   "id": "051ed6c6",
   "metadata": {},
   "outputs": [],
   "source": []
  },
  {
   "cell_type": "code",
   "execution_count": null,
   "id": "5050f77f",
   "metadata": {},
   "outputs": [],
   "source": []
  },
  {
   "cell_type": "markdown",
   "id": "abe87c14",
   "metadata": {},
   "source": [
    "## Conversations between genders"
   ]
  },
  {
   "cell_type": "markdown",
   "id": "3205fe23",
   "metadata": {},
   "source": [
    "I will add gender markers to the conversation_df and see how the conversations are split up by the gender of each speaker."
   ]
  },
  {
   "cell_type": "code",
   "execution_count": null,
   "id": "9749b100",
   "metadata": {},
   "outputs": [],
   "source": [
    "# add gender for character1_ID\n",
    "conversations_df = pd.merge(conversations_df, characters_df, left_on='character1_ID', right_on='character_ID').drop(columns=['movie_ID_y', 'movie_title', 'character_ID'], axis=1)"
   ]
  },
  {
   "cell_type": "code",
   "execution_count": null,
   "id": "c098e5af",
   "metadata": {},
   "outputs": [],
   "source": [
    "# add gender for character2_ID\n",
    "conversations_df = pd.merge(conversations_df, characters_df, left_on='character2_ID', right_on='character_ID').drop(columns=['movie_ID', 'movie_title', 'character_ID'], axis=1)"
   ]
  },
  {
   "cell_type": "code",
   "execution_count": null,
   "id": "b60550f8",
   "metadata": {},
   "outputs": [],
   "source": [
    "conversations_df"
   ]
  },
  {
   "cell_type": "code",
   "execution_count": null,
   "id": "c22b190f",
   "metadata": {},
   "outputs": [],
   "source": [
    "# everything got merged, lets rename the columns to tidy up some\n",
    "\n",
    "# rename some columns for clarification\n",
    "conversations_df.rename(columns={\"movie_ID_x\": \"movie_ID\", \"character_name_x\": \"character1_name\", \"gender_x\": \"gender1\", \"character_name_y\": \"character2_name\", \"gender_y\": \"gender2\"}, inplace=True)\n",
    "\n",
    "# rearrange the columns\n",
    "conversations_df = conversations_df[['character1_ID', 'character1_name', 'gender1', 'character2_ID', 'character2_name', 'gender2', 'movie_ID', 'dialogue']]"
   ]
  },
  {
   "cell_type": "code",
   "execution_count": null,
   "id": "7c6cf675",
   "metadata": {},
   "outputs": [],
   "source": [
    "conversations_df.head()"
   ]
  },
  {
   "cell_type": "markdown",
   "id": "ce61b0bc",
   "metadata": {},
   "source": [
    "Possible gender pairings:\n",
    "\n",
    "A - A<br>\n",
    "F - F<br>\n",
    "M - M<br>\n",
    "U - U<br>\n",
    "A - F<br>\n",
    "A - M<br>\n",
    "A - U<br>\n",
    "F - M<br>\n",
    "F - U<br>\n",
    "M - U<br>"
   ]
  },
  {
   "cell_type": "code",
   "execution_count": null,
   "id": "64bc52ba",
   "metadata": {},
   "outputs": [],
   "source": [
    "# function to return conversational gender pairs\n",
    "def gender_pairs(a, b):\n",
    "    if a == 'M' and b == 'F' or a == 'F' and b == 'M':\n",
    "        return 'F:M'\n",
    "    elif a == 'M' and b == 'A' or a == 'A' and b == 'M':\n",
    "        return 'A:M'\n",
    "    elif a == 'M' and b == 'unknown' or a == 'unknown' and b == 'M':\n",
    "        return 'M:unknown'\n",
    "    elif a == 'A' and b =='F' or a == 'F' and b =='A':\n",
    "        return 'A:F'\n",
    "    elif a == 'A' and b == 'unknown' or a == 'unknown' and b == 'A':\n",
    "        return 'A:unknown'\n",
    "    elif a == 'F' and b == 'unknown' or a == 'unknown' and b == 'F':\n",
    "        return 'F:unknown'\n",
    "    elif a == 'A' and b == 'A':\n",
    "        return 'A:A'\n",
    "    elif a == 'F' and b == 'F':\n",
    "        return 'F:F'\n",
    "    elif a == 'M' and b == 'M':\n",
    "        return 'M:M'\n",
    "    else:\n",
    "        return 'unknown:unknown'    "
   ]
  },
  {
   "cell_type": "code",
   "execution_count": null,
   "id": "437ddfbc",
   "metadata": {},
   "outputs": [],
   "source": [
    "# add column combining gender pairs\n",
    "conversations_df['gender_pair'] = conversations_df.apply(lambda x: gender_pairs(a = x['gender1'], b = x['gender2']), axis=1)"
   ]
  },
  {
   "cell_type": "code",
   "execution_count": null,
   "id": "bb586b2c",
   "metadata": {},
   "outputs": [],
   "source": [
    "conversations_df.head()"
   ]
  },
  {
   "cell_type": "code",
   "execution_count": null,
   "id": "a89b2a9d",
   "metadata": {},
   "outputs": [],
   "source": [
    "conversations_df.groupby('gender_pair').count()"
   ]
  },
  {
   "cell_type": "code",
   "execution_count": null,
   "id": "ba141b14",
   "metadata": {},
   "outputs": [],
   "source": [
    "# update this code to account for conversations_df being exploded\n",
    "# groupby convo_ID, can that be plotted?"
   ]
  },
  {
   "cell_type": "code",
   "execution_count": null,
   "id": "8bfef5e9",
   "metadata": {},
   "outputs": [],
   "source": [
    "sns.countplot(x = \"gender_pair\",\n",
    "             data = conversations_df)\n",
    "plt.xticks(rotation=75)\n",
    "plt.show()"
   ]
  },
  {
   "cell_type": "markdown",
   "id": "0a118bc4",
   "metadata": {},
   "source": [
    "## Conclusion"
   ]
  },
  {
   "cell_type": "code",
   "execution_count": null,
   "id": "8d0de388",
   "metadata": {},
   "outputs": [],
   "source": []
  }
 ],
 "metadata": {
  "kernelspec": {
   "display_name": "Python 3",
   "language": "python",
   "name": "python3"
  },
  "language_info": {
   "codemirror_mode": {
    "name": "ipython",
    "version": 3
   },
   "file_extension": ".py",
   "mimetype": "text/x-python",
   "name": "python",
   "nbconvert_exporter": "python",
   "pygments_lexer": "ipython3",
   "version": "3.8.8"
  }
 },
 "nbformat": 4,
 "nbformat_minor": 5
}
