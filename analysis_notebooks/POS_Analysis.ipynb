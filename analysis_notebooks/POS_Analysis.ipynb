{
 "cells": [
  {
   "cell_type": "markdown",
   "id": "21ecad51",
   "metadata": {},
   "source": [
    "# POS Analysis"
   ]
  },
  {
   "cell_type": "markdown",
   "id": "e5310498",
   "metadata": {},
   "source": [
    "## Table of Contents\n",
    "- [1st Section](#Loading-in-the-data) is where I import the files\n",
    "- [2nd section](#POS-tagging) is where I run the POS tagger\n",
    "- [3rd section](#POS-extraction) is where I extract and count the POS for analysis\n",
    "- [4th section](#POS-analysis) is where I analyze POS usage\n",
    "- [Conclusion](#Conclusion) summarizes the notebook"
   ]
  },
  {
   "cell_type": "markdown",
   "id": "3cb0b1e3",
   "metadata": {},
   "source": [
    "## Loading in the data"
   ]
  },
  {
   "cell_type": "code",
   "execution_count": 1,
   "id": "d889cfe9",
   "metadata": {},
   "outputs": [],
   "source": [
    "# load in the libraries\n",
    "import spacy\n",
    "import re\n",
    "import numpy as np\n",
    "import pandas as pd\n",
    "import matplotlib.pyplot as plt\n",
    "import seaborn as sns\n",
    "import pickle\n",
    "from scipy import stats"
   ]
  },
  {
   "cell_type": "code",
   "execution_count": 2,
   "id": "bccc5710",
   "metadata": {},
   "outputs": [],
   "source": [
    "f = open('../analysis_notebooks/discourse_df.pkl', 'rb')\n",
    "discourse_df = pickle.load(f)\n",
    "f.close()"
   ]
  },
  {
   "cell_type": "markdown",
   "id": "45410bea",
   "metadata": {},
   "source": [
    "## POS tagging"
   ]
  },
  {
   "cell_type": "code",
   "execution_count": 3,
   "id": "56142573",
   "metadata": {},
   "outputs": [],
   "source": [
    "# generate nlp object for spacy pos tagging\n",
    "nlp = spacy.load(\"en_core_web_sm\")"
   ]
  },
  {
   "cell_type": "code",
   "execution_count": 4,
   "id": "b568ce87",
   "metadata": {},
   "outputs": [],
   "source": [
    "# function that tags POS and returns the POS in a list\n",
    "def pos_tag(x):\n",
    "    pos = []\n",
    "    for y in nlp(x):\n",
    "        pos_tag = (y.pos_)\n",
    "        pos.append(pos_tag)\n",
    "    return pos"
   ]
  },
  {
   "cell_type": "code",
   "execution_count": 5,
   "id": "93866de3",
   "metadata": {},
   "outputs": [],
   "source": [
    "# adding POS tags to see if any trends arise\n",
    "discourse_df['pos_tag'] = discourse_df.utterance.map(lambda x: pos_tag(x))"
   ]
  },
  {
   "cell_type": "code",
   "execution_count": 6,
   "id": "82e5a21a",
   "metadata": {},
   "outputs": [
    {
     "data": {
      "text/html": [
       "<div>\n",
       "<style scoped>\n",
       "    .dataframe tbody tr th:only-of-type {\n",
       "        vertical-align: middle;\n",
       "    }\n",
       "\n",
       "    .dataframe tbody tr th {\n",
       "        vertical-align: top;\n",
       "    }\n",
       "\n",
       "    .dataframe thead th {\n",
       "        text-align: right;\n",
       "    }\n",
       "</style>\n",
       "<table border=\"1\" class=\"dataframe\">\n",
       "  <thead>\n",
       "    <tr style=\"text-align: right;\">\n",
       "      <th></th>\n",
       "      <th>conversation_ID</th>\n",
       "      <th>line_ID</th>\n",
       "      <th>character_ID</th>\n",
       "      <th>character_name</th>\n",
       "      <th>gender</th>\n",
       "      <th>movie_ID</th>\n",
       "      <th>movie_title</th>\n",
       "      <th>genres</th>\n",
       "      <th>movie_year</th>\n",
       "      <th>movie_decade</th>\n",
       "      <th>utterance</th>\n",
       "      <th>sents</th>\n",
       "      <th>tokens</th>\n",
       "      <th>sent_count</th>\n",
       "      <th>token_count</th>\n",
       "      <th>avg_sent_length</th>\n",
       "      <th>pos_tag</th>\n",
       "    </tr>\n",
       "  </thead>\n",
       "  <tbody>\n",
       "    <tr>\n",
       "      <th>0</th>\n",
       "      <td>24</td>\n",
       "      <td>L1045</td>\n",
       "      <td>u0</td>\n",
       "      <td>BIANCA</td>\n",
       "      <td>F</td>\n",
       "      <td>m0</td>\n",
       "      <td>10 things i hate about you</td>\n",
       "      <td>['comedy', 'romance']</td>\n",
       "      <td>1999</td>\n",
       "      <td>1990</td>\n",
       "      <td>They do not!</td>\n",
       "      <td>[They do not!]</td>\n",
       "      <td>[They, do, not, !]</td>\n",
       "      <td>1</td>\n",
       "      <td>4</td>\n",
       "      <td>4.000000</td>\n",
       "      <td>[PRON, VERB, PART, PUNCT]</td>\n",
       "    </tr>\n",
       "    <tr>\n",
       "      <th>1</th>\n",
       "      <td>23</td>\n",
       "      <td>L985</td>\n",
       "      <td>u0</td>\n",
       "      <td>BIANCA</td>\n",
       "      <td>F</td>\n",
       "      <td>m0</td>\n",
       "      <td>10 things i hate about you</td>\n",
       "      <td>['comedy', 'romance']</td>\n",
       "      <td>1999</td>\n",
       "      <td>1990</td>\n",
       "      <td>I hope so.</td>\n",
       "      <td>[I hope so.]</td>\n",
       "      <td>[I, hope, so, .]</td>\n",
       "      <td>1</td>\n",
       "      <td>4</td>\n",
       "      <td>4.000000</td>\n",
       "      <td>[PRON, VERB, ADV, PUNCT]</td>\n",
       "    </tr>\n",
       "    <tr>\n",
       "      <th>2</th>\n",
       "      <td>22</td>\n",
       "      <td>L925</td>\n",
       "      <td>u0</td>\n",
       "      <td>BIANCA</td>\n",
       "      <td>F</td>\n",
       "      <td>m0</td>\n",
       "      <td>10 things i hate about you</td>\n",
       "      <td>['comedy', 'romance']</td>\n",
       "      <td>1999</td>\n",
       "      <td>1990</td>\n",
       "      <td>Let's go.</td>\n",
       "      <td>[Let's go.]</td>\n",
       "      <td>[Let, 's, go, .]</td>\n",
       "      <td>1</td>\n",
       "      <td>4</td>\n",
       "      <td>4.000000</td>\n",
       "      <td>[VERB, PRON, VERB, PUNCT]</td>\n",
       "    </tr>\n",
       "    <tr>\n",
       "      <th>3</th>\n",
       "      <td>21</td>\n",
       "      <td>L872</td>\n",
       "      <td>u0</td>\n",
       "      <td>BIANCA</td>\n",
       "      <td>F</td>\n",
       "      <td>m0</td>\n",
       "      <td>10 things i hate about you</td>\n",
       "      <td>['comedy', 'romance']</td>\n",
       "      <td>1999</td>\n",
       "      <td>1990</td>\n",
       "      <td>Okay -- you're gonna need to learn how to lie.</td>\n",
       "      <td>[Okay -- you're gonna need to learn how to lie.]</td>\n",
       "      <td>[Okay, --, you, 're, gon, na, need, to, learn,...</td>\n",
       "      <td>1</td>\n",
       "      <td>13</td>\n",
       "      <td>13.000000</td>\n",
       "      <td>[INTJ, PUNCT, PRON, AUX, VERB, PART, VERB, PAR...</td>\n",
       "    </tr>\n",
       "    <tr>\n",
       "      <th>4</th>\n",
       "      <td>21</td>\n",
       "      <td>L870</td>\n",
       "      <td>u0</td>\n",
       "      <td>BIANCA</td>\n",
       "      <td>F</td>\n",
       "      <td>m0</td>\n",
       "      <td>10 things i hate about you</td>\n",
       "      <td>['comedy', 'romance']</td>\n",
       "      <td>1999</td>\n",
       "      <td>1990</td>\n",
       "      <td>I'm kidding.  You know how sometimes you just ...</td>\n",
       "      <td>[I'm kidding., You know how sometimes you just...</td>\n",
       "      <td>[I, 'm, kidding, ., You, know, how, sometimes,...</td>\n",
       "      <td>3</td>\n",
       "      <td>25</td>\n",
       "      <td>8.333333</td>\n",
       "      <td>[PRON, AUX, VERB, PUNCT, SPACE, PRON, VERB, SC...</td>\n",
       "    </tr>\n",
       "  </tbody>\n",
       "</table>\n",
       "</div>"
      ],
      "text/plain": [
       "   conversation_ID line_ID character_ID character_name gender movie_ID  \\\n",
       "0               24   L1045           u0         BIANCA      F       m0   \n",
       "1               23    L985           u0         BIANCA      F       m0   \n",
       "2               22    L925           u0         BIANCA      F       m0   \n",
       "3               21    L872           u0         BIANCA      F       m0   \n",
       "4               21    L870           u0         BIANCA      F       m0   \n",
       "\n",
       "                  movie_title                 genres  movie_year  \\\n",
       "0  10 things i hate about you  ['comedy', 'romance']        1999   \n",
       "1  10 things i hate about you  ['comedy', 'romance']        1999   \n",
       "2  10 things i hate about you  ['comedy', 'romance']        1999   \n",
       "3  10 things i hate about you  ['comedy', 'romance']        1999   \n",
       "4  10 things i hate about you  ['comedy', 'romance']        1999   \n",
       "\n",
       "   movie_decade                                          utterance  \\\n",
       "0          1990                                       They do not!   \n",
       "1          1990                                         I hope so.   \n",
       "2          1990                                          Let's go.   \n",
       "3          1990     Okay -- you're gonna need to learn how to lie.   \n",
       "4          1990  I'm kidding.  You know how sometimes you just ...   \n",
       "\n",
       "                                               sents  \\\n",
       "0                                     [They do not!]   \n",
       "1                                       [I hope so.]   \n",
       "2                                        [Let's go.]   \n",
       "3   [Okay -- you're gonna need to learn how to lie.]   \n",
       "4  [I'm kidding., You know how sometimes you just...   \n",
       "\n",
       "                                              tokens  sent_count  token_count  \\\n",
       "0                                 [They, do, not, !]           1            4   \n",
       "1                                   [I, hope, so, .]           1            4   \n",
       "2                                   [Let, 's, go, .]           1            4   \n",
       "3  [Okay, --, you, 're, gon, na, need, to, learn,...           1           13   \n",
       "4  [I, 'm, kidding, ., You, know, how, sometimes,...           3           25   \n",
       "\n",
       "   avg_sent_length                                            pos_tag  \n",
       "0         4.000000                          [PRON, VERB, PART, PUNCT]  \n",
       "1         4.000000                           [PRON, VERB, ADV, PUNCT]  \n",
       "2         4.000000                          [VERB, PRON, VERB, PUNCT]  \n",
       "3        13.000000  [INTJ, PUNCT, PRON, AUX, VERB, PART, VERB, PAR...  \n",
       "4         8.333333  [PRON, AUX, VERB, PUNCT, SPACE, PRON, VERB, SC...  "
      ]
     },
     "execution_count": 6,
     "metadata": {},
     "output_type": "execute_result"
    }
   ],
   "source": [
    "discourse_df.head()"
   ]
  },
  {
   "cell_type": "markdown",
   "id": "029c3796",
   "metadata": {},
   "source": [
    "## POS extraction"
   ]
  },
  {
   "cell_type": "markdown",
   "id": "77371303",
   "metadata": {},
   "source": [
    "I will ignore noun and verbs, as they are the most basic elements of phrase structure. I will look at adjectives and adverbs to see how often the speaker modifies other parts of speech, interjections to check for interruptions, and conjunctions to get an idea about sentence complexity.\n",
    "\n",
    "The parts of speech I will look at are the following:\n",
    "* ADV (adverb)\n",
    "* ADJ (adjective)\n",
    "* CONJ (conjunction)\n",
    "* INTJ (interjection)"
   ]
  },
  {
   "cell_type": "code",
   "execution_count": 7,
   "id": "177ac16f",
   "metadata": {},
   "outputs": [],
   "source": [
    "# adverbs\n",
    "def get_adv(x):\n",
    "    pattern = r'ADV'\n",
    "    advs = re.findall(pattern, ' '.join(str(y) for y in x))\n",
    "    return advs\n",
    "\n",
    "# adding data to the data frames\n",
    "discourse_df['adv_count'] = discourse_df.pos_tag.apply(get_adv).str.len()"
   ]
  },
  {
   "cell_type": "code",
   "execution_count": 8,
   "id": "1e6f4f28",
   "metadata": {},
   "outputs": [],
   "source": [
    "# adjectives\n",
    "def get_adj(x):\n",
    "    pattern = r'ADJ'\n",
    "    adjs = re.findall(pattern, ' '.join(str(y) for y in x))\n",
    "    return adjs\n",
    "\n",
    "# adding data to the data frames\n",
    "discourse_df['adj_count'] = discourse_df.pos_tag.apply(get_adj).str.len()"
   ]
  },
  {
   "cell_type": "code",
   "execution_count": 9,
   "id": "a7dbbf53",
   "metadata": {},
   "outputs": [],
   "source": [
    "# conjunctions\n",
    "def get_conj(x):\n",
    "    pattern = r'CONJ'\n",
    "    conjs = re.findall(pattern, ' '.join(str(y) for y in x))\n",
    "    return conjs\n",
    "\n",
    "# adding data to the data frames\n",
    "discourse_df['conj_count'] = discourse_df.pos_tag.apply(get_conj).str.len()"
   ]
  },
  {
   "cell_type": "code",
   "execution_count": 10,
   "id": "3e38de94",
   "metadata": {},
   "outputs": [],
   "source": [
    "# interjections\n",
    "def get_intj(x):\n",
    "    pattern = r'INTJ'\n",
    "    intjs = re.findall(pattern, ' '.join(str(y) for y in x))\n",
    "    return intjs\n",
    "\n",
    "# adding data to the data frames\n",
    "discourse_df['intj_count'] = discourse_df.pos_tag.apply(get_intj).str.len()"
   ]
  },
  {
   "cell_type": "code",
   "execution_count": 11,
   "id": "ec1bbceb",
   "metadata": {},
   "outputs": [
    {
     "data": {
      "text/html": [
       "<div>\n",
       "<style scoped>\n",
       "    .dataframe tbody tr th:only-of-type {\n",
       "        vertical-align: middle;\n",
       "    }\n",
       "\n",
       "    .dataframe tbody tr th {\n",
       "        vertical-align: top;\n",
       "    }\n",
       "\n",
       "    .dataframe thead th {\n",
       "        text-align: right;\n",
       "    }\n",
       "</style>\n",
       "<table border=\"1\" class=\"dataframe\">\n",
       "  <thead>\n",
       "    <tr style=\"text-align: right;\">\n",
       "      <th></th>\n",
       "      <th>conversation_ID</th>\n",
       "      <th>line_ID</th>\n",
       "      <th>character_ID</th>\n",
       "      <th>character_name</th>\n",
       "      <th>gender</th>\n",
       "      <th>movie_ID</th>\n",
       "      <th>movie_title</th>\n",
       "      <th>genres</th>\n",
       "      <th>movie_year</th>\n",
       "      <th>movie_decade</th>\n",
       "      <th>...</th>\n",
       "      <th>sents</th>\n",
       "      <th>tokens</th>\n",
       "      <th>sent_count</th>\n",
       "      <th>token_count</th>\n",
       "      <th>avg_sent_length</th>\n",
       "      <th>pos_tag</th>\n",
       "      <th>adv_count</th>\n",
       "      <th>adj_count</th>\n",
       "      <th>conj_count</th>\n",
       "      <th>intj_count</th>\n",
       "    </tr>\n",
       "  </thead>\n",
       "  <tbody>\n",
       "    <tr>\n",
       "      <th>0</th>\n",
       "      <td>24</td>\n",
       "      <td>L1045</td>\n",
       "      <td>u0</td>\n",
       "      <td>BIANCA</td>\n",
       "      <td>F</td>\n",
       "      <td>m0</td>\n",
       "      <td>10 things i hate about you</td>\n",
       "      <td>['comedy', 'romance']</td>\n",
       "      <td>1999</td>\n",
       "      <td>1990</td>\n",
       "      <td>...</td>\n",
       "      <td>[They do not!]</td>\n",
       "      <td>[They, do, not, !]</td>\n",
       "      <td>1</td>\n",
       "      <td>4</td>\n",
       "      <td>4.000000</td>\n",
       "      <td>[PRON, VERB, PART, PUNCT]</td>\n",
       "      <td>0</td>\n",
       "      <td>0</td>\n",
       "      <td>0</td>\n",
       "      <td>0</td>\n",
       "    </tr>\n",
       "    <tr>\n",
       "      <th>1</th>\n",
       "      <td>23</td>\n",
       "      <td>L985</td>\n",
       "      <td>u0</td>\n",
       "      <td>BIANCA</td>\n",
       "      <td>F</td>\n",
       "      <td>m0</td>\n",
       "      <td>10 things i hate about you</td>\n",
       "      <td>['comedy', 'romance']</td>\n",
       "      <td>1999</td>\n",
       "      <td>1990</td>\n",
       "      <td>...</td>\n",
       "      <td>[I hope so.]</td>\n",
       "      <td>[I, hope, so, .]</td>\n",
       "      <td>1</td>\n",
       "      <td>4</td>\n",
       "      <td>4.000000</td>\n",
       "      <td>[PRON, VERB, ADV, PUNCT]</td>\n",
       "      <td>1</td>\n",
       "      <td>0</td>\n",
       "      <td>0</td>\n",
       "      <td>0</td>\n",
       "    </tr>\n",
       "    <tr>\n",
       "      <th>2</th>\n",
       "      <td>22</td>\n",
       "      <td>L925</td>\n",
       "      <td>u0</td>\n",
       "      <td>BIANCA</td>\n",
       "      <td>F</td>\n",
       "      <td>m0</td>\n",
       "      <td>10 things i hate about you</td>\n",
       "      <td>['comedy', 'romance']</td>\n",
       "      <td>1999</td>\n",
       "      <td>1990</td>\n",
       "      <td>...</td>\n",
       "      <td>[Let's go.]</td>\n",
       "      <td>[Let, 's, go, .]</td>\n",
       "      <td>1</td>\n",
       "      <td>4</td>\n",
       "      <td>4.000000</td>\n",
       "      <td>[VERB, PRON, VERB, PUNCT]</td>\n",
       "      <td>0</td>\n",
       "      <td>0</td>\n",
       "      <td>0</td>\n",
       "      <td>0</td>\n",
       "    </tr>\n",
       "    <tr>\n",
       "      <th>3</th>\n",
       "      <td>21</td>\n",
       "      <td>L872</td>\n",
       "      <td>u0</td>\n",
       "      <td>BIANCA</td>\n",
       "      <td>F</td>\n",
       "      <td>m0</td>\n",
       "      <td>10 things i hate about you</td>\n",
       "      <td>['comedy', 'romance']</td>\n",
       "      <td>1999</td>\n",
       "      <td>1990</td>\n",
       "      <td>...</td>\n",
       "      <td>[Okay -- you're gonna need to learn how to lie.]</td>\n",
       "      <td>[Okay, --, you, 're, gon, na, need, to, learn,...</td>\n",
       "      <td>1</td>\n",
       "      <td>13</td>\n",
       "      <td>13.000000</td>\n",
       "      <td>[INTJ, PUNCT, PRON, AUX, VERB, PART, VERB, PAR...</td>\n",
       "      <td>0</td>\n",
       "      <td>0</td>\n",
       "      <td>1</td>\n",
       "      <td>1</td>\n",
       "    </tr>\n",
       "    <tr>\n",
       "      <th>4</th>\n",
       "      <td>21</td>\n",
       "      <td>L870</td>\n",
       "      <td>u0</td>\n",
       "      <td>BIANCA</td>\n",
       "      <td>F</td>\n",
       "      <td>m0</td>\n",
       "      <td>10 things i hate about you</td>\n",
       "      <td>['comedy', 'romance']</td>\n",
       "      <td>1999</td>\n",
       "      <td>1990</td>\n",
       "      <td>...</td>\n",
       "      <td>[I'm kidding., You know how sometimes you just...</td>\n",
       "      <td>[I, 'm, kidding, ., You, know, how, sometimes,...</td>\n",
       "      <td>3</td>\n",
       "      <td>25</td>\n",
       "      <td>8.333333</td>\n",
       "      <td>[PRON, AUX, VERB, PUNCT, SPACE, PRON, VERB, SC...</td>\n",
       "      <td>2</td>\n",
       "      <td>0</td>\n",
       "      <td>3</td>\n",
       "      <td>0</td>\n",
       "    </tr>\n",
       "  </tbody>\n",
       "</table>\n",
       "<p>5 rows × 21 columns</p>\n",
       "</div>"
      ],
      "text/plain": [
       "   conversation_ID line_ID character_ID character_name gender movie_ID  \\\n",
       "0               24   L1045           u0         BIANCA      F       m0   \n",
       "1               23    L985           u0         BIANCA      F       m0   \n",
       "2               22    L925           u0         BIANCA      F       m0   \n",
       "3               21    L872           u0         BIANCA      F       m0   \n",
       "4               21    L870           u0         BIANCA      F       m0   \n",
       "\n",
       "                  movie_title                 genres  movie_year  \\\n",
       "0  10 things i hate about you  ['comedy', 'romance']        1999   \n",
       "1  10 things i hate about you  ['comedy', 'romance']        1999   \n",
       "2  10 things i hate about you  ['comedy', 'romance']        1999   \n",
       "3  10 things i hate about you  ['comedy', 'romance']        1999   \n",
       "4  10 things i hate about you  ['comedy', 'romance']        1999   \n",
       "\n",
       "   movie_decade  ...                                              sents  \\\n",
       "0          1990  ...                                     [They do not!]   \n",
       "1          1990  ...                                       [I hope so.]   \n",
       "2          1990  ...                                        [Let's go.]   \n",
       "3          1990  ...   [Okay -- you're gonna need to learn how to lie.]   \n",
       "4          1990  ...  [I'm kidding., You know how sometimes you just...   \n",
       "\n",
       "                                              tokens sent_count  token_count  \\\n",
       "0                                 [They, do, not, !]          1            4   \n",
       "1                                   [I, hope, so, .]          1            4   \n",
       "2                                   [Let, 's, go, .]          1            4   \n",
       "3  [Okay, --, you, 're, gon, na, need, to, learn,...          1           13   \n",
       "4  [I, 'm, kidding, ., You, know, how, sometimes,...          3           25   \n",
       "\n",
       "   avg_sent_length                                            pos_tag  \\\n",
       "0         4.000000                          [PRON, VERB, PART, PUNCT]   \n",
       "1         4.000000                           [PRON, VERB, ADV, PUNCT]   \n",
       "2         4.000000                          [VERB, PRON, VERB, PUNCT]   \n",
       "3        13.000000  [INTJ, PUNCT, PRON, AUX, VERB, PART, VERB, PAR...   \n",
       "4         8.333333  [PRON, AUX, VERB, PUNCT, SPACE, PRON, VERB, SC...   \n",
       "\n",
       "  adv_count  adj_count  conj_count  intj_count  \n",
       "0         0          0           0           0  \n",
       "1         1          0           0           0  \n",
       "2         0          0           0           0  \n",
       "3         0          0           1           1  \n",
       "4         2          0           3           0  \n",
       "\n",
       "[5 rows x 21 columns]"
      ]
     },
     "execution_count": 11,
     "metadata": {},
     "output_type": "execute_result"
    }
   ],
   "source": [
    "# make sure that all columns got added properly\n",
    "discourse_df.head()"
   ]
  },
  {
   "cell_type": "code",
   "execution_count": 12,
   "id": "b887552a",
   "metadata": {},
   "outputs": [
    {
     "name": "stdout",
     "output_type": "stream",
     "text": [
      "There are 196617 adverbs in the corpus.\n",
      "There are 165924 adjectives in the corpus.\n",
      "There are 144524 conjunctions in the corpus.\n",
      "There are 66580 interjections in the corpus.\n"
     ]
    }
   ],
   "source": [
    "print('There are',discourse_df.adv_count.sum(),'adverbs in the corpus.')\n",
    "print('There are',discourse_df.adj_count.sum(),'adjectives in the corpus.')\n",
    "print('There are',discourse_df.conj_count.sum(),'conjunctions in the corpus.')\n",
    "print('There are',discourse_df.intj_count.sum(),'interjections in the corpus.')"
   ]
  },
  {
   "cell_type": "markdown",
   "id": "a8f7334c",
   "metadata": {},
   "source": [
    "Adverbs are by far the most common POS out of the four selected for analysis."
   ]
  },
  {
   "cell_type": "markdown",
   "id": "a21f5daa",
   "metadata": {},
   "source": [
    "## POS analysis"
   ]
  },
  {
   "cell_type": "markdown",
   "id": "6f5c7a90",
   "metadata": {},
   "source": [
    "Let's see how each gender uses these different parts of speech. Because the parts of speech I am analyzing are not required, the usages may be low and a min of 0 per turn can be expected. This can be seen by flashing the head of the data frame above."
   ]
  },
  {
   "cell_type": "markdown",
   "id": "26861227",
   "metadata": {},
   "source": [
    "### Adverbs"
   ]
  },
  {
   "cell_type": "code",
   "execution_count": 13,
   "id": "19a4a33c",
   "metadata": {},
   "outputs": [
    {
     "data": {
      "text/html": [
       "<div>\n",
       "<style scoped>\n",
       "    .dataframe tbody tr th:only-of-type {\n",
       "        vertical-align: middle;\n",
       "    }\n",
       "\n",
       "    .dataframe tbody tr th {\n",
       "        vertical-align: top;\n",
       "    }\n",
       "\n",
       "    .dataframe thead tr th {\n",
       "        text-align: left;\n",
       "    }\n",
       "\n",
       "    .dataframe thead tr:last-of-type th {\n",
       "        text-align: right;\n",
       "    }\n",
       "</style>\n",
       "<table border=\"1\" class=\"dataframe\">\n",
       "  <thead>\n",
       "    <tr>\n",
       "      <th></th>\n",
       "      <th colspan=\"4\" halign=\"left\">adv_count</th>\n",
       "    </tr>\n",
       "    <tr>\n",
       "      <th></th>\n",
       "      <th>sum</th>\n",
       "      <th>mean</th>\n",
       "      <th>max</th>\n",
       "      <th>std</th>\n",
       "    </tr>\n",
       "    <tr>\n",
       "      <th>gender</th>\n",
       "      <th></th>\n",
       "      <th></th>\n",
       "      <th></th>\n",
       "      <th></th>\n",
       "    </tr>\n",
       "  </thead>\n",
       "  <tbody>\n",
       "    <tr>\n",
       "      <th>A</th>\n",
       "      <td>5576</td>\n",
       "      <td>0.612545</td>\n",
       "      <td>28</td>\n",
       "      <td>1.092334</td>\n",
       "    </tr>\n",
       "    <tr>\n",
       "      <th>F</th>\n",
       "      <td>53868</td>\n",
       "      <td>0.650973</td>\n",
       "      <td>26</td>\n",
       "      <td>1.130979</td>\n",
       "    </tr>\n",
       "    <tr>\n",
       "      <th>M</th>\n",
       "      <td>121185</td>\n",
       "      <td>0.644296</td>\n",
       "      <td>29</td>\n",
       "      <td>1.121424</td>\n",
       "    </tr>\n",
       "    <tr>\n",
       "      <th>unknown</th>\n",
       "      <td>15988</td>\n",
       "      <td>0.653612</td>\n",
       "      <td>28</td>\n",
       "      <td>1.128716</td>\n",
       "    </tr>\n",
       "  </tbody>\n",
       "</table>\n",
       "</div>"
      ],
      "text/plain": [
       "        adv_count                        \n",
       "              sum      mean max       std\n",
       "gender                                   \n",
       "A            5576  0.612545  28  1.092334\n",
       "F           53868  0.650973  26  1.130979\n",
       "M          121185  0.644296  29  1.121424\n",
       "unknown     15988  0.653612  28  1.128716"
      ]
     },
     "execution_count": 13,
     "metadata": {},
     "output_type": "execute_result"
    }
   ],
   "source": [
    "discourse_df.groupby('gender').agg({'adv_count': ['sum', 'mean', 'max', 'std']})"
   ]
  },
  {
   "cell_type": "markdown",
   "id": "6de00036",
   "metadata": {},
   "source": [
    "Characters with unknown gender have the highest mean of adverb usage but female characters are not far behind. However, the highest number of adverbs in one turn is from a male character with 29. Adverbs are the most used out of the four parts of speech selected for analysis and they are used very similarly across all gender markers. All max adverbs per turn are close together and based on the standard deviation the distribution is similar for all genders."
   ]
  },
  {
   "cell_type": "code",
   "execution_count": 14,
   "id": "4b011f4f",
   "metadata": {},
   "outputs": [
    {
     "data": {
      "image/png": "[encoded data removed]",
      "text/plain": [
       "<Figure size 360x360 with 1 Axes>"
      ]
     },
     "metadata": {
      "needs_background": "light"
     },
     "output_type": "display_data"
    }
   ],
   "source": [
    "sns.catplot(data=discourse_df, x='gender', y='adv_count', kind='bar')\n",
    "plt.savefig('../data_visualization/adv_usage.png')\n",
    "plt.show()"
   ]
  },
  {
   "cell_type": "code",
   "execution_count": 15,
   "id": "3886ad04",
   "metadata": {},
   "outputs": [
    {
     "data": {
      "text/plain": [
       "F_onewayResult(statistic=3.746982752713289, pvalue=0.010492754023321898)"
      ]
     },
     "execution_count": 15,
     "metadata": {},
     "output_type": "execute_result"
    }
   ],
   "source": [
    "# is there a statistically significant difference between this variance?\n",
    "stats.f_oneway(discourse_df[discourse_df.gender=='F'].adv_count, discourse_df[discourse_df.gender=='M'].adv_count, discourse_df[discourse_df.gender=='unknown'].adv_count, discourse_df[discourse_df.gender=='A'].adv_count)"
   ]
  },
  {
   "cell_type": "markdown",
   "id": "f1a68ca2",
   "metadata": {},
   "source": [
    "This variation is significant at p ≤ 0.05. Even though the mean usage is small the difference between these groups is significant. While the difference is significant this is the highest p value for all parts of speech usage."
   ]
  },
  {
   "cell_type": "markdown",
   "id": "b570f23f",
   "metadata": {},
   "source": [
    "### Adjectives"
   ]
  },
  {
   "cell_type": "code",
   "execution_count": 16,
   "id": "c7ebfb08",
   "metadata": {},
   "outputs": [
    {
     "data": {
      "text/html": [
       "<div>\n",
       "<style scoped>\n",
       "    .dataframe tbody tr th:only-of-type {\n",
       "        vertical-align: middle;\n",
       "    }\n",
       "\n",
       "    .dataframe tbody tr th {\n",
       "        vertical-align: top;\n",
       "    }\n",
       "\n",
       "    .dataframe thead tr th {\n",
       "        text-align: left;\n",
       "    }\n",
       "\n",
       "    .dataframe thead tr:last-of-type th {\n",
       "        text-align: right;\n",
       "    }\n",
       "</style>\n",
       "<table border=\"1\" class=\"dataframe\">\n",
       "  <thead>\n",
       "    <tr>\n",
       "      <th></th>\n",
       "      <th colspan=\"4\" halign=\"left\">adj_count</th>\n",
       "    </tr>\n",
       "    <tr>\n",
       "      <th></th>\n",
       "      <th>sum</th>\n",
       "      <th>mean</th>\n",
       "      <th>max</th>\n",
       "      <th>std</th>\n",
       "    </tr>\n",
       "    <tr>\n",
       "      <th>gender</th>\n",
       "      <th></th>\n",
       "      <th></th>\n",
       "      <th></th>\n",
       "      <th></th>\n",
       "    </tr>\n",
       "  </thead>\n",
       "  <tbody>\n",
       "    <tr>\n",
       "      <th>A</th>\n",
       "      <td>4894</td>\n",
       "      <td>0.537625</td>\n",
       "      <td>13</td>\n",
       "      <td>0.952213</td>\n",
       "    </tr>\n",
       "    <tr>\n",
       "      <th>F</th>\n",
       "      <td>43332</td>\n",
       "      <td>0.523650</td>\n",
       "      <td>21</td>\n",
       "      <td>0.951768</td>\n",
       "    </tr>\n",
       "    <tr>\n",
       "      <th>M</th>\n",
       "      <td>102787</td>\n",
       "      <td>0.546481</td>\n",
       "      <td>56</td>\n",
       "      <td>1.005318</td>\n",
       "    </tr>\n",
       "    <tr>\n",
       "      <th>unknown</th>\n",
       "      <td>14911</td>\n",
       "      <td>0.609583</td>\n",
       "      <td>18</td>\n",
       "      <td>1.054436</td>\n",
       "    </tr>\n",
       "  </tbody>\n",
       "</table>\n",
       "</div>"
      ],
      "text/plain": [
       "        adj_count                        \n",
       "              sum      mean max       std\n",
       "gender                                   \n",
       "A            4894  0.537625  13  0.952213\n",
       "F           43332  0.523650  21  0.951768\n",
       "M          102787  0.546481  56  1.005318\n",
       "unknown     14911  0.609583  18  1.054436"
      ]
     },
     "execution_count": 16,
     "metadata": {},
     "output_type": "execute_result"
    }
   ],
   "source": [
    "discourse_df.groupby('gender').agg({'adj_count': ['sum', 'mean', 'max', 'std']})"
   ]
  },
  {
   "cell_type": "markdown",
   "id": "b28a3179",
   "metadata": {},
   "source": [
    "Characters with unknown gender have the highest mean usage of adjectives, they also have the largest standard deviation, so there is most variability in these character's usage. Again, the most adjectives in a turn is from a male character with 56. Female characters actually use the least adjectives on average and they have the narrowest distribution."
   ]
  },
  {
   "cell_type": "code",
   "execution_count": 17,
   "id": "36af76b4",
   "metadata": {},
   "outputs": [
    {
     "data": {
      "image/png": "[encoded data removed]",
      "text/plain": [
       "<Figure size 360x360 with 1 Axes>"
      ]
     },
     "metadata": {
      "needs_background": "light"
     },
     "output_type": "display_data"
    }
   ],
   "source": [
    "sns.catplot(data=discourse_df, x='gender', y='adj_count', kind='bar')\n",
    "plt.savefig('../data_visualization/adj_usage.png')\n",
    "plt.show()"
   ]
  },
  {
   "cell_type": "code",
   "execution_count": 18,
   "id": "cfcaa09e",
   "metadata": {},
   "outputs": [
    {
     "data": {
      "text/plain": [
       "F_onewayResult(statistic=47.49179227626937, pvalue=1.1241629851045443e-30)"
      ]
     },
     "execution_count": 18,
     "metadata": {},
     "output_type": "execute_result"
    }
   ],
   "source": [
    "# is there a statistically significant difference between this variance?\n",
    "stats.f_oneway(discourse_df[discourse_df.gender=='F'].adj_count, discourse_df[discourse_df.gender=='M'].adj_count, discourse_df[discourse_df.gender=='unknown'].adj_count, discourse_df[discourse_df.gender=='A'].adj_count)"
   ]
  },
  {
   "cell_type": "markdown",
   "id": "c2d04b30",
   "metadata": {},
   "source": [
    "This variation is significant at p ≤ 0.05. Even though the mean usage is small the difference between these groups is significant."
   ]
  },
  {
   "cell_type": "markdown",
   "id": "ab85b82b",
   "metadata": {},
   "source": [
    "### Conjunctions"
   ]
  },
  {
   "cell_type": "code",
   "execution_count": 19,
   "id": "05279ec6",
   "metadata": {},
   "outputs": [
    {
     "data": {
      "text/html": [
       "<div>\n",
       "<style scoped>\n",
       "    .dataframe tbody tr th:only-of-type {\n",
       "        vertical-align: middle;\n",
       "    }\n",
       "\n",
       "    .dataframe tbody tr th {\n",
       "        vertical-align: top;\n",
       "    }\n",
       "\n",
       "    .dataframe thead tr th {\n",
       "        text-align: left;\n",
       "    }\n",
       "\n",
       "    .dataframe thead tr:last-of-type th {\n",
       "        text-align: right;\n",
       "    }\n",
       "</style>\n",
       "<table border=\"1\" class=\"dataframe\">\n",
       "  <thead>\n",
       "    <tr>\n",
       "      <th></th>\n",
       "      <th colspan=\"4\" halign=\"left\">conj_count</th>\n",
       "    </tr>\n",
       "    <tr>\n",
       "      <th></th>\n",
       "      <th>sum</th>\n",
       "      <th>mean</th>\n",
       "      <th>max</th>\n",
       "      <th>std</th>\n",
       "    </tr>\n",
       "    <tr>\n",
       "      <th>gender</th>\n",
       "      <th></th>\n",
       "      <th></th>\n",
       "      <th></th>\n",
       "      <th></th>\n",
       "    </tr>\n",
       "  </thead>\n",
       "  <tbody>\n",
       "    <tr>\n",
       "      <th>A</th>\n",
       "      <td>3923</td>\n",
       "      <td>0.430957</td>\n",
       "      <td>19</td>\n",
       "      <td>0.908852</td>\n",
       "    </tr>\n",
       "    <tr>\n",
       "      <th>F</th>\n",
       "      <td>38929</td>\n",
       "      <td>0.470441</td>\n",
       "      <td>26</td>\n",
       "      <td>0.977475</td>\n",
       "    </tr>\n",
       "    <tr>\n",
       "      <th>M</th>\n",
       "      <td>89792</td>\n",
       "      <td>0.477391</td>\n",
       "      <td>47</td>\n",
       "      <td>0.990067</td>\n",
       "    </tr>\n",
       "    <tr>\n",
       "      <th>unknown</th>\n",
       "      <td>11880</td>\n",
       "      <td>0.485671</td>\n",
       "      <td>27</td>\n",
       "      <td>0.946013</td>\n",
       "    </tr>\n",
       "  </tbody>\n",
       "</table>\n",
       "</div>"
      ],
      "text/plain": [
       "        conj_count                        \n",
       "               sum      mean max       std\n",
       "gender                                    \n",
       "A             3923  0.430957  19  0.908852\n",
       "F            38929  0.470441  26  0.977475\n",
       "M            89792  0.477391  47  0.990067\n",
       "unknown      11880  0.485671  27  0.946013"
      ]
     },
     "execution_count": 19,
     "metadata": {},
     "output_type": "execute_result"
    }
   ],
   "source": [
    "discourse_df.groupby('gender').agg({'conj_count': ['sum', 'mean', 'max', 'std']})"
   ]
  },
  {
   "cell_type": "markdown",
   "id": "c4db7fe4",
   "metadata": {},
   "source": [
    "Unknown characters have the most conjunctions, but only by 0.01. Overall usage seems to be relatively consistent across the board. Once again, male characters have the highest number of conjunctions for one turn."
   ]
  },
  {
   "cell_type": "code",
   "execution_count": 20,
   "id": "2cf9f0f7",
   "metadata": {},
   "outputs": [
    {
     "data": {
      "image/png": "[encoded data removed]",
      "text/plain": [
       "<Figure size 360x360 with 1 Axes>"
      ]
     },
     "metadata": {
      "needs_background": "light"
     },
     "output_type": "display_data"
    }
   ],
   "source": [
    "sns.catplot(data=discourse_df, x='gender', y='conj_count', kind='bar')\n",
    "plt.savefig('../data_visualization/conj_usage.png')\n",
    "plt.show()"
   ]
  },
  {
   "cell_type": "code",
   "execution_count": 21,
   "id": "793029d3",
   "metadata": {},
   "outputs": [
    {
     "data": {
      "text/plain": [
       "F_onewayResult(statistic=8.046723893935907, pvalue=2.3362344221333916e-05)"
      ]
     },
     "execution_count": 21,
     "metadata": {},
     "output_type": "execute_result"
    }
   ],
   "source": [
    "# is there a statistically significant difference between this variance?\n",
    "stats.f_oneway(discourse_df[discourse_df.gender=='F'].conj_count, discourse_df[discourse_df.gender=='M'].conj_count, discourse_df[discourse_df.gender=='unknown'].conj_count, discourse_df[discourse_df.gender=='A'].conj_count)"
   ]
  },
  {
   "cell_type": "markdown",
   "id": "7c5fe1ee",
   "metadata": {},
   "source": [
    "This variation is significant at p ≤ 0.05. Even though the mean usage is small the difference between these groups is significant."
   ]
  },
  {
   "cell_type": "markdown",
   "id": "869e0cc6",
   "metadata": {},
   "source": [
    "### Interjections"
   ]
  },
  {
   "cell_type": "code",
   "execution_count": 22,
   "id": "c90d0139",
   "metadata": {
    "scrolled": true
   },
   "outputs": [
    {
     "data": {
      "text/html": [
       "<div>\n",
       "<style scoped>\n",
       "    .dataframe tbody tr th:only-of-type {\n",
       "        vertical-align: middle;\n",
       "    }\n",
       "\n",
       "    .dataframe tbody tr th {\n",
       "        vertical-align: top;\n",
       "    }\n",
       "\n",
       "    .dataframe thead tr th {\n",
       "        text-align: left;\n",
       "    }\n",
       "\n",
       "    .dataframe thead tr:last-of-type th {\n",
       "        text-align: right;\n",
       "    }\n",
       "</style>\n",
       "<table border=\"1\" class=\"dataframe\">\n",
       "  <thead>\n",
       "    <tr>\n",
       "      <th></th>\n",
       "      <th colspan=\"4\" halign=\"left\">intj_count</th>\n",
       "    </tr>\n",
       "    <tr>\n",
       "      <th></th>\n",
       "      <th>sum</th>\n",
       "      <th>mean</th>\n",
       "      <th>max</th>\n",
       "      <th>std</th>\n",
       "    </tr>\n",
       "    <tr>\n",
       "      <th>gender</th>\n",
       "      <th></th>\n",
       "      <th></th>\n",
       "      <th></th>\n",
       "      <th></th>\n",
       "    </tr>\n",
       "  </thead>\n",
       "  <tbody>\n",
       "    <tr>\n",
       "      <th>A</th>\n",
       "      <td>2035</td>\n",
       "      <td>0.223553</td>\n",
       "      <td>10</td>\n",
       "      <td>0.522833</td>\n",
       "    </tr>\n",
       "    <tr>\n",
       "      <th>F</th>\n",
       "      <td>18848</td>\n",
       "      <td>0.227770</td>\n",
       "      <td>12</td>\n",
       "      <td>0.536243</td>\n",
       "    </tr>\n",
       "    <tr>\n",
       "      <th>M</th>\n",
       "      <td>41181</td>\n",
       "      <td>0.218944</td>\n",
       "      <td>13</td>\n",
       "      <td>0.521081</td>\n",
       "    </tr>\n",
       "    <tr>\n",
       "      <th>unknown</th>\n",
       "      <td>4516</td>\n",
       "      <td>0.184620</td>\n",
       "      <td>6</td>\n",
       "      <td>0.471261</td>\n",
       "    </tr>\n",
       "  </tbody>\n",
       "</table>\n",
       "</div>"
      ],
      "text/plain": [
       "        intj_count                        \n",
       "               sum      mean max       std\n",
       "gender                                    \n",
       "A             2035  0.223553  10  0.522833\n",
       "F            18848  0.227770  12  0.536243\n",
       "M            41181  0.218944  13  0.521081\n",
       "unknown       4516  0.184620   6  0.471261"
      ]
     },
     "execution_count": 22,
     "metadata": {},
     "output_type": "execute_result"
    }
   ],
   "source": [
    "discourse_df.groupby('gender').agg({'intj_count': ['sum', 'mean', 'max', 'std']})"
   ]
  },
  {
   "cell_type": "markdown",
   "id": "d41236db",
   "metadata": {},
   "source": [
    "Very low usage across the board, with female being the higest at 0.227, but ambiguous characters are very close behind. Male characters have the most number of interjections in one turn with 13."
   ]
  },
  {
   "cell_type": "code",
   "execution_count": 23,
   "id": "ccacb80f",
   "metadata": {},
   "outputs": [
    {
     "data": {
      "image/png": "[encoded data removed]",
      "text/plain": [
       "<Figure size 360x360 with 1 Axes>"
      ]
     },
     "metadata": {
      "needs_background": "light"
     },
     "output_type": "display_data"
    }
   ],
   "source": [
    "sns.catplot(data=discourse_df, x='gender', y='intj_count', kind='bar')\n",
    "plt.savefig('../data_visualization/intj_usage.png')\n",
    "plt.show()"
   ]
  },
  {
   "cell_type": "code",
   "execution_count": 24,
   "id": "3dc4b5c1",
   "metadata": {},
   "outputs": [
    {
     "data": {
      "text/plain": [
       "F_onewayResult(statistic=43.44043458032159, pvalue=4.675147442649785e-28)"
      ]
     },
     "execution_count": 24,
     "metadata": {},
     "output_type": "execute_result"
    }
   ],
   "source": [
    "# is there a statistically significant difference between this variance?\n",
    "stats.f_oneway(discourse_df[discourse_df.gender=='F'].intj_count, discourse_df[discourse_df.gender=='M'].intj_count, discourse_df[discourse_df.gender=='unknown'].intj_count, discourse_df[discourse_df.gender=='A'].intj_count)"
   ]
  },
  {
   "cell_type": "markdown",
   "id": "15f07ba5",
   "metadata": {},
   "source": [
    "This variation is significant at p ≤ 0.05. Even though the mean usage is small the difference between these groups is significant."
   ]
  },
  {
   "cell_type": "markdown",
   "id": "3a312be2",
   "metadata": {},
   "source": [
    "## Conclusion"
   ]
  },
  {
   "cell_type": "markdown",
   "id": "fbd14266",
   "metadata": {},
   "source": [
    "Characters with unknown gender markers use the most adverbs, adjectives, and conjunctions. Adverb usage was the highest out of all parts of speech analzed here and had very similar rates of usage for all genders, however, group difference for all parts of speech were found to be significant at p ≤ 0.05. Therefore we can conclude that POS usage is a way that genders can be differentiated in the corpus."
   ]
  }
 ],
 "metadata": {
  "kernelspec": {
   "display_name": "Python 3",
   "language": "python",
   "name": "python3"
  },
  "language_info": {
   "codemirror_mode": {
    "name": "ipython",
    "version": 3
   },
   "file_extension": ".py",
   "mimetype": "text/x-python",
   "name": "python",
   "nbconvert_exporter": "python",
   "pygments_lexer": "ipython3",
   "version": "3.8.8"
  }
 },
 "nbformat": 4,
 "nbformat_minor": 5
}
