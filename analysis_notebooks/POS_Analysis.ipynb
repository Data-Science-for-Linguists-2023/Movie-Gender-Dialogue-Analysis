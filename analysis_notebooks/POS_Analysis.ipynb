{
 "cells": [
  {
   "cell_type": "markdown",
   "id": "21ecad51",
   "metadata": {},
   "source": [
    "# POS Analysis"
   ]
  },
  {
   "cell_type": "markdown",
   "id": "e5310498",
   "metadata": {},
   "source": [
    "## Table of Contents\n",
    "- [1st Section](#Loading-in-the-data) is where I import the files\n",
    "- [2nd section](#POS-tagging) is where I run the POS tagger\n",
    "- [3rd section](#POS-extraction) is where I extract and count the POS for analysis\n",
    "- [4th section](#POS-analysis) is where I analyze POS usage\n",
    "- [Conclusion](#Conclusion) summarizes the notebook"
   ]
  },
  {
   "cell_type": "markdown",
   "id": "3cb0b1e3",
   "metadata": {},
   "source": [
    "## Loading in the data"
   ]
  },
  {
   "cell_type": "code",
   "execution_count": null,
   "id": "d889cfe9",
   "metadata": {},
   "outputs": [],
   "source": [
    "# load in the libraries\n",
    "import spacy\n",
    "import numpy as np\n",
    "import pandas as pd"
   ]
  },
  {
   "cell_type": "code",
   "execution_count": null,
   "id": "bccc5710",
   "metadata": {},
   "outputs": [],
   "source": []
  },
  {
   "cell_type": "markdown",
   "id": "45410bea",
   "metadata": {},
   "source": [
    "## POS tagging"
   ]
  },
  {
   "cell_type": "code",
   "execution_count": null,
   "id": "56142573",
   "metadata": {},
   "outputs": [],
   "source": [
    "# generate nlp object for spacy pos tagging\n",
    "nlp = spacy.load(\"en_core_web_sm\")"
   ]
  },
  {
   "cell_type": "code",
   "execution_count": null,
   "id": "c45ea194",
   "metadata": {},
   "outputs": [],
   "source": [
    "# do i want to run this as word, POS tuples?"
   ]
  },
  {
   "cell_type": "code",
   "execution_count": null,
   "id": "b568ce87",
   "metadata": {},
   "outputs": [],
   "source": [
    "# function that tags pos and creates word, pos tuples in a list\n",
    "def pos_tag(x):\n",
    "    pos = []\n",
    "    for y in nlp(x):\n",
    "        pos_tag = (y, y.pos_)\n",
    "        pos.append(pos_tag)\n",
    "    return pos"
   ]
  },
  {
   "cell_type": "markdown",
   "id": "63cc43f6",
   "metadata": {},
   "source": [
    "I like the readability of having (word, POS) tuples that NLTK POS tagger has, so I created the function above to maintain that structure using spaCy."
   ]
  },
  {
   "cell_type": "code",
   "execution_count": null,
   "id": "93866de3",
   "metadata": {},
   "outputs": [],
   "source": [
    "# adding POS tags to see if any trends arise\n",
    "utterances_df['pos_tag'] = utterances_df.utterance.map(lambda x: pos_tag(x))"
   ]
  },
  {
   "cell_type": "markdown",
   "id": "029c3796",
   "metadata": {},
   "source": [
    "## POS extraction"
   ]
  },
  {
   "cell_type": "markdown",
   "id": "77371303",
   "metadata": {},
   "source": [
    "I will ignore noun and verbs, as they are the most basic elements of phrase structure. I will look at adjectives and adverbs to see how often the speaker modifies other parts of speech, interjections to check for interruptions, and conjunctions to get an idea about sentence complexity.\n",
    "\n",
    "The parts of speech I will look at are the following:\n",
    "* ADV (adverb)\n",
    "* ADJ (adjective)\n",
    "* CONJ (conjunction)\n",
    "* INTJ (interjection)"
   ]
  },
  {
   "cell_type": "code",
   "execution_count": null,
   "id": "177ac16f",
   "metadata": {},
   "outputs": [],
   "source": [
    "# adverbs\n",
    "def get_adv(x):\n",
    "    pattern = r'ADV'\n",
    "    advs = re.findall(pattern, ' '.join(str(z) for (y,z) in x))\n",
    "    return advs\n",
    "\n",
    "# adding data to the data frames\n",
    "discourse_df['adv_count'] = discourse_df.pos_tag.apply(get_adv).str.len()"
   ]
  },
  {
   "cell_type": "code",
   "execution_count": null,
   "id": "1e6f4f28",
   "metadata": {},
   "outputs": [],
   "source": [
    "# adjectives\n",
    "def get_adj(x):\n",
    "    pattern = r'ADJ'\n",
    "    adjs = re.findall(pattern, ' '.join(str(z) for (y,z) in x))\n",
    "    return adjs\n",
    "\n",
    "# adding data to the data frames\n",
    "discourse_df['adj_count'] = discourse_df.pos_tag.apply(get_adj).str.len()"
   ]
  },
  {
   "cell_type": "code",
   "execution_count": null,
   "id": "a7dbbf53",
   "metadata": {},
   "outputs": [],
   "source": [
    "# conjunctions\n",
    "def get_conj(x):\n",
    "    pattern = r'CONJ'\n",
    "    conjs = re.findall(pattern, ' '.join(str(z) for (y,z) in x))\n",
    "    return conjs\n",
    "\n",
    "# adding data to the data frames\n",
    "discourse_df['conj_count'] = discourse_df.pos_tag.apply(get_conj).str.len()"
   ]
  },
  {
   "cell_type": "code",
   "execution_count": null,
   "id": "3e38de94",
   "metadata": {},
   "outputs": [],
   "source": [
    "# interjections\n",
    "def get_intj(x):\n",
    "    pattern = r'INTJ'\n",
    "    intjs = re.findall(pattern, ' '.join(str(z) for (y,z) in x))\n",
    "    return intjs\n",
    "\n",
    "# adding data to the data frames\n",
    "discourse_df['intj_count'] = discourse_df.pos_tag.apply(get_intj).str.len()"
   ]
  },
  {
   "cell_type": "code",
   "execution_count": null,
   "id": "ec1bbceb",
   "metadata": {},
   "outputs": [],
   "source": [
    "discourse_df.head()"
   ]
  },
  {
   "cell_type": "code",
   "execution_count": null,
   "id": "b887552a",
   "metadata": {},
   "outputs": [],
   "source": [
    "print('There are',discourse_df.adv_count.sum(),'adverbs in the corpus.')\n",
    "print('There are',discourse_df.adj_count.sum(),'adjectives in the corpus.')\n",
    "print('There are',discourse_df.conj_count.sum(),'conjunctions in the corpus.')\n",
    "print('There are',discourse_df.intj_count.sum(),'interjections in the corpus.')"
   ]
  },
  {
   "cell_type": "markdown",
   "id": "a8f7334c",
   "metadata": {},
   "source": [
    "Adverbs are by far the most common POS out of the four selected for analysis."
   ]
  },
  {
   "cell_type": "markdown",
   "id": "a21f5daa",
   "metadata": {},
   "source": [
    "## POS analysis"
   ]
  },
  {
   "cell_type": "markdown",
   "id": "6f5c7a90",
   "metadata": {},
   "source": [
    "Let's see how each gender uses these different parts of speech. Because the POS I am analyzing are not required, the usages may be low and a min of 0 per turn can be expected. This is indicated by flashing the head of the data frame above."
   ]
  },
  {
   "cell_type": "markdown",
   "id": "26861227",
   "metadata": {},
   "source": [
    "### Adverbs"
   ]
  },
  {
   "cell_type": "code",
   "execution_count": null,
   "id": "19a4a33c",
   "metadata": {},
   "outputs": [],
   "source": [
    "discourse_df.groupby('gender').agg({'adv_count': ['mean', 'min', 'max', 'std']})"
   ]
  },
  {
   "cell_type": "code",
   "execution_count": null,
   "id": "4b011f4f",
   "metadata": {},
   "outputs": [],
   "source": [
    "sns.catplot(data=discourse_df, x='gender', y='adv_count', kind='box')\n",
    "plt.title('Adverb Usage by Gender')\n",
    "plt.show()"
   ]
  },
  {
   "cell_type": "markdown",
   "id": "6de00036",
   "metadata": {},
   "source": [
    "Female characters have the highest mean of adverb usage at 0.97. So on avarage, almost every turn a female character will use an adverb in this corpus. However, the highest number of adverbs in one turn is from a male character with 35.\n",
    "\n",
    "As the boxplot shows the tails across all genders are very long. The turns with 0 instances are bringing down the average."
   ]
  },
  {
   "cell_type": "markdown",
   "id": "b570f23f",
   "metadata": {},
   "source": [
    "### Adjectives"
   ]
  },
  {
   "cell_type": "code",
   "execution_count": null,
   "id": "c7ebfb08",
   "metadata": {},
   "outputs": [],
   "source": [
    "discourse_df.groupby('gender').agg({'adj_count': ['mean', 'min', 'max', 'std']})"
   ]
  },
  {
   "cell_type": "code",
   "execution_count": null,
   "id": "36af76b4",
   "metadata": {},
   "outputs": [],
   "source": [
    "sns.catplot(data=discourse_df, x='gender', y='adj_count', kind='box')\n",
    "plt.title('Adjective Usage by Gender')\n",
    "plt.show()"
   ]
  },
  {
   "cell_type": "markdown",
   "id": "b28a3179",
   "metadata": {},
   "source": [
    "Characters with unknown gender have the highest mean usage of adjectives at .66, they also have the largest standard deviation, so there is most variability in these character's usage. Again, the most adjectives in a turn is from a male character with 53."
   ]
  },
  {
   "cell_type": "markdown",
   "id": "ab85b82b",
   "metadata": {},
   "source": [
    "### Conjunctions"
   ]
  },
  {
   "cell_type": "code",
   "execution_count": null,
   "id": "05279ec6",
   "metadata": {},
   "outputs": [],
   "source": [
    "discourse_df.groupby('gender').agg({'conj_count': ['mean', 'min', 'max', 'std']})"
   ]
  },
  {
   "cell_type": "code",
   "execution_count": null,
   "id": "2cf9f0f7",
   "metadata": {},
   "outputs": [],
   "source": [
    "sns.catplot(data=discourse_df, x='gender', y='conj_count', kind='box')\n",
    "plt.title('Conjunction Usage by Gender')\n",
    "plt.show()"
   ]
  },
  {
   "cell_type": "markdown",
   "id": "c4db7fe4",
   "metadata": {},
   "source": [
    "'Unknown' characters have the most conjunctions, but only by 0.01. Overall usage seems to be very consistent across the board. Once again, male characters have the highest number of conjunctions for one turn."
   ]
  },
  {
   "cell_type": "markdown",
   "id": "869e0cc6",
   "metadata": {},
   "source": [
    "### Interjections"
   ]
  },
  {
   "cell_type": "code",
   "execution_count": null,
   "id": "c90d0139",
   "metadata": {},
   "outputs": [],
   "source": [
    "discourse_df.groupby('gender').agg({'intj_count': ['mean', 'min', 'max', 'std']})"
   ]
  },
  {
   "cell_type": "code",
   "execution_count": null,
   "id": "ccacb80f",
   "metadata": {},
   "outputs": [],
   "source": [
    "sns.catplot(data=discourse_df, x='gender', y='intj_count', kind='box')\n",
    "plt.title('Interjection Usage by Gender')\n",
    "plt.show()"
   ]
  },
  {
   "cell_type": "markdown",
   "id": "d41236db",
   "metadata": {},
   "source": [
    "Very low usage across the board, with female being the higest at 0.08. Both male and female characters have 7 interjections as a maximum per turn."
   ]
  },
  {
   "cell_type": "markdown",
   "id": "3a312be2",
   "metadata": {},
   "source": [
    "## Conclusion"
   ]
  },
  {
   "cell_type": "code",
   "execution_count": null,
   "id": "cff82d13",
   "metadata": {},
   "outputs": [],
   "source": []
  }
 ],
 "metadata": {
  "kernelspec": {
   "display_name": "Python 3",
   "language": "python",
   "name": "python3"
  },
  "language_info": {
   "codemirror_mode": {
    "name": "ipython",
    "version": 3
   },
   "file_extension": ".py",
   "mimetype": "text/x-python",
   "name": "python",
   "nbconvert_exporter": "python",
   "pygments_lexer": "ipython3",
   "version": "3.8.8"
  }
 },
 "nbformat": 4,
 "nbformat_minor": 5
}
