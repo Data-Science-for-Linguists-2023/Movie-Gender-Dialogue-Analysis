{
 "cells": [
  {
   "cell_type": "markdown",
   "id": "e6c01db8",
   "metadata": {},
   "source": [
    "# Hedging"
   ]
  },
  {
   "cell_type": "markdown",
   "id": "3cf985c7",
   "metadata": {},
   "source": [
    "## Table of Contents\n",
    "- [1st Section](#Loading-in-the-data) is where I import the files\n",
    "- [2nd section](#Hedging-extraction) is where I extract the hedge information\n",
    "- [3rd section](#Hedging-analysis) is where I analyze hedging\n",
    "- [Conclusion](#Conclusion) summarizes the notebook"
   ]
  },
  {
   "cell_type": "markdown",
   "id": "00c07286",
   "metadata": {},
   "source": [
    "## Loading in the data"
   ]
  },
  {
   "cell_type": "code",
   "execution_count": 1,
   "id": "3a3092b2",
   "metadata": {},
   "outputs": [],
   "source": [
    "# load in the packages\n",
    "import numpy as np\n",
    "import pandas as pd\n",
    "import pickle\n",
    "import re\n",
    "import matplotlib.pyplot as plt\n",
    "import seaborn as sns\n",
    "import seaborn.objects as so\n",
    "from scipy import stats"
   ]
  },
  {
   "cell_type": "code",
   "execution_count": 2,
   "id": "df375768",
   "metadata": {},
   "outputs": [],
   "source": [
    "# read in the data\n",
    "f = open('../analysis_notebooks/discourse_df.pkl', 'rb')\n",
    "discourse_df = pickle.load(f)\n",
    "f.close()"
   ]
  },
  {
   "cell_type": "markdown",
   "id": "696ab04a",
   "metadata": {},
   "source": [
    "## Hedging extraction"
   ]
  },
  {
   "cell_type": "markdown",
   "id": "83ff7c38",
   "metadata": {},
   "source": [
    "I will look to see if these hedging words and phrases appear more in one specific gender's speech or not:\n",
    "* I guess\n",
    "* I think\n",
    "* Maybe\n",
    "* Might\n",
    "* Perhaps\n",
    "* Possibly"
   ]
  },
  {
   "cell_type": "code",
   "execution_count": 3,
   "id": "55acbbeb",
   "metadata": {},
   "outputs": [],
   "source": [
    "# i guess\n",
    "def get_guess(x):\n",
    "    pattern = r'\\bI guess\\b'\n",
    "    guesses = re.findall(pattern, x)\n",
    "    return len(guesses)\n",
    "\n",
    "# adding data to the data frames\n",
    "discourse_df['guess_count'] = discourse_df.utterance.apply(get_guess)"
   ]
  },
  {
   "cell_type": "code",
   "execution_count": 4,
   "id": "c73e7951",
   "metadata": {},
   "outputs": [],
   "source": [
    "# i think\n",
    "def get_think(x):\n",
    "    pattern = r'\\bI think\\b'\n",
    "    thinks = re.findall(pattern, x)\n",
    "    return len(thinks)\n",
    "\n",
    "# adding data to the data frames\n",
    "discourse_df['think_count'] = discourse_df.utterance.apply(get_think)"
   ]
  },
  {
   "cell_type": "code",
   "execution_count": 5,
   "id": "a8a84ec0",
   "metadata": {},
   "outputs": [],
   "source": [
    "# maybe\n",
    "def get_maybe(x):\n",
    "    pattern = r'\\b[mM]aybe\\b'\n",
    "    maybes = re.findall(pattern, x)\n",
    "    return len(maybes)\n",
    "\n",
    "# adding data to the data frames\n",
    "discourse_df['maybe_count'] = discourse_df.utterance.apply(get_maybe)"
   ]
  },
  {
   "cell_type": "code",
   "execution_count": 6,
   "id": "88600057",
   "metadata": {},
   "outputs": [],
   "source": [
    "# might\n",
    "def get_might(x):\n",
    "    pattern = r'\\b[mM]ight\\b'\n",
    "    mights = re.findall(pattern, x)\n",
    "    return len(mights)\n",
    "\n",
    "# adding data to the data frames\n",
    "discourse_df['might_count'] = discourse_df.utterance.apply(get_might)"
   ]
  },
  {
   "cell_type": "code",
   "execution_count": 7,
   "id": "6666b185",
   "metadata": {},
   "outputs": [],
   "source": [
    "# perhaps\n",
    "def get_perhaps(x):\n",
    "    pattern = r'\\b[pP]erhaps\\b'\n",
    "    perhapses = re.findall(pattern, x)\n",
    "    return len(perhapses)\n",
    "\n",
    "# adding data to the data frames\n",
    "discourse_df['perhaps_count'] = discourse_df.utterance.apply(get_perhaps)"
   ]
  },
  {
   "cell_type": "code",
   "execution_count": 8,
   "id": "b5936621",
   "metadata": {},
   "outputs": [],
   "source": [
    "# possibly\n",
    "def get_possibly(x):\n",
    "    pattern = r'\\b[pP]ossibly\\b'\n",
    "    possiblys = re.findall(pattern, x)\n",
    "    return len(possiblys)\n",
    "\n",
    "# adding data to the data frames\n",
    "discourse_df['possibly_count'] = discourse_df.utterance.apply(get_possibly)"
   ]
  },
  {
   "cell_type": "code",
   "execution_count": 9,
   "id": "a1ca052f",
   "metadata": {},
   "outputs": [
    {
     "data": {
      "text/html": [
       "<div>\n",
       "<style scoped>\n",
       "    .dataframe tbody tr th:only-of-type {\n",
       "        vertical-align: middle;\n",
       "    }\n",
       "\n",
       "    .dataframe tbody tr th {\n",
       "        vertical-align: top;\n",
       "    }\n",
       "\n",
       "    .dataframe thead th {\n",
       "        text-align: right;\n",
       "    }\n",
       "</style>\n",
       "<table border=\"1\" class=\"dataframe\">\n",
       "  <thead>\n",
       "    <tr style=\"text-align: right;\">\n",
       "      <th></th>\n",
       "      <th>conversation_ID</th>\n",
       "      <th>line_ID</th>\n",
       "      <th>character_ID</th>\n",
       "      <th>character_name</th>\n",
       "      <th>gender</th>\n",
       "      <th>movie_ID</th>\n",
       "      <th>movie_title</th>\n",
       "      <th>genres</th>\n",
       "      <th>movie_year</th>\n",
       "      <th>movie_decade</th>\n",
       "      <th>...</th>\n",
       "      <th>tokens</th>\n",
       "      <th>sent_count</th>\n",
       "      <th>token_count</th>\n",
       "      <th>avg_sent_length</th>\n",
       "      <th>guess_count</th>\n",
       "      <th>think_count</th>\n",
       "      <th>maybe_count</th>\n",
       "      <th>might_count</th>\n",
       "      <th>perhaps_count</th>\n",
       "      <th>possibly_count</th>\n",
       "    </tr>\n",
       "  </thead>\n",
       "  <tbody>\n",
       "    <tr>\n",
       "      <th>0</th>\n",
       "      <td>24</td>\n",
       "      <td>L1045</td>\n",
       "      <td>u0</td>\n",
       "      <td>BIANCA</td>\n",
       "      <td>F</td>\n",
       "      <td>m0</td>\n",
       "      <td>10 things i hate about you</td>\n",
       "      <td>['comedy', 'romance']</td>\n",
       "      <td>1999</td>\n",
       "      <td>1990</td>\n",
       "      <td>...</td>\n",
       "      <td>[They, do, not, !]</td>\n",
       "      <td>1</td>\n",
       "      <td>4</td>\n",
       "      <td>4.000000</td>\n",
       "      <td>0</td>\n",
       "      <td>0</td>\n",
       "      <td>0</td>\n",
       "      <td>0</td>\n",
       "      <td>0</td>\n",
       "      <td>0</td>\n",
       "    </tr>\n",
       "    <tr>\n",
       "      <th>1</th>\n",
       "      <td>23</td>\n",
       "      <td>L985</td>\n",
       "      <td>u0</td>\n",
       "      <td>BIANCA</td>\n",
       "      <td>F</td>\n",
       "      <td>m0</td>\n",
       "      <td>10 things i hate about you</td>\n",
       "      <td>['comedy', 'romance']</td>\n",
       "      <td>1999</td>\n",
       "      <td>1990</td>\n",
       "      <td>...</td>\n",
       "      <td>[I, hope, so, .]</td>\n",
       "      <td>1</td>\n",
       "      <td>4</td>\n",
       "      <td>4.000000</td>\n",
       "      <td>0</td>\n",
       "      <td>0</td>\n",
       "      <td>0</td>\n",
       "      <td>0</td>\n",
       "      <td>0</td>\n",
       "      <td>0</td>\n",
       "    </tr>\n",
       "    <tr>\n",
       "      <th>2</th>\n",
       "      <td>22</td>\n",
       "      <td>L925</td>\n",
       "      <td>u0</td>\n",
       "      <td>BIANCA</td>\n",
       "      <td>F</td>\n",
       "      <td>m0</td>\n",
       "      <td>10 things i hate about you</td>\n",
       "      <td>['comedy', 'romance']</td>\n",
       "      <td>1999</td>\n",
       "      <td>1990</td>\n",
       "      <td>...</td>\n",
       "      <td>[Let, 's, go, .]</td>\n",
       "      <td>1</td>\n",
       "      <td>4</td>\n",
       "      <td>4.000000</td>\n",
       "      <td>0</td>\n",
       "      <td>0</td>\n",
       "      <td>0</td>\n",
       "      <td>0</td>\n",
       "      <td>0</td>\n",
       "      <td>0</td>\n",
       "    </tr>\n",
       "    <tr>\n",
       "      <th>3</th>\n",
       "      <td>21</td>\n",
       "      <td>L872</td>\n",
       "      <td>u0</td>\n",
       "      <td>BIANCA</td>\n",
       "      <td>F</td>\n",
       "      <td>m0</td>\n",
       "      <td>10 things i hate about you</td>\n",
       "      <td>['comedy', 'romance']</td>\n",
       "      <td>1999</td>\n",
       "      <td>1990</td>\n",
       "      <td>...</td>\n",
       "      <td>[Okay, --, you, 're, gon, na, need, to, learn,...</td>\n",
       "      <td>1</td>\n",
       "      <td>13</td>\n",
       "      <td>13.000000</td>\n",
       "      <td>0</td>\n",
       "      <td>0</td>\n",
       "      <td>0</td>\n",
       "      <td>0</td>\n",
       "      <td>0</td>\n",
       "      <td>0</td>\n",
       "    </tr>\n",
       "    <tr>\n",
       "      <th>4</th>\n",
       "      <td>21</td>\n",
       "      <td>L870</td>\n",
       "      <td>u0</td>\n",
       "      <td>BIANCA</td>\n",
       "      <td>F</td>\n",
       "      <td>m0</td>\n",
       "      <td>10 things i hate about you</td>\n",
       "      <td>['comedy', 'romance']</td>\n",
       "      <td>1999</td>\n",
       "      <td>1990</td>\n",
       "      <td>...</td>\n",
       "      <td>[I, 'm, kidding, ., You, know, how, sometimes,...</td>\n",
       "      <td>3</td>\n",
       "      <td>25</td>\n",
       "      <td>8.333333</td>\n",
       "      <td>0</td>\n",
       "      <td>0</td>\n",
       "      <td>0</td>\n",
       "      <td>0</td>\n",
       "      <td>0</td>\n",
       "      <td>0</td>\n",
       "    </tr>\n",
       "  </tbody>\n",
       "</table>\n",
       "<p>5 rows × 22 columns</p>\n",
       "</div>"
      ],
      "text/plain": [
       "   conversation_ID line_ID character_ID character_name gender movie_ID  \\\n",
       "0               24   L1045           u0         BIANCA      F       m0   \n",
       "1               23    L985           u0         BIANCA      F       m0   \n",
       "2               22    L925           u0         BIANCA      F       m0   \n",
       "3               21    L872           u0         BIANCA      F       m0   \n",
       "4               21    L870           u0         BIANCA      F       m0   \n",
       "\n",
       "                  movie_title                 genres  movie_year  \\\n",
       "0  10 things i hate about you  ['comedy', 'romance']        1999   \n",
       "1  10 things i hate about you  ['comedy', 'romance']        1999   \n",
       "2  10 things i hate about you  ['comedy', 'romance']        1999   \n",
       "3  10 things i hate about you  ['comedy', 'romance']        1999   \n",
       "4  10 things i hate about you  ['comedy', 'romance']        1999   \n",
       "\n",
       "   movie_decade  ...                                             tokens  \\\n",
       "0          1990  ...                                 [They, do, not, !]   \n",
       "1          1990  ...                                   [I, hope, so, .]   \n",
       "2          1990  ...                                   [Let, 's, go, .]   \n",
       "3          1990  ...  [Okay, --, you, 're, gon, na, need, to, learn,...   \n",
       "4          1990  ...  [I, 'm, kidding, ., You, know, how, sometimes,...   \n",
       "\n",
       "  sent_count token_count  avg_sent_length  guess_count  think_count  \\\n",
       "0          1           4         4.000000            0            0   \n",
       "1          1           4         4.000000            0            0   \n",
       "2          1           4         4.000000            0            0   \n",
       "3          1          13        13.000000            0            0   \n",
       "4          3          25         8.333333            0            0   \n",
       "\n",
       "   maybe_count  might_count  perhaps_count  possibly_count  \n",
       "0            0            0              0               0  \n",
       "1            0            0              0               0  \n",
       "2            0            0              0               0  \n",
       "3            0            0              0               0  \n",
       "4            0            0              0               0  \n",
       "\n",
       "[5 rows x 22 columns]"
      ]
     },
     "execution_count": 9,
     "metadata": {},
     "output_type": "execute_result"
    }
   ],
   "source": [
    "discourse_df.head()"
   ]
  },
  {
   "cell_type": "markdown",
   "id": "a90afb32",
   "metadata": {},
   "source": [
    "## Hedging analysis"
   ]
  },
  {
   "cell_type": "markdown",
   "id": "3c5ad7a5",
   "metadata": {},
   "source": [
    "### I guess"
   ]
  },
  {
   "cell_type": "code",
   "execution_count": 10,
   "id": "8dbe7a35",
   "metadata": {},
   "outputs": [
    {
     "data": {
      "text/html": [
       "<div>\n",
       "<style scoped>\n",
       "    .dataframe tbody tr th:only-of-type {\n",
       "        vertical-align: middle;\n",
       "    }\n",
       "\n",
       "    .dataframe tbody tr th {\n",
       "        vertical-align: top;\n",
       "    }\n",
       "\n",
       "    .dataframe thead tr th {\n",
       "        text-align: left;\n",
       "    }\n",
       "\n",
       "    .dataframe thead tr:last-of-type th {\n",
       "        text-align: right;\n",
       "    }\n",
       "</style>\n",
       "<table border=\"1\" class=\"dataframe\">\n",
       "  <thead>\n",
       "    <tr>\n",
       "      <th></th>\n",
       "      <th colspan=\"4\" halign=\"left\">guess_count</th>\n",
       "    </tr>\n",
       "    <tr>\n",
       "      <th></th>\n",
       "      <th>sum</th>\n",
       "      <th>mean</th>\n",
       "      <th>max</th>\n",
       "      <th>std</th>\n",
       "    </tr>\n",
       "    <tr>\n",
       "      <th>gender</th>\n",
       "      <th></th>\n",
       "      <th></th>\n",
       "      <th></th>\n",
       "      <th></th>\n",
       "    </tr>\n",
       "  </thead>\n",
       "  <tbody>\n",
       "    <tr>\n",
       "      <th>A</th>\n",
       "      <td>34</td>\n",
       "      <td>0.003735</td>\n",
       "      <td>1</td>\n",
       "      <td>0.061004</td>\n",
       "    </tr>\n",
       "    <tr>\n",
       "      <th>F</th>\n",
       "      <td>475</td>\n",
       "      <td>0.005740</td>\n",
       "      <td>3</td>\n",
       "      <td>0.076973</td>\n",
       "    </tr>\n",
       "    <tr>\n",
       "      <th>M</th>\n",
       "      <td>920</td>\n",
       "      <td>0.004891</td>\n",
       "      <td>3</td>\n",
       "      <td>0.070826</td>\n",
       "    </tr>\n",
       "    <tr>\n",
       "      <th>unknown</th>\n",
       "      <td>66</td>\n",
       "      <td>0.002698</td>\n",
       "      <td>1</td>\n",
       "      <td>0.051875</td>\n",
       "    </tr>\n",
       "  </tbody>\n",
       "</table>\n",
       "</div>"
      ],
      "text/plain": [
       "        guess_count                        \n",
       "                sum      mean max       std\n",
       "gender                                     \n",
       "A                34  0.003735   1  0.061004\n",
       "F               475  0.005740   3  0.076973\n",
       "M               920  0.004891   3  0.070826\n",
       "unknown          66  0.002698   1  0.051875"
      ]
     },
     "execution_count": 10,
     "metadata": {},
     "output_type": "execute_result"
    }
   ],
   "source": [
    "# what's the use of 'I guess' by gender?\n",
    "discourse_df.groupby('gender').agg({'guess_count': ['sum', 'mean', 'max', 'std']})"
   ]
  },
  {
   "cell_type": "markdown",
   "id": "f258680a",
   "metadata": {},
   "source": [
    "Male characters have the most instances of *I guess* but they make up the bulk of the characters in the corpus. When the usage is averaged out, female characters use *I guess* more. Both male and female characters have the highest number of instances of *I guess* in one turn with three each, while ambiguous and unknown only have one or zero per turn. Male and female characters have similar standard deviations so their distribution is similar. Unknown characters have the smallest standard deviation."
   ]
  },
  {
   "cell_type": "code",
   "execution_count": 11,
   "id": "44020adc",
   "metadata": {},
   "outputs": [
    {
     "data": {
      "image/png": "[encoded data removed]",
      "text/plain": [
       "<Figure size 360x360 with 1 Axes>"
      ]
     },
     "metadata": {
      "needs_background": "light"
     },
     "output_type": "display_data"
    }
   ],
   "source": [
    "# let's visualize this difference\n",
    "sns.catplot(data=discourse_df, x='gender', y='guess_count', kind='bar')\n",
    "plt.savefig('../data_visualization/guess_usage.png')\n",
    "plt.show()"
   ]
  },
  {
   "cell_type": "code",
   "execution_count": 12,
   "id": "20414726",
   "metadata": {},
   "outputs": [
    {
     "data": {
      "text/plain": [
       "F_onewayResult(statistic=12.527656991347703, pvalue=3.467378845000514e-08)"
      ]
     },
     "execution_count": 12,
     "metadata": {},
     "output_type": "execute_result"
    }
   ],
   "source": [
    "# is there a statistically significant difference between this variance?\n",
    "stats.f_oneway(discourse_df[discourse_df.gender=='F'].guess_count, discourse_df[discourse_df.gender=='M'].guess_count, discourse_df[discourse_df.gender=='unknown'].guess_count, discourse_df[discourse_df.gender=='A'].guess_count)"
   ]
  },
  {
   "cell_type": "markdown",
   "id": "3c15850f",
   "metadata": {},
   "source": [
    "This variation is significant at p ≥ 0.05. Even though the mean usage is small the difference between these groups is significant."
   ]
  },
  {
   "cell_type": "markdown",
   "id": "43154eca",
   "metadata": {},
   "source": [
    "### I think"
   ]
  },
  {
   "cell_type": "code",
   "execution_count": 13,
   "id": "145f390f",
   "metadata": {},
   "outputs": [
    {
     "data": {
      "text/html": [
       "<div>\n",
       "<style scoped>\n",
       "    .dataframe tbody tr th:only-of-type {\n",
       "        vertical-align: middle;\n",
       "    }\n",
       "\n",
       "    .dataframe tbody tr th {\n",
       "        vertical-align: top;\n",
       "    }\n",
       "\n",
       "    .dataframe thead tr th {\n",
       "        text-align: left;\n",
       "    }\n",
       "\n",
       "    .dataframe thead tr:last-of-type th {\n",
       "        text-align: right;\n",
       "    }\n",
       "</style>\n",
       "<table border=\"1\" class=\"dataframe\">\n",
       "  <thead>\n",
       "    <tr>\n",
       "      <th></th>\n",
       "      <th colspan=\"4\" halign=\"left\">think_count</th>\n",
       "    </tr>\n",
       "    <tr>\n",
       "      <th></th>\n",
       "      <th>sum</th>\n",
       "      <th>mean</th>\n",
       "      <th>max</th>\n",
       "      <th>std</th>\n",
       "    </tr>\n",
       "    <tr>\n",
       "      <th>gender</th>\n",
       "      <th></th>\n",
       "      <th></th>\n",
       "      <th></th>\n",
       "      <th></th>\n",
       "    </tr>\n",
       "  </thead>\n",
       "  <tbody>\n",
       "    <tr>\n",
       "      <th>A</th>\n",
       "      <td>94</td>\n",
       "      <td>0.010326</td>\n",
       "      <td>2</td>\n",
       "      <td>0.106393</td>\n",
       "    </tr>\n",
       "    <tr>\n",
       "      <th>F</th>\n",
       "      <td>1075</td>\n",
       "      <td>0.012991</td>\n",
       "      <td>4</td>\n",
       "      <td>0.118859</td>\n",
       "    </tr>\n",
       "    <tr>\n",
       "      <th>M</th>\n",
       "      <td>2223</td>\n",
       "      <td>0.011819</td>\n",
       "      <td>5</td>\n",
       "      <td>0.114101</td>\n",
       "    </tr>\n",
       "    <tr>\n",
       "      <th>unknown</th>\n",
       "      <td>202</td>\n",
       "      <td>0.008258</td>\n",
       "      <td>3</td>\n",
       "      <td>0.094910</td>\n",
       "    </tr>\n",
       "  </tbody>\n",
       "</table>\n",
       "</div>"
      ],
      "text/plain": [
       "        think_count                        \n",
       "                sum      mean max       std\n",
       "gender                                     \n",
       "A                94  0.010326   2  0.106393\n",
       "F              1075  0.012991   4  0.118859\n",
       "M              2223  0.011819   5  0.114101\n",
       "unknown         202  0.008258   3  0.094910"
      ]
     },
     "execution_count": 13,
     "metadata": {},
     "output_type": "execute_result"
    }
   ],
   "source": [
    "# what's the use of 'I think' by gender?\n",
    "discourse_df.groupby('gender').agg({'think_count': ['sum', 'mean', 'max', 'std']})"
   ]
  },
  {
   "cell_type": "markdown",
   "id": "8cea3005",
   "metadata": {},
   "source": [
    "Male characters have the most instances of *I think* but they make up the bulk of the characters in the corpus. When the usage is averaged out, female characters use *I think* slightly more. A male characters has the highest number of instances of *I think* in one turn with five. Characters of all gender have a turn where they use *I think* more than once. *I think* is more common than *I guess*. Male and female characters have similar standard deviations so their distribution is similar. Unknown characters have the smallest standard deviation."
   ]
  },
  {
   "cell_type": "code",
   "execution_count": 14,
   "id": "df8cdd64",
   "metadata": {},
   "outputs": [
    {
     "data": {
      "image/png": "[encoded data removed]",
      "text/plain": [
       "<Figure size 360x360 with 1 Axes>"
      ]
     },
     "metadata": {
      "needs_background": "light"
     },
     "output_type": "display_data"
    }
   ],
   "source": [
    "# graph\n",
    "sns.catplot(data=discourse_df, x='gender', y='think_count', kind='bar')\n",
    "plt.savefig('../data_visualization/think_usage.png')\n",
    "plt.show()"
   ]
  },
  {
   "cell_type": "code",
   "execution_count": 15,
   "id": "102f58d9",
   "metadata": {},
   "outputs": [
    {
     "data": {
      "text/plain": [
       "F_onewayResult(statistic=11.43269881324815, pvalue=1.715473870152785e-07)"
      ]
     },
     "execution_count": 15,
     "metadata": {},
     "output_type": "execute_result"
    }
   ],
   "source": [
    "# is there a statistically significant difference between this variance?\n",
    "stats.f_oneway(discourse_df[discourse_df.gender=='F'].think_count, discourse_df[discourse_df.gender=='M'].think_count, discourse_df[discourse_df.gender=='unknown'].think_count, discourse_df[discourse_df.gender=='A'].think_count)"
   ]
  },
  {
   "cell_type": "markdown",
   "id": "6e6c2fa0",
   "metadata": {},
   "source": [
    "This variation is significant at p ≥ 0.05. Even though the mean usage is small the difference between these groups is significant."
   ]
  },
  {
   "cell_type": "markdown",
   "id": "eba40d55",
   "metadata": {},
   "source": [
    "### Maybe"
   ]
  },
  {
   "cell_type": "code",
   "execution_count": 16,
   "id": "26d72cae",
   "metadata": {},
   "outputs": [
    {
     "data": {
      "text/html": [
       "<div>\n",
       "<style scoped>\n",
       "    .dataframe tbody tr th:only-of-type {\n",
       "        vertical-align: middle;\n",
       "    }\n",
       "\n",
       "    .dataframe tbody tr th {\n",
       "        vertical-align: top;\n",
       "    }\n",
       "\n",
       "    .dataframe thead tr th {\n",
       "        text-align: left;\n",
       "    }\n",
       "\n",
       "    .dataframe thead tr:last-of-type th {\n",
       "        text-align: right;\n",
       "    }\n",
       "</style>\n",
       "<table border=\"1\" class=\"dataframe\">\n",
       "  <thead>\n",
       "    <tr>\n",
       "      <th></th>\n",
       "      <th colspan=\"4\" halign=\"left\">maybe_count</th>\n",
       "    </tr>\n",
       "    <tr>\n",
       "      <th></th>\n",
       "      <th>sum</th>\n",
       "      <th>mean</th>\n",
       "      <th>max</th>\n",
       "      <th>std</th>\n",
       "    </tr>\n",
       "    <tr>\n",
       "      <th>gender</th>\n",
       "      <th></th>\n",
       "      <th></th>\n",
       "      <th></th>\n",
       "      <th></th>\n",
       "    </tr>\n",
       "  </thead>\n",
       "  <tbody>\n",
       "    <tr>\n",
       "      <th>A</th>\n",
       "      <td>116</td>\n",
       "      <td>0.012743</td>\n",
       "      <td>2</td>\n",
       "      <td>0.116965</td>\n",
       "    </tr>\n",
       "    <tr>\n",
       "      <th>F</th>\n",
       "      <td>1160</td>\n",
       "      <td>0.014018</td>\n",
       "      <td>4</td>\n",
       "      <td>0.129501</td>\n",
       "    </tr>\n",
       "    <tr>\n",
       "      <th>M</th>\n",
       "      <td>2481</td>\n",
       "      <td>0.013191</td>\n",
       "      <td>5</td>\n",
       "      <td>0.124732</td>\n",
       "    </tr>\n",
       "    <tr>\n",
       "      <th>unknown</th>\n",
       "      <td>257</td>\n",
       "      <td>0.010507</td>\n",
       "      <td>3</td>\n",
       "      <td>0.109690</td>\n",
       "    </tr>\n",
       "  </tbody>\n",
       "</table>\n",
       "</div>"
      ],
      "text/plain": [
       "        maybe_count                        \n",
       "                sum      mean max       std\n",
       "gender                                     \n",
       "A               116  0.012743   2  0.116965\n",
       "F              1160  0.014018   4  0.129501\n",
       "M              2481  0.013191   5  0.124732\n",
       "unknown         257  0.010507   3  0.109690"
      ]
     },
     "execution_count": 16,
     "metadata": {},
     "output_type": "execute_result"
    }
   ],
   "source": [
    "# what's the use of 'maybe' by gender?\n",
    "discourse_df.groupby('gender').agg({'maybe_count': ['sum', 'mean', 'max', 'std']})"
   ]
  },
  {
   "cell_type": "markdown",
   "id": "775fce6e",
   "metadata": {},
   "source": [
    "Male characters have the most instances of *maybe* but they make up the bulk of the characters in the corpus. When the usage is averaged out, female characters use *maybe* slightly more. A male characters has the highest number of instances of *maybe* in one turn with five. Characters of all gender have a turn where they use *maybe* more than once. *Maybe* is the most popular hedging word. Male and female characters have similar standard deviations so their distribution is similar. Unknown characters have the smallest standard deviation."
   ]
  },
  {
   "cell_type": "code",
   "execution_count": 17,
   "id": "5dcfe2cc",
   "metadata": {},
   "outputs": [
    {
     "data": {
      "image/png": "[encoded data removed]",
      "text/plain": [
       "<Figure size 360x360 with 1 Axes>"
      ]
     },
     "metadata": {
      "needs_background": "light"
     },
     "output_type": "display_data"
    }
   ],
   "source": [
    "# graph\n",
    "sns.catplot(data=discourse_df, x='gender', y='maybe_count', kind='bar')\n",
    "plt.savefig('../data_visualization/maybe_usage.png')\n",
    "plt.show()"
   ]
  },
  {
   "cell_type": "code",
   "execution_count": 18,
   "id": "dcf8ffb5",
   "metadata": {},
   "outputs": [
    {
     "data": {
      "text/plain": [
       "F_onewayResult(statistic=5.0318882406675645, pvalue=0.0017369807871935288)"
      ]
     },
     "execution_count": 18,
     "metadata": {},
     "output_type": "execute_result"
    }
   ],
   "source": [
    "# is there a statistically significant difference between this variance?\n",
    "stats.f_oneway(discourse_df[discourse_df.gender=='F'].maybe_count, discourse_df[discourse_df.gender=='M'].maybe_count, discourse_df[discourse_df.gender=='unknown'].maybe_count, discourse_df[discourse_df.gender=='A'].maybe_count)"
   ]
  },
  {
   "cell_type": "markdown",
   "id": "9496a0f1",
   "metadata": {},
   "source": [
    "This variation is significant at p ≥ 0.05. Even though the mean usage is small the difference between these groups is significant."
   ]
  },
  {
   "cell_type": "markdown",
   "id": "2b0cb348",
   "metadata": {},
   "source": [
    "### Might"
   ]
  },
  {
   "cell_type": "code",
   "execution_count": 19,
   "id": "bf099cf7",
   "metadata": {},
   "outputs": [
    {
     "data": {
      "text/html": [
       "<div>\n",
       "<style scoped>\n",
       "    .dataframe tbody tr th:only-of-type {\n",
       "        vertical-align: middle;\n",
       "    }\n",
       "\n",
       "    .dataframe tbody tr th {\n",
       "        vertical-align: top;\n",
       "    }\n",
       "\n",
       "    .dataframe thead tr th {\n",
       "        text-align: left;\n",
       "    }\n",
       "\n",
       "    .dataframe thead tr:last-of-type th {\n",
       "        text-align: right;\n",
       "    }\n",
       "</style>\n",
       "<table border=\"1\" class=\"dataframe\">\n",
       "  <thead>\n",
       "    <tr>\n",
       "      <th></th>\n",
       "      <th colspan=\"4\" halign=\"left\">might_count</th>\n",
       "    </tr>\n",
       "    <tr>\n",
       "      <th></th>\n",
       "      <th>sum</th>\n",
       "      <th>mean</th>\n",
       "      <th>max</th>\n",
       "      <th>std</th>\n",
       "    </tr>\n",
       "    <tr>\n",
       "      <th>gender</th>\n",
       "      <th></th>\n",
       "      <th></th>\n",
       "      <th></th>\n",
       "      <th></th>\n",
       "    </tr>\n",
       "  </thead>\n",
       "  <tbody>\n",
       "    <tr>\n",
       "      <th>A</th>\n",
       "      <td>50</td>\n",
       "      <td>0.005493</td>\n",
       "      <td>2</td>\n",
       "      <td>0.075385</td>\n",
       "    </tr>\n",
       "    <tr>\n",
       "      <th>F</th>\n",
       "      <td>489</td>\n",
       "      <td>0.005909</td>\n",
       "      <td>3</td>\n",
       "      <td>0.079280</td>\n",
       "    </tr>\n",
       "    <tr>\n",
       "      <th>M</th>\n",
       "      <td>1207</td>\n",
       "      <td>0.006417</td>\n",
       "      <td>3</td>\n",
       "      <td>0.082599</td>\n",
       "    </tr>\n",
       "    <tr>\n",
       "      <th>unknown</th>\n",
       "      <td>186</td>\n",
       "      <td>0.007604</td>\n",
       "      <td>2</td>\n",
       "      <td>0.089649</td>\n",
       "    </tr>\n",
       "  </tbody>\n",
       "</table>\n",
       "</div>"
      ],
      "text/plain": [
       "        might_count                        \n",
       "                sum      mean max       std\n",
       "gender                                     \n",
       "A                50  0.005493   2  0.075385\n",
       "F               489  0.005909   3  0.079280\n",
       "M              1207  0.006417   3  0.082599\n",
       "unknown         186  0.007604   2  0.089649"
      ]
     },
     "execution_count": 19,
     "metadata": {},
     "output_type": "execute_result"
    }
   ],
   "source": [
    "# what's the use of 'might' by gender?\n",
    "discourse_df.groupby('gender').agg({'might_count': ['sum', 'mean', 'max', 'std']})"
   ]
  },
  {
   "cell_type": "markdown",
   "id": "24b00c1f",
   "metadata": {},
   "source": [
    "Male characters have the most instances of *might* but they make up the bulk of the characters in the corpus. When the usage is averaged out, unknown characters use *might* more. *Might* is tricky because it can be used as a verb and noun, where the noun *might* would not be indicative of hedging. This can be remedied by taking part of speech into account. A male and female character have the highest number of instances of *maybe* in one turn with three. Characters of all gender have a turn where they use *might* more than once. Unknown characters have the highest standard deviation. The other characters standard deviation is similar, with ambiguous characters having the smallest standard deviation."
   ]
  },
  {
   "cell_type": "code",
   "execution_count": 20,
   "id": "df3521b8",
   "metadata": {},
   "outputs": [
    {
     "data": {
      "image/png": "[encoded data removed]",
      "text/plain": [
       "<Figure size 360x360 with 1 Axes>"
      ]
     },
     "metadata": {
      "needs_background": "light"
     },
     "output_type": "display_data"
    }
   ],
   "source": [
    "# graph\n",
    "sns.catplot(data=discourse_df, x='gender', y='might_count', kind='bar')\n",
    "plt.savefig('../data_visualization/might_usage.png')\n",
    "plt.show()"
   ]
  },
  {
   "cell_type": "code",
   "execution_count": 21,
   "id": "a470a6cd",
   "metadata": {},
   "outputs": [
    {
     "data": {
      "text/plain": [
       "F_onewayResult(statistic=3.069421268090923, pvalue=0.026647810888604608)"
      ]
     },
     "execution_count": 21,
     "metadata": {},
     "output_type": "execute_result"
    }
   ],
   "source": [
    "# is there a statistically significant difference between this variance?\n",
    "stats.f_oneway(discourse_df[discourse_df.gender=='F'].might_count, discourse_df[discourse_df.gender=='M'].might_count, discourse_df[discourse_df.gender=='unknown'].might_count, discourse_df[discourse_df.gender=='A'].might_count)"
   ]
  },
  {
   "cell_type": "markdown",
   "id": "feef852e",
   "metadata": {},
   "source": [
    "This variation is significant at p > 0.05. Even though the mean usage is small the difference between these groups is significant."
   ]
  },
  {
   "cell_type": "markdown",
   "id": "94eccabd",
   "metadata": {},
   "source": [
    "### Perhaps"
   ]
  },
  {
   "cell_type": "code",
   "execution_count": 22,
   "id": "6c04115c",
   "metadata": {},
   "outputs": [
    {
     "data": {
      "text/html": [
       "<div>\n",
       "<style scoped>\n",
       "    .dataframe tbody tr th:only-of-type {\n",
       "        vertical-align: middle;\n",
       "    }\n",
       "\n",
       "    .dataframe tbody tr th {\n",
       "        vertical-align: top;\n",
       "    }\n",
       "\n",
       "    .dataframe thead tr th {\n",
       "        text-align: left;\n",
       "    }\n",
       "\n",
       "    .dataframe thead tr:last-of-type th {\n",
       "        text-align: right;\n",
       "    }\n",
       "</style>\n",
       "<table border=\"1\" class=\"dataframe\">\n",
       "  <thead>\n",
       "    <tr>\n",
       "      <th></th>\n",
       "      <th colspan=\"4\" halign=\"left\">perhaps_count</th>\n",
       "    </tr>\n",
       "    <tr>\n",
       "      <th></th>\n",
       "      <th>sum</th>\n",
       "      <th>mean</th>\n",
       "      <th>max</th>\n",
       "      <th>std</th>\n",
       "    </tr>\n",
       "    <tr>\n",
       "      <th>gender</th>\n",
       "      <th></th>\n",
       "      <th></th>\n",
       "      <th></th>\n",
       "      <th></th>\n",
       "    </tr>\n",
       "  </thead>\n",
       "  <tbody>\n",
       "    <tr>\n",
       "      <th>A</th>\n",
       "      <td>13</td>\n",
       "      <td>0.001428</td>\n",
       "      <td>1</td>\n",
       "      <td>0.037765</td>\n",
       "    </tr>\n",
       "    <tr>\n",
       "      <th>F</th>\n",
       "      <td>107</td>\n",
       "      <td>0.001293</td>\n",
       "      <td>2</td>\n",
       "      <td>0.036931</td>\n",
       "    </tr>\n",
       "    <tr>\n",
       "      <th>M</th>\n",
       "      <td>346</td>\n",
       "      <td>0.001840</td>\n",
       "      <td>2</td>\n",
       "      <td>0.044673</td>\n",
       "    </tr>\n",
       "    <tr>\n",
       "      <th>unknown</th>\n",
       "      <td>79</td>\n",
       "      <td>0.003230</td>\n",
       "      <td>2</td>\n",
       "      <td>0.057455</td>\n",
       "    </tr>\n",
       "  </tbody>\n",
       "</table>\n",
       "</div>"
      ],
      "text/plain": [
       "        perhaps_count                        \n",
       "                  sum      mean max       std\n",
       "gender                                       \n",
       "A                  13  0.001428   1  0.037765\n",
       "F                 107  0.001293   2  0.036931\n",
       "M                 346  0.001840   2  0.044673\n",
       "unknown            79  0.003230   2  0.057455"
      ]
     },
     "execution_count": 22,
     "metadata": {},
     "output_type": "execute_result"
    }
   ],
   "source": [
    "# what's the use of 'perhaps' by gender?\n",
    "discourse_df.groupby('gender').agg({'perhaps_count': ['sum', 'mean', 'max', 'std']})"
   ]
  },
  {
   "cell_type": "markdown",
   "id": "623f2839",
   "metadata": {},
   "source": [
    "Male characters have the most instances of *perhaps* but they make up the bulk of the characters in the corpus. When the usage is averaged out, unknown characters use *perhaps* the most. Male, female, and unknown characters have the highest number of instances of *perhaps* in one turn with two. Unknown characters have the highest standard deviation. Female characters have the smallest standard deviation."
   ]
  },
  {
   "cell_type": "code",
   "execution_count": 23,
   "id": "7acc889a",
   "metadata": {},
   "outputs": [
    {
     "data": {
      "image/png": "[encoded data removed]",
      "text/plain": [
       "<Figure size 360x360 with 1 Axes>"
      ]
     },
     "metadata": {
      "needs_background": "light"
     },
     "output_type": "display_data"
    }
   ],
   "source": [
    "# graph\n",
    "sns.catplot(data=discourse_df, x='gender', y='perhaps_count', kind='bar')\n",
    "plt.savefig('../data_visualization/perhaps_usage.png')\n",
    "plt.show()"
   ]
  },
  {
   "cell_type": "code",
   "execution_count": 24,
   "id": "58bde135",
   "metadata": {},
   "outputs": [
    {
     "data": {
      "text/plain": [
       "F_onewayResult(statistic=12.69065531618593, pvalue=2.7321183698580023e-08)"
      ]
     },
     "execution_count": 24,
     "metadata": {},
     "output_type": "execute_result"
    }
   ],
   "source": [
    "# is there a statistically significant difference between this variance?\n",
    "stats.f_oneway(discourse_df[discourse_df.gender=='F'].perhaps_count, discourse_df[discourse_df.gender=='M'].perhaps_count, discourse_df[discourse_df.gender=='unknown'].perhaps_count, discourse_df[discourse_df.gender=='A'].perhaps_count)"
   ]
  },
  {
   "cell_type": "markdown",
   "id": "ce115135",
   "metadata": {},
   "source": [
    "This variation is significant at p > 0.05. Even though the mean usage is small the difference between these groups is significant."
   ]
  },
  {
   "cell_type": "markdown",
   "id": "6fc0e4c9",
   "metadata": {},
   "source": [
    "### Possibly"
   ]
  },
  {
   "cell_type": "code",
   "execution_count": 25,
   "id": "b99bb363",
   "metadata": {},
   "outputs": [
    {
     "data": {
      "text/html": [
       "<div>\n",
       "<style scoped>\n",
       "    .dataframe tbody tr th:only-of-type {\n",
       "        vertical-align: middle;\n",
       "    }\n",
       "\n",
       "    .dataframe tbody tr th {\n",
       "        vertical-align: top;\n",
       "    }\n",
       "\n",
       "    .dataframe thead tr th {\n",
       "        text-align: left;\n",
       "    }\n",
       "\n",
       "    .dataframe thead tr:last-of-type th {\n",
       "        text-align: right;\n",
       "    }\n",
       "</style>\n",
       "<table border=\"1\" class=\"dataframe\">\n",
       "  <thead>\n",
       "    <tr>\n",
       "      <th></th>\n",
       "      <th colspan=\"4\" halign=\"left\">possibly_count</th>\n",
       "    </tr>\n",
       "    <tr>\n",
       "      <th></th>\n",
       "      <th>sum</th>\n",
       "      <th>mean</th>\n",
       "      <th>max</th>\n",
       "      <th>std</th>\n",
       "    </tr>\n",
       "    <tr>\n",
       "      <th>gender</th>\n",
       "      <th></th>\n",
       "      <th></th>\n",
       "      <th></th>\n",
       "      <th></th>\n",
       "    </tr>\n",
       "  </thead>\n",
       "  <tbody>\n",
       "    <tr>\n",
       "      <th>A</th>\n",
       "      <td>5</td>\n",
       "      <td>0.000549</td>\n",
       "      <td>1</td>\n",
       "      <td>0.023431</td>\n",
       "    </tr>\n",
       "    <tr>\n",
       "      <th>F</th>\n",
       "      <td>46</td>\n",
       "      <td>0.000556</td>\n",
       "      <td>1</td>\n",
       "      <td>0.023571</td>\n",
       "    </tr>\n",
       "    <tr>\n",
       "      <th>M</th>\n",
       "      <td>99</td>\n",
       "      <td>0.000526</td>\n",
       "      <td>2</td>\n",
       "      <td>0.023167</td>\n",
       "    </tr>\n",
       "    <tr>\n",
       "      <th>unknown</th>\n",
       "      <td>15</td>\n",
       "      <td>0.000613</td>\n",
       "      <td>2</td>\n",
       "      <td>0.026356</td>\n",
       "    </tr>\n",
       "  </tbody>\n",
       "</table>\n",
       "</div>"
      ],
      "text/plain": [
       "        possibly_count                        \n",
       "                   sum      mean max       std\n",
       "gender                                        \n",
       "A                    5  0.000549   1  0.023431\n",
       "F                   46  0.000556   1  0.023571\n",
       "M                   99  0.000526   2  0.023167\n",
       "unknown             15  0.000613   2  0.026356"
      ]
     },
     "execution_count": 25,
     "metadata": {},
     "output_type": "execute_result"
    }
   ],
   "source": [
    "# what's the use of 'possibly' by gender?\n",
    "discourse_df.groupby('gender').agg({'possibly_count': ['sum', 'mean', 'max', 'std']})"
   ]
  },
  {
   "cell_type": "markdown",
   "id": "070dab35",
   "metadata": {},
   "source": [
    "The mean usage for *possibly* is the smallest out of all the hedging words and phrases and *possibly* is the least used hedging word or phrase. Male characters have the most instances of *possibly*. Unknown has slightly more average use, but the usage across all genders is similar and very small. Both male and unknown characters use *possibly* twice in one turn, while ambiguous and female characters only ever use it once a turn."
   ]
  },
  {
   "cell_type": "code",
   "execution_count": 26,
   "id": "f13f3ef3",
   "metadata": {},
   "outputs": [
    {
     "data": {
      "image/png": "[encoded data removed]",
      "text/plain": [
       "<Figure size 360x360 with 1 Axes>"
      ]
     },
     "metadata": {
      "needs_background": "light"
     },
     "output_type": "display_data"
    }
   ],
   "source": [
    "# graph\n",
    "sns.catplot(data=discourse_df, x='gender', y='possibly_count', kind='bar')\n",
    "plt.savefig('../data_visualization/possibly_usage.png')\n",
    "plt.show()"
   ]
  },
  {
   "cell_type": "code",
   "execution_count": 27,
   "id": "d07d296b",
   "metadata": {},
   "outputs": [
    {
     "data": {
      "text/plain": [
       "F_onewayResult(statistic=0.11210033776361256, pvalue=0.9530626382670797)"
      ]
     },
     "execution_count": 27,
     "metadata": {},
     "output_type": "execute_result"
    }
   ],
   "source": [
    "# is there a statistically significant difference between this variance?\n",
    "stats.f_oneway(discourse_df[discourse_df.gender=='F'].possibly_count, discourse_df[discourse_df.gender=='M'].possibly_count, discourse_df[discourse_df.gender=='unknown'].possibly_count, discourse_df[discourse_df.gender=='A'].possibly_count)"
   ]
  },
  {
   "cell_type": "markdown",
   "id": "aac0ae0c",
   "metadata": {},
   "source": [
    "This variation is not significant at p > 0.05. This is the only hedging word or phrase that does not have significant variance across gender. It is the least used hedging word, so a larger sample size might result in a significant difference."
   ]
  },
  {
   "cell_type": "markdown",
   "id": "555a9d63",
   "metadata": {},
   "source": [
    "## Conclusion"
   ]
  },
  {
   "cell_type": "markdown",
   "id": "a2d7491d",
   "metadata": {},
   "source": [
    "Female characters use *I guess*, *I think*, and *maybe* the most. For *might*, *perhaps*, and *possibly* characters with unknown gender have the highest usage. For *I think* and *maybe* male characters are not far behind in usage, but the ANOVA tests still indicate that the difference across the groups are significant at p ≥ 0.05. *Possibly* was the least used out of the hedging words and phrases and was also the only word or phrase that did not have significant variance across the groups.\n",
    "\n",
    "Based on these findings there is difference in how the genders are represented usage hedging in their speech."
   ]
  }
 ],
 "metadata": {
  "kernelspec": {
   "display_name": "Python 3",
   "language": "python",
   "name": "python3"
  },
  "language_info": {
   "codemirror_mode": {
    "name": "ipython",
    "version": 3
   },
   "file_extension": ".py",
   "mimetype": "text/x-python",
   "name": "python",
   "nbconvert_exporter": "python",
   "pygments_lexer": "ipython3",
   "version": "3.8.8"
  }
 },
 "nbformat": 4,
 "nbformat_minor": 5
}
