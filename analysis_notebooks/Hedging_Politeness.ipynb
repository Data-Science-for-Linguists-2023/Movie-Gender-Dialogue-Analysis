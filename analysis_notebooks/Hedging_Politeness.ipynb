{
 "cells": [
  {
   "cell_type": "markdown",
   "id": "e6c01db8",
   "metadata": {},
   "source": [
    "# Hedging and Politeness"
   ]
  },
  {
   "cell_type": "markdown",
   "id": "3cf985c7",
   "metadata": {},
   "source": [
    "## Table of Contents\n",
    "- [1st Section](#Loading-in-the-data) is where I import the files\n",
    "- [2nd section](#Hedging-extraction) is where I extract the hedge information\n",
    "- [3rd section](#Hedging-analysis) is where I analyze hedging\n",
    "- [4th section](#(Im)Politeness-extraction) is where I extract the (im)politeness information\n",
    "- [5th section](#(Im)Politeness-analysis) is where I analyze (im)politeness\n",
    "- [Conclusion](#Conclusion) summarizes the notebook"
   ]
  },
  {
   "cell_type": "markdown",
   "id": "00c07286",
   "metadata": {},
   "source": [
    "## Loading in the data"
   ]
  },
  {
   "cell_type": "code",
   "execution_count": null,
   "id": "3a3092b2",
   "metadata": {},
   "outputs": [],
   "source": [
    "# load in the packages\n"
   ]
  },
  {
   "cell_type": "code",
   "execution_count": null,
   "id": "df375768",
   "metadata": {},
   "outputs": [],
   "source": [
    "# read in the data\n"
   ]
  },
  {
   "cell_type": "markdown",
   "id": "696ab04a",
   "metadata": {},
   "source": [
    "## Hedging extraction"
   ]
  },
  {
   "cell_type": "markdown",
   "id": "83ff7c38",
   "metadata": {},
   "source": [
    "I will look to see if these hedging words appear more in one specific gender's speech or not:\n",
    "* I guess\n",
    "* I think\n",
    "* Maybe\n",
    "* Might\n",
    "* Perhaps\n",
    "* Possibly"
   ]
  },
  {
   "cell_type": "code",
   "execution_count": null,
   "id": "0123257a",
   "metadata": {},
   "outputs": [],
   "source": [
    "# something with these is broken"
   ]
  },
  {
   "cell_type": "code",
   "execution_count": null,
   "id": "55acbbeb",
   "metadata": {},
   "outputs": [],
   "source": [
    "# i guess\n",
    "def get_guess(x):\n",
    "    pattern = r'\\\\bI guess\\\\b'\n",
    "    guesses = re.findall(pattern, ' '.join(str(y) for y in x))\n",
    "    return guesses\n",
    "\n",
    "# adding data to the data frames\n",
    "discourse_df['guess_count'] = discourse_df.tokens.apply(get_guess).str.len()"
   ]
  },
  {
   "cell_type": "code",
   "execution_count": null,
   "id": "c73e7951",
   "metadata": {},
   "outputs": [],
   "source": [
    "# i think\n",
    "def get_think(x):\n",
    "    pattern = r'\\\\bI think\\\\b'\n",
    "    thinks = re.findall(pattern, ' '.join(str(y) for y in x))\n",
    "    return thinks\n",
    "\n",
    "# adding data to the data frames\n",
    "discourse_df['think_count'] = discourse_df.tokens.apply(get_think).str.len()"
   ]
  },
  {
   "cell_type": "code",
   "execution_count": null,
   "id": "a8a84ec0",
   "metadata": {},
   "outputs": [],
   "source": [
    "# maybe\n",
    "def get_maybe(x):\n",
    "    pattern = r'\\\\b[mM]aybe\\\\b'\n",
    "    maybes = re.findall(pattern, ' '.join(str(y) for y in x))\n",
    "    return maybes\n",
    "\n",
    "# adding data to the data frames\n",
    "discourse_df['maybe_count'] = discourse_df.tokens.apply(get_maybe).str.len()"
   ]
  },
  {
   "cell_type": "code",
   "execution_count": null,
   "id": "88600057",
   "metadata": {},
   "outputs": [],
   "source": [
    "# might\n",
    "def get_might(x):\n",
    "    pattern = r'\\\\b[mM]ight\\\\b'\n",
    "    mights = re.findall(pattern, ' '.join(str(y) for y in x))\n",
    "    return mights\n",
    "\n",
    "# adding data to the data frames\n",
    "discourse_df['might_count'] = discourse_df.tokens.apply(get_might).str.len()"
   ]
  },
  {
   "cell_type": "code",
   "execution_count": null,
   "id": "6666b185",
   "metadata": {},
   "outputs": [],
   "source": [
    "# perhaps\n",
    "def get_perhaps(x):\n",
    "    pattern = r'\\\\b[pP]erhaps\\\\b'\n",
    "    perhapses = re.findall(pattern, ' '.join(str(y) for y in x))\n",
    "    return perhapses\n",
    "\n",
    "# adding data to the data frames\n",
    "discourse_df['perhaps_count'] = discourse_df.tokens.apply(get_perhaps).str.len()"
   ]
  },
  {
   "cell_type": "code",
   "execution_count": null,
   "id": "b5936621",
   "metadata": {},
   "outputs": [],
   "source": [
    "# possibly\n",
    "def get_possibly(x):\n",
    "    pattern = r'\\\\b[pP]ossibly\\\\b'\n",
    "    possiblys = re.findall(pattern, ' '.join(str(y) for y in x))\n",
    "    return possiblys\n",
    "\n",
    "# adding data to the data frames\n",
    "discourse_df['possibly_count'] = discourse_df.tokens.apply(get_possibly).str.len()"
   ]
  },
  {
   "cell_type": "code",
   "execution_count": null,
   "id": "a1ca052f",
   "metadata": {},
   "outputs": [],
   "source": []
  },
  {
   "cell_type": "markdown",
   "id": "a90afb32",
   "metadata": {},
   "source": [
    "## Hedging analysis"
   ]
  },
  {
   "cell_type": "code",
   "execution_count": null,
   "id": "ed247793",
   "metadata": {},
   "outputs": [],
   "source": []
  },
  {
   "cell_type": "markdown",
   "id": "8217242c",
   "metadata": {},
   "source": [
    "## (Im)Politeness extraction"
   ]
  },
  {
   "cell_type": "code",
   "execution_count": null,
   "id": "bebdffd6",
   "metadata": {},
   "outputs": [],
   "source": []
  },
  {
   "cell_type": "markdown",
   "id": "a45c0a1d",
   "metadata": {},
   "source": [
    "## (Im)Politeness analysis"
   ]
  },
  {
   "cell_type": "code",
   "execution_count": null,
   "id": "6a0363bb",
   "metadata": {},
   "outputs": [],
   "source": []
  },
  {
   "cell_type": "markdown",
   "id": "555a9d63",
   "metadata": {},
   "source": [
    "## Conclusion"
   ]
  },
  {
   "cell_type": "code",
   "execution_count": null,
   "id": "89d15ee6",
   "metadata": {},
   "outputs": [],
   "source": []
  }
 ],
 "metadata": {
  "kernelspec": {
   "display_name": "Python 3",
   "language": "python",
   "name": "python3"
  },
  "language_info": {
   "codemirror_mode": {
    "name": "ipython",
    "version": 3
   },
   "file_extension": ".py",
   "mimetype": "text/x-python",
   "name": "python",
   "nbconvert_exporter": "python",
   "pygments_lexer": "ipython3",
   "version": "3.8.8"
  }
 },
 "nbformat": 4,
 "nbformat_minor": 5
}
