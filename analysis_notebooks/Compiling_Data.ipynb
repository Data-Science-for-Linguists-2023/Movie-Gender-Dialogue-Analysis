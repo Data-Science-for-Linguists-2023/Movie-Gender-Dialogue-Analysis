{
 "cells": [
  {
   "cell_type": "markdown",
   "id": "b52222ed",
   "metadata": {},
   "source": [
    "# Compiling the Data"
   ]
  },
  {
   "cell_type": "markdown",
   "id": "3b81f93c",
   "metadata": {},
   "source": [
    "This notebook is NEW CONTINUING: I am piping in data objects created from other notebooks and combining them."
   ]
  },
  {
   "cell_type": "markdown",
   "id": "34c7d593",
   "metadata": {},
   "source": [
    "## Table of Contents\n",
    "- [1st Section](#Loading-in-the-data) is where I import the files\n",
    "- [2nd section](#Data-overview) is where I briefly review the data\n",
    "- [3rd section](#Compiling-the-data) is where I compile the data frames together\n",
    "- [4th section](#Pickling-the-data-and-creating-a-csv) is where the data are saved and exported\n",
    "- [Conclusion](#Conclusion) summarizes the notebook"
   ]
  },
  {
   "cell_type": "markdown",
   "id": "bb8baaf3",
   "metadata": {},
   "source": [
    "## Loading in the data"
   ]
  },
  {
   "cell_type": "code",
   "execution_count": 1,
   "id": "0ce5d09f",
   "metadata": {},
   "outputs": [],
   "source": [
    "# loading packages\n",
    "import numpy as np\n",
    "import pandas as pd\n",
    "import nltk\n",
    "import pickle\n",
    "import matplotlib.pyplot as plt\n",
    "import seaborn as sns\n",
    "import re"
   ]
  },
  {
   "cell_type": "code",
   "execution_count": 2,
   "id": "9fcbb9a4",
   "metadata": {},
   "outputs": [],
   "source": [
    "# load in the data frames\n",
    "\n",
    "f1 = open('characters_update_df.pkl', 'rb')\n",
    "characters_df = pickle.load(f1)\n",
    "f1.close()\n",
    "\n",
    "f2 = open('conversations_df.pkl', 'rb')\n",
    "conversations_df = pickle.load(f2)\n",
    "f2.close()\n",
    "\n",
    "f3 = open('movies_df.pkl', 'rb')\n",
    "movies_df = pickle.load(f3)\n",
    "f3.close\n",
    "\n",
    "# load in utterances from csv\n",
    "utterances_df = pd.read_csv('./private/utterances_df.csv', index_col=0)"
   ]
  },
  {
   "cell_type": "markdown",
   "id": "4b1337c5",
   "metadata": {},
   "source": [
    "Let's make sure they all look okay."
   ]
  },
  {
   "cell_type": "code",
   "execution_count": 3,
   "id": "4e4a93e1",
   "metadata": {},
   "outputs": [
    {
     "data": {
      "text/html": [
       "<div>\n",
       "<style scoped>\n",
       "    .dataframe tbody tr th:only-of-type {\n",
       "        vertical-align: middle;\n",
       "    }\n",
       "\n",
       "    .dataframe tbody tr th {\n",
       "        vertical-align: top;\n",
       "    }\n",
       "\n",
       "    .dataframe thead th {\n",
       "        text-align: right;\n",
       "    }\n",
       "</style>\n",
       "<table border=\"1\" class=\"dataframe\">\n",
       "  <thead>\n",
       "    <tr style=\"text-align: right;\">\n",
       "      <th></th>\n",
       "      <th>character_ID</th>\n",
       "      <th>character_name</th>\n",
       "      <th>movie_ID</th>\n",
       "      <th>movie_title</th>\n",
       "      <th>gender</th>\n",
       "    </tr>\n",
       "  </thead>\n",
       "  <tbody>\n",
       "    <tr>\n",
       "      <th>0</th>\n",
       "      <td>u0</td>\n",
       "      <td>BIANCA</td>\n",
       "      <td>m0</td>\n",
       "      <td>10 things i hate about you</td>\n",
       "      <td>F</td>\n",
       "    </tr>\n",
       "    <tr>\n",
       "      <th>2</th>\n",
       "      <td>u2</td>\n",
       "      <td>CAMERON</td>\n",
       "      <td>m0</td>\n",
       "      <td>10 things i hate about you</td>\n",
       "      <td>M</td>\n",
       "    </tr>\n",
       "    <tr>\n",
       "      <th>4</th>\n",
       "      <td>u4</td>\n",
       "      <td>JOEY</td>\n",
       "      <td>m0</td>\n",
       "      <td>10 things i hate about you</td>\n",
       "      <td>M</td>\n",
       "    </tr>\n",
       "    <tr>\n",
       "      <th>5</th>\n",
       "      <td>u5</td>\n",
       "      <td>KAT</td>\n",
       "      <td>m0</td>\n",
       "      <td>10 things i hate about you</td>\n",
       "      <td>F</td>\n",
       "    </tr>\n",
       "    <tr>\n",
       "      <th>6</th>\n",
       "      <td>u6</td>\n",
       "      <td>MANDELLA</td>\n",
       "      <td>m0</td>\n",
       "      <td>10 things i hate about you</td>\n",
       "      <td>F</td>\n",
       "    </tr>\n",
       "  </tbody>\n",
       "</table>\n",
       "</div>"
      ],
      "text/plain": [
       "  character_ID character_name movie_ID                 movie_title gender\n",
       "0           u0         BIANCA       m0  10 things i hate about you      F\n",
       "2           u2        CAMERON       m0  10 things i hate about you      M\n",
       "4           u4           JOEY       m0  10 things i hate about you      M\n",
       "5           u5            KAT       m0  10 things i hate about you      F\n",
       "6           u6       MANDELLA       m0  10 things i hate about you      F"
      ]
     },
     "execution_count": 3,
     "metadata": {},
     "output_type": "execute_result"
    }
   ],
   "source": [
    "characters_df.head()"
   ]
  },
  {
   "cell_type": "markdown",
   "id": "65bcac3f",
   "metadata": {},
   "source": [
    "Link to jnb"
   ]
  },
  {
   "cell_type": "code",
   "execution_count": 4,
   "id": "0dd21267",
   "metadata": {
    "scrolled": true
   },
   "outputs": [
    {
     "data": {
      "text/html": [
       "<div>\n",
       "<style scoped>\n",
       "    .dataframe tbody tr th:only-of-type {\n",
       "        vertical-align: middle;\n",
       "    }\n",
       "\n",
       "    .dataframe tbody tr th {\n",
       "        vertical-align: top;\n",
       "    }\n",
       "\n",
       "    .dataframe thead th {\n",
       "        text-align: right;\n",
       "    }\n",
       "</style>\n",
       "<table border=\"1\" class=\"dataframe\">\n",
       "  <thead>\n",
       "    <tr style=\"text-align: right;\">\n",
       "      <th></th>\n",
       "      <th>conversation_ID</th>\n",
       "      <th>character1_ID</th>\n",
       "      <th>character2_ID</th>\n",
       "      <th>movie_ID</th>\n",
       "      <th>dialogue</th>\n",
       "    </tr>\n",
       "  </thead>\n",
       "  <tbody>\n",
       "    <tr>\n",
       "      <th>0</th>\n",
       "      <td>0</td>\n",
       "      <td>u0</td>\n",
       "      <td>u2</td>\n",
       "      <td>m0</td>\n",
       "      <td>L194</td>\n",
       "    </tr>\n",
       "    <tr>\n",
       "      <th>0</th>\n",
       "      <td>0</td>\n",
       "      <td>u0</td>\n",
       "      <td>u2</td>\n",
       "      <td>m0</td>\n",
       "      <td>L195</td>\n",
       "    </tr>\n",
       "    <tr>\n",
       "      <th>0</th>\n",
       "      <td>0</td>\n",
       "      <td>u0</td>\n",
       "      <td>u2</td>\n",
       "      <td>m0</td>\n",
       "      <td>L196</td>\n",
       "    </tr>\n",
       "    <tr>\n",
       "      <th>0</th>\n",
       "      <td>0</td>\n",
       "      <td>u0</td>\n",
       "      <td>u2</td>\n",
       "      <td>m0</td>\n",
       "      <td>L197</td>\n",
       "    </tr>\n",
       "    <tr>\n",
       "      <th>1</th>\n",
       "      <td>1</td>\n",
       "      <td>u0</td>\n",
       "      <td>u2</td>\n",
       "      <td>m0</td>\n",
       "      <td>L198</td>\n",
       "    </tr>\n",
       "  </tbody>\n",
       "</table>\n",
       "</div>"
      ],
      "text/plain": [
       "   conversation_ID character1_ID character2_ID movie_ID dialogue\n",
       "0                0            u0            u2       m0     L194\n",
       "0                0            u0            u2       m0     L195\n",
       "0                0            u0            u2       m0     L196\n",
       "0                0            u0            u2       m0     L197\n",
       "1                1            u0            u2       m0     L198"
      ]
     },
     "execution_count": 4,
     "metadata": {},
     "output_type": "execute_result"
    }
   ],
   "source": [
    "conversations_df.head()"
   ]
  },
  {
   "cell_type": "markdown",
   "id": "f71ced96",
   "metadata": {},
   "source": [
    "Link to jnb"
   ]
  },
  {
   "cell_type": "code",
   "execution_count": 5,
   "id": "11945e36",
   "metadata": {
    "scrolled": true
   },
   "outputs": [
    {
     "data": {
      "text/html": [
       "<div>\n",
       "<style scoped>\n",
       "    .dataframe tbody tr th:only-of-type {\n",
       "        vertical-align: middle;\n",
       "    }\n",
       "\n",
       "    .dataframe tbody tr th {\n",
       "        vertical-align: top;\n",
       "    }\n",
       "\n",
       "    .dataframe thead th {\n",
       "        text-align: right;\n",
       "    }\n",
       "</style>\n",
       "<table border=\"1\" class=\"dataframe\">\n",
       "  <thead>\n",
       "    <tr style=\"text-align: right;\">\n",
       "      <th></th>\n",
       "      <th>movie_title</th>\n",
       "      <th>movie_year</th>\n",
       "      <th>genres</th>\n",
       "      <th>movie_decade</th>\n",
       "    </tr>\n",
       "  </thead>\n",
       "  <tbody>\n",
       "    <tr>\n",
       "      <th>0</th>\n",
       "      <td>10 things i hate about you</td>\n",
       "      <td>1999</td>\n",
       "      <td>['comedy', 'romance']</td>\n",
       "      <td>1990</td>\n",
       "    </tr>\n",
       "    <tr>\n",
       "      <th>1</th>\n",
       "      <td>1492: conquest of paradise</td>\n",
       "      <td>1992</td>\n",
       "      <td>['adventure', 'biography', 'drama', 'history']</td>\n",
       "      <td>1990</td>\n",
       "    </tr>\n",
       "    <tr>\n",
       "      <th>2</th>\n",
       "      <td>15 minutes</td>\n",
       "      <td>2001</td>\n",
       "      <td>['action', 'crime', 'drama', 'thriller']</td>\n",
       "      <td>2000</td>\n",
       "    </tr>\n",
       "    <tr>\n",
       "      <th>3</th>\n",
       "      <td>2001: a space odyssey</td>\n",
       "      <td>1968</td>\n",
       "      <td>['adventure', 'mystery', 'sci-fi']</td>\n",
       "      <td>1960</td>\n",
       "    </tr>\n",
       "    <tr>\n",
       "      <th>4</th>\n",
       "      <td>48 hrs.</td>\n",
       "      <td>1982</td>\n",
       "      <td>['action', 'comedy', 'crime', 'drama', 'thrill...</td>\n",
       "      <td>1980</td>\n",
       "    </tr>\n",
       "  </tbody>\n",
       "</table>\n",
       "</div>"
      ],
      "text/plain": [
       "                  movie_title  movie_year  \\\n",
       "0  10 things i hate about you        1999   \n",
       "1  1492: conquest of paradise        1992   \n",
       "2                  15 minutes        2001   \n",
       "3       2001: a space odyssey        1968   \n",
       "4                     48 hrs.        1982   \n",
       "\n",
       "                                              genres  movie_decade  \n",
       "0                              ['comedy', 'romance']          1990  \n",
       "1     ['adventure', 'biography', 'drama', 'history']          1990  \n",
       "2           ['action', 'crime', 'drama', 'thriller']          2000  \n",
       "3                 ['adventure', 'mystery', 'sci-fi']          1960  \n",
       "4  ['action', 'comedy', 'crime', 'drama', 'thrill...          1980  "
      ]
     },
     "execution_count": 5,
     "metadata": {},
     "output_type": "execute_result"
    }
   ],
   "source": [
    "movies_df.head()"
   ]
  },
  {
   "cell_type": "markdown",
   "id": "56bb3336",
   "metadata": {},
   "source": [
    "Link to jnb"
   ]
  },
  {
   "cell_type": "code",
   "execution_count": 6,
   "id": "07eeccba",
   "metadata": {
    "scrolled": true
   },
   "outputs": [
    {
     "data": {
      "text/html": [
       "<div>\n",
       "<style scoped>\n",
       "    .dataframe tbody tr th:only-of-type {\n",
       "        vertical-align: middle;\n",
       "    }\n",
       "\n",
       "    .dataframe tbody tr th {\n",
       "        vertical-align: top;\n",
       "    }\n",
       "\n",
       "    .dataframe thead th {\n",
       "        text-align: right;\n",
       "    }\n",
       "</style>\n",
       "<table border=\"1\" class=\"dataframe\">\n",
       "  <thead>\n",
       "    <tr style=\"text-align: right;\">\n",
       "      <th></th>\n",
       "      <th>line_ID</th>\n",
       "      <th>character_ID</th>\n",
       "      <th>movie_ID</th>\n",
       "      <th>character_name</th>\n",
       "      <th>utterance</th>\n",
       "      <th>sents</th>\n",
       "      <th>tokens</th>\n",
       "      <th>pos_tag</th>\n",
       "      <th>sent_count</th>\n",
       "      <th>token_count</th>\n",
       "      <th>avg_sent_length</th>\n",
       "    </tr>\n",
       "  </thead>\n",
       "  <tbody>\n",
       "    <tr>\n",
       "      <th>0</th>\n",
       "      <td>L1045</td>\n",
       "      <td>u0</td>\n",
       "      <td>m0</td>\n",
       "      <td>BIANCA</td>\n",
       "      <td>They do not!</td>\n",
       "      <td>['They do not!']</td>\n",
       "      <td>['They', 'do', 'not', '!']</td>\n",
       "      <td>[(They, 'PRON'), (do, 'VERB'), (not, 'PART'), ...</td>\n",
       "      <td>1</td>\n",
       "      <td>4</td>\n",
       "      <td>4.0</td>\n",
       "    </tr>\n",
       "    <tr>\n",
       "      <th>1</th>\n",
       "      <td>L1044</td>\n",
       "      <td>u2</td>\n",
       "      <td>m0</td>\n",
       "      <td>CAMERON</td>\n",
       "      <td>They do to!</td>\n",
       "      <td>['They do to!']</td>\n",
       "      <td>['They', 'do', 'to', '!']</td>\n",
       "      <td>[(They, 'PRON'), (do, 'VERB'), (to, 'PART'), (...</td>\n",
       "      <td>1</td>\n",
       "      <td>4</td>\n",
       "      <td>4.0</td>\n",
       "    </tr>\n",
       "    <tr>\n",
       "      <th>2</th>\n",
       "      <td>L985</td>\n",
       "      <td>u0</td>\n",
       "      <td>m0</td>\n",
       "      <td>BIANCA</td>\n",
       "      <td>I hope so.</td>\n",
       "      <td>['I hope so.']</td>\n",
       "      <td>['I', 'hope', 'so', '.']</td>\n",
       "      <td>[(I, 'PRON'), (hope, 'VERB'), (so, 'ADV'), (.,...</td>\n",
       "      <td>1</td>\n",
       "      <td>4</td>\n",
       "      <td>4.0</td>\n",
       "    </tr>\n",
       "    <tr>\n",
       "      <th>3</th>\n",
       "      <td>L984</td>\n",
       "      <td>u2</td>\n",
       "      <td>m0</td>\n",
       "      <td>CAMERON</td>\n",
       "      <td>She okay?</td>\n",
       "      <td>['She okay?']</td>\n",
       "      <td>['She', 'okay', '?']</td>\n",
       "      <td>[(She, 'PRON'), (okay, 'ADJ'), (?, 'PUNCT')]</td>\n",
       "      <td>1</td>\n",
       "      <td>3</td>\n",
       "      <td>3.0</td>\n",
       "    </tr>\n",
       "    <tr>\n",
       "      <th>4</th>\n",
       "      <td>L925</td>\n",
       "      <td>u0</td>\n",
       "      <td>m0</td>\n",
       "      <td>BIANCA</td>\n",
       "      <td>Let's go.</td>\n",
       "      <td>[\"Let's go.\"]</td>\n",
       "      <td>['Let', \"'s\", 'go', '.']</td>\n",
       "      <td>[(Let, 'VERB'), ('s, 'PRON'), (go, 'VERB'), (....</td>\n",
       "      <td>1</td>\n",
       "      <td>4</td>\n",
       "      <td>4.0</td>\n",
       "    </tr>\n",
       "  </tbody>\n",
       "</table>\n",
       "</div>"
      ],
      "text/plain": [
       "  line_ID character_ID movie_ID character_name     utterance  \\\n",
       "0   L1045           u0       m0         BIANCA  They do not!   \n",
       "1   L1044           u2       m0        CAMERON   They do to!   \n",
       "2    L985           u0       m0         BIANCA    I hope so.   \n",
       "3    L984           u2       m0        CAMERON     She okay?   \n",
       "4    L925           u0       m0         BIANCA     Let's go.   \n",
       "\n",
       "              sents                      tokens  \\\n",
       "0  ['They do not!']  ['They', 'do', 'not', '!']   \n",
       "1   ['They do to!']   ['They', 'do', 'to', '!']   \n",
       "2    ['I hope so.']    ['I', 'hope', 'so', '.']   \n",
       "3     ['She okay?']        ['She', 'okay', '?']   \n",
       "4     [\"Let's go.\"]    ['Let', \"'s\", 'go', '.']   \n",
       "\n",
       "                                             pos_tag  sent_count  token_count  \\\n",
       "0  [(They, 'PRON'), (do, 'VERB'), (not, 'PART'), ...           1            4   \n",
       "1  [(They, 'PRON'), (do, 'VERB'), (to, 'PART'), (...           1            4   \n",
       "2  [(I, 'PRON'), (hope, 'VERB'), (so, 'ADV'), (.,...           1            4   \n",
       "3       [(She, 'PRON'), (okay, 'ADJ'), (?, 'PUNCT')]           1            3   \n",
       "4  [(Let, 'VERB'), ('s, 'PRON'), (go, 'VERB'), (....           1            4   \n",
       "\n",
       "   avg_sent_length  \n",
       "0              4.0  \n",
       "1              4.0  \n",
       "2              4.0  \n",
       "3              3.0  \n",
       "4              4.0  "
      ]
     },
     "execution_count": 6,
     "metadata": {},
     "output_type": "execute_result"
    }
   ],
   "source": [
    "utterances_df.head()"
   ]
  },
  {
   "cell_type": "markdown",
   "id": "5e4b930e",
   "metadata": {},
   "source": [
    "Link to jnb"
   ]
  },
  {
   "cell_type": "markdown",
   "id": "a7bfe9d4",
   "metadata": {},
   "source": [
    "They all look good I will review some basic information about the data and then compile the data."
   ]
  },
  {
   "cell_type": "markdown",
   "id": "c0cd2981",
   "metadata": {},
   "source": [
    "## Data overview"
   ]
  },
  {
   "cell_type": "markdown",
   "id": "b9195752",
   "metadata": {},
   "source": [
    "Let's review some basic information about the corpus before diving in."
   ]
  },
  {
   "cell_type": "markdown",
   "id": "5a5e8929",
   "metadata": {},
   "source": [
    "Talk about how the data relate togheter"
   ]
  },
  {
   "cell_type": "code",
   "execution_count": null,
   "id": "6ff481ff",
   "metadata": {},
   "outputs": [],
   "source": [
    "# how many movies in the corpus?\n",
    "movies_df.movie_title.count()"
   ]
  },
  {
   "cell_type": "code",
   "execution_count": null,
   "id": "ab108b9d",
   "metadata": {},
   "outputs": [],
   "source": [
    "# what's the earliest year represented?\n",
    "movies_df.movie_year.min()"
   ]
  },
  {
   "cell_type": "code",
   "execution_count": null,
   "id": "acc67fc7",
   "metadata": {},
   "outputs": [],
   "source": [
    "# what's the latest year represented?\n",
    "movies_df.movie_year.max()"
   ]
  },
  {
   "cell_type": "code",
   "execution_count": null,
   "id": "1f563b7c",
   "metadata": {},
   "outputs": [],
   "source": [
    "# how many characters are in the corpus?\n",
    "characters_df.character_name.count()"
   ]
  },
  {
   "cell_type": "code",
   "execution_count": null,
   "id": "a16b1017",
   "metadata": {},
   "outputs": [],
   "source": [
    "# how many utterances?\n",
    "utterances_df.line_ID.count()"
   ]
  },
  {
   "cell_type": "code",
   "execution_count": null,
   "id": "23cb8a50",
   "metadata": {},
   "outputs": [],
   "source": [
    "# how many tokens?\n",
    "utterances_df.token_count.sum()"
   ]
  },
  {
   "cell_type": "markdown",
   "id": "bed00674",
   "metadata": {},
   "source": [
    "## Compiling the data"
   ]
  },
  {
   "cell_type": "markdown",
   "id": "06261ebe",
   "metadata": {},
   "source": [
    "### Discourse"
   ]
  },
  {
   "cell_type": "code",
   "execution_count": 8,
   "id": "612b9661",
   "metadata": {},
   "outputs": [],
   "source": [
    "# because I am looking at discourse, I will use the utterances data frame and load other data into it\n",
    "\n",
    "# adding gender\n",
    "discourse_df = pd.merge(utterances_df, characters_df)\n",
    "\n",
    "# adding movie year and decade\n",
    "discourse_df = pd.merge(discourse_df, movies_df)\n",
    "\n",
    "# adding conversation data\n",
    "discourse_df = pd.merge(discourse_df, conversations_df, left_on='line_ID', right_on='dialogue').drop(columns=['character1_ID', 'character2_ID', 'movie_ID_y', 'dialogue'], axis=1)\n",
    "\n",
    "#rename column\n",
    "discourse_df.rename(columns={\"movie_ID_x\": \"movie_ID\"}, inplace=True)"
   ]
  },
  {
   "cell_type": "code",
   "execution_count": 10,
   "id": "b94ba624",
   "metadata": {},
   "outputs": [],
   "source": [
    "# there are 267 utterances that are empty, I will remove them\n",
    "discourse_df = discourse_df[discourse_df.token_count != 0]"
   ]
  },
  {
   "cell_type": "code",
   "execution_count": 11,
   "id": "41c22d05",
   "metadata": {
    "scrolled": false
   },
   "outputs": [
    {
     "data": {
      "text/html": [
       "<div>\n",
       "<style scoped>\n",
       "    .dataframe tbody tr th:only-of-type {\n",
       "        vertical-align: middle;\n",
       "    }\n",
       "\n",
       "    .dataframe tbody tr th {\n",
       "        vertical-align: top;\n",
       "    }\n",
       "\n",
       "    .dataframe thead th {\n",
       "        text-align: right;\n",
       "    }\n",
       "</style>\n",
       "<table border=\"1\" class=\"dataframe\">\n",
       "  <thead>\n",
       "    <tr style=\"text-align: right;\">\n",
       "      <th></th>\n",
       "      <th>line_ID</th>\n",
       "      <th>character_ID</th>\n",
       "      <th>movie_ID</th>\n",
       "      <th>character_name</th>\n",
       "      <th>utterance</th>\n",
       "      <th>sents</th>\n",
       "      <th>tokens</th>\n",
       "      <th>pos_tag</th>\n",
       "      <th>sent_count</th>\n",
       "      <th>token_count</th>\n",
       "      <th>avg_sent_length</th>\n",
       "      <th>movie_title</th>\n",
       "      <th>gender</th>\n",
       "      <th>movie_year</th>\n",
       "      <th>genres</th>\n",
       "      <th>movie_decade</th>\n",
       "      <th>conversation_ID</th>\n",
       "    </tr>\n",
       "  </thead>\n",
       "  <tbody>\n",
       "    <tr>\n",
       "      <th>0</th>\n",
       "      <td>L1045</td>\n",
       "      <td>u0</td>\n",
       "      <td>m0</td>\n",
       "      <td>BIANCA</td>\n",
       "      <td>They do not!</td>\n",
       "      <td>['They do not!']</td>\n",
       "      <td>['They', 'do', 'not', '!']</td>\n",
       "      <td>[(They, 'PRON'), (do, 'VERB'), (not, 'PART'), ...</td>\n",
       "      <td>1</td>\n",
       "      <td>4</td>\n",
       "      <td>4.000000</td>\n",
       "      <td>10 things i hate about you</td>\n",
       "      <td>F</td>\n",
       "      <td>1999</td>\n",
       "      <td>['comedy', 'romance']</td>\n",
       "      <td>1990</td>\n",
       "      <td>24</td>\n",
       "    </tr>\n",
       "    <tr>\n",
       "      <th>1</th>\n",
       "      <td>L985</td>\n",
       "      <td>u0</td>\n",
       "      <td>m0</td>\n",
       "      <td>BIANCA</td>\n",
       "      <td>I hope so.</td>\n",
       "      <td>['I hope so.']</td>\n",
       "      <td>['I', 'hope', 'so', '.']</td>\n",
       "      <td>[(I, 'PRON'), (hope, 'VERB'), (so, 'ADV'), (.,...</td>\n",
       "      <td>1</td>\n",
       "      <td>4</td>\n",
       "      <td>4.000000</td>\n",
       "      <td>10 things i hate about you</td>\n",
       "      <td>F</td>\n",
       "      <td>1999</td>\n",
       "      <td>['comedy', 'romance']</td>\n",
       "      <td>1990</td>\n",
       "      <td>23</td>\n",
       "    </tr>\n",
       "    <tr>\n",
       "      <th>2</th>\n",
       "      <td>L925</td>\n",
       "      <td>u0</td>\n",
       "      <td>m0</td>\n",
       "      <td>BIANCA</td>\n",
       "      <td>Let's go.</td>\n",
       "      <td>[\"Let's go.\"]</td>\n",
       "      <td>['Let', \"'s\", 'go', '.']</td>\n",
       "      <td>[(Let, 'VERB'), ('s, 'PRON'), (go, 'VERB'), (....</td>\n",
       "      <td>1</td>\n",
       "      <td>4</td>\n",
       "      <td>4.000000</td>\n",
       "      <td>10 things i hate about you</td>\n",
       "      <td>F</td>\n",
       "      <td>1999</td>\n",
       "      <td>['comedy', 'romance']</td>\n",
       "      <td>1990</td>\n",
       "      <td>22</td>\n",
       "    </tr>\n",
       "    <tr>\n",
       "      <th>3</th>\n",
       "      <td>L872</td>\n",
       "      <td>u0</td>\n",
       "      <td>m0</td>\n",
       "      <td>BIANCA</td>\n",
       "      <td>Okay -- you're gonna need to learn how to lie.</td>\n",
       "      <td>[\"Okay -- you're gonna need to learn how to li...</td>\n",
       "      <td>['Okay', '--', 'you', \"'re\", 'gon', 'na', 'nee...</td>\n",
       "      <td>[(Okay, 'INTJ'), (--, 'PUNCT'), (you, 'PRON'),...</td>\n",
       "      <td>1</td>\n",
       "      <td>13</td>\n",
       "      <td>13.000000</td>\n",
       "      <td>10 things i hate about you</td>\n",
       "      <td>F</td>\n",
       "      <td>1999</td>\n",
       "      <td>['comedy', 'romance']</td>\n",
       "      <td>1990</td>\n",
       "      <td>21</td>\n",
       "    </tr>\n",
       "    <tr>\n",
       "      <th>4</th>\n",
       "      <td>L870</td>\n",
       "      <td>u0</td>\n",
       "      <td>m0</td>\n",
       "      <td>BIANCA</td>\n",
       "      <td>I'm kidding.  You know how sometimes you just ...</td>\n",
       "      <td>[\"I'm kidding.\", 'You know how sometimes you j...</td>\n",
       "      <td>['I', \"'m\", 'kidding', '.', 'You', 'know', 'ho...</td>\n",
       "      <td>[(I, 'PRON'), ('m, 'AUX'), (kidding, 'VERB'), ...</td>\n",
       "      <td>3</td>\n",
       "      <td>25</td>\n",
       "      <td>8.333333</td>\n",
       "      <td>10 things i hate about you</td>\n",
       "      <td>F</td>\n",
       "      <td>1999</td>\n",
       "      <td>['comedy', 'romance']</td>\n",
       "      <td>1990</td>\n",
       "      <td>21</td>\n",
       "    </tr>\n",
       "  </tbody>\n",
       "</table>\n",
       "</div>"
      ],
      "text/plain": [
       "  line_ID character_ID movie_ID character_name  \\\n",
       "0   L1045           u0       m0         BIANCA   \n",
       "1    L985           u0       m0         BIANCA   \n",
       "2    L925           u0       m0         BIANCA   \n",
       "3    L872           u0       m0         BIANCA   \n",
       "4    L870           u0       m0         BIANCA   \n",
       "\n",
       "                                           utterance  \\\n",
       "0                                       They do not!   \n",
       "1                                         I hope so.   \n",
       "2                                          Let's go.   \n",
       "3     Okay -- you're gonna need to learn how to lie.   \n",
       "4  I'm kidding.  You know how sometimes you just ...   \n",
       "\n",
       "                                               sents  \\\n",
       "0                                   ['They do not!']   \n",
       "1                                     ['I hope so.']   \n",
       "2                                      [\"Let's go.\"]   \n",
       "3  [\"Okay -- you're gonna need to learn how to li...   \n",
       "4  [\"I'm kidding.\", 'You know how sometimes you j...   \n",
       "\n",
       "                                              tokens  \\\n",
       "0                         ['They', 'do', 'not', '!']   \n",
       "1                           ['I', 'hope', 'so', '.']   \n",
       "2                           ['Let', \"'s\", 'go', '.']   \n",
       "3  ['Okay', '--', 'you', \"'re\", 'gon', 'na', 'nee...   \n",
       "4  ['I', \"'m\", 'kidding', '.', 'You', 'know', 'ho...   \n",
       "\n",
       "                                             pos_tag  sent_count  token_count  \\\n",
       "0  [(They, 'PRON'), (do, 'VERB'), (not, 'PART'), ...           1            4   \n",
       "1  [(I, 'PRON'), (hope, 'VERB'), (so, 'ADV'), (.,...           1            4   \n",
       "2  [(Let, 'VERB'), ('s, 'PRON'), (go, 'VERB'), (....           1            4   \n",
       "3  [(Okay, 'INTJ'), (--, 'PUNCT'), (you, 'PRON'),...           1           13   \n",
       "4  [(I, 'PRON'), ('m, 'AUX'), (kidding, 'VERB'), ...           3           25   \n",
       "\n",
       "   avg_sent_length                 movie_title gender  movie_year  \\\n",
       "0         4.000000  10 things i hate about you      F        1999   \n",
       "1         4.000000  10 things i hate about you      F        1999   \n",
       "2         4.000000  10 things i hate about you      F        1999   \n",
       "3        13.000000  10 things i hate about you      F        1999   \n",
       "4         8.333333  10 things i hate about you      F        1999   \n",
       "\n",
       "                  genres  movie_decade  conversation_ID  \n",
       "0  ['comedy', 'romance']          1990               24  \n",
       "1  ['comedy', 'romance']          1990               23  \n",
       "2  ['comedy', 'romance']          1990               22  \n",
       "3  ['comedy', 'romance']          1990               21  \n",
       "4  ['comedy', 'romance']          1990               21  "
      ]
     },
     "execution_count": 11,
     "metadata": {},
     "output_type": "execute_result"
    }
   ],
   "source": [
    "discourse_df.head()"
   ]
  },
  {
   "cell_type": "code",
   "execution_count": 13,
   "id": "022bd525",
   "metadata": {},
   "outputs": [
    {
     "data": {
      "text/html": [
       "<div>\n",
       "<style scoped>\n",
       "    .dataframe tbody tr th:only-of-type {\n",
       "        vertical-align: middle;\n",
       "    }\n",
       "\n",
       "    .dataframe tbody tr th {\n",
       "        vertical-align: top;\n",
       "    }\n",
       "\n",
       "    .dataframe thead th {\n",
       "        text-align: right;\n",
       "    }\n",
       "</style>\n",
       "<table border=\"1\" class=\"dataframe\">\n",
       "  <thead>\n",
       "    <tr style=\"text-align: right;\">\n",
       "      <th></th>\n",
       "      <th>sent_count</th>\n",
       "      <th>token_count</th>\n",
       "      <th>avg_sent_length</th>\n",
       "      <th>movie_year</th>\n",
       "      <th>movie_decade</th>\n",
       "      <th>conversation_ID</th>\n",
       "    </tr>\n",
       "  </thead>\n",
       "  <tbody>\n",
       "    <tr>\n",
       "      <th>count</th>\n",
       "      <td>304403.000000</td>\n",
       "      <td>304403.000000</td>\n",
       "      <td>304403.000000</td>\n",
       "      <td>304403.000000</td>\n",
       "      <td>304403.000000</td>\n",
       "      <td>304403.000000</td>\n",
       "    </tr>\n",
       "    <tr>\n",
       "      <th>mean</th>\n",
       "      <td>1.695433</td>\n",
       "      <td>13.736120</td>\n",
       "      <td>7.856031</td>\n",
       "      <td>1988.106428</td>\n",
       "      <td>1983.434822</td>\n",
       "      <td>41482.442111</td>\n",
       "    </tr>\n",
       "    <tr>\n",
       "      <th>std</th>\n",
       "      <td>1.252371</td>\n",
       "      <td>14.712649</td>\n",
       "      <td>5.155597</td>\n",
       "      <td>17.141863</td>\n",
       "      <td>17.204418</td>\n",
       "      <td>23872.389444</td>\n",
       "    </tr>\n",
       "    <tr>\n",
       "      <th>min</th>\n",
       "      <td>1.000000</td>\n",
       "      <td>1.000000</td>\n",
       "      <td>1.000000</td>\n",
       "      <td>1927.000000</td>\n",
       "      <td>1920.000000</td>\n",
       "      <td>0.000000</td>\n",
       "    </tr>\n",
       "    <tr>\n",
       "      <th>25%</th>\n",
       "      <td>1.000000</td>\n",
       "      <td>5.000000</td>\n",
       "      <td>4.500000</td>\n",
       "      <td>1984.000000</td>\n",
       "      <td>1980.000000</td>\n",
       "      <td>20784.000000</td>\n",
       "    </tr>\n",
       "    <tr>\n",
       "      <th>50%</th>\n",
       "      <td>1.000000</td>\n",
       "      <td>9.000000</td>\n",
       "      <td>7.000000</td>\n",
       "      <td>1995.000000</td>\n",
       "      <td>1990.000000</td>\n",
       "      <td>41575.000000</td>\n",
       "    </tr>\n",
       "    <tr>\n",
       "      <th>75%</th>\n",
       "      <td>2.000000</td>\n",
       "      <td>17.000000</td>\n",
       "      <td>10.000000</td>\n",
       "      <td>1999.000000</td>\n",
       "      <td>1990.000000</td>\n",
       "      <td>62115.000000</td>\n",
       "    </tr>\n",
       "    <tr>\n",
       "      <th>max</th>\n",
       "      <td>45.000000</td>\n",
       "      <td>684.000000</td>\n",
       "      <td>122.000000</td>\n",
       "      <td>2010.000000</td>\n",
       "      <td>2010.000000</td>\n",
       "      <td>83096.000000</td>\n",
       "    </tr>\n",
       "  </tbody>\n",
       "</table>\n",
       "</div>"
      ],
      "text/plain": [
       "          sent_count    token_count  avg_sent_length     movie_year  \\\n",
       "count  304403.000000  304403.000000    304403.000000  304403.000000   \n",
       "mean        1.695433      13.736120         7.856031    1988.106428   \n",
       "std         1.252371      14.712649         5.155597      17.141863   \n",
       "min         1.000000       1.000000         1.000000    1927.000000   \n",
       "25%         1.000000       5.000000         4.500000    1984.000000   \n",
       "50%         1.000000       9.000000         7.000000    1995.000000   \n",
       "75%         2.000000      17.000000        10.000000    1999.000000   \n",
       "max        45.000000     684.000000       122.000000    2010.000000   \n",
       "\n",
       "        movie_decade  conversation_ID  \n",
       "count  304403.000000    304403.000000  \n",
       "mean     1983.434822     41482.442111  \n",
       "std        17.204418     23872.389444  \n",
       "min      1920.000000         0.000000  \n",
       "25%      1980.000000     20784.000000  \n",
       "50%      1990.000000     41575.000000  \n",
       "75%      1990.000000     62115.000000  \n",
       "max      2010.000000     83096.000000  "
      ]
     },
     "execution_count": 13,
     "metadata": {},
     "output_type": "execute_result"
    }
   ],
   "source": [
    "discourse_df.describe()"
   ]
  },
  {
   "cell_type": "markdown",
   "id": "1f7a8e68",
   "metadata": {},
   "source": [
    "Per turn there is a wide range on the token counts, from 1 to 684. There is also a wide range per turn on sentence counts, from 1 to 45. I need to decide if I will include the max values in my analysis to follow. For now they will remain in."
   ]
  },
  {
   "cell_type": "markdown",
   "id": "7dd63fce",
   "metadata": {},
   "source": [
    "### Tokens"
   ]
  },
  {
   "cell_type": "markdown",
   "id": "3d9d9702",
   "metadata": {},
   "source": [
    "I am looking at token counts to see if there is a difference between turns by gender."
   ]
  },
  {
   "cell_type": "code",
   "execution_count": null,
   "id": "278415b3",
   "metadata": {},
   "outputs": [],
   "source": [
    "discourse_df.groupby('gender').token_count.mean()"
   ]
  },
  {
   "cell_type": "markdown",
   "id": "e8c78d71",
   "metadata": {},
   "source": [
    "Only 0.79 difference between average token counts of male and female characters. Characters with unknown gender markers have the longest turns at 14.7. Female characters have the shortest tokens per turn. Female and ambiguous characters fall below the mean and male and unknown are above the mean."
   ]
  },
  {
   "cell_type": "code",
   "execution_count": null,
   "id": "1b2340fa",
   "metadata": {},
   "outputs": [],
   "source": [
    "# raw counts of tokens across the corpus\n",
    "discourse_df.groupby('gender').token_count.sum()"
   ]
  },
  {
   "cell_type": "markdown",
   "id": "1cc7e2b9",
   "metadata": {},
   "source": [
    "Raw count doesn't help for comparison across categories, but by looking at this we can see that there are more male characters because the average token count above does not differ as much as the raw counts."
   ]
  },
  {
   "cell_type": "code",
   "execution_count": null,
   "id": "2c2bbf2b",
   "metadata": {},
   "outputs": [],
   "source": [
    "# what is the shortest turn by token count?\n",
    "discourse_df.groupby('gender').token_count.min()"
   ]
  },
  {
   "cell_type": "markdown",
   "id": "fda3fc3f",
   "metadata": {},
   "source": [
    "Characters across all gender markers have utterances that are only one token long. I expect these will be interjections of some kind."
   ]
  },
  {
   "cell_type": "code",
   "execution_count": null,
   "id": "3ebea07a",
   "metadata": {},
   "outputs": [],
   "source": [
    "discourse_df[discourse_df.token_count==1]"
   ]
  },
  {
   "cell_type": "markdown",
   "id": "23d6f4d8",
   "metadata": {},
   "source": [
    "At quick glance, some answers and greetings."
   ]
  },
  {
   "cell_type": "code",
   "execution_count": null,
   "id": "d2765aa8",
   "metadata": {},
   "outputs": [],
   "source": [
    "# what's the longest turn by token count?\n",
    "discourse_df.groupby('gender').token_count.max()"
   ]
  },
  {
   "cell_type": "code",
   "execution_count": null,
   "id": "db35ff7b",
   "metadata": {},
   "outputs": [],
   "source": [
    "# this is the longest token count per utterance\n",
    "discourse_df[discourse_df.token_count==684]\n",
    "# seems like it may be a narration intro...it may be removed from analysis"
   ]
  },
  {
   "cell_type": "markdown",
   "id": "9a546b13",
   "metadata": {},
   "source": [
    "At the total corpus level there are some small differences between gender at the token level. I will factor in movie decade to see if any differences can be detected across time."
   ]
  },
  {
   "cell_type": "markdown",
   "id": "e0f379b8",
   "metadata": {},
   "source": [
    "### Token and Movie Decade"
   ]
  },
  {
   "cell_type": "code",
   "execution_count": null,
   "id": "93b972aa",
   "metadata": {
    "scrolled": false
   },
   "outputs": [],
   "source": [
    "discourse_df.groupby(['movie_decade','gender']).token_count.mean()"
   ]
  },
  {
   "cell_type": "code",
   "execution_count": null,
   "id": "c0cdf7d9",
   "metadata": {},
   "outputs": [],
   "source": [
    "discourse_df.groupby(['movie_decade','gender']).token_count.min()\n",
    "# looks like not all movies have as short of utterances"
   ]
  },
  {
   "cell_type": "code",
   "execution_count": null,
   "id": "b11b58f2",
   "metadata": {},
   "outputs": [],
   "source": [
    "discourse_df.groupby(['movie_decade','gender']).token_count.max()"
   ]
  },
  {
   "cell_type": "markdown",
   "id": "b9251b0e",
   "metadata": {},
   "source": [
    "### Sentences"
   ]
  },
  {
   "cell_type": "code",
   "execution_count": null,
   "id": "5f57bd31",
   "metadata": {},
   "outputs": [],
   "source": [
    "# how many sentences per turn?\n",
    "discourse_df.groupby('gender').sent_count.mean()"
   ]
  },
  {
   "cell_type": "markdown",
   "id": "a310517d",
   "metadata": {},
   "source": [
    "The average utterance is less than two sentences long. There is not much difference across the categories. On average, male utterances have slightly more sentences. Again, unknown gender has the most (but barely) average sentences per utterance."
   ]
  },
  {
   "cell_type": "code",
   "execution_count": null,
   "id": "20d392e6",
   "metadata": {},
   "outputs": [],
   "source": [
    "discourse_df.groupby('gender').sent_count.sum()\n",
    "# more sentences for male characters"
   ]
  },
  {
   "cell_type": "markdown",
   "id": "23d14131",
   "metadata": {},
   "source": [
    "This is another view of what we saw above: there are more male characters, which is why the raw sentence count is higher but not the average sentence count."
   ]
  },
  {
   "cell_type": "code",
   "execution_count": null,
   "id": "acf26e37",
   "metadata": {},
   "outputs": [],
   "source": [
    "# how many tokens per sentence?\n",
    "discourse_df.groupby('gender').avg_sent_length.mean()\n",
    "# average sentence length across all genders does not seem to be too wide of a spread"
   ]
  },
  {
   "cell_type": "markdown",
   "id": "b5c7ff7d",
   "metadata": {},
   "source": [
    "For each gender, sentences have on average around 8 words, although female characters have the shortest averages sentences at 7.67."
   ]
  },
  {
   "cell_type": "code",
   "execution_count": null,
   "id": "48b08c4d",
   "metadata": {},
   "outputs": [],
   "source": [
    "discourse_df.groupby('gender').sent_count.max()\n",
    "# the longest turn by number of sentences"
   ]
  },
  {
   "cell_type": "markdown",
   "id": "98be3a5d",
   "metadata": {},
   "source": [
    "Commentary"
   ]
  },
  {
   "cell_type": "code",
   "execution_count": null,
   "id": "f1deba47",
   "metadata": {},
   "outputs": [],
   "source": [
    "discourse_df[(discourse_df.sent_count==18) & (discourse_df.gender=='A')]"
   ]
  },
  {
   "cell_type": "code",
   "execution_count": null,
   "id": "2566f5bf",
   "metadata": {},
   "outputs": [],
   "source": [
    "discourse_df[(discourse_df.sent_count==33) & (discourse_df.gender=='F')]"
   ]
  },
  {
   "cell_type": "code",
   "execution_count": null,
   "id": "5b363cd2",
   "metadata": {},
   "outputs": [],
   "source": [
    "discourse_df[discourse_df.sent_count==45]"
   ]
  },
  {
   "cell_type": "code",
   "execution_count": null,
   "id": "4fb09598",
   "metadata": {
    "scrolled": true
   },
   "outputs": [],
   "source": [
    "discourse_df[(discourse_df.sent_count==24) & (discourse_df.gender=='unknown')]"
   ]
  },
  {
   "cell_type": "markdown",
   "id": "6616e5a0",
   "metadata": {},
   "source": [
    "The longest utterance by sentence and longest utterance by token count are from male characters."
   ]
  },
  {
   "cell_type": "markdown",
   "id": "6285d6d7",
   "metadata": {},
   "source": [
    "### Sentences and Movie Decade"
   ]
  },
  {
   "cell_type": "markdown",
   "id": "c13549db",
   "metadata": {},
   "source": [
    "How does the sentence level information change by decade?"
   ]
  },
  {
   "cell_type": "code",
   "execution_count": null,
   "id": "fba14762",
   "metadata": {
    "scrolled": true
   },
   "outputs": [],
   "source": [
    "discourse_df.groupby(['movie_decade','gender']).sent_count.mean()"
   ]
  },
  {
   "cell_type": "markdown",
   "id": "fa33780a",
   "metadata": {},
   "source": [
    "COMMENTARY"
   ]
  },
  {
   "cell_type": "code",
   "execution_count": null,
   "id": "ac4e2f34",
   "metadata": {
    "scrolled": true
   },
   "outputs": [],
   "source": [
    "discourse_df.groupby(['movie_decade','gender']).sent_count.min()"
   ]
  },
  {
   "cell_type": "markdown",
   "id": "98441bd5",
   "metadata": {},
   "source": [
    "COMMENTARY"
   ]
  },
  {
   "cell_type": "code",
   "execution_count": null,
   "id": "8e00a930",
   "metadata": {
    "scrolled": true
   },
   "outputs": [],
   "source": [
    "discourse_df.groupby(['movie_decade','gender']).sent_count.max()"
   ]
  },
  {
   "cell_type": "markdown",
   "id": "104957cf",
   "metadata": {},
   "source": [
    "COMMENTARY"
   ]
  },
  {
   "cell_type": "code",
   "execution_count": null,
   "id": "68540739",
   "metadata": {},
   "outputs": [],
   "source": [
    "discourse_df.groupby(['movie_decade', 'gender']).avg_sent_length.mean()"
   ]
  },
  {
   "cell_type": "markdown",
   "id": "568d3d5f",
   "metadata": {},
   "source": [
    "COMMENTARY"
   ]
  },
  {
   "cell_type": "markdown",
   "id": "f53b9be0",
   "metadata": {},
   "source": [
    "### Gender/Movie Analysis"
   ]
  },
  {
   "cell_type": "code",
   "execution_count": null,
   "id": "ec5b0b71",
   "metadata": {},
   "outputs": [],
   "source": [
    "# it may be interesting to see character/gender information by year/decade\n",
    "\n",
    "gender_df = pd.merge(characters_df, movies_df)"
   ]
  },
  {
   "cell_type": "code",
   "execution_count": null,
   "id": "e29d0b7c",
   "metadata": {},
   "outputs": [],
   "source": [
    "gender_df.head()"
   ]
  },
  {
   "cell_type": "code",
   "execution_count": null,
   "id": "b2570fad",
   "metadata": {},
   "outputs": [],
   "source": [
    "gender_df.groupby(['movie_decade', 'gender']).count()"
   ]
  },
  {
   "cell_type": "code",
   "execution_count": null,
   "id": "0f127d71",
   "metadata": {},
   "outputs": [],
   "source": [
    "gender_df[gender_df.movie_decade==1920]"
   ]
  },
  {
   "cell_type": "markdown",
   "id": "e2e540c4",
   "metadata": {},
   "source": [
    "Aside from the 1920s, which only had two movies, all other decades have more male characters than female characters."
   ]
  },
  {
   "cell_type": "markdown",
   "id": "e116a239",
   "metadata": {},
   "source": [
    "## Pickling the data and creating a csv"
   ]
  },
  {
   "cell_type": "code",
   "execution_count": null,
   "id": "606c8fa4",
   "metadata": {},
   "outputs": [],
   "source": []
  },
  {
   "cell_type": "code",
   "execution_count": null,
   "id": "20d9c7f1",
   "metadata": {},
   "outputs": [],
   "source": []
  },
  {
   "cell_type": "code",
   "execution_count": null,
   "id": "0f11b369",
   "metadata": {},
   "outputs": [],
   "source": []
  },
  {
   "cell_type": "markdown",
   "id": "ccac7a61",
   "metadata": {},
   "source": [
    "## Conclusion"
   ]
  },
  {
   "cell_type": "markdown",
   "id": "4f1f5e1b",
   "metadata": {},
   "source": [
    "something"
   ]
  }
 ],
 "metadata": {
  "kernelspec": {
   "display_name": "Python 3",
   "language": "python",
   "name": "python3"
  },
  "language_info": {
   "codemirror_mode": {
    "name": "ipython",
    "version": 3
   },
   "file_extension": ".py",
   "mimetype": "text/x-python",
   "name": "python",
   "nbconvert_exporter": "python",
   "pygments_lexer": "ipython3",
   "version": "3.8.8"
  }
 },
 "nbformat": 4,
 "nbformat_minor": 5
}
