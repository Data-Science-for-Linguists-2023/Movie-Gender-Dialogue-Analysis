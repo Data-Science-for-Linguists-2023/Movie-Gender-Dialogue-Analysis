{
 "cells": [
  {
   "cell_type": "markdown",
   "id": "76559349",
   "metadata": {},
   "source": [
    "# Data Frame Creation"
   ]
  },
  {
   "cell_type": "code",
   "execution_count": 1,
   "id": "847157bb",
   "metadata": {},
   "outputs": [],
   "source": [
    "# import packages\n",
    "import numpy as np\n",
    "import pandas as pd"
   ]
  },
  {
   "cell_type": "code",
   "execution_count": 2,
   "id": "8bf0adde",
   "metadata": {
    "scrolled": true
   },
   "outputs": [],
   "source": [
    "# creating the dfs\n",
    "characters_df = pd.read_csv('data/movie_characters_metadata.txt', sep=' \\+\\+\\+\\$\\+\\+\\+ ',\n",
    "                            names = ['character_ID', 'character_name', 'movie_ID', 'movie_title', 'gender', 'credit_position'], \n",
    "                            index_col='character_ID', engine='python', encoding='ISO-8859-1')\n",
    "movies_df = pd.read_csv('data/movie_titles_metadata.txt', sep=' \\+\\+\\+\\$\\+\\+\\+ ',\n",
    "                        names=['movie_ID', 'movie_title' , 'movie_year', 'IMDB_rating', 'IMBD_votes', 'genres'], \n",
    "                        index_col='movie_ID', engine='python', encoding='ISO-8859-1')\n",
    "utterances_df = pd.read_csv('data/movie_lines.txt', sep=' \\+\\+\\+\\$\\+\\+\\+ ',\n",
    "                            names=['line_ID', 'character_ID' , 'movie_ID', 'character_name', 'utterance'], \n",
    "                            index_col='line_ID', engine='python', encoding='ISO-8859-1')\n",
    "conversations_df = pd.read_csv('data/movie_conversations.txt', sep=' \\+\\+\\+\\$\\+\\+\\+ ',\n",
    "                                names=['character_ID1', 'character_ID2' , 'movie_ID', 'dialogue'], engine='python')"
   ]
  },
  {
   "cell_type": "markdown",
   "id": "6cb6893e",
   "metadata": {},
   "source": [
    "The data was all separated with ' +++$+++ ' and did not have column names. The README described what each column was in the data so I used that to create column names. Where logical, I made the index of the df the initial ID column."
   ]
  },
  {
   "cell_type": "markdown",
   "id": "26bb4857",
   "metadata": {},
   "source": [
    "### characters_df"
   ]
  },
  {
   "cell_type": "markdown",
   "id": "cf383b5d",
   "metadata": {},
   "source": [
    "This data frame lists all characters, their movie, their gender, and their credit position. The `character_ID` column is later referenced in other data frames."
   ]
  },
  {
   "cell_type": "code",
   "execution_count": 3,
   "id": "2c12c5f2",
   "metadata": {},
   "outputs": [
    {
     "data": {
      "text/plain": [
       "(9035, 5)"
      ]
     },
     "execution_count": 3,
     "metadata": {},
     "output_type": "execute_result"
    }
   ],
   "source": [
    "characters_df.shape"
   ]
  },
  {
   "cell_type": "code",
   "execution_count": 4,
   "id": "fa3fec89",
   "metadata": {},
   "outputs": [
    {
     "name": "stdout",
     "output_type": "stream",
     "text": [
      "<class 'pandas.core.frame.DataFrame'>\n",
      "Index: 9035 entries, u0 to u9034\n",
      "Data columns (total 5 columns):\n",
      " #   Column           Non-Null Count  Dtype \n",
      "---  ------           --------------  ----- \n",
      " 0   character_name   9033 non-null   object\n",
      " 1   movie_ID         9035 non-null   object\n",
      " 2   movie_title      9035 non-null   object\n",
      " 3   gender           9035 non-null   object\n",
      " 4   credit_position  9035 non-null   object\n",
      "dtypes: object(5)\n",
      "memory usage: 423.5+ KB\n"
     ]
    }
   ],
   "source": [
    "characters_df.info()\n",
    "# some characters are unnamed"
   ]
  },
  {
   "cell_type": "code",
   "execution_count": 5,
   "id": "566f959e",
   "metadata": {
    "scrolled": true
   },
   "outputs": [
    {
     "data": {
      "text/html": [
       "<div>\n",
       "<style scoped>\n",
       "    .dataframe tbody tr th:only-of-type {\n",
       "        vertical-align: middle;\n",
       "    }\n",
       "\n",
       "    .dataframe tbody tr th {\n",
       "        vertical-align: top;\n",
       "    }\n",
       "\n",
       "    .dataframe thead th {\n",
       "        text-align: right;\n",
       "    }\n",
       "</style>\n",
       "<table border=\"1\" class=\"dataframe\">\n",
       "  <thead>\n",
       "    <tr style=\"text-align: right;\">\n",
       "      <th></th>\n",
       "      <th>character_name</th>\n",
       "      <th>movie_ID</th>\n",
       "      <th>movie_title</th>\n",
       "      <th>gender</th>\n",
       "      <th>credit_position</th>\n",
       "    </tr>\n",
       "    <tr>\n",
       "      <th>character_ID</th>\n",
       "      <th></th>\n",
       "      <th></th>\n",
       "      <th></th>\n",
       "      <th></th>\n",
       "      <th></th>\n",
       "    </tr>\n",
       "  </thead>\n",
       "  <tbody>\n",
       "    <tr>\n",
       "      <th>u0</th>\n",
       "      <td>BIANCA</td>\n",
       "      <td>m0</td>\n",
       "      <td>10 things i hate about you</td>\n",
       "      <td>f</td>\n",
       "      <td>4</td>\n",
       "    </tr>\n",
       "    <tr>\n",
       "      <th>u1</th>\n",
       "      <td>BRUCE</td>\n",
       "      <td>m0</td>\n",
       "      <td>10 things i hate about you</td>\n",
       "      <td>?</td>\n",
       "      <td>?</td>\n",
       "    </tr>\n",
       "    <tr>\n",
       "      <th>u2</th>\n",
       "      <td>CAMERON</td>\n",
       "      <td>m0</td>\n",
       "      <td>10 things i hate about you</td>\n",
       "      <td>m</td>\n",
       "      <td>3</td>\n",
       "    </tr>\n",
       "    <tr>\n",
       "      <th>u3</th>\n",
       "      <td>CHASTITY</td>\n",
       "      <td>m0</td>\n",
       "      <td>10 things i hate about you</td>\n",
       "      <td>?</td>\n",
       "      <td>?</td>\n",
       "    </tr>\n",
       "    <tr>\n",
       "      <th>u4</th>\n",
       "      <td>JOEY</td>\n",
       "      <td>m0</td>\n",
       "      <td>10 things i hate about you</td>\n",
       "      <td>m</td>\n",
       "      <td>6</td>\n",
       "    </tr>\n",
       "  </tbody>\n",
       "</table>\n",
       "</div>"
      ],
      "text/plain": [
       "             character_name movie_ID                 movie_title gender  \\\n",
       "character_ID                                                              \n",
       "u0                   BIANCA       m0  10 things i hate about you      f   \n",
       "u1                    BRUCE       m0  10 things i hate about you      ?   \n",
       "u2                  CAMERON       m0  10 things i hate about you      m   \n",
       "u3                 CHASTITY       m0  10 things i hate about you      ?   \n",
       "u4                     JOEY       m0  10 things i hate about you      m   \n",
       "\n",
       "             credit_position  \n",
       "character_ID                  \n",
       "u0                         4  \n",
       "u1                         ?  \n",
       "u2                         3  \n",
       "u3                         ?  \n",
       "u4                         6  "
      ]
     },
     "execution_count": 5,
     "metadata": {},
     "output_type": "execute_result"
    }
   ],
   "source": [
    "characters_df.head()"
   ]
  },
  {
   "cell_type": "markdown",
   "id": "17fb5d49",
   "metadata": {},
   "source": [
    "Some gender makers are missing for characters in this dataframe, I will work on filling in the missing data."
   ]
  },
  {
   "cell_type": "code",
   "execution_count": 6,
   "id": "3e818763",
   "metadata": {},
   "outputs": [
    {
     "data": {
      "text/html": [
       "<div>\n",
       "<style scoped>\n",
       "    .dataframe tbody tr th:only-of-type {\n",
       "        vertical-align: middle;\n",
       "    }\n",
       "\n",
       "    .dataframe tbody tr th {\n",
       "        vertical-align: top;\n",
       "    }\n",
       "\n",
       "    .dataframe thead th {\n",
       "        text-align: right;\n",
       "    }\n",
       "</style>\n",
       "<table border=\"1\" class=\"dataframe\">\n",
       "  <thead>\n",
       "    <tr style=\"text-align: right;\">\n",
       "      <th></th>\n",
       "      <th>character_name</th>\n",
       "      <th>movie_ID</th>\n",
       "      <th>movie_title</th>\n",
       "      <th>credit_position</th>\n",
       "    </tr>\n",
       "    <tr>\n",
       "      <th>gender</th>\n",
       "      <th></th>\n",
       "      <th></th>\n",
       "      <th></th>\n",
       "      <th></th>\n",
       "    </tr>\n",
       "  </thead>\n",
       "  <tbody>\n",
       "    <tr>\n",
       "      <th>?</th>\n",
       "      <td>6018</td>\n",
       "      <td>6020</td>\n",
       "      <td>6020</td>\n",
       "      <td>6020</td>\n",
       "    </tr>\n",
       "    <tr>\n",
       "      <th>F</th>\n",
       "      <td>45</td>\n",
       "      <td>45</td>\n",
       "      <td>45</td>\n",
       "      <td>45</td>\n",
       "    </tr>\n",
       "    <tr>\n",
       "      <th>M</th>\n",
       "      <td>150</td>\n",
       "      <td>150</td>\n",
       "      <td>150</td>\n",
       "      <td>150</td>\n",
       "    </tr>\n",
       "    <tr>\n",
       "      <th>f</th>\n",
       "      <td>921</td>\n",
       "      <td>921</td>\n",
       "      <td>921</td>\n",
       "      <td>921</td>\n",
       "    </tr>\n",
       "    <tr>\n",
       "      <th>m</th>\n",
       "      <td>1899</td>\n",
       "      <td>1899</td>\n",
       "      <td>1899</td>\n",
       "      <td>1899</td>\n",
       "    </tr>\n",
       "  </tbody>\n",
       "</table>\n",
       "</div>"
      ],
      "text/plain": [
       "        character_name  movie_ID  movie_title  credit_position\n",
       "gender                                                        \n",
       "?                 6018      6020         6020             6020\n",
       "F                   45        45           45               45\n",
       "M                  150       150          150              150\n",
       "f                  921       921          921              921\n",
       "m                 1899      1899         1899             1899"
      ]
     },
     "execution_count": 6,
     "metadata": {},
     "output_type": "execute_result"
    }
   ],
   "source": [
    "# how many characters are missing gender?\n",
    "characters_df.groupby('gender').count()"
   ]
  },
  {
   "cell_type": "markdown",
   "id": "773ec602",
   "metadata": {},
   "source": [
    "Looks like a lot of missing gender markers! Looks like some of the flags are inconsist too, there is 'm' and 'M.'"
   ]
  },
  {
   "cell_type": "markdown",
   "id": "5fb60a1c",
   "metadata": {},
   "source": [
    "### movies_df"
   ]
  },
  {
   "cell_type": "markdown",
   "id": "1fb9d191",
   "metadata": {},
   "source": [
    "This data frame lists all movies, their year, IMBD rating, IMBD votes, and their genres. The `movie_ID` column is later referenced in other data frames."
   ]
  },
  {
   "cell_type": "code",
   "execution_count": 7,
   "id": "433a7714",
   "metadata": {},
   "outputs": [
    {
     "data": {
      "text/plain": [
       "(617, 5)"
      ]
     },
     "execution_count": 7,
     "metadata": {},
     "output_type": "execute_result"
    }
   ],
   "source": [
    "movies_df.shape"
   ]
  },
  {
   "cell_type": "code",
   "execution_count": 8,
   "id": "daae2635",
   "metadata": {},
   "outputs": [
    {
     "name": "stdout",
     "output_type": "stream",
     "text": [
      "<class 'pandas.core.frame.DataFrame'>\n",
      "Index: 617 entries, m0 to m616\n",
      "Data columns (total 5 columns):\n",
      " #   Column       Non-Null Count  Dtype  \n",
      "---  ------       --------------  -----  \n",
      " 0   movie_title  617 non-null    object \n",
      " 1   movie_year   617 non-null    object \n",
      " 2   IMDB_rating  617 non-null    float64\n",
      " 3   IMBD_votes   617 non-null    int64  \n",
      " 4   genres       617 non-null    object \n",
      "dtypes: float64(1), int64(1), object(3)\n",
      "memory usage: 28.9+ KB\n"
     ]
    }
   ],
   "source": [
    "movies_df.info()"
   ]
  },
  {
   "cell_type": "code",
   "execution_count": 9,
   "id": "7ff2b5a2",
   "metadata": {},
   "outputs": [
    {
     "data": {
      "text/html": [
       "<div>\n",
       "<style scoped>\n",
       "    .dataframe tbody tr th:only-of-type {\n",
       "        vertical-align: middle;\n",
       "    }\n",
       "\n",
       "    .dataframe tbody tr th {\n",
       "        vertical-align: top;\n",
       "    }\n",
       "\n",
       "    .dataframe thead th {\n",
       "        text-align: right;\n",
       "    }\n",
       "</style>\n",
       "<table border=\"1\" class=\"dataframe\">\n",
       "  <thead>\n",
       "    <tr style=\"text-align: right;\">\n",
       "      <th></th>\n",
       "      <th>movie_title</th>\n",
       "      <th>movie_year</th>\n",
       "      <th>IMDB_rating</th>\n",
       "      <th>IMBD_votes</th>\n",
       "      <th>genres</th>\n",
       "    </tr>\n",
       "    <tr>\n",
       "      <th>movie_ID</th>\n",
       "      <th></th>\n",
       "      <th></th>\n",
       "      <th></th>\n",
       "      <th></th>\n",
       "      <th></th>\n",
       "    </tr>\n",
       "  </thead>\n",
       "  <tbody>\n",
       "    <tr>\n",
       "      <th>m0</th>\n",
       "      <td>10 things i hate about you</td>\n",
       "      <td>1999</td>\n",
       "      <td>6.9</td>\n",
       "      <td>62847</td>\n",
       "      <td>['comedy', 'romance']</td>\n",
       "    </tr>\n",
       "    <tr>\n",
       "      <th>m1</th>\n",
       "      <td>1492: conquest of paradise</td>\n",
       "      <td>1992</td>\n",
       "      <td>6.2</td>\n",
       "      <td>10421</td>\n",
       "      <td>['adventure', 'biography', 'drama', 'history']</td>\n",
       "    </tr>\n",
       "    <tr>\n",
       "      <th>m2</th>\n",
       "      <td>15 minutes</td>\n",
       "      <td>2001</td>\n",
       "      <td>6.1</td>\n",
       "      <td>25854</td>\n",
       "      <td>['action', 'crime', 'drama', 'thriller']</td>\n",
       "    </tr>\n",
       "    <tr>\n",
       "      <th>m3</th>\n",
       "      <td>2001: a space odyssey</td>\n",
       "      <td>1968</td>\n",
       "      <td>8.4</td>\n",
       "      <td>163227</td>\n",
       "      <td>['adventure', 'mystery', 'sci-fi']</td>\n",
       "    </tr>\n",
       "    <tr>\n",
       "      <th>m4</th>\n",
       "      <td>48 hrs.</td>\n",
       "      <td>1982</td>\n",
       "      <td>6.9</td>\n",
       "      <td>22289</td>\n",
       "      <td>['action', 'comedy', 'crime', 'drama', 'thrill...</td>\n",
       "    </tr>\n",
       "  </tbody>\n",
       "</table>\n",
       "</div>"
      ],
      "text/plain": [
       "                         movie_title movie_year  IMDB_rating  IMBD_votes  \\\n",
       "movie_ID                                                                   \n",
       "m0        10 things i hate about you       1999          6.9       62847   \n",
       "m1        1492: conquest of paradise       1992          6.2       10421   \n",
       "m2                        15 minutes       2001          6.1       25854   \n",
       "m3             2001: a space odyssey       1968          8.4      163227   \n",
       "m4                           48 hrs.       1982          6.9       22289   \n",
       "\n",
       "                                                     genres  \n",
       "movie_ID                                                     \n",
       "m0                                    ['comedy', 'romance']  \n",
       "m1           ['adventure', 'biography', 'drama', 'history']  \n",
       "m2                 ['action', 'crime', 'drama', 'thriller']  \n",
       "m3                       ['adventure', 'mystery', 'sci-fi']  \n",
       "m4        ['action', 'comedy', 'crime', 'drama', 'thrill...  "
      ]
     },
     "execution_count": 9,
     "metadata": {},
     "output_type": "execute_result"
    }
   ],
   "source": [
    "movies_df.head()"
   ]
  },
  {
   "cell_type": "code",
   "execution_count": 10,
   "id": "ddaed558",
   "metadata": {},
   "outputs": [
    {
     "data": {
      "text/plain": [
       "'1927'"
      ]
     },
     "execution_count": 10,
     "metadata": {},
     "output_type": "execute_result"
    }
   ],
   "source": [
    "# what is the earliest movie in the df?\n",
    "movies_df['movie_year'].min()"
   ]
  },
  {
   "cell_type": "code",
   "execution_count": 11,
   "id": "426d0f4c",
   "metadata": {},
   "outputs": [
    {
     "data": {
      "text/plain": [
       "'2010'"
      ]
     },
     "execution_count": 11,
     "metadata": {},
     "output_type": "execute_result"
    }
   ],
   "source": [
    "# what is the most recent movie in the df?\n",
    "movies_df['movie_year'].max()"
   ]
  },
  {
   "cell_type": "code",
   "execution_count": 12,
   "id": "f57294fb",
   "metadata": {},
   "outputs": [
    {
     "data": {
      "text/html": [
       "<div>\n",
       "<style scoped>\n",
       "    .dataframe tbody tr th:only-of-type {\n",
       "        vertical-align: middle;\n",
       "    }\n",
       "\n",
       "    .dataframe tbody tr th {\n",
       "        vertical-align: top;\n",
       "    }\n",
       "\n",
       "    .dataframe thead th {\n",
       "        text-align: right;\n",
       "    }\n",
       "</style>\n",
       "<table border=\"1\" class=\"dataframe\">\n",
       "  <thead>\n",
       "    <tr style=\"text-align: right;\">\n",
       "      <th></th>\n",
       "      <th>movie_title</th>\n",
       "      <th>IMDB_rating</th>\n",
       "      <th>IMBD_votes</th>\n",
       "      <th>genres</th>\n",
       "    </tr>\n",
       "    <tr>\n",
       "      <th>movie_year</th>\n",
       "      <th></th>\n",
       "      <th></th>\n",
       "      <th></th>\n",
       "      <th></th>\n",
       "    </tr>\n",
       "  </thead>\n",
       "  <tbody>\n",
       "    <tr>\n",
       "      <th>1927</th>\n",
       "      <td>2</td>\n",
       "      <td>2</td>\n",
       "      <td>2</td>\n",
       "      <td>2</td>\n",
       "    </tr>\n",
       "    <tr>\n",
       "      <th>1931</th>\n",
       "      <td>2</td>\n",
       "      <td>2</td>\n",
       "      <td>2</td>\n",
       "      <td>2</td>\n",
       "    </tr>\n",
       "    <tr>\n",
       "      <th>1932</th>\n",
       "      <td>4</td>\n",
       "      <td>4</td>\n",
       "      <td>4</td>\n",
       "      <td>4</td>\n",
       "    </tr>\n",
       "    <tr>\n",
       "      <th>1933</th>\n",
       "      <td>2</td>\n",
       "      <td>2</td>\n",
       "      <td>2</td>\n",
       "      <td>2</td>\n",
       "    </tr>\n",
       "    <tr>\n",
       "      <th>1934</th>\n",
       "      <td>3</td>\n",
       "      <td>3</td>\n",
       "      <td>3</td>\n",
       "      <td>3</td>\n",
       "    </tr>\n",
       "    <tr>\n",
       "      <th>...</th>\n",
       "      <td>...</td>\n",
       "      <td>...</td>\n",
       "      <td>...</td>\n",
       "      <td>...</td>\n",
       "    </tr>\n",
       "    <tr>\n",
       "      <th>2007/I</th>\n",
       "      <td>1</td>\n",
       "      <td>1</td>\n",
       "      <td>1</td>\n",
       "      <td>1</td>\n",
       "    </tr>\n",
       "    <tr>\n",
       "      <th>2008</th>\n",
       "      <td>1</td>\n",
       "      <td>1</td>\n",
       "      <td>1</td>\n",
       "      <td>1</td>\n",
       "    </tr>\n",
       "    <tr>\n",
       "      <th>2009</th>\n",
       "      <td>3</td>\n",
       "      <td>3</td>\n",
       "      <td>3</td>\n",
       "      <td>3</td>\n",
       "    </tr>\n",
       "    <tr>\n",
       "      <th>2009/I</th>\n",
       "      <td>1</td>\n",
       "      <td>1</td>\n",
       "      <td>1</td>\n",
       "      <td>1</td>\n",
       "    </tr>\n",
       "    <tr>\n",
       "      <th>2010</th>\n",
       "      <td>1</td>\n",
       "      <td>1</td>\n",
       "      <td>1</td>\n",
       "      <td>1</td>\n",
       "    </tr>\n",
       "  </tbody>\n",
       "</table>\n",
       "<p>88 rows × 4 columns</p>\n",
       "</div>"
      ],
      "text/plain": [
       "            movie_title  IMDB_rating  IMBD_votes  genres\n",
       "movie_year                                              \n",
       "1927                  2            2           2       2\n",
       "1931                  2            2           2       2\n",
       "1932                  4            4           4       4\n",
       "1933                  2            2           2       2\n",
       "1934                  3            3           3       3\n",
       "...                 ...          ...         ...     ...\n",
       "2007/I                1            1           1       1\n",
       "2008                  1            1           1       1\n",
       "2009                  3            3           3       3\n",
       "2009/I                1            1           1       1\n",
       "2010                  1            1           1       1\n",
       "\n",
       "[88 rows x 4 columns]"
      ]
     },
     "execution_count": 12,
     "metadata": {},
     "output_type": "execute_result"
    }
   ],
   "source": [
    "# how many movies per year?\n",
    "movies_df.groupby('movie_year').count()"
   ]
  },
  {
   "cell_type": "markdown",
   "id": "4bb3ac55",
   "metadata": {},
   "source": [
    "Some of this data will need to be cleaned up as well."
   ]
  },
  {
   "cell_type": "markdown",
   "id": "9ae57dee",
   "metadata": {},
   "source": [
    "### utterances_df"
   ]
  },
  {
   "cell_type": "markdown",
   "id": "9e5a8a4c",
   "metadata": {},
   "source": [
    "This data frame lists the movie lines (utterances) and the character speaking. The `line_ID` column is referenced in the `conversations_df`."
   ]
  },
  {
   "cell_type": "code",
   "execution_count": 13,
   "id": "9bc30532",
   "metadata": {},
   "outputs": [
    {
     "data": {
      "text/plain": [
       "(304713, 4)"
      ]
     },
     "execution_count": 13,
     "metadata": {},
     "output_type": "execute_result"
    }
   ],
   "source": [
    "utterances_df.shape"
   ]
  },
  {
   "cell_type": "code",
   "execution_count": 14,
   "id": "f4a7d6ec",
   "metadata": {},
   "outputs": [
    {
     "name": "stdout",
     "output_type": "stream",
     "text": [
      "<class 'pandas.core.frame.DataFrame'>\n",
      "Index: 304713 entries, L1045 to L666256\n",
      "Data columns (total 4 columns):\n",
      " #   Column          Non-Null Count   Dtype \n",
      "---  ------          --------------   ----- \n",
      " 0   character_ID    304713 non-null  object\n",
      " 1   movie_ID        304713 non-null  object\n",
      " 2   character_name  304670 non-null  object\n",
      " 3   utterance       304446 non-null  object\n",
      "dtypes: object(4)\n",
      "memory usage: 11.6+ MB\n"
     ]
    }
   ],
   "source": [
    "utterances_df.info()\n",
    "# looks like there may be some missing information here"
   ]
  },
  {
   "cell_type": "code",
   "execution_count": 15,
   "id": "c84dae52",
   "metadata": {},
   "outputs": [
    {
     "data": {
      "text/html": [
       "<div>\n",
       "<style scoped>\n",
       "    .dataframe tbody tr th:only-of-type {\n",
       "        vertical-align: middle;\n",
       "    }\n",
       "\n",
       "    .dataframe tbody tr th {\n",
       "        vertical-align: top;\n",
       "    }\n",
       "\n",
       "    .dataframe thead th {\n",
       "        text-align: right;\n",
       "    }\n",
       "</style>\n",
       "<table border=\"1\" class=\"dataframe\">\n",
       "  <thead>\n",
       "    <tr style=\"text-align: right;\">\n",
       "      <th></th>\n",
       "      <th>character_ID</th>\n",
       "      <th>movie_ID</th>\n",
       "      <th>character_name</th>\n",
       "      <th>utterance</th>\n",
       "    </tr>\n",
       "    <tr>\n",
       "      <th>line_ID</th>\n",
       "      <th></th>\n",
       "      <th></th>\n",
       "      <th></th>\n",
       "      <th></th>\n",
       "    </tr>\n",
       "  </thead>\n",
       "  <tbody>\n",
       "    <tr>\n",
       "      <th>L1045</th>\n",
       "      <td>u0</td>\n",
       "      <td>m0</td>\n",
       "      <td>BIANCA</td>\n",
       "      <td>They do not!</td>\n",
       "    </tr>\n",
       "    <tr>\n",
       "      <th>L1044</th>\n",
       "      <td>u2</td>\n",
       "      <td>m0</td>\n",
       "      <td>CAMERON</td>\n",
       "      <td>They do to!</td>\n",
       "    </tr>\n",
       "    <tr>\n",
       "      <th>L985</th>\n",
       "      <td>u0</td>\n",
       "      <td>m0</td>\n",
       "      <td>BIANCA</td>\n",
       "      <td>I hope so.</td>\n",
       "    </tr>\n",
       "    <tr>\n",
       "      <th>L984</th>\n",
       "      <td>u2</td>\n",
       "      <td>m0</td>\n",
       "      <td>CAMERON</td>\n",
       "      <td>She okay?</td>\n",
       "    </tr>\n",
       "    <tr>\n",
       "      <th>L925</th>\n",
       "      <td>u0</td>\n",
       "      <td>m0</td>\n",
       "      <td>BIANCA</td>\n",
       "      <td>Let's go.</td>\n",
       "    </tr>\n",
       "  </tbody>\n",
       "</table>\n",
       "</div>"
      ],
      "text/plain": [
       "        character_ID movie_ID character_name     utterance\n",
       "line_ID                                                   \n",
       "L1045             u0       m0         BIANCA  They do not!\n",
       "L1044             u2       m0        CAMERON   They do to!\n",
       "L985              u0       m0         BIANCA    I hope so.\n",
       "L984              u2       m0        CAMERON     She okay?\n",
       "L925              u0       m0         BIANCA     Let's go."
      ]
     },
     "execution_count": 15,
     "metadata": {},
     "output_type": "execute_result"
    }
   ],
   "source": [
    "utterances_df.head()"
   ]
  },
  {
   "cell_type": "markdown",
   "id": "8d8da061",
   "metadata": {},
   "source": [
    "### conversations_df"
   ]
  },
  {
   "cell_type": "markdown",
   "id": "041ca67c",
   "metadata": {},
   "source": [
    "This data frame lists the `character_ID`s for the two characters in the conversation, the `movie_ID`, and the dialogue through references to `line_ID`s."
   ]
  },
  {
   "cell_type": "code",
   "execution_count": 16,
   "id": "5da4079a",
   "metadata": {},
   "outputs": [
    {
     "data": {
      "text/plain": [
       "(83097, 4)"
      ]
     },
     "execution_count": 16,
     "metadata": {},
     "output_type": "execute_result"
    }
   ],
   "source": [
    "conversations_df.shape"
   ]
  },
  {
   "cell_type": "code",
   "execution_count": 17,
   "id": "1382fc14",
   "metadata": {},
   "outputs": [
    {
     "name": "stdout",
     "output_type": "stream",
     "text": [
      "<class 'pandas.core.frame.DataFrame'>\n",
      "RangeIndex: 83097 entries, 0 to 83096\n",
      "Data columns (total 4 columns):\n",
      " #   Column         Non-Null Count  Dtype \n",
      "---  ------         --------------  ----- \n",
      " 0   character_ID1  83097 non-null  object\n",
      " 1   character_ID2  83097 non-null  object\n",
      " 2   movie_ID       83097 non-null  object\n",
      " 3   dialogue       83097 non-null  object\n",
      "dtypes: object(4)\n",
      "memory usage: 2.5+ MB\n"
     ]
    }
   ],
   "source": [
    "conversations_df.info()"
   ]
  },
  {
   "cell_type": "code",
   "execution_count": 18,
   "id": "ee3d277e",
   "metadata": {},
   "outputs": [
    {
     "data": {
      "text/html": [
       "<div>\n",
       "<style scoped>\n",
       "    .dataframe tbody tr th:only-of-type {\n",
       "        vertical-align: middle;\n",
       "    }\n",
       "\n",
       "    .dataframe tbody tr th {\n",
       "        vertical-align: top;\n",
       "    }\n",
       "\n",
       "    .dataframe thead th {\n",
       "        text-align: right;\n",
       "    }\n",
       "</style>\n",
       "<table border=\"1\" class=\"dataframe\">\n",
       "  <thead>\n",
       "    <tr style=\"text-align: right;\">\n",
       "      <th></th>\n",
       "      <th>character_ID1</th>\n",
       "      <th>character_ID2</th>\n",
       "      <th>movie_ID</th>\n",
       "      <th>dialogue</th>\n",
       "    </tr>\n",
       "  </thead>\n",
       "  <tbody>\n",
       "    <tr>\n",
       "      <th>0</th>\n",
       "      <td>u0</td>\n",
       "      <td>u2</td>\n",
       "      <td>m0</td>\n",
       "      <td>['L194', 'L195', 'L196', 'L197']</td>\n",
       "    </tr>\n",
       "    <tr>\n",
       "      <th>1</th>\n",
       "      <td>u0</td>\n",
       "      <td>u2</td>\n",
       "      <td>m0</td>\n",
       "      <td>['L198', 'L199']</td>\n",
       "    </tr>\n",
       "    <tr>\n",
       "      <th>2</th>\n",
       "      <td>u0</td>\n",
       "      <td>u2</td>\n",
       "      <td>m0</td>\n",
       "      <td>['L200', 'L201', 'L202', 'L203']</td>\n",
       "    </tr>\n",
       "    <tr>\n",
       "      <th>3</th>\n",
       "      <td>u0</td>\n",
       "      <td>u2</td>\n",
       "      <td>m0</td>\n",
       "      <td>['L204', 'L205', 'L206']</td>\n",
       "    </tr>\n",
       "    <tr>\n",
       "      <th>4</th>\n",
       "      <td>u0</td>\n",
       "      <td>u2</td>\n",
       "      <td>m0</td>\n",
       "      <td>['L207', 'L208']</td>\n",
       "    </tr>\n",
       "  </tbody>\n",
       "</table>\n",
       "</div>"
      ],
      "text/plain": [
       "  character_ID1 character_ID2 movie_ID                          dialogue\n",
       "0            u0            u2       m0  ['L194', 'L195', 'L196', 'L197']\n",
       "1            u0            u2       m0                  ['L198', 'L199']\n",
       "2            u0            u2       m0  ['L200', 'L201', 'L202', 'L203']\n",
       "3            u0            u2       m0          ['L204', 'L205', 'L206']\n",
       "4            u0            u2       m0                  ['L207', 'L208']"
      ]
     },
     "execution_count": 18,
     "metadata": {},
     "output_type": "execute_result"
    }
   ],
   "source": [
    "conversations_df.head()"
   ]
  },
  {
   "cell_type": "markdown",
   "id": "2e44f6a3",
   "metadata": {},
   "source": [
    "This dataframe will only make sense when compiled with the others to read in character names, movie names, and the utterances (stored as line numbers in the dialogue column)."
   ]
  },
  {
   "cell_type": "markdown",
   "id": "48a77d87",
   "metadata": {},
   "source": [
    "### Data overview"
   ]
  },
  {
   "cell_type": "markdown",
   "id": "33ced2c1",
   "metadata": {},
   "source": [
    "The data in this corpus is composed of 304,713 utterances from 83,097 conversations between 9,035 different characters from 617 movies between 1927 and 2010. Metadata are present for characters and movies. I will have to join across multiple data frames to get the relevant information into the `conversations_df` which will be where a lot of my analysis wll be done."
   ]
  }
 ],
 "metadata": {
  "kernelspec": {
   "display_name": "Python 3",
   "language": "python",
   "name": "python3"
  },
  "language_info": {
   "codemirror_mode": {
    "name": "ipython",
    "version": 3
   },
   "file_extension": ".py",
   "mimetype": "text/x-python",
   "name": "python",
   "nbconvert_exporter": "python",
   "pygments_lexer": "ipython3",
   "version": "3.8.8"
  }
 },
 "nbformat": 4,
 "nbformat_minor": 5
}
