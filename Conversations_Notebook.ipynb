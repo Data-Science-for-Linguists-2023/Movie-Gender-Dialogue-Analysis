{
 "cells": [
  {
   "cell_type": "markdown",
   "id": "f55604e3",
   "metadata": {},
   "source": [
    "# Conversations"
   ]
  },
  {
   "cell_type": "markdown",
   "id": "af770b44",
   "metadata": {},
   "source": [
    "NEW REPLACEMENT"
   ]
  },
  {
   "cell_type": "markdown",
   "id": "e8d68259",
   "metadata": {},
   "source": [
    "This data frame lists the `character_ID`s for the two characters in the conversation, the `movie_ID`, and the dialogue through references to `line_ID`s."
   ]
  },
  {
   "cell_type": "code",
   "execution_count": 1,
   "id": "b74ca047",
   "metadata": {},
   "outputs": [],
   "source": [
    "# import packages\n",
    "import numpy as np\n",
    "import pandas as pd\n",
    "import re"
   ]
  },
  {
   "cell_type": "code",
   "execution_count": 2,
   "id": "2cabd7ca",
   "metadata": {},
   "outputs": [
    {
     "name": "stdout",
     "output_type": "stream",
     "text": [
      "Pretty printing has been turned OFF\n"
     ]
    }
   ],
   "source": [
    "# turn off pretty printing\n",
    "%pprint"
   ]
  },
  {
   "cell_type": "markdown",
   "id": "e635d647",
   "metadata": {},
   "source": [
    "## Loading in the data and basic summary"
   ]
  },
  {
   "cell_type": "code",
   "execution_count": 3,
   "id": "b937a00e",
   "metadata": {},
   "outputs": [],
   "source": [
    "conversations_df = pd.read_csv('./data/movie_conversations.txt', sep='\\s+\\+\\+\\+\\$\\+\\+\\+\\s?',\n",
    "                               names=['character_ID1', 'character_ID2' , 'movie_ID', 'dialogue'], \n",
    "                               dtype={'character_ID1':'string', 'character_ID2':'string', 'movie_ID':'string'}, engine='python')"
   ]
  },
  {
   "cell_type": "markdown",
   "id": "2d481b11",
   "metadata": {},
   "source": [
    "The data was all separated with ' +++$+++ ' and did not have column names. The README described what each column was in the data so I used that to create column names. Where logical, I made the index of the df the initial ID column."
   ]
  },
  {
   "cell_type": "code",
   "execution_count": 4,
   "id": "3aa9f7ef",
   "metadata": {},
   "outputs": [
    {
     "data": {
      "text/plain": [
       "(83097, 4)"
      ]
     },
     "execution_count": 4,
     "metadata": {},
     "output_type": "execute_result"
    }
   ],
   "source": [
    "conversations_df.shape"
   ]
  },
  {
   "cell_type": "code",
   "execution_count": 5,
   "id": "ed9cbb68",
   "metadata": {},
   "outputs": [
    {
     "name": "stdout",
     "output_type": "stream",
     "text": [
      "<class 'pandas.core.frame.DataFrame'>\n",
      "RangeIndex: 83097 entries, 0 to 83096\n",
      "Data columns (total 4 columns):\n",
      " #   Column         Non-Null Count  Dtype \n",
      "---  ------         --------------  ----- \n",
      " 0   character_ID1  83097 non-null  string\n",
      " 1   character_ID2  83097 non-null  string\n",
      " 2   movie_ID       83097 non-null  string\n",
      " 3   dialogue       83097 non-null  object\n",
      "dtypes: object(1), string(3)\n",
      "memory usage: 2.5+ MB\n"
     ]
    }
   ],
   "source": [
    "conversations_df.info()"
   ]
  },
  {
   "cell_type": "code",
   "execution_count": 6,
   "id": "95ed7080",
   "metadata": {},
   "outputs": [
    {
     "data": {
      "text/html": [
       "<div>\n",
       "<style scoped>\n",
       "    .dataframe tbody tr th:only-of-type {\n",
       "        vertical-align: middle;\n",
       "    }\n",
       "\n",
       "    .dataframe tbody tr th {\n",
       "        vertical-align: top;\n",
       "    }\n",
       "\n",
       "    .dataframe thead th {\n",
       "        text-align: right;\n",
       "    }\n",
       "</style>\n",
       "<table border=\"1\" class=\"dataframe\">\n",
       "  <thead>\n",
       "    <tr style=\"text-align: right;\">\n",
       "      <th></th>\n",
       "      <th>character_ID1</th>\n",
       "      <th>character_ID2</th>\n",
       "      <th>movie_ID</th>\n",
       "      <th>dialogue</th>\n",
       "    </tr>\n",
       "  </thead>\n",
       "  <tbody>\n",
       "    <tr>\n",
       "      <th>0</th>\n",
       "      <td>u0</td>\n",
       "      <td>u2</td>\n",
       "      <td>m0</td>\n",
       "      <td>['L194', 'L195', 'L196', 'L197']</td>\n",
       "    </tr>\n",
       "    <tr>\n",
       "      <th>1</th>\n",
       "      <td>u0</td>\n",
       "      <td>u2</td>\n",
       "      <td>m0</td>\n",
       "      <td>['L198', 'L199']</td>\n",
       "    </tr>\n",
       "    <tr>\n",
       "      <th>2</th>\n",
       "      <td>u0</td>\n",
       "      <td>u2</td>\n",
       "      <td>m0</td>\n",
       "      <td>['L200', 'L201', 'L202', 'L203']</td>\n",
       "    </tr>\n",
       "    <tr>\n",
       "      <th>3</th>\n",
       "      <td>u0</td>\n",
       "      <td>u2</td>\n",
       "      <td>m0</td>\n",
       "      <td>['L204', 'L205', 'L206']</td>\n",
       "    </tr>\n",
       "    <tr>\n",
       "      <th>4</th>\n",
       "      <td>u0</td>\n",
       "      <td>u2</td>\n",
       "      <td>m0</td>\n",
       "      <td>['L207', 'L208']</td>\n",
       "    </tr>\n",
       "  </tbody>\n",
       "</table>\n",
       "</div>"
      ],
      "text/plain": [
       "  character_ID1 character_ID2 movie_ID                          dialogue\n",
       "0            u0            u2       m0  ['L194', 'L195', 'L196', 'L197']\n",
       "1            u0            u2       m0                  ['L198', 'L199']\n",
       "2            u0            u2       m0  ['L200', 'L201', 'L202', 'L203']\n",
       "3            u0            u2       m0          ['L204', 'L205', 'L206']\n",
       "4            u0            u2       m0                  ['L207', 'L208']"
      ]
     },
     "execution_count": 6,
     "metadata": {},
     "output_type": "execute_result"
    }
   ],
   "source": [
    "conversations_df.head()"
   ]
  },
  {
   "cell_type": "markdown",
   "id": "278c87b3",
   "metadata": {},
   "source": [
    "This dataframe will only make sense when compiled with the others to read in character names, movie names, and the utterances (stored as line numbers in the dialogue column)."
   ]
  },
  {
   "cell_type": "code",
   "execution_count": 25,
   "id": "70e2985e",
   "metadata": {},
   "outputs": [
    {
     "data": {
      "text/html": [
       "<div>\n",
       "<style scoped>\n",
       "    .dataframe tbody tr th:only-of-type {\n",
       "        vertical-align: middle;\n",
       "    }\n",
       "\n",
       "    .dataframe tbody tr th {\n",
       "        vertical-align: top;\n",
       "    }\n",
       "\n",
       "    .dataframe thead th {\n",
       "        text-align: right;\n",
       "    }\n",
       "</style>\n",
       "<table border=\"1\" class=\"dataframe\">\n",
       "  <thead>\n",
       "    <tr style=\"text-align: right;\">\n",
       "      <th></th>\n",
       "      <th>character_ID1</th>\n",
       "      <th>character_ID2</th>\n",
       "      <th>movie_ID</th>\n",
       "      <th>dialogue</th>\n",
       "    </tr>\n",
       "  </thead>\n",
       "  <tbody>\n",
       "    <tr>\n",
       "      <th>0</th>\n",
       "      <td>u0</td>\n",
       "      <td>u2</td>\n",
       "      <td>m0</td>\n",
       "      <td>['L194', 'L195', 'L196', 'L197']</td>\n",
       "    </tr>\n",
       "    <tr>\n",
       "      <th>1</th>\n",
       "      <td>u0</td>\n",
       "      <td>u2</td>\n",
       "      <td>m0</td>\n",
       "      <td>['L198', 'L199']</td>\n",
       "    </tr>\n",
       "    <tr>\n",
       "      <th>2</th>\n",
       "      <td>u0</td>\n",
       "      <td>u2</td>\n",
       "      <td>m0</td>\n",
       "      <td>['L200', 'L201', 'L202', 'L203']</td>\n",
       "    </tr>\n",
       "    <tr>\n",
       "      <th>3</th>\n",
       "      <td>u0</td>\n",
       "      <td>u2</td>\n",
       "      <td>m0</td>\n",
       "      <td>['L204', 'L205', 'L206']</td>\n",
       "    </tr>\n",
       "    <tr>\n",
       "      <th>4</th>\n",
       "      <td>u0</td>\n",
       "      <td>u2</td>\n",
       "      <td>m0</td>\n",
       "      <td>['L207', 'L208']</td>\n",
       "    </tr>\n",
       "    <tr>\n",
       "      <th>...</th>\n",
       "      <td>...</td>\n",
       "      <td>...</td>\n",
       "      <td>...</td>\n",
       "      <td>...</td>\n",
       "    </tr>\n",
       "    <tr>\n",
       "      <th>83092</th>\n",
       "      <td>u9028</td>\n",
       "      <td>u9031</td>\n",
       "      <td>m616</td>\n",
       "      <td>['L666324', 'L666325', 'L666326', 'L666327']</td>\n",
       "    </tr>\n",
       "    <tr>\n",
       "      <th>83093</th>\n",
       "      <td>u9028</td>\n",
       "      <td>u9031</td>\n",
       "      <td>m616</td>\n",
       "      <td>['L666575', 'L666576']</td>\n",
       "    </tr>\n",
       "    <tr>\n",
       "      <th>83094</th>\n",
       "      <td>u9030</td>\n",
       "      <td>u9034</td>\n",
       "      <td>m616</td>\n",
       "      <td>['L666256', 'L666257']</td>\n",
       "    </tr>\n",
       "    <tr>\n",
       "      <th>83095</th>\n",
       "      <td>u9030</td>\n",
       "      <td>u9034</td>\n",
       "      <td>m616</td>\n",
       "      <td>['L666369', 'L666370', 'L666371', 'L666372']</td>\n",
       "    </tr>\n",
       "    <tr>\n",
       "      <th>83096</th>\n",
       "      <td>u9030</td>\n",
       "      <td>u9034</td>\n",
       "      <td>m616</td>\n",
       "      <td>['L666520', 'L666521', 'L666522']</td>\n",
       "    </tr>\n",
       "  </tbody>\n",
       "</table>\n",
       "<p>83097 rows × 4 columns</p>\n",
       "</div>"
      ],
      "text/plain": [
       "      character_ID1 character_ID2 movie_ID  \\\n",
       "0                u0            u2       m0   \n",
       "1                u0            u2       m0   \n",
       "2                u0            u2       m0   \n",
       "3                u0            u2       m0   \n",
       "4                u0            u2       m0   \n",
       "...             ...           ...      ...   \n",
       "83092         u9028         u9031     m616   \n",
       "83093         u9028         u9031     m616   \n",
       "83094         u9030         u9034     m616   \n",
       "83095         u9030         u9034     m616   \n",
       "83096         u9030         u9034     m616   \n",
       "\n",
       "                                           dialogue  \n",
       "0                  ['L194', 'L195', 'L196', 'L197']  \n",
       "1                                  ['L198', 'L199']  \n",
       "2                  ['L200', 'L201', 'L202', 'L203']  \n",
       "3                          ['L204', 'L205', 'L206']  \n",
       "4                                  ['L207', 'L208']  \n",
       "...                                             ...  \n",
       "83092  ['L666324', 'L666325', 'L666326', 'L666327']  \n",
       "83093                        ['L666575', 'L666576']  \n",
       "83094                        ['L666256', 'L666257']  \n",
       "83095  ['L666369', 'L666370', 'L666371', 'L666372']  \n",
       "83096             ['L666520', 'L666521', 'L666522']  \n",
       "\n",
       "[83097 rows x 4 columns]"
      ]
     },
     "execution_count": 25,
     "metadata": {},
     "output_type": "execute_result"
    }
   ],
   "source": [
    "# i will split the lines in the dialogue column into separate lines to make it easier to analyze\n",
    "conversations_df.explode('dialogue')"
   ]
  }
 ],
 "metadata": {
  "kernelspec": {
   "display_name": "Python 3",
   "language": "python",
   "name": "python3"
  },
  "language_info": {
   "codemirror_mode": {
    "name": "ipython",
    "version": 3
   },
   "file_extension": ".py",
   "mimetype": "text/x-python",
   "name": "python",
   "nbconvert_exporter": "python",
   "pygments_lexer": "ipython3",
   "version": "3.8.8"
  }
 },
 "nbformat": 4,
 "nbformat_minor": 5
}
