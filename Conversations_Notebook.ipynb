{
 "cells": [
  {
   "cell_type": "markdown",
   "id": "f55604e3",
   "metadata": {},
   "source": [
    "# Conversations"
   ]
  },
  {
   "cell_type": "markdown",
   "id": "af770b44",
   "metadata": {},
   "source": [
    "EXISTING"
   ]
  },
  {
   "cell_type": "markdown",
   "id": "e8d68259",
   "metadata": {},
   "source": [
    "This data frame lists the `character_ID`s for the two characters in the conversation, the `movie_ID`, and the dialogue through references to `line_ID`s."
   ]
  },
  {
   "cell_type": "code",
   "execution_count": 1,
   "id": "b74ca047",
   "metadata": {},
   "outputs": [],
   "source": [
    "# import packages\n",
    "import numpy as np\n",
    "import pandas as pd"
   ]
  },
  {
   "cell_type": "markdown",
   "id": "e635d647",
   "metadata": {},
   "source": [
    "## Loading in the data and basic summary"
   ]
  },
  {
   "cell_type": "code",
   "execution_count": 2,
   "id": "b937a00e",
   "metadata": {},
   "outputs": [],
   "source": [
    "conversations_df = pd.read_csv('./data/movie_conversations.txt', sep='\\s+\\+\\+\\+\\$\\+\\+\\+\\s?',\n",
    "                               names=['character1_ID', 'character2_ID' , 'movie_ID', 'dialogue'], \n",
    "                               dtype={'character1_ID':'string', 'character1_ID':'string', 'movie_ID':'string'}, engine='python')"
   ]
  },
  {
   "cell_type": "markdown",
   "id": "2d481b11",
   "metadata": {},
   "source": [
    "The data was all separated with ' +++$+++ ' and did not have column names. The README described what each column was in the data so I used that to create column names. Where logical, I made the index of the df the initial ID column."
   ]
  },
  {
   "cell_type": "code",
   "execution_count": 3,
   "id": "3aa9f7ef",
   "metadata": {},
   "outputs": [
    {
     "data": {
      "text/plain": [
       "(83097, 4)"
      ]
     },
     "execution_count": 3,
     "metadata": {},
     "output_type": "execute_result"
    }
   ],
   "source": [
    "conversations_df.shape"
   ]
  },
  {
   "cell_type": "code",
   "execution_count": 4,
   "id": "ed9cbb68",
   "metadata": {},
   "outputs": [
    {
     "name": "stdout",
     "output_type": "stream",
     "text": [
      "<class 'pandas.core.frame.DataFrame'>\n",
      "RangeIndex: 83097 entries, 0 to 83096\n",
      "Data columns (total 4 columns):\n",
      " #   Column         Non-Null Count  Dtype \n",
      "---  ------         --------------  ----- \n",
      " 0   character1_ID  83097 non-null  string\n",
      " 1   character2_ID  83097 non-null  object\n",
      " 2   movie_ID       83097 non-null  string\n",
      " 3   dialogue       83097 non-null  object\n",
      "dtypes: object(2), string(2)\n",
      "memory usage: 2.5+ MB\n"
     ]
    }
   ],
   "source": [
    "conversations_df.info()"
   ]
  },
  {
   "cell_type": "code",
   "execution_count": 5,
   "id": "95ed7080",
   "metadata": {},
   "outputs": [
    {
     "data": {
      "text/html": [
       "<div>\n",
       "<style scoped>\n",
       "    .dataframe tbody tr th:only-of-type {\n",
       "        vertical-align: middle;\n",
       "    }\n",
       "\n",
       "    .dataframe tbody tr th {\n",
       "        vertical-align: top;\n",
       "    }\n",
       "\n",
       "    .dataframe thead th {\n",
       "        text-align: right;\n",
       "    }\n",
       "</style>\n",
       "<table border=\"1\" class=\"dataframe\">\n",
       "  <thead>\n",
       "    <tr style=\"text-align: right;\">\n",
       "      <th></th>\n",
       "      <th>character1_ID</th>\n",
       "      <th>character2_ID</th>\n",
       "      <th>movie_ID</th>\n",
       "      <th>dialogue</th>\n",
       "    </tr>\n",
       "  </thead>\n",
       "  <tbody>\n",
       "    <tr>\n",
       "      <th>0</th>\n",
       "      <td>u0</td>\n",
       "      <td>u2</td>\n",
       "      <td>m0</td>\n",
       "      <td>['L194', 'L195', 'L196', 'L197']</td>\n",
       "    </tr>\n",
       "    <tr>\n",
       "      <th>1</th>\n",
       "      <td>u0</td>\n",
       "      <td>u2</td>\n",
       "      <td>m0</td>\n",
       "      <td>['L198', 'L199']</td>\n",
       "    </tr>\n",
       "    <tr>\n",
       "      <th>2</th>\n",
       "      <td>u0</td>\n",
       "      <td>u2</td>\n",
       "      <td>m0</td>\n",
       "      <td>['L200', 'L201', 'L202', 'L203']</td>\n",
       "    </tr>\n",
       "    <tr>\n",
       "      <th>3</th>\n",
       "      <td>u0</td>\n",
       "      <td>u2</td>\n",
       "      <td>m0</td>\n",
       "      <td>['L204', 'L205', 'L206']</td>\n",
       "    </tr>\n",
       "    <tr>\n",
       "      <th>4</th>\n",
       "      <td>u0</td>\n",
       "      <td>u2</td>\n",
       "      <td>m0</td>\n",
       "      <td>['L207', 'L208']</td>\n",
       "    </tr>\n",
       "  </tbody>\n",
       "</table>\n",
       "</div>"
      ],
      "text/plain": [
       "  character1_ID character2_ID movie_ID                          dialogue\n",
       "0            u0            u2       m0  ['L194', 'L195', 'L196', 'L197']\n",
       "1            u0            u2       m0                  ['L198', 'L199']\n",
       "2            u0            u2       m0  ['L200', 'L201', 'L202', 'L203']\n",
       "3            u0            u2       m0          ['L204', 'L205', 'L206']\n",
       "4            u0            u2       m0                  ['L207', 'L208']"
      ]
     },
     "execution_count": 5,
     "metadata": {},
     "output_type": "execute_result"
    }
   ],
   "source": [
    "conversations_df.head()"
   ]
  },
  {
   "cell_type": "markdown",
   "id": "278c87b3",
   "metadata": {},
   "source": [
    "This dataframe will only make sense when compiled with the others to read in character names, movie names, and the utterances (stored as line numbers in the dialogue column)."
   ]
  },
  {
   "cell_type": "code",
   "execution_count": 6,
   "id": "fdf86cd0",
   "metadata": {},
   "outputs": [],
   "source": [
    "# dialogue = conversations_df.dialogue.values.tolist()"
   ]
  },
  {
   "cell_type": "markdown",
   "id": "50bf2d8f",
   "metadata": {},
   "source": [
    "Function to go through each dialogue and bring in utterance\n",
    " - take in dialogue list, output utterances per line (data frame)\n",
    " - use .loc or .iloc[index]\n",
    " - initialize empty df or list outside of for loop in func\n",
    " - append each row\n",
    " - add conversation id"
   ]
  },
  {
   "cell_type": "code",
   "execution_count": 7,
   "id": "4ac446be",
   "metadata": {},
   "outputs": [],
   "source": [
    "# conversations_df['dialogue'] = conversations_df.dialogue.values.tolist()"
   ]
  },
  {
   "cell_type": "code",
   "execution_count": 8,
   "id": "70e2985e",
   "metadata": {
    "scrolled": false
   },
   "outputs": [],
   "source": [
    "# i will split the lines in the dialogue column into separate lines to make it easier to analyze\n",
    "# conversations_df.explode('dialogue')"
   ]
  },
  {
   "cell_type": "code",
   "execution_count": 9,
   "id": "fc769085",
   "metadata": {},
   "outputs": [],
   "source": [
    "# conversations_simp = conversations_df[['dialogue']]"
   ]
  },
  {
   "cell_type": "code",
   "execution_count": 10,
   "id": "24a0c8c8",
   "metadata": {},
   "outputs": [],
   "source": [
    "# conversations_simp.explode('dialogue')"
   ]
  },
  {
   "cell_type": "markdown",
   "id": "648a3945",
   "metadata": {},
   "source": [
    "## Pickling the data"
   ]
  },
  {
   "cell_type": "code",
   "execution_count": 11,
   "id": "93a2fdde",
   "metadata": {},
   "outputs": [],
   "source": [
    "import pickle"
   ]
  },
  {
   "cell_type": "code",
   "execution_count": 12,
   "id": "22258715",
   "metadata": {},
   "outputs": [],
   "source": [
    "# pickle the data to use in other notebooks for further analysis\n",
    "f = open('conversations_df.pkl', 'wb')\n",
    "pickle.dump(conversations_df, f, -1)\n",
    "f.close()"
   ]
  },
  {
   "cell_type": "code",
   "execution_count": 14,
   "id": "ed5dbc3c",
   "metadata": {},
   "outputs": [],
   "source": [
    "conversations_df.to_csv('./new_data/conversations_df.csv', header=True)"
   ]
  }
 ],
 "metadata": {
  "kernelspec": {
   "display_name": "Python 3",
   "language": "python",
   "name": "python3"
  },
  "language_info": {
   "codemirror_mode": {
    "name": "ipython",
    "version": 3
   },
   "file_extension": ".py",
   "mimetype": "text/x-python",
   "name": "python",
   "nbconvert_exporter": "python",
   "pygments_lexer": "ipython3",
   "version": "3.8.8"
  }
 },
 "nbformat": 4,
 "nbformat_minor": 5
}
