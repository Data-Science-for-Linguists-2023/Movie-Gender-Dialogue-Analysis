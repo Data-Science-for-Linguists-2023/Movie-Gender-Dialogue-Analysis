{
 "cells": [
  {
   "cell_type": "markdown",
   "id": "f55604e3",
   "metadata": {},
   "source": [
    "# Conversations"
   ]
  },
  {
   "cell_type": "markdown",
   "id": "af770b44",
   "metadata": {},
   "source": [
    "EXISTING"
   ]
  },
  {
   "cell_type": "markdown",
   "id": "e8d68259",
   "metadata": {},
   "source": [
    "This data frame lists the `character_ID`s for the two characters in the conversation, the `movie_ID`, and the dialogue through references to `line_ID`s."
   ]
  },
  {
   "cell_type": "markdown",
   "id": "04164399",
   "metadata": {},
   "source": [
    "## Table of Contents\n",
    "- [1st Section](#Loading-in-the-data-and-basic-summary) is where I import the files and get an idea of the data shape and contents\n",
    "- [2nd section](#Fixing-the-dialogue-column) is where I fix the dialogue list issue and explode the data frame\n",
    "- [3rd section](#Exploration) is where I look into some different aspects of the conversations\n",
    "- [4th section](#Pickling-the-data-and-creating-a-csv) is where the data are saved and exported\n",
    "- [Conclusion](#Conclusion) summarizes the notebook"
   ]
  },
  {
   "cell_type": "code",
   "execution_count": 1,
   "id": "b74ca047",
   "metadata": {},
   "outputs": [],
   "source": [
    "# import packages\n",
    "import numpy as np\n",
    "import pandas as pd\n",
    "from ast import literal_eval "
   ]
  },
  {
   "cell_type": "markdown",
   "id": "e635d647",
   "metadata": {},
   "source": [
    "## Loading in the data and basic summary"
   ]
  },
  {
   "cell_type": "code",
   "execution_count": 2,
   "id": "b937a00e",
   "metadata": {},
   "outputs": [],
   "source": [
    "conversations_df = pd.read_csv('../data/movie_conversations.txt', sep='\\s+\\+\\+\\+\\$\\+\\+\\+\\s?',\n",
    "                               names=['character1_ID', 'character2_ID' , 'movie_ID', 'dialogue'], \n",
    "                               dtype={'character1_ID':'string', 'character2_ID':'string', 'movie_ID':'string'}, \n",
    "                               engine='python')"
   ]
  },
  {
   "cell_type": "markdown",
   "id": "2d481b11",
   "metadata": {},
   "source": [
    "The data were all separated with ' +++$+++ ' and did not have column names. The README from the original data described what each column was in the data so I used that to create column names."
   ]
  },
  {
   "cell_type": "code",
   "execution_count": 3,
   "id": "3aa9f7ef",
   "metadata": {},
   "outputs": [
    {
     "data": {
      "text/plain": [
       "(83097, 4)"
      ]
     },
     "execution_count": 3,
     "metadata": {},
     "output_type": "execute_result"
    }
   ],
   "source": [
    "conversations_df.shape"
   ]
  },
  {
   "cell_type": "code",
   "execution_count": 4,
   "id": "ed9cbb68",
   "metadata": {},
   "outputs": [
    {
     "name": "stdout",
     "output_type": "stream",
     "text": [
      "<class 'pandas.core.frame.DataFrame'>\n",
      "RangeIndex: 83097 entries, 0 to 83096\n",
      "Data columns (total 4 columns):\n",
      " #   Column         Non-Null Count  Dtype \n",
      "---  ------         --------------  ----- \n",
      " 0   character1_ID  83097 non-null  string\n",
      " 1   character2_ID  83097 non-null  string\n",
      " 2   movie_ID       83097 non-null  string\n",
      " 3   dialogue       83097 non-null  object\n",
      "dtypes: object(1), string(3)\n",
      "memory usage: 2.5+ MB\n"
     ]
    }
   ],
   "source": [
    "conversations_df.info()"
   ]
  },
  {
   "cell_type": "code",
   "execution_count": 5,
   "id": "95ed7080",
   "metadata": {},
   "outputs": [
    {
     "data": {
      "text/html": [
       "<div>\n",
       "<style scoped>\n",
       "    .dataframe tbody tr th:only-of-type {\n",
       "        vertical-align: middle;\n",
       "    }\n",
       "\n",
       "    .dataframe tbody tr th {\n",
       "        vertical-align: top;\n",
       "    }\n",
       "\n",
       "    .dataframe thead th {\n",
       "        text-align: right;\n",
       "    }\n",
       "</style>\n",
       "<table border=\"1\" class=\"dataframe\">\n",
       "  <thead>\n",
       "    <tr style=\"text-align: right;\">\n",
       "      <th></th>\n",
       "      <th>character1_ID</th>\n",
       "      <th>character2_ID</th>\n",
       "      <th>movie_ID</th>\n",
       "      <th>dialogue</th>\n",
       "    </tr>\n",
       "  </thead>\n",
       "  <tbody>\n",
       "    <tr>\n",
       "      <th>0</th>\n",
       "      <td>u0</td>\n",
       "      <td>u2</td>\n",
       "      <td>m0</td>\n",
       "      <td>['L194', 'L195', 'L196', 'L197']</td>\n",
       "    </tr>\n",
       "    <tr>\n",
       "      <th>1</th>\n",
       "      <td>u0</td>\n",
       "      <td>u2</td>\n",
       "      <td>m0</td>\n",
       "      <td>['L198', 'L199']</td>\n",
       "    </tr>\n",
       "    <tr>\n",
       "      <th>2</th>\n",
       "      <td>u0</td>\n",
       "      <td>u2</td>\n",
       "      <td>m0</td>\n",
       "      <td>['L200', 'L201', 'L202', 'L203']</td>\n",
       "    </tr>\n",
       "    <tr>\n",
       "      <th>3</th>\n",
       "      <td>u0</td>\n",
       "      <td>u2</td>\n",
       "      <td>m0</td>\n",
       "      <td>['L204', 'L205', 'L206']</td>\n",
       "    </tr>\n",
       "    <tr>\n",
       "      <th>4</th>\n",
       "      <td>u0</td>\n",
       "      <td>u2</td>\n",
       "      <td>m0</td>\n",
       "      <td>['L207', 'L208']</td>\n",
       "    </tr>\n",
       "  </tbody>\n",
       "</table>\n",
       "</div>"
      ],
      "text/plain": [
       "  character1_ID character2_ID movie_ID                          dialogue\n",
       "0            u0            u2       m0  ['L194', 'L195', 'L196', 'L197']\n",
       "1            u0            u2       m0                  ['L198', 'L199']\n",
       "2            u0            u2       m0  ['L200', 'L201', 'L202', 'L203']\n",
       "3            u0            u2       m0          ['L204', 'L205', 'L206']\n",
       "4            u0            u2       m0                  ['L207', 'L208']"
      ]
     },
     "execution_count": 5,
     "metadata": {},
     "output_type": "execute_result"
    }
   ],
   "source": [
    "conversations_df.head()"
   ]
  },
  {
   "cell_type": "markdown",
   "id": "278c87b3",
   "metadata": {},
   "source": [
    "This dataframe will only make sense when compiled with the others to read in character names, movie names, and the utterances (stored as line numbers in the dialogue column)."
   ]
  },
  {
   "cell_type": "markdown",
   "id": "a68e432e",
   "metadata": {},
   "source": [
    "## Fixing the dialogue column"
   ]
  },
  {
   "cell_type": "markdown",
   "id": "82c10eda",
   "metadata": {},
   "source": [
    "The `dialogue` column was not reading in properly as a list, so that made manipulation very challenging. The following code corrects this issue and was found thanks to [this](https://stackoverflow.com/questions/32742976/how-to-read-a-column-of-csv-as-dtype-list-using-pandas) Stack Overflow thread."
   ]
  },
  {
   "cell_type": "code",
   "execution_count": 6,
   "id": "f9b851b0",
   "metadata": {},
   "outputs": [],
   "source": [
    "conversations_df[\"dialogue\"] = conversations_df[\"dialogue\"].fillna(\"[]\").apply(lambda x: eval(x))"
   ]
  },
  {
   "cell_type": "markdown",
   "id": "98d60fd2",
   "metadata": {},
   "source": [
    "To help with downstream analysis, I am creating a 'conversation_ID' column that duplicates the index of the data frame."
   ]
  },
  {
   "cell_type": "code",
   "execution_count": 7,
   "id": "10acf70c",
   "metadata": {},
   "outputs": [],
   "source": [
    "conversations_df['conversation_ID'] = conversations_df.index"
   ]
  },
  {
   "cell_type": "code",
   "execution_count": 8,
   "id": "f6276cc4",
   "metadata": {},
   "outputs": [],
   "source": [
    "# rearrange the columns\n",
    "conversations_df = conversations_df[['conversation_ID', 'character1_ID', 'character2_ID', 'movie_ID', 'dialogue']]"
   ]
  },
  {
   "cell_type": "code",
   "execution_count": 9,
   "id": "a06af282",
   "metadata": {},
   "outputs": [
    {
     "data": {
      "text/html": [
       "<div>\n",
       "<style scoped>\n",
       "    .dataframe tbody tr th:only-of-type {\n",
       "        vertical-align: middle;\n",
       "    }\n",
       "\n",
       "    .dataframe tbody tr th {\n",
       "        vertical-align: top;\n",
       "    }\n",
       "\n",
       "    .dataframe thead th {\n",
       "        text-align: right;\n",
       "    }\n",
       "</style>\n",
       "<table border=\"1\" class=\"dataframe\">\n",
       "  <thead>\n",
       "    <tr style=\"text-align: right;\">\n",
       "      <th></th>\n",
       "      <th>conversation_ID</th>\n",
       "      <th>character1_ID</th>\n",
       "      <th>character2_ID</th>\n",
       "      <th>movie_ID</th>\n",
       "      <th>dialogue</th>\n",
       "    </tr>\n",
       "  </thead>\n",
       "  <tbody>\n",
       "    <tr>\n",
       "      <th>0</th>\n",
       "      <td>0</td>\n",
       "      <td>u0</td>\n",
       "      <td>u2</td>\n",
       "      <td>m0</td>\n",
       "      <td>[L194, L195, L196, L197]</td>\n",
       "    </tr>\n",
       "    <tr>\n",
       "      <th>1</th>\n",
       "      <td>1</td>\n",
       "      <td>u0</td>\n",
       "      <td>u2</td>\n",
       "      <td>m0</td>\n",
       "      <td>[L198, L199]</td>\n",
       "    </tr>\n",
       "    <tr>\n",
       "      <th>2</th>\n",
       "      <td>2</td>\n",
       "      <td>u0</td>\n",
       "      <td>u2</td>\n",
       "      <td>m0</td>\n",
       "      <td>[L200, L201, L202, L203]</td>\n",
       "    </tr>\n",
       "    <tr>\n",
       "      <th>3</th>\n",
       "      <td>3</td>\n",
       "      <td>u0</td>\n",
       "      <td>u2</td>\n",
       "      <td>m0</td>\n",
       "      <td>[L204, L205, L206]</td>\n",
       "    </tr>\n",
       "    <tr>\n",
       "      <th>4</th>\n",
       "      <td>4</td>\n",
       "      <td>u0</td>\n",
       "      <td>u2</td>\n",
       "      <td>m0</td>\n",
       "      <td>[L207, L208]</td>\n",
       "    </tr>\n",
       "  </tbody>\n",
       "</table>\n",
       "</div>"
      ],
      "text/plain": [
       "   conversation_ID character1_ID character2_ID movie_ID  \\\n",
       "0                0            u0            u2       m0   \n",
       "1                1            u0            u2       m0   \n",
       "2                2            u0            u2       m0   \n",
       "3                3            u0            u2       m0   \n",
       "4                4            u0            u2       m0   \n",
       "\n",
       "                   dialogue  \n",
       "0  [L194, L195, L196, L197]  \n",
       "1              [L198, L199]  \n",
       "2  [L200, L201, L202, L203]  \n",
       "3        [L204, L205, L206]  \n",
       "4              [L207, L208]  "
      ]
     },
     "execution_count": 9,
     "metadata": {},
     "output_type": "execute_result"
    }
   ],
   "source": [
    "conversations_df.head()"
   ]
  },
  {
   "cell_type": "markdown",
   "id": "ff98869c",
   "metadata": {},
   "source": [
    "To help with one downstream analysis, I will save a version of the data frame as is, with the dialogue column as a series of lists"
   ]
  },
  {
   "cell_type": "code",
   "execution_count": 10,
   "id": "2619a85a",
   "metadata": {},
   "outputs": [],
   "source": [
    "conversations_intact_df = conversations_df"
   ]
  },
  {
   "cell_type": "markdown",
   "id": "30d51e56",
   "metadata": {},
   "source": [
    "I will unnest the dialogue column below so I can merge this with the utterances_df and have corresponding conversations IDs (the index) to link the lines together in the Analysis notebook."
   ]
  },
  {
   "cell_type": "code",
   "execution_count": 11,
   "id": "e4adf6b2",
   "metadata": {},
   "outputs": [],
   "source": [
    "conversations_df = conversations_df.explode('dialogue')"
   ]
  },
  {
   "cell_type": "code",
   "execution_count": 12,
   "id": "591354d2",
   "metadata": {},
   "outputs": [
    {
     "data": {
      "text/html": [
       "<div>\n",
       "<style scoped>\n",
       "    .dataframe tbody tr th:only-of-type {\n",
       "        vertical-align: middle;\n",
       "    }\n",
       "\n",
       "    .dataframe tbody tr th {\n",
       "        vertical-align: top;\n",
       "    }\n",
       "\n",
       "    .dataframe thead th {\n",
       "        text-align: right;\n",
       "    }\n",
       "</style>\n",
       "<table border=\"1\" class=\"dataframe\">\n",
       "  <thead>\n",
       "    <tr style=\"text-align: right;\">\n",
       "      <th></th>\n",
       "      <th>conversation_ID</th>\n",
       "      <th>character1_ID</th>\n",
       "      <th>character2_ID</th>\n",
       "      <th>movie_ID</th>\n",
       "      <th>dialogue</th>\n",
       "    </tr>\n",
       "  </thead>\n",
       "  <tbody>\n",
       "    <tr>\n",
       "      <th>0</th>\n",
       "      <td>0</td>\n",
       "      <td>u0</td>\n",
       "      <td>u2</td>\n",
       "      <td>m0</td>\n",
       "      <td>L194</td>\n",
       "    </tr>\n",
       "    <tr>\n",
       "      <th>0</th>\n",
       "      <td>0</td>\n",
       "      <td>u0</td>\n",
       "      <td>u2</td>\n",
       "      <td>m0</td>\n",
       "      <td>L195</td>\n",
       "    </tr>\n",
       "    <tr>\n",
       "      <th>0</th>\n",
       "      <td>0</td>\n",
       "      <td>u0</td>\n",
       "      <td>u2</td>\n",
       "      <td>m0</td>\n",
       "      <td>L196</td>\n",
       "    </tr>\n",
       "    <tr>\n",
       "      <th>0</th>\n",
       "      <td>0</td>\n",
       "      <td>u0</td>\n",
       "      <td>u2</td>\n",
       "      <td>m0</td>\n",
       "      <td>L197</td>\n",
       "    </tr>\n",
       "    <tr>\n",
       "      <th>1</th>\n",
       "      <td>1</td>\n",
       "      <td>u0</td>\n",
       "      <td>u2</td>\n",
       "      <td>m0</td>\n",
       "      <td>L198</td>\n",
       "    </tr>\n",
       "  </tbody>\n",
       "</table>\n",
       "</div>"
      ],
      "text/plain": [
       "   conversation_ID character1_ID character2_ID movie_ID dialogue\n",
       "0                0            u0            u2       m0     L194\n",
       "0                0            u0            u2       m0     L195\n",
       "0                0            u0            u2       m0     L196\n",
       "0                0            u0            u2       m0     L197\n",
       "1                1            u0            u2       m0     L198"
      ]
     },
     "execution_count": 12,
     "metadata": {},
     "output_type": "execute_result"
    }
   ],
   "source": [
    "conversations_df.head()"
   ]
  },
  {
   "cell_type": "markdown",
   "id": "0497b3e1",
   "metadata": {},
   "source": [
    "## Exploration"
   ]
  },
  {
   "cell_type": "code",
   "execution_count": 13,
   "id": "839d30db",
   "metadata": {},
   "outputs": [
    {
     "data": {
      "text/plain": [
       "3.6669554857576085"
      ]
     },
     "execution_count": 13,
     "metadata": {},
     "output_type": "execute_result"
    }
   ],
   "source": [
    "# on average how many lines/turns per conversation?\n",
    "conversations_df.groupby('conversation_ID')['dialogue'].count().mean()"
   ]
  },
  {
   "cell_type": "code",
   "execution_count": 14,
   "id": "7074d99e",
   "metadata": {},
   "outputs": [
    {
     "data": {
      "text/plain": [
       "2"
      ]
     },
     "execution_count": 14,
     "metadata": {},
     "output_type": "execute_result"
    }
   ],
   "source": [
    "# what's the shortest conversation?\n",
    "conversations_df.groupby('conversation_ID')['dialogue'].count().min()"
   ]
  },
  {
   "cell_type": "code",
   "execution_count": 15,
   "id": "37337cbb",
   "metadata": {},
   "outputs": [
    {
     "data": {
      "text/plain": [
       "89"
      ]
     },
     "execution_count": 15,
     "metadata": {},
     "output_type": "execute_result"
    }
   ],
   "source": [
    "# and the longest?\n",
    "conversations_df.groupby('conversation_ID')['dialogue'].count().max()"
   ]
  },
  {
   "cell_type": "markdown",
   "id": "921bebd2",
   "metadata": {},
   "source": [
    "That is a very long conversation! Let's see what some of the other long conversations are."
   ]
  },
  {
   "cell_type": "code",
   "execution_count": 16,
   "id": "8519e7f3",
   "metadata": {
    "scrolled": false
   },
   "outputs": [
    {
     "data": {
      "text/plain": [
       "conversation_ID\n",
       "42477    89\n",
       "73134    59\n",
       "70355    56\n",
       "45571    55\n",
       "11348    54\n",
       "19670    53\n",
       "42520    52\n",
       "35650    52\n",
       "32342    49\n",
       "45572    45\n",
       "19584    45\n",
       "33010    44\n",
       "33022    44\n",
       "21215    43\n",
       "40734    43\n",
       "42599    42\n",
       "19675    41\n",
       "10803    41\n",
       "29302    40\n",
       "29397    40\n",
       "Name: dialogue, dtype: int64"
      ]
     },
     "execution_count": 16,
     "metadata": {},
     "output_type": "execute_result"
    }
   ],
   "source": [
    "conversations_df.groupby('conversation_ID')['dialogue'].count().sort_values(ascending=False).head(20)"
   ]
  },
  {
   "cell_type": "markdown",
   "id": "424611df",
   "metadata": {},
   "source": [
    "I will come back to some of these in the [discourse analysis notebook](../analysis_notebooks/Discourse_Analysis.ipynb) to see what I can uncover."
   ]
  },
  {
   "cell_type": "markdown",
   "id": "648a3945",
   "metadata": {},
   "source": [
    "## Pickling the data and creating a csv"
   ]
  },
  {
   "cell_type": "code",
   "execution_count": 17,
   "id": "93a2fdde",
   "metadata": {},
   "outputs": [],
   "source": [
    "import pickle"
   ]
  },
  {
   "cell_type": "code",
   "execution_count": 18,
   "id": "22258715",
   "metadata": {},
   "outputs": [
    {
     "data": {
      "text/plain": [
       "<function BufferedWriter.close>"
      ]
     },
     "execution_count": 18,
     "metadata": {},
     "output_type": "execute_result"
    }
   ],
   "source": [
    "# pickle the data to use in other notebooks for further analysis\n",
    "f1 = open('conversations_df.pkl', 'wb')\n",
    "pickle.dump(conversations_df, f1, -1)\n",
    "f1.close()\n",
    "\n",
    "f2 = open('conversations_intact_df.pkl', 'wb')\n",
    "pickle.dump(conversations_intact_df, f2, -1)\n",
    "f2.close"
   ]
  },
  {
   "cell_type": "code",
   "execution_count": 19,
   "id": "ed5dbc3c",
   "metadata": {},
   "outputs": [],
   "source": [
    "conversations_df.to_csv('../new_data/conversations_df.csv', header=True)\n",
    "conversations_intact_df.to_csv('../new_data/conversations_intact_df.csv', header=True)"
   ]
  },
  {
   "cell_type": "markdown",
   "id": "bbddf4af",
   "metadata": {},
   "source": [
    "## Conclusion"
   ]
  },
  {
   "cell_type": "markdown",
   "id": "add20c28",
   "metadata": {},
   "source": [
    "These data were the cleanest. The only issue was the `dialogue` column not properly reading in as a list. I unnested/exploded the lists and duplicated the index to create a `conversation_ID` which I will use in some downstream analysis and synthesis. "
   ]
  }
 ],
 "metadata": {
  "kernelspec": {
   "display_name": "Python 3",
   "language": "python",
   "name": "python3"
  },
  "language_info": {
   "codemirror_mode": {
    "name": "ipython",
    "version": 3
   },
   "file_extension": ".py",
   "mimetype": "text/x-python",
   "name": "python",
   "nbconvert_exporter": "python",
   "pygments_lexer": "ipython3",
   "version": "3.8.8"
  }
 },
 "nbformat": 4,
 "nbformat_minor": 5
}
