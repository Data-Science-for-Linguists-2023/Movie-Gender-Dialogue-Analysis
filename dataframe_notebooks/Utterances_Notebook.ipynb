{
 "cells": [
  {
   "cell_type": "markdown",
   "id": "ce1d4d9e",
   "metadata": {},
   "source": [
    "# Utterances"
   ]
  },
  {
   "cell_type": "markdown",
   "id": "36b2e408",
   "metadata": {},
   "source": [
    "EXISTING"
   ]
  },
  {
   "cell_type": "markdown",
   "id": "0438c6ed",
   "metadata": {},
   "source": [
    "This data frame lists the movie lines (utterances) and the character speaking. The `line_ID` column is referenced in the `conversations_df`."
   ]
  },
  {
   "cell_type": "markdown",
   "id": "56757147",
   "metadata": {},
   "source": [
    "## Table of Contents\n",
    "- [1st Section](#Loading-in-the-data-and-basic-summary) is where I import the files and get an idea of the data shape and contents\n",
    "- [2nd section](#Tokenizing) is where I tokenize the text for words and sentences\n",
    "- [3rd section](#EDA) is where I gather some more statistics about the data after tokenization\n",
    "- [4th section](#Pickling-the-data-and-creating-a-csv) is where the data are saved and exported\n",
    "- [Conclusion](#Conclusion) summarizes the notebook"
   ]
  },
  {
   "cell_type": "code",
   "execution_count": 1,
   "id": "baabc44a",
   "metadata": {},
   "outputs": [],
   "source": [
    "# import packages\n",
    "import numpy as np\n",
    "import pandas as pd\n",
    "import nltk\n",
    "import matplotlib.pyplot as plt\n",
    "import seaborn as sns"
   ]
  },
  {
   "cell_type": "markdown",
   "id": "18f323c1",
   "metadata": {},
   "source": [
    "## Loading in the data and basic summary"
   ]
  },
  {
   "cell_type": "code",
   "execution_count": 2,
   "id": "8c3532d0",
   "metadata": {},
   "outputs": [],
   "source": [
    "# creating the df\n",
    "utterances_df = pd.read_csv('../data/movie_lines.txt', sep='\\s+\\+\\+\\+\\$\\+\\+\\+\\s?',\n",
    "                            names=['line_ID', 'character_ID' , 'movie_ID', 'character_name', 'utterance'], \n",
    "                            dtype='string', engine='python', encoding='ISO-8859-1')"
   ]
  },
  {
   "cell_type": "markdown",
   "id": "da8d3e97",
   "metadata": {},
   "source": [
    "The data were all separated with ' +++$+++ ' and did not have column names. The README from the original data described what each column was in the data so I used that to create column names."
   ]
  },
  {
   "cell_type": "code",
   "execution_count": 3,
   "id": "6e742619",
   "metadata": {},
   "outputs": [
    {
     "data": {
      "text/plain": [
       "(304713, 5)"
      ]
     },
     "execution_count": 3,
     "metadata": {},
     "output_type": "execute_result"
    }
   ],
   "source": [
    "utterances_df.shape"
   ]
  },
  {
   "cell_type": "code",
   "execution_count": 4,
   "id": "e3b3e3d7",
   "metadata": {},
   "outputs": [
    {
     "name": "stdout",
     "output_type": "stream",
     "text": [
      "<class 'pandas.core.frame.DataFrame'>\n",
      "RangeIndex: 304713 entries, 0 to 304712\n",
      "Data columns (total 5 columns):\n",
      " #   Column          Non-Null Count   Dtype \n",
      "---  ------          --------------   ----- \n",
      " 0   line_ID         304713 non-null  string\n",
      " 1   character_ID    304713 non-null  string\n",
      " 2   movie_ID        304713 non-null  string\n",
      " 3   character_name  304670 non-null  string\n",
      " 4   utterance       304446 non-null  string\n",
      "dtypes: string(5)\n",
      "memory usage: 11.6 MB\n"
     ]
    }
   ],
   "source": [
    "utterances_df.info()\n",
    "# looks like there may be some missing information here"
   ]
  },
  {
   "cell_type": "markdown",
   "id": "b71fc7ba",
   "metadata": {},
   "source": [
    "I am not sure why there are empty utterances but they will impact the summary statistics below so I will remove them from the data frame. There may be discourse meaning to these turns being empty, but they do not convey any linguistic information so it should not have any significant impact on my analysis."
   ]
  },
  {
   "cell_type": "code",
   "execution_count": 5,
   "id": "0246f094",
   "metadata": {},
   "outputs": [],
   "source": [
    "utterances_df = utterances_df.dropna()"
   ]
  },
  {
   "cell_type": "code",
   "execution_count": 6,
   "id": "fcd98d83",
   "metadata": {},
   "outputs": [
    {
     "data": {
      "text/html": [
       "<div>\n",
       "<style scoped>\n",
       "    .dataframe tbody tr th:only-of-type {\n",
       "        vertical-align: middle;\n",
       "    }\n",
       "\n",
       "    .dataframe tbody tr th {\n",
       "        vertical-align: top;\n",
       "    }\n",
       "\n",
       "    .dataframe thead th {\n",
       "        text-align: right;\n",
       "    }\n",
       "</style>\n",
       "<table border=\"1\" class=\"dataframe\">\n",
       "  <thead>\n",
       "    <tr style=\"text-align: right;\">\n",
       "      <th></th>\n",
       "      <th>line_ID</th>\n",
       "      <th>character_ID</th>\n",
       "      <th>movie_ID</th>\n",
       "      <th>character_name</th>\n",
       "      <th>utterance</th>\n",
       "    </tr>\n",
       "  </thead>\n",
       "  <tbody>\n",
       "    <tr>\n",
       "      <th>0</th>\n",
       "      <td>L1045</td>\n",
       "      <td>u0</td>\n",
       "      <td>m0</td>\n",
       "      <td>BIANCA</td>\n",
       "      <td>They do not!</td>\n",
       "    </tr>\n",
       "    <tr>\n",
       "      <th>1</th>\n",
       "      <td>L1044</td>\n",
       "      <td>u2</td>\n",
       "      <td>m0</td>\n",
       "      <td>CAMERON</td>\n",
       "      <td>They do to!</td>\n",
       "    </tr>\n",
       "    <tr>\n",
       "      <th>2</th>\n",
       "      <td>L985</td>\n",
       "      <td>u0</td>\n",
       "      <td>m0</td>\n",
       "      <td>BIANCA</td>\n",
       "      <td>I hope so.</td>\n",
       "    </tr>\n",
       "    <tr>\n",
       "      <th>3</th>\n",
       "      <td>L984</td>\n",
       "      <td>u2</td>\n",
       "      <td>m0</td>\n",
       "      <td>CAMERON</td>\n",
       "      <td>She okay?</td>\n",
       "    </tr>\n",
       "    <tr>\n",
       "      <th>4</th>\n",
       "      <td>L925</td>\n",
       "      <td>u0</td>\n",
       "      <td>m0</td>\n",
       "      <td>BIANCA</td>\n",
       "      <td>Let's go.</td>\n",
       "    </tr>\n",
       "  </tbody>\n",
       "</table>\n",
       "</div>"
      ],
      "text/plain": [
       "  line_ID character_ID movie_ID character_name     utterance\n",
       "0   L1045           u0       m0         BIANCA  They do not!\n",
       "1   L1044           u2       m0        CAMERON   They do to!\n",
       "2    L985           u0       m0         BIANCA    I hope so.\n",
       "3    L984           u2       m0        CAMERON     She okay?\n",
       "4    L925           u0       m0         BIANCA     Let's go."
      ]
     },
     "execution_count": 6,
     "metadata": {},
     "output_type": "execute_result"
    }
   ],
   "source": [
    "utterances_df.head()"
   ]
  },
  {
   "cell_type": "markdown",
   "id": "5fce3416",
   "metadata": {},
   "source": [
    "## Tokenizing"
   ]
  },
  {
   "cell_type": "code",
   "execution_count": 7,
   "id": "be6c8cac",
   "metadata": {},
   "outputs": [],
   "source": [
    "# tokenizing\n",
    "utterances_df['sents'] = utterances_df.utterance.map(nltk.sent_tokenize)\n",
    "utterances_df['tokens'] = utterances_df.utterance.map(nltk.word_tokenize)"
   ]
  },
  {
   "cell_type": "code",
   "execution_count": 8,
   "id": "2ac3774a",
   "metadata": {},
   "outputs": [],
   "source": [
    "# token counts\n",
    "utterances_df['sent_count'] = utterances_df.sents.map(len)\n",
    "utterances_df['token_count'] = utterances_df.tokens.map(len)"
   ]
  },
  {
   "cell_type": "code",
   "execution_count": 9,
   "id": "8e078a7b",
   "metadata": {},
   "outputs": [],
   "source": [
    "# sent length\n",
    "utterances_df['avg_sent_length'] = utterances_df.token_count / utterances_df.sent_count"
   ]
  },
  {
   "cell_type": "code",
   "execution_count": 10,
   "id": "3314cd50",
   "metadata": {},
   "outputs": [
    {
     "data": {
      "text/html": [
       "<div>\n",
       "<style scoped>\n",
       "    .dataframe tbody tr th:only-of-type {\n",
       "        vertical-align: middle;\n",
       "    }\n",
       "\n",
       "    .dataframe tbody tr th {\n",
       "        vertical-align: top;\n",
       "    }\n",
       "\n",
       "    .dataframe thead th {\n",
       "        text-align: right;\n",
       "    }\n",
       "</style>\n",
       "<table border=\"1\" class=\"dataframe\">\n",
       "  <thead>\n",
       "    <tr style=\"text-align: right;\">\n",
       "      <th></th>\n",
       "      <th>line_ID</th>\n",
       "      <th>character_ID</th>\n",
       "      <th>movie_ID</th>\n",
       "      <th>character_name</th>\n",
       "      <th>utterance</th>\n",
       "      <th>sents</th>\n",
       "      <th>tokens</th>\n",
       "      <th>sent_count</th>\n",
       "      <th>token_count</th>\n",
       "      <th>avg_sent_length</th>\n",
       "    </tr>\n",
       "  </thead>\n",
       "  <tbody>\n",
       "    <tr>\n",
       "      <th>0</th>\n",
       "      <td>L1045</td>\n",
       "      <td>u0</td>\n",
       "      <td>m0</td>\n",
       "      <td>BIANCA</td>\n",
       "      <td>They do not!</td>\n",
       "      <td>[They do not!]</td>\n",
       "      <td>[They, do, not, !]</td>\n",
       "      <td>1</td>\n",
       "      <td>4</td>\n",
       "      <td>4.0</td>\n",
       "    </tr>\n",
       "    <tr>\n",
       "      <th>1</th>\n",
       "      <td>L1044</td>\n",
       "      <td>u2</td>\n",
       "      <td>m0</td>\n",
       "      <td>CAMERON</td>\n",
       "      <td>They do to!</td>\n",
       "      <td>[They do to!]</td>\n",
       "      <td>[They, do, to, !]</td>\n",
       "      <td>1</td>\n",
       "      <td>4</td>\n",
       "      <td>4.0</td>\n",
       "    </tr>\n",
       "    <tr>\n",
       "      <th>2</th>\n",
       "      <td>L985</td>\n",
       "      <td>u0</td>\n",
       "      <td>m0</td>\n",
       "      <td>BIANCA</td>\n",
       "      <td>I hope so.</td>\n",
       "      <td>[I hope so.]</td>\n",
       "      <td>[I, hope, so, .]</td>\n",
       "      <td>1</td>\n",
       "      <td>4</td>\n",
       "      <td>4.0</td>\n",
       "    </tr>\n",
       "    <tr>\n",
       "      <th>3</th>\n",
       "      <td>L984</td>\n",
       "      <td>u2</td>\n",
       "      <td>m0</td>\n",
       "      <td>CAMERON</td>\n",
       "      <td>She okay?</td>\n",
       "      <td>[She okay?]</td>\n",
       "      <td>[She, okay, ?]</td>\n",
       "      <td>1</td>\n",
       "      <td>3</td>\n",
       "      <td>3.0</td>\n",
       "    </tr>\n",
       "    <tr>\n",
       "      <th>4</th>\n",
       "      <td>L925</td>\n",
       "      <td>u0</td>\n",
       "      <td>m0</td>\n",
       "      <td>BIANCA</td>\n",
       "      <td>Let's go.</td>\n",
       "      <td>[Let's go.]</td>\n",
       "      <td>[Let, 's, go, .]</td>\n",
       "      <td>1</td>\n",
       "      <td>4</td>\n",
       "      <td>4.0</td>\n",
       "    </tr>\n",
       "  </tbody>\n",
       "</table>\n",
       "</div>"
      ],
      "text/plain": [
       "  line_ID character_ID movie_ID character_name     utterance           sents  \\\n",
       "0   L1045           u0       m0         BIANCA  They do not!  [They do not!]   \n",
       "1   L1044           u2       m0        CAMERON   They do to!   [They do to!]   \n",
       "2    L985           u0       m0         BIANCA    I hope so.    [I hope so.]   \n",
       "3    L984           u2       m0        CAMERON     She okay?     [She okay?]   \n",
       "4    L925           u0       m0         BIANCA     Let's go.     [Let's go.]   \n",
       "\n",
       "               tokens  sent_count  token_count  avg_sent_length  \n",
       "0  [They, do, not, !]           1            4              4.0  \n",
       "1   [They, do, to, !]           1            4              4.0  \n",
       "2    [I, hope, so, .]           1            4              4.0  \n",
       "3      [She, okay, ?]           1            3              3.0  \n",
       "4    [Let, 's, go, .]           1            4              4.0  "
      ]
     },
     "execution_count": 10,
     "metadata": {},
     "output_type": "execute_result"
    }
   ],
   "source": [
    "utterances_df.head()"
   ]
  },
  {
   "cell_type": "code",
   "execution_count": 11,
   "id": "d0540f3b",
   "metadata": {},
   "outputs": [
    {
     "data": {
      "text/html": [
       "<div>\n",
       "<style scoped>\n",
       "    .dataframe tbody tr th:only-of-type {\n",
       "        vertical-align: middle;\n",
       "    }\n",
       "\n",
       "    .dataframe tbody tr th {\n",
       "        vertical-align: top;\n",
       "    }\n",
       "\n",
       "    .dataframe thead th {\n",
       "        text-align: right;\n",
       "    }\n",
       "</style>\n",
       "<table border=\"1\" class=\"dataframe\">\n",
       "  <thead>\n",
       "    <tr style=\"text-align: right;\">\n",
       "      <th></th>\n",
       "      <th>sent_count</th>\n",
       "      <th>token_count</th>\n",
       "      <th>avg_sent_length</th>\n",
       "    </tr>\n",
       "  </thead>\n",
       "  <tbody>\n",
       "    <tr>\n",
       "      <th>count</th>\n",
       "      <td>304403.000000</td>\n",
       "      <td>304403.000000</td>\n",
       "      <td>304403.000000</td>\n",
       "    </tr>\n",
       "    <tr>\n",
       "      <th>mean</th>\n",
       "      <td>1.695433</td>\n",
       "      <td>13.736120</td>\n",
       "      <td>7.856031</td>\n",
       "    </tr>\n",
       "    <tr>\n",
       "      <th>std</th>\n",
       "      <td>1.252371</td>\n",
       "      <td>14.712649</td>\n",
       "      <td>5.155597</td>\n",
       "    </tr>\n",
       "    <tr>\n",
       "      <th>min</th>\n",
       "      <td>1.000000</td>\n",
       "      <td>1.000000</td>\n",
       "      <td>1.000000</td>\n",
       "    </tr>\n",
       "    <tr>\n",
       "      <th>25%</th>\n",
       "      <td>1.000000</td>\n",
       "      <td>5.000000</td>\n",
       "      <td>4.500000</td>\n",
       "    </tr>\n",
       "    <tr>\n",
       "      <th>50%</th>\n",
       "      <td>1.000000</td>\n",
       "      <td>9.000000</td>\n",
       "      <td>7.000000</td>\n",
       "    </tr>\n",
       "    <tr>\n",
       "      <th>75%</th>\n",
       "      <td>2.000000</td>\n",
       "      <td>17.000000</td>\n",
       "      <td>10.000000</td>\n",
       "    </tr>\n",
       "    <tr>\n",
       "      <th>max</th>\n",
       "      <td>45.000000</td>\n",
       "      <td>684.000000</td>\n",
       "      <td>122.000000</td>\n",
       "    </tr>\n",
       "  </tbody>\n",
       "</table>\n",
       "</div>"
      ],
      "text/plain": [
       "          sent_count    token_count  avg_sent_length\n",
       "count  304403.000000  304403.000000    304403.000000\n",
       "mean        1.695433      13.736120         7.856031\n",
       "std         1.252371      14.712649         5.155597\n",
       "min         1.000000       1.000000         1.000000\n",
       "25%         1.000000       5.000000         4.500000\n",
       "50%         1.000000       9.000000         7.000000\n",
       "75%         2.000000      17.000000        10.000000\n",
       "max        45.000000     684.000000       122.000000"
      ]
     },
     "execution_count": 11,
     "metadata": {},
     "output_type": "execute_result"
    }
   ],
   "source": [
    "utterances_df.describe()"
   ]
  },
  {
   "cell_type": "markdown",
   "id": "4514a98e",
   "metadata": {},
   "source": [
    "## EDA"
   ]
  },
  {
   "cell_type": "markdown",
   "id": "39ceb4d5",
   "metadata": {},
   "source": [
    "Below I will look at some summary statistics related to the utterances. Average token per turn, average sentence length, and average number of sentences per turn."
   ]
  },
  {
   "cell_type": "markdown",
   "id": "971c3244",
   "metadata": {},
   "source": [
    "### Token counts"
   ]
  },
  {
   "cell_type": "code",
   "execution_count": 12,
   "id": "5bbbd515",
   "metadata": {},
   "outputs": [
    {
     "data": {
      "text/html": [
       "<div>\n",
       "<style scoped>\n",
       "    .dataframe tbody tr th:only-of-type {\n",
       "        vertical-align: middle;\n",
       "    }\n",
       "\n",
       "    .dataframe tbody tr th {\n",
       "        vertical-align: top;\n",
       "    }\n",
       "\n",
       "    .dataframe thead th {\n",
       "        text-align: right;\n",
       "    }\n",
       "</style>\n",
       "<table border=\"1\" class=\"dataframe\">\n",
       "  <thead>\n",
       "    <tr style=\"text-align: right;\">\n",
       "      <th></th>\n",
       "      <th>token_count</th>\n",
       "    </tr>\n",
       "  </thead>\n",
       "  <tbody>\n",
       "    <tr>\n",
       "      <th>mean</th>\n",
       "      <td>13.736120</td>\n",
       "    </tr>\n",
       "    <tr>\n",
       "      <th>median</th>\n",
       "      <td>9.000000</td>\n",
       "    </tr>\n",
       "    <tr>\n",
       "      <th>min</th>\n",
       "      <td>1.000000</td>\n",
       "    </tr>\n",
       "    <tr>\n",
       "      <th>max</th>\n",
       "      <td>684.000000</td>\n",
       "    </tr>\n",
       "    <tr>\n",
       "      <th>std</th>\n",
       "      <td>14.712649</td>\n",
       "    </tr>\n",
       "  </tbody>\n",
       "</table>\n",
       "</div>"
      ],
      "text/plain": [
       "        token_count\n",
       "mean      13.736120\n",
       "median     9.000000\n",
       "min        1.000000\n",
       "max      684.000000\n",
       "std       14.712649"
      ]
     },
     "execution_count": 12,
     "metadata": {},
     "output_type": "execute_result"
    }
   ],
   "source": [
    "# looking at token counts\n",
    "utterances_df.agg({'token_count': ['mean', 'median', 'min', 'max', 'std']})"
   ]
  },
  {
   "cell_type": "code",
   "execution_count": 13,
   "id": "fff53fae",
   "metadata": {},
   "outputs": [
    {
     "data": {
      "image/png": "[encoded data removed]",
      "text/plain": [
       "<Figure size 360x360 with 1 Axes>"
      ]
     },
     "metadata": {
      "needs_background": "light"
     },
     "output_type": "display_data"
    }
   ],
   "source": [
    "sns.catplot(data=utterances_df, y='token_count', kind='box')\n",
    "plt.title('Average token count per turn')\n",
    "plt.savefig('../data_visualization/token_count_box.png')\n",
    "plt.show()"
   ]
  },
  {
   "cell_type": "markdown",
   "id": "3ac7dab8",
   "metadata": {},
   "source": [
    "The average turn/utterance is almost 14 words long. But there is a wide standard deviation. The longest turn by token is 684 tokens long."
   ]
  },
  {
   "cell_type": "code",
   "execution_count": 14,
   "id": "e7a3a96b",
   "metadata": {},
   "outputs": [
    {
     "data": {
      "text/plain": [
       "'Then let\\'s begin with the story itself. It\\'s a story of the Grail myth...And although there are several variations, my favorite begins with the Fisher King as a young boy... who had to spend a night alone in the forest to prove his courage... and during that night, he is visited by a sacred vision. Out of the fire, appears the Holy Grail - God\\'s highest symbol of divine grace. And a voice says to the boy, \"You shall be the guardian of the Grail, that it may heal the hearts of men\"...But the boy was overcome ...Innocent and foolish, he was blinded by greater visions - a life ahead filled with beauty and glory, hope and power...Tears filled his eyes as he sensed his own... invincibility. A boy\\'s tears of naive wonder and inspiration. and in this state of...radical amazement...he felt for a brief moment, not like a boy, but like God...  ...And so he reached into the fire to take the Grail. And the Grail vanished. And the boy hands were left caught in the flames...leaving him wounded and ashamed at what his recklessness had lost him. When he became King, he was determined to reclaim his destiny and find the Grail... But with each year that passed, with each campaign he fought, the Grail remained lost, and this wound he suffered in the fire grew worse... He became a bitter man. Life for him lost it\\'s reason. With each disappointment, with each betrayal... with each loss ... this wound would grow... Soon the land began to spoil from neglect and his people starved...Until finally, the King lost all faith in God\\'s existance and in man\\'s value...He lost his ability to love or be loved And he was so sick with experience... that he started to die. As the years went on, his bravest knights would search for the Grail that would heal their King and make them the most respected and valued men in the land, but to no avail.  Pretty soon, finding the Grail became a ruthless struggle between ambitious men vying for the King\\'s power, which only confirmed the King\\'s worst suspicions of man, causing his wound to grow. His only hope, he thought, was death. Then one day, a fool was brought in to the King to cheer him.  He was a simple-minded man... not particularly skilled...or admired... He tells the King some jokes...sing him some songs, but the King feels even worse...Finally, the fool says, \"What is it that hurts you so much? How can I help?\"...And the King says, \"I need a sip of water to cool my throat\"...So, the fool takes a cup from the bedstand, fills it with water and hands it to the King...Suddenly, the King feels a lot better. And when he looks to his hands, he sees that it was the Holy Grail the fool handed him...an ordinary cup that had been beside his bed all along...And the King asks, \"How can this be?...how could you find what all my knights and wisest men could not find\"? And the fool answers, \"I don\\'t know. I only knew you were thirsty.\"... And for the first time since he was a boy, the King felt more than a man - not because he was touched by God\\'s glory...but rather, by the compassion of a fool.'"
      ]
     },
     "execution_count": 14,
     "metadata": {},
     "output_type": "execute_result"
    }
   ],
   "source": [
    "utterances_df[utterances_df.token_count==684].iloc[0][4]"
   ]
  },
  {
   "cell_type": "markdown",
   "id": "c4d086b4",
   "metadata": {},
   "source": [
    "Looks like this may be a monologue intro to the movie."
   ]
  },
  {
   "cell_type": "markdown",
   "id": "3781fbbc",
   "metadata": {},
   "source": [
    "### Tokens per sentence"
   ]
  },
  {
   "cell_type": "code",
   "execution_count": 15,
   "id": "780ae20a",
   "metadata": {},
   "outputs": [
    {
     "data": {
      "text/html": [
       "<div>\n",
       "<style scoped>\n",
       "    .dataframe tbody tr th:only-of-type {\n",
       "        vertical-align: middle;\n",
       "    }\n",
       "\n",
       "    .dataframe tbody tr th {\n",
       "        vertical-align: top;\n",
       "    }\n",
       "\n",
       "    .dataframe thead th {\n",
       "        text-align: right;\n",
       "    }\n",
       "</style>\n",
       "<table border=\"1\" class=\"dataframe\">\n",
       "  <thead>\n",
       "    <tr style=\"text-align: right;\">\n",
       "      <th></th>\n",
       "      <th>avg_sent_length</th>\n",
       "    </tr>\n",
       "  </thead>\n",
       "  <tbody>\n",
       "    <tr>\n",
       "      <th>mean</th>\n",
       "      <td>7.856031</td>\n",
       "    </tr>\n",
       "    <tr>\n",
       "      <th>median</th>\n",
       "      <td>7.000000</td>\n",
       "    </tr>\n",
       "    <tr>\n",
       "      <th>min</th>\n",
       "      <td>1.000000</td>\n",
       "    </tr>\n",
       "    <tr>\n",
       "      <th>max</th>\n",
       "      <td>122.000000</td>\n",
       "    </tr>\n",
       "    <tr>\n",
       "      <th>std</th>\n",
       "      <td>5.155597</td>\n",
       "    </tr>\n",
       "  </tbody>\n",
       "</table>\n",
       "</div>"
      ],
      "text/plain": [
       "        avg_sent_length\n",
       "mean           7.856031\n",
       "median         7.000000\n",
       "min            1.000000\n",
       "max          122.000000\n",
       "std            5.155597"
      ]
     },
     "execution_count": 15,
     "metadata": {},
     "output_type": "execute_result"
    }
   ],
   "source": [
    "# looking at sentence lengths\n",
    "utterances_df.agg({'avg_sent_length': ['mean', 'median', 'min', 'max', 'std']})"
   ]
  },
  {
   "cell_type": "code",
   "execution_count": 16,
   "id": "c9b0d94d",
   "metadata": {},
   "outputs": [
    {
     "data": {
      "image/png": "[encoded data removed]",
      "text/plain": [
       "<Figure size 360x360 with 1 Axes>"
      ]
     },
     "metadata": {
      "needs_background": "light"
     },
     "output_type": "display_data"
    }
   ],
   "source": [
    "sns.catplot(data=utterances_df, y='avg_sent_length', kind='box')\n",
    "plt.title('Average tokens per sentence')\n",
    "plt.savefig('../data_visualization/avg_sent_length_box.png')\n",
    "plt.show()"
   ]
  },
  {
   "cell_type": "markdown",
   "id": "8529dd93",
   "metadata": {},
   "source": [
    "Average sentence length is just under 8 tokens. This seems reasonable. The standard deviation is lower than tokens per turn. The highest number of tokens is very surprising. Let's take a look."
   ]
  },
  {
   "cell_type": "code",
   "execution_count": 17,
   "id": "c82d5a0f",
   "metadata": {},
   "outputs": [
    {
     "data": {
      "text/plain": [
       "\"Well, about six months ago -- I was going to night school, taking this course in Advanced Accounting -- and one of the guys in our department -- he lives in Jersey -- he was going to a banquet at the Biltmore -- his wife was meeting him in town, and he needed someplace to change into a tuxedo -- so I gave him the key    and word must have gotten around -- because the next thing I knew, all sorts of guys were suddenly going to banquets -- and when you give the key to one guy, you can't say no to another and the whole thing got out of hand -- pardon me.\""
      ]
     },
     "execution_count": 17,
     "metadata": {},
     "output_type": "execute_result"
    }
   ],
   "source": [
    "utterances_df[utterances_df.avg_sent_length==122].iloc[0][4]"
   ]
  },
  {
   "cell_type": "markdown",
   "id": "136f451b",
   "metadata": {},
   "source": [
    "I expected it to be an issue with tokenization, but that is not the case. Just a longer turn with dashes as pauses instead of periods or other punctuation."
   ]
  },
  {
   "cell_type": "markdown",
   "id": "7b14d50d",
   "metadata": {},
   "source": [
    "### Sentences per turn"
   ]
  },
  {
   "cell_type": "code",
   "execution_count": 18,
   "id": "8bc17c5f",
   "metadata": {},
   "outputs": [
    {
     "data": {
      "text/html": [
       "<div>\n",
       "<style scoped>\n",
       "    .dataframe tbody tr th:only-of-type {\n",
       "        vertical-align: middle;\n",
       "    }\n",
       "\n",
       "    .dataframe tbody tr th {\n",
       "        vertical-align: top;\n",
       "    }\n",
       "\n",
       "    .dataframe thead th {\n",
       "        text-align: right;\n",
       "    }\n",
       "</style>\n",
       "<table border=\"1\" class=\"dataframe\">\n",
       "  <thead>\n",
       "    <tr style=\"text-align: right;\">\n",
       "      <th></th>\n",
       "      <th>sent_count</th>\n",
       "    </tr>\n",
       "  </thead>\n",
       "  <tbody>\n",
       "    <tr>\n",
       "      <th>mean</th>\n",
       "      <td>1.695433</td>\n",
       "    </tr>\n",
       "    <tr>\n",
       "      <th>median</th>\n",
       "      <td>1.000000</td>\n",
       "    </tr>\n",
       "    <tr>\n",
       "      <th>min</th>\n",
       "      <td>1.000000</td>\n",
       "    </tr>\n",
       "    <tr>\n",
       "      <th>max</th>\n",
       "      <td>45.000000</td>\n",
       "    </tr>\n",
       "    <tr>\n",
       "      <th>std</th>\n",
       "      <td>1.252371</td>\n",
       "    </tr>\n",
       "  </tbody>\n",
       "</table>\n",
       "</div>"
      ],
      "text/plain": [
       "        sent_count\n",
       "mean      1.695433\n",
       "median    1.000000\n",
       "min       1.000000\n",
       "max      45.000000\n",
       "std       1.252371"
      ]
     },
     "execution_count": 18,
     "metadata": {},
     "output_type": "execute_result"
    }
   ],
   "source": [
    "# looking at sentences per turn\n",
    "utterances_df.agg({'sent_count': ['mean', 'median', 'min', 'max', 'std']})"
   ]
  },
  {
   "cell_type": "code",
   "execution_count": 19,
   "id": "b4e7292d",
   "metadata": {},
   "outputs": [
    {
     "data": {
      "image/png": "[encoded data removed]",
      "text/plain": [
       "<Figure size 360x360 with 1 Axes>"
      ]
     },
     "metadata": {
      "needs_background": "light"
     },
     "output_type": "display_data"
    }
   ],
   "source": [
    "sns.catplot(data=utterances_df, y='sent_count', kind='box')\n",
    "plt.title('Average sentences per turn')\n",
    "plt.savefig('../data_visualization/sent_count_box.png')\n",
    "plt.show()"
   ]
  },
  {
   "cell_type": "markdown",
   "id": "1444a733",
   "metadata": {},
   "source": [
    "On average there are less than two sentences per turn. This makes sense, the longer a turn is in the conversation the more one-sided the conversation is. There is very low standard deviation too, despite the fact that the max sentence in one turn is 45."
   ]
  },
  {
   "cell_type": "code",
   "execution_count": 20,
   "id": "ed58e32a",
   "metadata": {},
   "outputs": [
    {
     "data": {
      "text/plain": [
       "\"Just a minute \\x96\\x96 just a minute. Now, hold on, Mr. Potter. You're right when you say my father was no business man. I know that. Why he ever started this cheap, penny-ante Building and Loan, I'll never know. But neither you nor anybody else can say anything against his character, because his whole life was . . . Why, in the twenty-five years since he and Uncle Billy started this thing, he never once thought of himself. Isn't that right, Uncle Billy? He didn't save enough money to send Harry to school, let alone me. But he did help a few people get out of your slums, Mr. Potter. And what's wrong with that? Why . . . Here, you're all businessmen here. Doesn't it make them better citizens? Doesn't it make them better customers? You . . . you said . . . What'd you say just a minute ago? . . . They had to wait and save their money before they even ought to think of a decent home. Wait! Wait for what? Until their children grow up and leave them? Until they're so old and broken-down that they . . . Do you know how long it takes a working man to save five thousand dollars? Just remember this, Mr. Potter, that this rabble you're talking about . . . they do most of the working and paying and living and dying in this community. Well, is it too much to have them work and pay and live and die in a couple of decent rooms and a bath? Anyway, my father didn't think so. People were human beings to him, but to you, a warped, frustrated old man, they're cattle. Well, in my book he died a much richer man than you'll ever be!\""
      ]
     },
     "execution_count": 20,
     "metadata": {},
     "output_type": "execute_result"
    }
   ],
   "source": [
    "utterances_df[utterances_df.sent_count==45].iloc[0][4]"
   ]
  },
  {
   "cell_type": "markdown",
   "id": "fa0a724b",
   "metadata": {},
   "source": [
    "This looks like a tokenization issue! There are a lot of elipses in this turn that are likely being count as sentences. The mean and median are slightly off, but the other summary statistics reflect this same difference. This isn't ideal, but I will leave this utterance in the data, as is."
   ]
  },
  {
   "cell_type": "markdown",
   "id": "791d3433",
   "metadata": {},
   "source": [
    "## Pickling the data and creating a csv"
   ]
  },
  {
   "cell_type": "code",
   "execution_count": 21,
   "id": "2351accb",
   "metadata": {},
   "outputs": [],
   "source": [
    "import pickle"
   ]
  },
  {
   "cell_type": "code",
   "execution_count": 22,
   "id": "8b6e3cd0",
   "metadata": {},
   "outputs": [],
   "source": [
    "# pickle the data to use in other notebooks for further analysis\n",
    "f = open('utterances_df.pkl', 'wb')\n",
    "pickle.dump(utterances_df, f, -1)\n",
    "f.close()"
   ]
  },
  {
   "cell_type": "code",
   "execution_count": 23,
   "id": "d15cc4f6",
   "metadata": {},
   "outputs": [],
   "source": [
    "# run this notebook and this chunk to generate the df as a csv file\n",
    "# utterances_df.to_csv('../new_data/utterances_df.csv', header=True)"
   ]
  },
  {
   "cell_type": "markdown",
   "id": "19e0d01f",
   "metadata": {},
   "source": [
    "## Conclusion"
   ]
  },
  {
   "cell_type": "markdown",
   "id": "bb671e01",
   "metadata": {},
   "source": [
    "There were some high maximum data points across tokens and sentences per turn as well as sentence length. However, the averages all seem reasonable for the measurements, so I am not concerned. There were empty utterances which I removed from the data frame."
   ]
  }
 ],
 "metadata": {
  "kernelspec": {
   "display_name": "Python 3",
   "language": "python",
   "name": "python3"
  },
  "language_info": {
   "codemirror_mode": {
    "name": "ipython",
    "version": 3
   },
   "file_extension": ".py",
   "mimetype": "text/x-python",
   "name": "python",
   "nbconvert_exporter": "python",
   "pygments_lexer": "ipython3",
   "version": "3.8.8"
  }
 },
 "nbformat": 4,
 "nbformat_minor": 5
}
