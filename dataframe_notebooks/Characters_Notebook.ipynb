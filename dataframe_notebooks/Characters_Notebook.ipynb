{
 "cells": [
  {
   "cell_type": "markdown",
   "id": "76559349",
   "metadata": {},
   "source": [
    "# Characters"
   ]
  },
  {
   "cell_type": "markdown",
   "id": "41b6f74a",
   "metadata": {},
   "source": [
    "EXISTING"
   ]
  },
  {
   "cell_type": "markdown",
   "id": "dc3300b7",
   "metadata": {},
   "source": [
    "This data frame lists all characters, their movie, their gender, and their credit position. The `character_ID` column is later referenced in other data frames."
   ]
  },
  {
   "cell_type": "markdown",
   "id": "50804719",
   "metadata": {},
   "source": [
    "## Table of Contents\n",
    "- [1st Section](#Loading-in-the-data-and-basic-summary) is where I import the files and get an idea of the data shape and contents\n",
    "- [2nd section](#Generating-gender-markers) is where I run the data through several functions to generate missing gender markers\n",
    "- [3rd section](#Another-pass-at-gender-markers:-identifying-first-names) is where I focus on splitting names to identify first names\n",
    "- [4th section](#Remerging-the-dataframes) puts all the data back together\n",
    "- [5th section](#Pickling-the-data-and-creating-a-csv) is where the data are saved and exported\n",
    "- [Conclusion](#Conclusion) summarizes the notebook"
   ]
  },
  {
   "cell_type": "code",
   "execution_count": 1,
   "id": "847157bb",
   "metadata": {
    "scrolled": true
   },
   "outputs": [],
   "source": [
    "# import packages\n",
    "import numpy as np\n",
    "import pandas as pd\n",
    "import nltk\n",
    "import re\n",
    "import matplotlib.pyplot as plt\n",
    "import seaborn as sns"
   ]
  },
  {
   "cell_type": "markdown",
   "id": "92b6aaf9",
   "metadata": {},
   "source": [
    "## Loading in the data and basic summary"
   ]
  },
  {
   "cell_type": "code",
   "execution_count": 2,
   "id": "692b8e93",
   "metadata": {
    "scrolled": true
   },
   "outputs": [],
   "source": [
    "# creating the df\n",
    "characters_df = pd.read_csv('../data/movie_characters_metadata.txt', sep='\\s+\\+\\+\\+\\$\\+\\+\\+\\s?',\n",
    "                            names = ['character_ID', 'character_name', 'movie_ID', 'movie_title', 'gender', 'credit_position'], \n",
    "                            dtype='string', engine='python', encoding='ISO-8859-1')"
   ]
  },
  {
   "cell_type": "markdown",
   "id": "33516489",
   "metadata": {},
   "source": [
    "The data were all separated with ' +++$+++ ' and did not have column names. The README from the original data described what each column was in the data so I used that to create column names."
   ]
  },
  {
   "cell_type": "code",
   "execution_count": 3,
   "id": "c90beafc",
   "metadata": {},
   "outputs": [
    {
     "data": {
      "text/plain": [
       "(9035, 6)"
      ]
     },
     "execution_count": 3,
     "metadata": {},
     "output_type": "execute_result"
    }
   ],
   "source": [
    "characters_df.shape"
   ]
  },
  {
   "cell_type": "code",
   "execution_count": 4,
   "id": "ba661d48",
   "metadata": {},
   "outputs": [
    {
     "name": "stdout",
     "output_type": "stream",
     "text": [
      "<class 'pandas.core.frame.DataFrame'>\n",
      "RangeIndex: 9035 entries, 0 to 9034\n",
      "Data columns (total 6 columns):\n",
      " #   Column           Non-Null Count  Dtype \n",
      "---  ------           --------------  ----- \n",
      " 0   character_ID     9035 non-null   string\n",
      " 1   character_name   9033 non-null   string\n",
      " 2   movie_ID         9035 non-null   string\n",
      " 3   movie_title      9035 non-null   string\n",
      " 4   gender           9035 non-null   string\n",
      " 5   credit_position  9035 non-null   string\n",
      "dtypes: string(6)\n",
      "memory usage: 423.6 KB\n"
     ]
    }
   ],
   "source": [
    "characters_df.info()\n",
    "# some characters are unnamed, I will drop them"
   ]
  },
  {
   "cell_type": "code",
   "execution_count": 5,
   "id": "52a7028d",
   "metadata": {},
   "outputs": [],
   "source": [
    "characters_df = characters_df.dropna()"
   ]
  },
  {
   "cell_type": "code",
   "execution_count": 6,
   "id": "5523c8cc",
   "metadata": {
    "scrolled": true
   },
   "outputs": [
    {
     "data": {
      "text/html": [
       "<div>\n",
       "<style scoped>\n",
       "    .dataframe tbody tr th:only-of-type {\n",
       "        vertical-align: middle;\n",
       "    }\n",
       "\n",
       "    .dataframe tbody tr th {\n",
       "        vertical-align: top;\n",
       "    }\n",
       "\n",
       "    .dataframe thead th {\n",
       "        text-align: right;\n",
       "    }\n",
       "</style>\n",
       "<table border=\"1\" class=\"dataframe\">\n",
       "  <thead>\n",
       "    <tr style=\"text-align: right;\">\n",
       "      <th></th>\n",
       "      <th>character_ID</th>\n",
       "      <th>character_name</th>\n",
       "      <th>movie_ID</th>\n",
       "      <th>movie_title</th>\n",
       "      <th>gender</th>\n",
       "      <th>credit_position</th>\n",
       "    </tr>\n",
       "  </thead>\n",
       "  <tbody>\n",
       "    <tr>\n",
       "      <th>0</th>\n",
       "      <td>u0</td>\n",
       "      <td>BIANCA</td>\n",
       "      <td>m0</td>\n",
       "      <td>10 things i hate about you</td>\n",
       "      <td>f</td>\n",
       "      <td>4</td>\n",
       "    </tr>\n",
       "    <tr>\n",
       "      <th>1</th>\n",
       "      <td>u1</td>\n",
       "      <td>BRUCE</td>\n",
       "      <td>m0</td>\n",
       "      <td>10 things i hate about you</td>\n",
       "      <td>?</td>\n",
       "      <td>?</td>\n",
       "    </tr>\n",
       "    <tr>\n",
       "      <th>2</th>\n",
       "      <td>u2</td>\n",
       "      <td>CAMERON</td>\n",
       "      <td>m0</td>\n",
       "      <td>10 things i hate about you</td>\n",
       "      <td>m</td>\n",
       "      <td>3</td>\n",
       "    </tr>\n",
       "    <tr>\n",
       "      <th>3</th>\n",
       "      <td>u3</td>\n",
       "      <td>CHASTITY</td>\n",
       "      <td>m0</td>\n",
       "      <td>10 things i hate about you</td>\n",
       "      <td>?</td>\n",
       "      <td>?</td>\n",
       "    </tr>\n",
       "    <tr>\n",
       "      <th>4</th>\n",
       "      <td>u4</td>\n",
       "      <td>JOEY</td>\n",
       "      <td>m0</td>\n",
       "      <td>10 things i hate about you</td>\n",
       "      <td>m</td>\n",
       "      <td>6</td>\n",
       "    </tr>\n",
       "  </tbody>\n",
       "</table>\n",
       "</div>"
      ],
      "text/plain": [
       "  character_ID character_name movie_ID                 movie_title gender  \\\n",
       "0           u0         BIANCA       m0  10 things i hate about you      f   \n",
       "1           u1          BRUCE       m0  10 things i hate about you      ?   \n",
       "2           u2        CAMERON       m0  10 things i hate about you      m   \n",
       "3           u3       CHASTITY       m0  10 things i hate about you      ?   \n",
       "4           u4           JOEY       m0  10 things i hate about you      m   \n",
       "\n",
       "  credit_position  \n",
       "0               4  \n",
       "1               ?  \n",
       "2               3  \n",
       "3               ?  \n",
       "4               6  "
      ]
     },
     "execution_count": 6,
     "metadata": {},
     "output_type": "execute_result"
    }
   ],
   "source": [
    "characters_df.head()"
   ]
  },
  {
   "cell_type": "code",
   "execution_count": 7,
   "id": "078ffb27",
   "metadata": {},
   "outputs": [
    {
     "data": {
      "text/html": [
       "<div>\n",
       "<style scoped>\n",
       "    .dataframe tbody tr th:only-of-type {\n",
       "        vertical-align: middle;\n",
       "    }\n",
       "\n",
       "    .dataframe tbody tr th {\n",
       "        vertical-align: top;\n",
       "    }\n",
       "\n",
       "    .dataframe thead th {\n",
       "        text-align: right;\n",
       "    }\n",
       "</style>\n",
       "<table border=\"1\" class=\"dataframe\">\n",
       "  <thead>\n",
       "    <tr style=\"text-align: right;\">\n",
       "      <th></th>\n",
       "      <th>character_ID</th>\n",
       "      <th>character_name</th>\n",
       "      <th>movie_ID</th>\n",
       "      <th>movie_title</th>\n",
       "      <th>gender</th>\n",
       "      <th>credit_position</th>\n",
       "    </tr>\n",
       "  </thead>\n",
       "  <tbody>\n",
       "    <tr>\n",
       "      <th>9030</th>\n",
       "      <td>u9030</td>\n",
       "      <td>DURNFORD</td>\n",
       "      <td>m616</td>\n",
       "      <td>zulu dawn</td>\n",
       "      <td>?</td>\n",
       "      <td>?</td>\n",
       "    </tr>\n",
       "    <tr>\n",
       "      <th>9031</th>\n",
       "      <td>u9031</td>\n",
       "      <td>MELVILL</td>\n",
       "      <td>m616</td>\n",
       "      <td>zulu dawn</td>\n",
       "      <td>?</td>\n",
       "      <td>?</td>\n",
       "    </tr>\n",
       "    <tr>\n",
       "      <th>9032</th>\n",
       "      <td>u9032</td>\n",
       "      <td>NORRIS-NEWMAN</td>\n",
       "      <td>m616</td>\n",
       "      <td>zulu dawn</td>\n",
       "      <td>?</td>\n",
       "      <td>?</td>\n",
       "    </tr>\n",
       "    <tr>\n",
       "      <th>9033</th>\n",
       "      <td>u9033</td>\n",
       "      <td>STUART SMITH</td>\n",
       "      <td>m616</td>\n",
       "      <td>zulu dawn</td>\n",
       "      <td>?</td>\n",
       "      <td>?</td>\n",
       "    </tr>\n",
       "    <tr>\n",
       "      <th>9034</th>\n",
       "      <td>u9034</td>\n",
       "      <td>VEREKER</td>\n",
       "      <td>m616</td>\n",
       "      <td>zulu dawn</td>\n",
       "      <td>?</td>\n",
       "      <td>?</td>\n",
       "    </tr>\n",
       "  </tbody>\n",
       "</table>\n",
       "</div>"
      ],
      "text/plain": [
       "     character_ID character_name movie_ID movie_title gender credit_position\n",
       "9030        u9030       DURNFORD     m616   zulu dawn      ?               ?\n",
       "9031        u9031        MELVILL     m616   zulu dawn      ?               ?\n",
       "9032        u9032  NORRIS-NEWMAN     m616   zulu dawn      ?               ?\n",
       "9033        u9033   STUART SMITH     m616   zulu dawn      ?               ?\n",
       "9034        u9034        VEREKER     m616   zulu dawn      ?               ?"
      ]
     },
     "execution_count": 7,
     "metadata": {},
     "output_type": "execute_result"
    }
   ],
   "source": [
    "characters_df.tail()"
   ]
  },
  {
   "cell_type": "markdown",
   "id": "e6942f9d",
   "metadata": {},
   "source": [
    "Some gender makers are missing for characters in this dataframe, I will work on filling in the missing data."
   ]
  },
  {
   "cell_type": "code",
   "execution_count": 8,
   "id": "1db6a8c8",
   "metadata": {
    "scrolled": true
   },
   "outputs": [
    {
     "data": {
      "text/html": [
       "<div>\n",
       "<style scoped>\n",
       "    .dataframe tbody tr th:only-of-type {\n",
       "        vertical-align: middle;\n",
       "    }\n",
       "\n",
       "    .dataframe tbody tr th {\n",
       "        vertical-align: top;\n",
       "    }\n",
       "\n",
       "    .dataframe thead th {\n",
       "        text-align: right;\n",
       "    }\n",
       "</style>\n",
       "<table border=\"1\" class=\"dataframe\">\n",
       "  <thead>\n",
       "    <tr style=\"text-align: right;\">\n",
       "      <th></th>\n",
       "      <th>character_ID</th>\n",
       "      <th>character_name</th>\n",
       "      <th>movie_ID</th>\n",
       "      <th>movie_title</th>\n",
       "      <th>credit_position</th>\n",
       "    </tr>\n",
       "    <tr>\n",
       "      <th>gender</th>\n",
       "      <th></th>\n",
       "      <th></th>\n",
       "      <th></th>\n",
       "      <th></th>\n",
       "      <th></th>\n",
       "    </tr>\n",
       "  </thead>\n",
       "  <tbody>\n",
       "    <tr>\n",
       "      <th>?</th>\n",
       "      <td>6018</td>\n",
       "      <td>6018</td>\n",
       "      <td>6018</td>\n",
       "      <td>6018</td>\n",
       "      <td>6018</td>\n",
       "    </tr>\n",
       "    <tr>\n",
       "      <th>F</th>\n",
       "      <td>45</td>\n",
       "      <td>45</td>\n",
       "      <td>45</td>\n",
       "      <td>45</td>\n",
       "      <td>45</td>\n",
       "    </tr>\n",
       "    <tr>\n",
       "      <th>M</th>\n",
       "      <td>150</td>\n",
       "      <td>150</td>\n",
       "      <td>150</td>\n",
       "      <td>150</td>\n",
       "      <td>150</td>\n",
       "    </tr>\n",
       "    <tr>\n",
       "      <th>f</th>\n",
       "      <td>921</td>\n",
       "      <td>921</td>\n",
       "      <td>921</td>\n",
       "      <td>921</td>\n",
       "      <td>921</td>\n",
       "    </tr>\n",
       "    <tr>\n",
       "      <th>m</th>\n",
       "      <td>1899</td>\n",
       "      <td>1899</td>\n",
       "      <td>1899</td>\n",
       "      <td>1899</td>\n",
       "      <td>1899</td>\n",
       "    </tr>\n",
       "  </tbody>\n",
       "</table>\n",
       "</div>"
      ],
      "text/plain": [
       "        character_ID  character_name  movie_ID  movie_title  credit_position\n",
       "gender                                                                      \n",
       "?               6018            6018      6018         6018             6018\n",
       "F                 45              45        45           45               45\n",
       "M                150             150       150          150              150\n",
       "f                921             921       921          921              921\n",
       "m               1899            1899      1899         1899             1899"
      ]
     },
     "execution_count": 8,
     "metadata": {},
     "output_type": "execute_result"
    }
   ],
   "source": [
    "# how many characters are missing gender?\n",
    "characters_df.groupby('gender').count()"
   ]
  },
  {
   "cell_type": "markdown",
   "id": "d8ab8897",
   "metadata": {},
   "source": [
    "There are a lot of missing gender markers! Looks like some of the flags are inconsist too, there is 'm' and 'M.'"
   ]
  },
  {
   "cell_type": "code",
   "execution_count": 9,
   "id": "b6a6a7d9",
   "metadata": {},
   "outputs": [
    {
     "data": {
      "image/png": "[encoded data removed]",
      "text/plain": [
       "<Figure size 432x288 with 1 Axes>"
      ]
     },
     "metadata": {
      "needs_background": "light"
     },
     "output_type": "display_data"
    }
   ],
   "source": [
    "sns.countplot(x = \"gender\",\n",
    "             data = characters_df)\n",
    "plt.savefig('../data_visualization/initial_gender.png')\n",
    "plt.show()"
   ]
  },
  {
   "cell_type": "markdown",
   "id": "2283e816",
   "metadata": {},
   "source": [
    "More characters are missing gender markers than have gender markers."
   ]
  },
  {
   "cell_type": "code",
   "execution_count": 10,
   "id": "4531bfbd",
   "metadata": {},
   "outputs": [],
   "source": [
    "# making all gender markers uppercase\n",
    "characters_df['gender'] = characters_df.gender.map(lambda x: re.sub(r'f', r'F', x))\n",
    "characters_df['gender'] = characters_df.gender.map(lambda x: re.sub(r'm', r'M', x))"
   ]
  },
  {
   "cell_type": "code",
   "execution_count": 11,
   "id": "4be57ec1",
   "metadata": {},
   "outputs": [
    {
     "data": {
      "text/html": [
       "<div>\n",
       "<style scoped>\n",
       "    .dataframe tbody tr th:only-of-type {\n",
       "        vertical-align: middle;\n",
       "    }\n",
       "\n",
       "    .dataframe tbody tr th {\n",
       "        vertical-align: top;\n",
       "    }\n",
       "\n",
       "    .dataframe thead th {\n",
       "        text-align: right;\n",
       "    }\n",
       "</style>\n",
       "<table border=\"1\" class=\"dataframe\">\n",
       "  <thead>\n",
       "    <tr style=\"text-align: right;\">\n",
       "      <th></th>\n",
       "      <th>character_ID</th>\n",
       "      <th>character_name</th>\n",
       "      <th>movie_ID</th>\n",
       "      <th>movie_title</th>\n",
       "      <th>gender</th>\n",
       "      <th>credit_position</th>\n",
       "    </tr>\n",
       "  </thead>\n",
       "  <tbody>\n",
       "    <tr>\n",
       "      <th>count</th>\n",
       "      <td>9033</td>\n",
       "      <td>9033</td>\n",
       "      <td>9033</td>\n",
       "      <td>9033</td>\n",
       "      <td>9033</td>\n",
       "      <td>9033</td>\n",
       "    </tr>\n",
       "    <tr>\n",
       "      <th>unique</th>\n",
       "      <td>9033</td>\n",
       "      <td>5355</td>\n",
       "      <td>617</td>\n",
       "      <td>617</td>\n",
       "      <td>3</td>\n",
       "      <td>57</td>\n",
       "    </tr>\n",
       "    <tr>\n",
       "      <th>top</th>\n",
       "      <td>u0</td>\n",
       "      <td>MAN</td>\n",
       "      <td>m289</td>\n",
       "      <td>casino</td>\n",
       "      <td>?</td>\n",
       "      <td>?</td>\n",
       "    </tr>\n",
       "    <tr>\n",
       "      <th>freq</th>\n",
       "      <td>1</td>\n",
       "      <td>44</td>\n",
       "      <td>44</td>\n",
       "      <td>44</td>\n",
       "      <td>6018</td>\n",
       "      <td>6354</td>\n",
       "    </tr>\n",
       "  </tbody>\n",
       "</table>\n",
       "</div>"
      ],
      "text/plain": [
       "       character_ID character_name movie_ID movie_title gender credit_position\n",
       "count          9033           9033     9033        9033   9033            9033\n",
       "unique         9033           5355      617         617      3              57\n",
       "top              u0            MAN     m289      casino      ?               ?\n",
       "freq              1             44       44          44   6018            6354"
      ]
     },
     "execution_count": 11,
     "metadata": {},
     "output_type": "execute_result"
    }
   ],
   "source": [
    "characters_df.describe()"
   ]
  },
  {
   "cell_type": "code",
   "execution_count": 12,
   "id": "948f7b09",
   "metadata": {},
   "outputs": [
    {
     "data": {
      "text/html": [
       "<div>\n",
       "<style scoped>\n",
       "    .dataframe tbody tr th:only-of-type {\n",
       "        vertical-align: middle;\n",
       "    }\n",
       "\n",
       "    .dataframe tbody tr th {\n",
       "        vertical-align: top;\n",
       "    }\n",
       "\n",
       "    .dataframe thead th {\n",
       "        text-align: right;\n",
       "    }\n",
       "</style>\n",
       "<table border=\"1\" class=\"dataframe\">\n",
       "  <thead>\n",
       "    <tr style=\"text-align: right;\">\n",
       "      <th></th>\n",
       "      <th>character_ID</th>\n",
       "      <th>character_name</th>\n",
       "      <th>movie_ID</th>\n",
       "      <th>movie_title</th>\n",
       "      <th>credit_position</th>\n",
       "    </tr>\n",
       "    <tr>\n",
       "      <th>gender</th>\n",
       "      <th></th>\n",
       "      <th></th>\n",
       "      <th></th>\n",
       "      <th></th>\n",
       "      <th></th>\n",
       "    </tr>\n",
       "  </thead>\n",
       "  <tbody>\n",
       "    <tr>\n",
       "      <th>?</th>\n",
       "      <td>6018</td>\n",
       "      <td>6018</td>\n",
       "      <td>6018</td>\n",
       "      <td>6018</td>\n",
       "      <td>6018</td>\n",
       "    </tr>\n",
       "    <tr>\n",
       "      <th>F</th>\n",
       "      <td>966</td>\n",
       "      <td>966</td>\n",
       "      <td>966</td>\n",
       "      <td>966</td>\n",
       "      <td>966</td>\n",
       "    </tr>\n",
       "    <tr>\n",
       "      <th>M</th>\n",
       "      <td>2049</td>\n",
       "      <td>2049</td>\n",
       "      <td>2049</td>\n",
       "      <td>2049</td>\n",
       "      <td>2049</td>\n",
       "    </tr>\n",
       "  </tbody>\n",
       "</table>\n",
       "</div>"
      ],
      "text/plain": [
       "        character_ID  character_name  movie_ID  movie_title  credit_position\n",
       "gender                                                                      \n",
       "?               6018            6018      6018         6018             6018\n",
       "F                966             966       966          966              966\n",
       "M               2049            2049      2049         2049             2049"
      ]
     },
     "execution_count": 12,
     "metadata": {},
     "output_type": "execute_result"
    }
   ],
   "source": [
    "# now that the markers are tidied up, let's look again\n",
    "characters_df.groupby('gender').count()"
   ]
  },
  {
   "cell_type": "code",
   "execution_count": 13,
   "id": "1ff7b70f",
   "metadata": {},
   "outputs": [
    {
     "data": {
      "image/png": "[encoded data removed]",
      "text/plain": [
       "<Figure size 432x288 with 1 Axes>"
      ]
     },
     "metadata": {
      "needs_background": "light"
     },
     "output_type": "display_data"
    }
   ],
   "source": [
    "sns.countplot(x = \"gender\",\n",
    "             data = characters_df)\n",
    "plt.savefig('../data_visualization/gender_update1.png')\n",
    "plt.show()"
   ]
  },
  {
   "cell_type": "code",
   "execution_count": 14,
   "id": "e11b3c56",
   "metadata": {},
   "outputs": [
    {
     "data": {
      "image/png": "[encoded data removed]",
      "text/plain": [
       "<Figure size 432x288 with 1 Axes>"
      ]
     },
     "metadata": {},
     "output_type": "display_data"
    }
   ],
   "source": [
    "# another view of the gender split\n",
    "plt.pie(characters_df.gender.value_counts(), labels=[\"?\", \"F\", \"M\"])\n",
    "plt.savefig('../data_visualization/gender_pie_initial.png')\n",
    "plt.show()"
   ]
  },
  {
   "cell_type": "markdown",
   "id": "3736ec2a",
   "metadata": {},
   "source": [
    "A majority of the characters are missing gender markers. I will fill in as many of these as I can."
   ]
  },
  {
   "cell_type": "markdown",
   "id": "2f9ac010",
   "metadata": {},
   "source": [
    "## Generating gender markers"
   ]
  },
  {
   "cell_type": "code",
   "execution_count": 15,
   "id": "33adf64b",
   "metadata": {},
   "outputs": [],
   "source": [
    "# df for characters without gender markers\n",
    "characters_ng1_df = characters_df[characters_df.gender == '?']\n",
    "\n",
    "# df for characters with gender markers, these will get remerged later\n",
    "characters_g1_df = characters_df[characters_df.gender != '?']"
   ]
  },
  {
   "cell_type": "code",
   "execution_count": 16,
   "id": "d151e18c",
   "metadata": {},
   "outputs": [
    {
     "name": "stdout",
     "output_type": "stream",
     "text": [
      "<class 'pandas.core.frame.DataFrame'>\n",
      "Int64Index: 6018 entries, 1 to 9034\n",
      "Data columns (total 6 columns):\n",
      " #   Column           Non-Null Count  Dtype \n",
      "---  ------           --------------  ----- \n",
      " 0   character_ID     6018 non-null   string\n",
      " 1   character_name   6018 non-null   string\n",
      " 2   movie_ID         6018 non-null   string\n",
      " 3   movie_title      6018 non-null   string\n",
      " 4   gender           6018 non-null   object\n",
      " 5   credit_position  6018 non-null   string\n",
      "dtypes: object(1), string(5)\n",
      "memory usage: 329.1+ KB\n"
     ]
    }
   ],
   "source": [
    "characters_ng1_df.info()\n",
    "# a total of 6018 characters without gender"
   ]
  },
  {
   "cell_type": "markdown",
   "id": "5641f8d5",
   "metadata": {},
   "source": [
    "I will use the NLTK names list and specific strings to help fill in missing gender markers."
   ]
  },
  {
   "cell_type": "markdown",
   "id": "ae854cb4",
   "metadata": {},
   "source": [
    "### NLTK names"
   ]
  },
  {
   "cell_type": "code",
   "execution_count": 17,
   "id": "3fd97ea9",
   "metadata": {},
   "outputs": [],
   "source": [
    "# I will use the names corpus from NLTK to fill in some gaps in gender data\n",
    "names = nltk.corpus.names\n",
    "male_names = names.words('male.txt')\n",
    "female_names = names.words('female.txt')"
   ]
  },
  {
   "cell_type": "code",
   "execution_count": 18,
   "id": "2be10678",
   "metadata": {},
   "outputs": [
    {
     "data": {
      "text/plain": [
       "['Aamir',\n",
       " 'Aaron',\n",
       " 'Abbey',\n",
       " 'Abbie',\n",
       " 'Abbot',\n",
       " 'Abbott',\n",
       " 'Abby',\n",
       " 'Abdel',\n",
       " 'Abdul',\n",
       " 'Abdulkarim']"
      ]
     },
     "execution_count": 18,
     "metadata": {},
     "output_type": "execute_result"
    }
   ],
   "source": [
    "male_names[:10]"
   ]
  },
  {
   "cell_type": "code",
   "execution_count": 19,
   "id": "ebf32625",
   "metadata": {},
   "outputs": [
    {
     "data": {
      "text/plain": [
       "['Abagael',\n",
       " 'Abagail',\n",
       " 'Abbe',\n",
       " 'Abbey',\n",
       " 'Abbi',\n",
       " 'Abbie',\n",
       " 'Abby',\n",
       " 'Abigael',\n",
       " 'Abigail',\n",
       " 'Abigale']"
      ]
     },
     "execution_count": 19,
     "metadata": {},
     "output_type": "execute_result"
    }
   ],
   "source": [
    "female_names[:10]"
   ]
  },
  {
   "cell_type": "markdown",
   "id": "4143c307",
   "metadata": {},
   "source": [
    "Some names appear on both lists, this will be addressed below. I will add a gender marker 'A' for ambiguous, the names in both lists as well as certain strings will make up this category."
   ]
  },
  {
   "cell_type": "markdown",
   "id": "7b8d6f53",
   "metadata": {},
   "source": [
    "### Strings"
   ]
  },
  {
   "cell_type": "markdown",
   "id": "912d6884",
   "metadata": {},
   "source": [
    "Miss Perky is a character, turns out there are numerous other characters with honorifics and stereotypically gendered words (boy, girl, brother, sister, etc.). These can be seen in the function below."
   ]
  },
  {
   "cell_type": "markdown",
   "id": "ebe6e903",
   "metadata": {},
   "source": [
    "### Gender function"
   ]
  },
  {
   "cell_type": "code",
   "execution_count": 20,
   "id": "b4437c80",
   "metadata": {},
   "outputs": [],
   "source": [
    "# code created by Na-Rae Han and refined by me\n",
    "def getGender1(name):\n",
    "    nltkname_m = set([n.upper() for n in male_names])\n",
    "    nltkname_f = set([n.upper() for n in female_names])\n",
    "    nltkname_mf = nltkname_m.intersection(nltkname_f)\n",
    "    name = name.upper()  # uppercase incoming name\n",
    "    if name in nltkname_mf: return 'A'\n",
    "    elif name in nltkname_f: return 'F'\n",
    "    elif name in nltkname_m: return 'M'\n",
    "    # these strings come from extensive searching through the character names\n",
    "    elif re.match(r'(.* ?)?(\\bMAN\\b|BOYFRIEND|DAD|\\bPA\\b|FATHER|GRANDFATHER|GRANDDAD|GRANDPA|GRAMPA|GRANDSON|BROTHER|BOY|SIR|MR.|MISTER|UNCLE|MALE|\\bHERR\\b|HOST\\b|LORD|PRIEST|COUNT|WIZARD|EMPEROR|GOVERNOR|DUDE|GUY|GROOM|BUTLER)', name):\n",
    "        return 'M'\n",
    "    elif 'WOMAN' in name or re.match(r'(.* ?)?(MS\\.|MISS\\b|GIRL|WIFE|MOM|MUM|MOTHER|DAUGHTER|SISTER|MRS.|AUNT|MAMA|\\bMA|LADY|\\bFEMALE|FRAU|PRINCESS|QUEEN|GRANDMA|GRANDMOTHER|WAITRESS|HOSTESS|NUN|WITCH|ACTRESS|GOVERNESS|STEWARDESS|CHICK|MAID)', name): \n",
    "        return 'F'\n",
    "    # there are gender assumptions for many of these terms, but I am trying to avoid stereotypes\n",
    "    elif re.match(r'(.* ?)?(DR. |DR |DOCTOR|DOC|PROFESSOR|PROF.\\b|TEACHER|JUDGE|PILOT|LAWYER|KID|CHILD|GUARD|OFFICER|PERSON|COP|SECRETARY|SOLDIER|^VOICE|PASTOR|DETECTIVE$|DET.|DEPUTY|CAPTAIN$|MINISTER|ATTENDANT|CLERK|RECEPTIONIST|NURSE|STUDENT|BARTENDER|CUSTOMER|DRIVER|POLICE)', name): \n",
    "        return 'A'\n",
    "    else:\n",
    "        return 'unknown'"
   ]
  },
  {
   "cell_type": "code",
   "execution_count": 21,
   "id": "3f0a99ef",
   "metadata": {},
   "outputs": [
    {
     "name": "stderr",
     "output_type": "stream",
     "text": [
      "<ipython-input-21-e52a6c1fafd9>:1: SettingWithCopyWarning: \n",
      "A value is trying to be set on a copy of a slice from a DataFrame.\n",
      "Try using .loc[row_indexer,col_indexer] = value instead\n",
      "\n",
      "See the caveats in the documentation: https://pandas.pydata.org/pandas-docs/stable/user_guide/indexing.html#returning-a-view-versus-a-copy\n",
      "  characters_ng1_df['gender'] = characters_ng1_df['character_name'].map(getGender1)\n"
     ]
    }
   ],
   "source": [
    "characters_ng1_df['gender'] = characters_ng1_df['character_name'].map(getGender1)"
   ]
  },
  {
   "cell_type": "code",
   "execution_count": 22,
   "id": "da8de7c3",
   "metadata": {},
   "outputs": [
    {
     "data": {
      "text/html": [
       "<div>\n",
       "<style scoped>\n",
       "    .dataframe tbody tr th:only-of-type {\n",
       "        vertical-align: middle;\n",
       "    }\n",
       "\n",
       "    .dataframe tbody tr th {\n",
       "        vertical-align: top;\n",
       "    }\n",
       "\n",
       "    .dataframe thead th {\n",
       "        text-align: right;\n",
       "    }\n",
       "</style>\n",
       "<table border=\"1\" class=\"dataframe\">\n",
       "  <thead>\n",
       "    <tr style=\"text-align: right;\">\n",
       "      <th></th>\n",
       "      <th>character_ID</th>\n",
       "      <th>character_name</th>\n",
       "      <th>movie_ID</th>\n",
       "      <th>movie_title</th>\n",
       "      <th>credit_position</th>\n",
       "    </tr>\n",
       "    <tr>\n",
       "      <th>gender</th>\n",
       "      <th></th>\n",
       "      <th></th>\n",
       "      <th></th>\n",
       "      <th></th>\n",
       "      <th></th>\n",
       "    </tr>\n",
       "  </thead>\n",
       "  <tbody>\n",
       "    <tr>\n",
       "      <th>A</th>\n",
       "      <td>908</td>\n",
       "      <td>908</td>\n",
       "      <td>908</td>\n",
       "      <td>908</td>\n",
       "      <td>908</td>\n",
       "    </tr>\n",
       "    <tr>\n",
       "      <th>F</th>\n",
       "      <td>1080</td>\n",
       "      <td>1080</td>\n",
       "      <td>1080</td>\n",
       "      <td>1080</td>\n",
       "      <td>1080</td>\n",
       "    </tr>\n",
       "    <tr>\n",
       "      <th>M</th>\n",
       "      <td>1569</td>\n",
       "      <td>1569</td>\n",
       "      <td>1569</td>\n",
       "      <td>1569</td>\n",
       "      <td>1569</td>\n",
       "    </tr>\n",
       "    <tr>\n",
       "      <th>unknown</th>\n",
       "      <td>2461</td>\n",
       "      <td>2461</td>\n",
       "      <td>2461</td>\n",
       "      <td>2461</td>\n",
       "      <td>2461</td>\n",
       "    </tr>\n",
       "  </tbody>\n",
       "</table>\n",
       "</div>"
      ],
      "text/plain": [
       "         character_ID  character_name  movie_ID  movie_title  credit_position\n",
       "gender                                                                       \n",
       "A                 908             908       908          908              908\n",
       "F                1080            1080      1080         1080             1080\n",
       "M                1569            1569      1569         1569             1569\n",
       "unknown          2461            2461      2461         2461             2461"
      ]
     },
     "execution_count": 22,
     "metadata": {},
     "output_type": "execute_result"
    }
   ],
   "source": [
    "characters_ng1_df.groupby('gender').count()"
   ]
  },
  {
   "cell_type": "markdown",
   "id": "cad51401",
   "metadata": {},
   "source": [
    "Initially 6018 characters were missing gender markers. Through multiple updates and re-running the code, I was able to improve from adding 2883 gender markers to adding 3557 markers."
   ]
  },
  {
   "cell_type": "code",
   "execution_count": 23,
   "id": "9a71e1e0",
   "metadata": {},
   "outputs": [
    {
     "data": {
      "image/png": "[encoded data removed]",
      "text/plain": [
       "<Figure size 432x288 with 1 Axes>"
      ]
     },
     "metadata": {
      "needs_background": "light"
     },
     "output_type": "display_data"
    }
   ],
   "source": [
    "sns.countplot(x = \"gender\",\n",
    "             data = characters_ng1_df)\n",
    "plt.savefig('../data_visualization/gender_update2.png')\n",
    "plt.show()\n",
    "# still a lot of unknown genders, but more than half were resolved"
   ]
  },
  {
   "cell_type": "markdown",
   "id": "867d989e",
   "metadata": {},
   "source": [
    "## Another pass at gender markers: identifying first names"
   ]
  },
  {
   "cell_type": "markdown",
   "id": "a24d406d",
   "metadata": {},
   "source": [
    "One of the last characters in the dataframe is \"Stuart Smith\" which made me think about split the `character_name` column to see if NLTK names would work on first names."
   ]
  },
  {
   "cell_type": "code",
   "execution_count": 24,
   "id": "92e9ffc4",
   "metadata": {},
   "outputs": [],
   "source": [
    "# df for characters without gender markers\n",
    "characters_ng2_df = characters_ng1_df[characters_ng1_df.gender == 'unknown']\n",
    "\n",
    "# df for characters with gender markers, these will get remerged later\n",
    "characters_g2_df = characters_ng1_df[characters_ng1_df.gender != 'unknown']"
   ]
  },
  {
   "cell_type": "code",
   "execution_count": 25,
   "id": "2c03b7e2",
   "metadata": {},
   "outputs": [
    {
     "data": {
      "text/html": [
       "<div>\n",
       "<style scoped>\n",
       "    .dataframe tbody tr th:only-of-type {\n",
       "        vertical-align: middle;\n",
       "    }\n",
       "\n",
       "    .dataframe tbody tr th {\n",
       "        vertical-align: top;\n",
       "    }\n",
       "\n",
       "    .dataframe thead th {\n",
       "        text-align: right;\n",
       "    }\n",
       "</style>\n",
       "<table border=\"1\" class=\"dataframe\">\n",
       "  <thead>\n",
       "    <tr style=\"text-align: right;\">\n",
       "      <th></th>\n",
       "      <th>character_ID</th>\n",
       "      <th>character_name</th>\n",
       "      <th>movie_ID</th>\n",
       "      <th>movie_title</th>\n",
       "      <th>gender</th>\n",
       "      <th>credit_position</th>\n",
       "    </tr>\n",
       "  </thead>\n",
       "  <tbody>\n",
       "    <tr>\n",
       "      <th>13</th>\n",
       "      <td>u13</td>\n",
       "      <td>AROJAZ</td>\n",
       "      <td>m1</td>\n",
       "      <td>1492: conquest of paradise</td>\n",
       "      <td>unknown</td>\n",
       "      <td>?</td>\n",
       "    </tr>\n",
       "    <tr>\n",
       "      <th>15</th>\n",
       "      <td>u15</td>\n",
       "      <td>BOBADILLA</td>\n",
       "      <td>m1</td>\n",
       "      <td>1492: conquest of paradise</td>\n",
       "      <td>unknown</td>\n",
       "      <td>?</td>\n",
       "    </tr>\n",
       "    <tr>\n",
       "      <th>20</th>\n",
       "      <td>u20</td>\n",
       "      <td>MENDEZ</td>\n",
       "      <td>m1</td>\n",
       "      <td>1492: conquest of paradise</td>\n",
       "      <td>unknown</td>\n",
       "      <td>?</td>\n",
       "    </tr>\n",
       "    <tr>\n",
       "      <th>21</th>\n",
       "      <td>u21</td>\n",
       "      <td>MOXICA</td>\n",
       "      <td>m1</td>\n",
       "      <td>1492: conquest of paradise</td>\n",
       "      <td>unknown</td>\n",
       "      <td>?</td>\n",
       "    </tr>\n",
       "    <tr>\n",
       "      <th>22</th>\n",
       "      <td>u22</td>\n",
       "      <td>PINZON</td>\n",
       "      <td>m1</td>\n",
       "      <td>1492: conquest of paradise</td>\n",
       "      <td>unknown</td>\n",
       "      <td>?</td>\n",
       "    </tr>\n",
       "  </tbody>\n",
       "</table>\n",
       "</div>"
      ],
      "text/plain": [
       "   character_ID character_name movie_ID                 movie_title   gender  \\\n",
       "13          u13         AROJAZ       m1  1492: conquest of paradise  unknown   \n",
       "15          u15      BOBADILLA       m1  1492: conquest of paradise  unknown   \n",
       "20          u20         MENDEZ       m1  1492: conquest of paradise  unknown   \n",
       "21          u21         MOXICA       m1  1492: conquest of paradise  unknown   \n",
       "22          u22         PINZON       m1  1492: conquest of paradise  unknown   \n",
       "\n",
       "   credit_position  \n",
       "13               ?  \n",
       "15               ?  \n",
       "20               ?  \n",
       "21               ?  \n",
       "22               ?  "
      ]
     },
     "execution_count": 25,
     "metadata": {},
     "output_type": "execute_result"
    }
   ],
   "source": [
    "characters_ng2_df.head()"
   ]
  },
  {
   "cell_type": "code",
   "execution_count": 26,
   "id": "230b15ec",
   "metadata": {},
   "outputs": [
    {
     "data": {
      "text/html": [
       "<div>\n",
       "<style scoped>\n",
       "    .dataframe tbody tr th:only-of-type {\n",
       "        vertical-align: middle;\n",
       "    }\n",
       "\n",
       "    .dataframe tbody tr th {\n",
       "        vertical-align: top;\n",
       "    }\n",
       "\n",
       "    .dataframe thead th {\n",
       "        text-align: right;\n",
       "    }\n",
       "</style>\n",
       "<table border=\"1\" class=\"dataframe\">\n",
       "  <thead>\n",
       "    <tr style=\"text-align: right;\">\n",
       "      <th></th>\n",
       "      <th>character_ID</th>\n",
       "      <th>character_name</th>\n",
       "      <th>movie_ID</th>\n",
       "      <th>movie_title</th>\n",
       "      <th>gender</th>\n",
       "      <th>credit_position</th>\n",
       "    </tr>\n",
       "  </thead>\n",
       "  <tbody>\n",
       "    <tr>\n",
       "      <th>1</th>\n",
       "      <td>u1</td>\n",
       "      <td>BRUCE</td>\n",
       "      <td>m0</td>\n",
       "      <td>10 things i hate about you</td>\n",
       "      <td>M</td>\n",
       "      <td>?</td>\n",
       "    </tr>\n",
       "    <tr>\n",
       "      <th>3</th>\n",
       "      <td>u3</td>\n",
       "      <td>CHASTITY</td>\n",
       "      <td>m0</td>\n",
       "      <td>10 things i hate about you</td>\n",
       "      <td>F</td>\n",
       "      <td>?</td>\n",
       "    </tr>\n",
       "    <tr>\n",
       "      <th>8</th>\n",
       "      <td>u8</td>\n",
       "      <td>MISS PERKY</td>\n",
       "      <td>m0</td>\n",
       "      <td>10 things i hate about you</td>\n",
       "      <td>F</td>\n",
       "      <td>?</td>\n",
       "    </tr>\n",
       "    <tr>\n",
       "      <th>10</th>\n",
       "      <td>u10</td>\n",
       "      <td>SHARON</td>\n",
       "      <td>m0</td>\n",
       "      <td>10 things i hate about you</td>\n",
       "      <td>F</td>\n",
       "      <td>?</td>\n",
       "    </tr>\n",
       "    <tr>\n",
       "      <th>12</th>\n",
       "      <td>u12</td>\n",
       "      <td>ALONSO</td>\n",
       "      <td>m1</td>\n",
       "      <td>1492: conquest of paradise</td>\n",
       "      <td>M</td>\n",
       "      <td>?</td>\n",
       "    </tr>\n",
       "  </tbody>\n",
       "</table>\n",
       "</div>"
      ],
      "text/plain": [
       "   character_ID character_name movie_ID                 movie_title gender  \\\n",
       "1            u1          BRUCE       m0  10 things i hate about you      M   \n",
       "3            u3       CHASTITY       m0  10 things i hate about you      F   \n",
       "8            u8     MISS PERKY       m0  10 things i hate about you      F   \n",
       "10          u10         SHARON       m0  10 things i hate about you      F   \n",
       "12          u12         ALONSO       m1  1492: conquest of paradise      M   \n",
       "\n",
       "   credit_position  \n",
       "1                ?  \n",
       "3                ?  \n",
       "8                ?  \n",
       "10               ?  \n",
       "12               ?  "
      ]
     },
     "execution_count": 26,
     "metadata": {},
     "output_type": "execute_result"
    }
   ],
   "source": [
    "characters_g2_df.head()"
   ]
  },
  {
   "cell_type": "code",
   "execution_count": 27,
   "id": "4479813b",
   "metadata": {},
   "outputs": [
    {
     "name": "stderr",
     "output_type": "stream",
     "text": [
      "<ipython-input-27-1102011c8835>:3: SettingWithCopyWarning: \n",
      "A value is trying to be set on a copy of a slice from a DataFrame.\n",
      "Try using .loc[row_indexer,col_indexer] = value instead\n",
      "\n",
      "See the caveats in the documentation: https://pandas.pydata.org/pandas-docs/stable/user_guide/indexing.html#returning-a-view-versus-a-copy\n",
      "  characters_ng2_df['split_name'] = characters_ng2_df.character_name.map(lambda x: re.split(\"/| |'\", x))\n"
     ]
    }
   ],
   "source": [
    "# some characters are named like \"Chuck/Captain\" so I will also split by /\n",
    "# some characters are named like \"Helen's Voice\" so I will split by '\n",
    "characters_ng2_df['split_name'] = characters_ng2_df.character_name.map(lambda x: re.split(\"/| |'\", x))"
   ]
  },
  {
   "cell_type": "code",
   "execution_count": 28,
   "id": "70089a34",
   "metadata": {},
   "outputs": [],
   "source": [
    "# modifying the function above to look at just the first item in the list\n",
    "def getGender2(name):\n",
    "    nltkname_m = set([n.upper() for n in male_names])\n",
    "    nltkname_f = set([n.upper() for n in female_names])\n",
    "    nltkname_mf = nltkname_m.intersection(nltkname_f)\n",
    "    name = name[0].upper()  # uppercase incoming name\n",
    "    if name in nltkname_mf: return 'A'\n",
    "    elif name in nltkname_f: return 'F'\n",
    "    elif name in nltkname_m: return 'M'\n",
    "    else:\n",
    "        return 'unknown'"
   ]
  },
  {
   "cell_type": "code",
   "execution_count": 29,
   "id": "373c4a2c",
   "metadata": {},
   "outputs": [
    {
     "name": "stderr",
     "output_type": "stream",
     "text": [
      "<ipython-input-29-d26d63e36a8e>:1: SettingWithCopyWarning: \n",
      "A value is trying to be set on a copy of a slice from a DataFrame.\n",
      "Try using .loc[row_indexer,col_indexer] = value instead\n",
      "\n",
      "See the caveats in the documentation: https://pandas.pydata.org/pandas-docs/stable/user_guide/indexing.html#returning-a-view-versus-a-copy\n",
      "  characters_ng2_df['gender'] = characters_ng2_df['split_name'].map(getGender2)\n"
     ]
    }
   ],
   "source": [
    "characters_ng2_df['gender'] = characters_ng2_df['split_name'].map(getGender2)"
   ]
  },
  {
   "cell_type": "code",
   "execution_count": 30,
   "id": "66701331",
   "metadata": {},
   "outputs": [
    {
     "data": {
      "text/html": [
       "<div>\n",
       "<style scoped>\n",
       "    .dataframe tbody tr th:only-of-type {\n",
       "        vertical-align: middle;\n",
       "    }\n",
       "\n",
       "    .dataframe tbody tr th {\n",
       "        vertical-align: top;\n",
       "    }\n",
       "\n",
       "    .dataframe thead th {\n",
       "        text-align: right;\n",
       "    }\n",
       "</style>\n",
       "<table border=\"1\" class=\"dataframe\">\n",
       "  <thead>\n",
       "    <tr style=\"text-align: right;\">\n",
       "      <th></th>\n",
       "      <th>character_ID</th>\n",
       "      <th>character_name</th>\n",
       "      <th>movie_ID</th>\n",
       "      <th>movie_title</th>\n",
       "      <th>gender</th>\n",
       "      <th>credit_position</th>\n",
       "      <th>split_name</th>\n",
       "    </tr>\n",
       "  </thead>\n",
       "  <tbody>\n",
       "    <tr>\n",
       "      <th>9030</th>\n",
       "      <td>u9030</td>\n",
       "      <td>DURNFORD</td>\n",
       "      <td>m616</td>\n",
       "      <td>zulu dawn</td>\n",
       "      <td>unknown</td>\n",
       "      <td>?</td>\n",
       "      <td>[DURNFORD]</td>\n",
       "    </tr>\n",
       "    <tr>\n",
       "      <th>9031</th>\n",
       "      <td>u9031</td>\n",
       "      <td>MELVILL</td>\n",
       "      <td>m616</td>\n",
       "      <td>zulu dawn</td>\n",
       "      <td>unknown</td>\n",
       "      <td>?</td>\n",
       "      <td>[MELVILL]</td>\n",
       "    </tr>\n",
       "    <tr>\n",
       "      <th>9032</th>\n",
       "      <td>u9032</td>\n",
       "      <td>NORRIS-NEWMAN</td>\n",
       "      <td>m616</td>\n",
       "      <td>zulu dawn</td>\n",
       "      <td>unknown</td>\n",
       "      <td>?</td>\n",
       "      <td>[NORRIS-NEWMAN]</td>\n",
       "    </tr>\n",
       "    <tr>\n",
       "      <th>9033</th>\n",
       "      <td>u9033</td>\n",
       "      <td>STUART SMITH</td>\n",
       "      <td>m616</td>\n",
       "      <td>zulu dawn</td>\n",
       "      <td>M</td>\n",
       "      <td>?</td>\n",
       "      <td>[STUART, SMITH]</td>\n",
       "    </tr>\n",
       "    <tr>\n",
       "      <th>9034</th>\n",
       "      <td>u9034</td>\n",
       "      <td>VEREKER</td>\n",
       "      <td>m616</td>\n",
       "      <td>zulu dawn</td>\n",
       "      <td>unknown</td>\n",
       "      <td>?</td>\n",
       "      <td>[VEREKER]</td>\n",
       "    </tr>\n",
       "  </tbody>\n",
       "</table>\n",
       "</div>"
      ],
      "text/plain": [
       "     character_ID character_name movie_ID movie_title   gender  \\\n",
       "9030        u9030       DURNFORD     m616   zulu dawn  unknown   \n",
       "9031        u9031        MELVILL     m616   zulu dawn  unknown   \n",
       "9032        u9032  NORRIS-NEWMAN     m616   zulu dawn  unknown   \n",
       "9033        u9033   STUART SMITH     m616   zulu dawn        M   \n",
       "9034        u9034        VEREKER     m616   zulu dawn  unknown   \n",
       "\n",
       "     credit_position       split_name  \n",
       "9030               ?       [DURNFORD]  \n",
       "9031               ?        [MELVILL]  \n",
       "9032               ?  [NORRIS-NEWMAN]  \n",
       "9033               ?  [STUART, SMITH]  \n",
       "9034               ?        [VEREKER]  "
      ]
     },
     "execution_count": 30,
     "metadata": {},
     "output_type": "execute_result"
    }
   ],
   "source": [
    "characters_ng2_df.tail()"
   ]
  },
  {
   "cell_type": "code",
   "execution_count": 31,
   "id": "8a38aafe",
   "metadata": {},
   "outputs": [
    {
     "data": {
      "text/html": [
       "<div>\n",
       "<style scoped>\n",
       "    .dataframe tbody tr th:only-of-type {\n",
       "        vertical-align: middle;\n",
       "    }\n",
       "\n",
       "    .dataframe tbody tr th {\n",
       "        vertical-align: top;\n",
       "    }\n",
       "\n",
       "    .dataframe thead th {\n",
       "        text-align: right;\n",
       "    }\n",
       "</style>\n",
       "<table border=\"1\" class=\"dataframe\">\n",
       "  <thead>\n",
       "    <tr style=\"text-align: right;\">\n",
       "      <th></th>\n",
       "      <th>character_ID</th>\n",
       "      <th>character_name</th>\n",
       "      <th>movie_ID</th>\n",
       "      <th>movie_title</th>\n",
       "      <th>credit_position</th>\n",
       "      <th>split_name</th>\n",
       "    </tr>\n",
       "    <tr>\n",
       "      <th>gender</th>\n",
       "      <th></th>\n",
       "      <th></th>\n",
       "      <th></th>\n",
       "      <th></th>\n",
       "      <th></th>\n",
       "      <th></th>\n",
       "    </tr>\n",
       "  </thead>\n",
       "  <tbody>\n",
       "    <tr>\n",
       "      <th>A</th>\n",
       "      <td>48</td>\n",
       "      <td>48</td>\n",
       "      <td>48</td>\n",
       "      <td>48</td>\n",
       "      <td>48</td>\n",
       "      <td>48</td>\n",
       "    </tr>\n",
       "    <tr>\n",
       "      <th>F</th>\n",
       "      <td>44</td>\n",
       "      <td>44</td>\n",
       "      <td>44</td>\n",
       "      <td>44</td>\n",
       "      <td>44</td>\n",
       "      <td>44</td>\n",
       "    </tr>\n",
       "    <tr>\n",
       "      <th>M</th>\n",
       "      <td>108</td>\n",
       "      <td>108</td>\n",
       "      <td>108</td>\n",
       "      <td>108</td>\n",
       "      <td>108</td>\n",
       "      <td>108</td>\n",
       "    </tr>\n",
       "    <tr>\n",
       "      <th>unknown</th>\n",
       "      <td>2261</td>\n",
       "      <td>2261</td>\n",
       "      <td>2261</td>\n",
       "      <td>2261</td>\n",
       "      <td>2261</td>\n",
       "      <td>2261</td>\n",
       "    </tr>\n",
       "  </tbody>\n",
       "</table>\n",
       "</div>"
      ],
      "text/plain": [
       "         character_ID  character_name  movie_ID  movie_title  credit_position  \\\n",
       "gender                                                                          \n",
       "A                  48              48        48           48               48   \n",
       "F                  44              44        44           44               44   \n",
       "M                 108             108       108          108              108   \n",
       "unknown          2261            2261      2261         2261             2261   \n",
       "\n",
       "         split_name  \n",
       "gender               \n",
       "A                48  \n",
       "F                44  \n",
       "M               108  \n",
       "unknown        2261  "
      ]
     },
     "execution_count": 31,
     "metadata": {},
     "output_type": "execute_result"
    }
   ],
   "source": [
    "characters_ng2_df.groupby('gender').count()"
   ]
  },
  {
   "cell_type": "markdown",
   "id": "70633654",
   "metadata": {},
   "source": [
    "Added another 200 gender markers."
   ]
  },
  {
   "cell_type": "code",
   "execution_count": 32,
   "id": "60b44aed",
   "metadata": {},
   "outputs": [
    {
     "data": {
      "image/png": "[encoded data removed]",
      "text/plain": [
       "<Figure size 432x288 with 1 Axes>"
      ]
     },
     "metadata": {
      "needs_background": "light"
     },
     "output_type": "display_data"
    }
   ],
   "source": [
    "sns.countplot(x = \"gender\",\n",
    "             data = characters_ng2_df)\n",
    "plt.savefig('../data_visualization/gender_update3.png')\n",
    "plt.show()\n",
    "# still majority unknown, but a small bump for the other markers."
   ]
  },
  {
   "cell_type": "markdown",
   "id": "01520226",
   "metadata": {},
   "source": [
    "Some character's first names come second in the list of split names, like \"Detective Neal\""
   ]
  },
  {
   "cell_type": "code",
   "execution_count": 33,
   "id": "2610d1e7",
   "metadata": {},
   "outputs": [],
   "source": [
    "# separate the dfs again\n",
    "\n",
    "# df for characters without gender markers\n",
    "characters_ng3_df = characters_ng2_df[characters_ng2_df.gender == 'unknown']\n",
    "\n",
    "# df for characters with gender markers, these will get remerged later\n",
    "characters_g3_df = characters_ng2_df[characters_ng2_df.gender != 'unknown']"
   ]
  },
  {
   "cell_type": "code",
   "execution_count": 34,
   "id": "22450b8b",
   "metadata": {},
   "outputs": [
    {
     "data": {
      "text/html": [
       "<div>\n",
       "<style scoped>\n",
       "    .dataframe tbody tr th:only-of-type {\n",
       "        vertical-align: middle;\n",
       "    }\n",
       "\n",
       "    .dataframe tbody tr th {\n",
       "        vertical-align: top;\n",
       "    }\n",
       "\n",
       "    .dataframe thead th {\n",
       "        text-align: right;\n",
       "    }\n",
       "</style>\n",
       "<table border=\"1\" class=\"dataframe\">\n",
       "  <thead>\n",
       "    <tr style=\"text-align: right;\">\n",
       "      <th></th>\n",
       "      <th>character_ID</th>\n",
       "      <th>character_name</th>\n",
       "      <th>movie_ID</th>\n",
       "      <th>movie_title</th>\n",
       "      <th>gender</th>\n",
       "      <th>credit_position</th>\n",
       "      <th>split_name</th>\n",
       "    </tr>\n",
       "  </thead>\n",
       "  <tbody>\n",
       "    <tr>\n",
       "      <th>13</th>\n",
       "      <td>u13</td>\n",
       "      <td>AROJAZ</td>\n",
       "      <td>m1</td>\n",
       "      <td>1492: conquest of paradise</td>\n",
       "      <td>unknown</td>\n",
       "      <td>?</td>\n",
       "      <td>[AROJAZ]</td>\n",
       "    </tr>\n",
       "    <tr>\n",
       "      <th>15</th>\n",
       "      <td>u15</td>\n",
       "      <td>BOBADILLA</td>\n",
       "      <td>m1</td>\n",
       "      <td>1492: conquest of paradise</td>\n",
       "      <td>unknown</td>\n",
       "      <td>?</td>\n",
       "      <td>[BOBADILLA]</td>\n",
       "    </tr>\n",
       "    <tr>\n",
       "      <th>20</th>\n",
       "      <td>u20</td>\n",
       "      <td>MENDEZ</td>\n",
       "      <td>m1</td>\n",
       "      <td>1492: conquest of paradise</td>\n",
       "      <td>unknown</td>\n",
       "      <td>?</td>\n",
       "      <td>[MENDEZ]</td>\n",
       "    </tr>\n",
       "    <tr>\n",
       "      <th>21</th>\n",
       "      <td>u21</td>\n",
       "      <td>MOXICA</td>\n",
       "      <td>m1</td>\n",
       "      <td>1492: conquest of paradise</td>\n",
       "      <td>unknown</td>\n",
       "      <td>?</td>\n",
       "      <td>[MOXICA]</td>\n",
       "    </tr>\n",
       "    <tr>\n",
       "      <th>22</th>\n",
       "      <td>u22</td>\n",
       "      <td>PINZON</td>\n",
       "      <td>m1</td>\n",
       "      <td>1492: conquest of paradise</td>\n",
       "      <td>unknown</td>\n",
       "      <td>?</td>\n",
       "      <td>[PINZON]</td>\n",
       "    </tr>\n",
       "  </tbody>\n",
       "</table>\n",
       "</div>"
      ],
      "text/plain": [
       "   character_ID character_name movie_ID                 movie_title   gender  \\\n",
       "13          u13         AROJAZ       m1  1492: conquest of paradise  unknown   \n",
       "15          u15      BOBADILLA       m1  1492: conquest of paradise  unknown   \n",
       "20          u20         MENDEZ       m1  1492: conquest of paradise  unknown   \n",
       "21          u21         MOXICA       m1  1492: conquest of paradise  unknown   \n",
       "22          u22         PINZON       m1  1492: conquest of paradise  unknown   \n",
       "\n",
       "   credit_position   split_name  \n",
       "13               ?     [AROJAZ]  \n",
       "15               ?  [BOBADILLA]  \n",
       "20               ?     [MENDEZ]  \n",
       "21               ?     [MOXICA]  \n",
       "22               ?     [PINZON]  "
      ]
     },
     "execution_count": 34,
     "metadata": {},
     "output_type": "execute_result"
    }
   ],
   "source": [
    "characters_ng3_df.head()"
   ]
  },
  {
   "cell_type": "code",
   "execution_count": 35,
   "id": "52a56894",
   "metadata": {},
   "outputs": [
    {
     "data": {
      "text/html": [
       "<div>\n",
       "<style scoped>\n",
       "    .dataframe tbody tr th:only-of-type {\n",
       "        vertical-align: middle;\n",
       "    }\n",
       "\n",
       "    .dataframe tbody tr th {\n",
       "        vertical-align: top;\n",
       "    }\n",
       "\n",
       "    .dataframe thead th {\n",
       "        text-align: right;\n",
       "    }\n",
       "</style>\n",
       "<table border=\"1\" class=\"dataframe\">\n",
       "  <thead>\n",
       "    <tr style=\"text-align: right;\">\n",
       "      <th></th>\n",
       "      <th>character_ID</th>\n",
       "      <th>character_name</th>\n",
       "      <th>movie_ID</th>\n",
       "      <th>movie_title</th>\n",
       "      <th>gender</th>\n",
       "      <th>credit_position</th>\n",
       "      <th>split_name</th>\n",
       "    </tr>\n",
       "  </thead>\n",
       "  <tbody>\n",
       "    <tr>\n",
       "      <th>43</th>\n",
       "      <td>u43</td>\n",
       "      <td>ROBERT HAWKINS</td>\n",
       "      <td>m2</td>\n",
       "      <td>15 minutes</td>\n",
       "      <td>M</td>\n",
       "      <td>?</td>\n",
       "      <td>[ROBERT, HAWKINS]</td>\n",
       "    </tr>\n",
       "    <tr>\n",
       "      <th>46</th>\n",
       "      <td>u46</td>\n",
       "      <td>STEPHEN GELLER</td>\n",
       "      <td>m2</td>\n",
       "      <td>15 minutes</td>\n",
       "      <td>M</td>\n",
       "      <td>?</td>\n",
       "      <td>[STEPHEN, GELLER]</td>\n",
       "    </tr>\n",
       "    <tr>\n",
       "      <th>148</th>\n",
       "      <td>u148</td>\n",
       "      <td>MEL GORDON</td>\n",
       "      <td>m10</td>\n",
       "      <td>affliction</td>\n",
       "      <td>A</td>\n",
       "      <td>?</td>\n",
       "      <td>[MEL, GORDON]</td>\n",
       "    </tr>\n",
       "    <tr>\n",
       "      <th>239</th>\n",
       "      <td>u239</td>\n",
       "      <td>VAN LEUWEN</td>\n",
       "      <td>m15</td>\n",
       "      <td>aliens</td>\n",
       "      <td>A</td>\n",
       "      <td>?</td>\n",
       "      <td>[VAN, LEUWEN]</td>\n",
       "    </tr>\n",
       "    <tr>\n",
       "      <th>267</th>\n",
       "      <td>u267</td>\n",
       "      <td>VON STRACK</td>\n",
       "      <td>m16</td>\n",
       "      <td>amadeus</td>\n",
       "      <td>M</td>\n",
       "      <td>?</td>\n",
       "      <td>[VON, STRACK]</td>\n",
       "    </tr>\n",
       "  </tbody>\n",
       "</table>\n",
       "</div>"
      ],
      "text/plain": [
       "    character_ID  character_name movie_ID movie_title gender credit_position  \\\n",
       "43           u43  ROBERT HAWKINS       m2  15 minutes      M               ?   \n",
       "46           u46  STEPHEN GELLER       m2  15 minutes      M               ?   \n",
       "148         u148      MEL GORDON      m10  affliction      A               ?   \n",
       "239         u239      VAN LEUWEN      m15      aliens      A               ?   \n",
       "267         u267      VON STRACK      m16     amadeus      M               ?   \n",
       "\n",
       "            split_name  \n",
       "43   [ROBERT, HAWKINS]  \n",
       "46   [STEPHEN, GELLER]  \n",
       "148      [MEL, GORDON]  \n",
       "239      [VAN, LEUWEN]  \n",
       "267      [VON, STRACK]  "
      ]
     },
     "execution_count": 35,
     "metadata": {},
     "output_type": "execute_result"
    }
   ],
   "source": [
    "characters_g3_df.head()"
   ]
  },
  {
   "cell_type": "code",
   "execution_count": 36,
   "id": "397ece0e",
   "metadata": {},
   "outputs": [],
   "source": [
    "def getGender3(name):\n",
    "    nltkname_m = set([n.upper() for n in male_names])\n",
    "    nltkname_f = set([n.upper() for n in female_names])\n",
    "    nltkname_mf = nltkname_m.intersection(nltkname_f)\n",
    "    if len(name) > 1:\n",
    "        name = name[1].upper()  # uppercase incoming name\n",
    "        if name in nltkname_mf: return 'A'\n",
    "        elif name in nltkname_f: return 'F'\n",
    "        elif name in nltkname_m: return 'M'\n",
    "        else:\n",
    "            return 'unknown'\n",
    "    else:\n",
    "        return 'unknown'"
   ]
  },
  {
   "cell_type": "code",
   "execution_count": 37,
   "id": "ee1b0f02",
   "metadata": {},
   "outputs": [
    {
     "name": "stderr",
     "output_type": "stream",
     "text": [
      "<ipython-input-37-fb80d17392ca>:1: SettingWithCopyWarning: \n",
      "A value is trying to be set on a copy of a slice from a DataFrame.\n",
      "Try using .loc[row_indexer,col_indexer] = value instead\n",
      "\n",
      "See the caveats in the documentation: https://pandas.pydata.org/pandas-docs/stable/user_guide/indexing.html#returning-a-view-versus-a-copy\n",
      "  characters_ng3_df['gender'] = characters_ng3_df['split_name'].map(getGender3)\n"
     ]
    }
   ],
   "source": [
    "characters_ng3_df['gender'] = characters_ng3_df['split_name'].map(getGender3)"
   ]
  },
  {
   "cell_type": "code",
   "execution_count": 38,
   "id": "bf607efc",
   "metadata": {},
   "outputs": [
    {
     "data": {
      "text/html": [
       "<div>\n",
       "<style scoped>\n",
       "    .dataframe tbody tr th:only-of-type {\n",
       "        vertical-align: middle;\n",
       "    }\n",
       "\n",
       "    .dataframe tbody tr th {\n",
       "        vertical-align: top;\n",
       "    }\n",
       "\n",
       "    .dataframe thead th {\n",
       "        text-align: right;\n",
       "    }\n",
       "</style>\n",
       "<table border=\"1\" class=\"dataframe\">\n",
       "  <thead>\n",
       "    <tr style=\"text-align: right;\">\n",
       "      <th></th>\n",
       "      <th>character_ID</th>\n",
       "      <th>character_name</th>\n",
       "      <th>movie_ID</th>\n",
       "      <th>movie_title</th>\n",
       "      <th>credit_position</th>\n",
       "      <th>split_name</th>\n",
       "    </tr>\n",
       "    <tr>\n",
       "      <th>gender</th>\n",
       "      <th></th>\n",
       "      <th></th>\n",
       "      <th></th>\n",
       "      <th></th>\n",
       "      <th></th>\n",
       "      <th></th>\n",
       "    </tr>\n",
       "  </thead>\n",
       "  <tbody>\n",
       "    <tr>\n",
       "      <th>A</th>\n",
       "      <td>20</td>\n",
       "      <td>20</td>\n",
       "      <td>20</td>\n",
       "      <td>20</td>\n",
       "      <td>20</td>\n",
       "      <td>20</td>\n",
       "    </tr>\n",
       "    <tr>\n",
       "      <th>F</th>\n",
       "      <td>9</td>\n",
       "      <td>9</td>\n",
       "      <td>9</td>\n",
       "      <td>9</td>\n",
       "      <td>9</td>\n",
       "      <td>9</td>\n",
       "    </tr>\n",
       "    <tr>\n",
       "      <th>M</th>\n",
       "      <td>73</td>\n",
       "      <td>73</td>\n",
       "      <td>73</td>\n",
       "      <td>73</td>\n",
       "      <td>73</td>\n",
       "      <td>73</td>\n",
       "    </tr>\n",
       "    <tr>\n",
       "      <th>unknown</th>\n",
       "      <td>2159</td>\n",
       "      <td>2159</td>\n",
       "      <td>2159</td>\n",
       "      <td>2159</td>\n",
       "      <td>2159</td>\n",
       "      <td>2159</td>\n",
       "    </tr>\n",
       "  </tbody>\n",
       "</table>\n",
       "</div>"
      ],
      "text/plain": [
       "         character_ID  character_name  movie_ID  movie_title  credit_position  \\\n",
       "gender                                                                          \n",
       "A                  20              20        20           20               20   \n",
       "F                   9               9         9            9                9   \n",
       "M                  73              73        73           73               73   \n",
       "unknown          2159            2159      2159         2159             2159   \n",
       "\n",
       "         split_name  \n",
       "gender               \n",
       "A                20  \n",
       "F                 9  \n",
       "M                73  \n",
       "unknown        2159  "
      ]
     },
     "execution_count": 38,
     "metadata": {},
     "output_type": "execute_result"
    }
   ],
   "source": [
    "characters_ng3_df.groupby('gender').count()"
   ]
  },
  {
   "cell_type": "markdown",
   "id": "1bb7ad51",
   "metadata": {},
   "source": [
    "Added another 102 gender markers."
   ]
  },
  {
   "cell_type": "code",
   "execution_count": 39,
   "id": "ddf9e438",
   "metadata": {},
   "outputs": [
    {
     "data": {
      "image/png": "[encoded data removed]",
      "text/plain": [
       "<Figure size 432x288 with 1 Axes>"
      ]
     },
     "metadata": {
      "needs_background": "light"
     },
     "output_type": "display_data"
    }
   ],
   "source": [
    "sns.countplot(x = \"gender\",\n",
    "             data = characters_ng3_df)\n",
    "plt.savefig('../data_visualization/gender_update4.png')\n",
    "plt.show()\n",
    "# smaller progress than the first pass, but still some progress"
   ]
  },
  {
   "cell_type": "markdown",
   "id": "11fb4e21",
   "metadata": {},
   "source": [
    "## Remerging the dataframes"
   ]
  },
  {
   "cell_type": "code",
   "execution_count": 40,
   "id": "68dbd21a",
   "metadata": {},
   "outputs": [],
   "source": [
    "# now that I have made progress on adding gender markers, I will add the dataframes back together\n",
    "characters_update_df = pd.concat([characters_g1_df, characters_g2_df, characters_g3_df, characters_ng3_df])"
   ]
  },
  {
   "cell_type": "code",
   "execution_count": 41,
   "id": "136f7210",
   "metadata": {},
   "outputs": [],
   "source": [
    "# remove the \"split name\" and credit position columns\n",
    "characters_update_df = characters_update_df[['character_ID', 'character_name', 'movie_ID', 'movie_title', 'gender']]"
   ]
  },
  {
   "cell_type": "code",
   "execution_count": 42,
   "id": "8588bad1",
   "metadata": {},
   "outputs": [
    {
     "data": {
      "text/html": [
       "<div>\n",
       "<style scoped>\n",
       "    .dataframe tbody tr th:only-of-type {\n",
       "        vertical-align: middle;\n",
       "    }\n",
       "\n",
       "    .dataframe tbody tr th {\n",
       "        vertical-align: top;\n",
       "    }\n",
       "\n",
       "    .dataframe thead th {\n",
       "        text-align: right;\n",
       "    }\n",
       "</style>\n",
       "<table border=\"1\" class=\"dataframe\">\n",
       "  <thead>\n",
       "    <tr style=\"text-align: right;\">\n",
       "      <th></th>\n",
       "      <th>character_ID</th>\n",
       "      <th>character_name</th>\n",
       "      <th>movie_ID</th>\n",
       "      <th>movie_title</th>\n",
       "      <th>gender</th>\n",
       "    </tr>\n",
       "  </thead>\n",
       "  <tbody>\n",
       "    <tr>\n",
       "      <th>0</th>\n",
       "      <td>u0</td>\n",
       "      <td>BIANCA</td>\n",
       "      <td>m0</td>\n",
       "      <td>10 things i hate about you</td>\n",
       "      <td>F</td>\n",
       "    </tr>\n",
       "    <tr>\n",
       "      <th>2</th>\n",
       "      <td>u2</td>\n",
       "      <td>CAMERON</td>\n",
       "      <td>m0</td>\n",
       "      <td>10 things i hate about you</td>\n",
       "      <td>M</td>\n",
       "    </tr>\n",
       "    <tr>\n",
       "      <th>4</th>\n",
       "      <td>u4</td>\n",
       "      <td>JOEY</td>\n",
       "      <td>m0</td>\n",
       "      <td>10 things i hate about you</td>\n",
       "      <td>M</td>\n",
       "    </tr>\n",
       "    <tr>\n",
       "      <th>5</th>\n",
       "      <td>u5</td>\n",
       "      <td>KAT</td>\n",
       "      <td>m0</td>\n",
       "      <td>10 things i hate about you</td>\n",
       "      <td>F</td>\n",
       "    </tr>\n",
       "    <tr>\n",
       "      <th>6</th>\n",
       "      <td>u6</td>\n",
       "      <td>MANDELLA</td>\n",
       "      <td>m0</td>\n",
       "      <td>10 things i hate about you</td>\n",
       "      <td>F</td>\n",
       "    </tr>\n",
       "  </tbody>\n",
       "</table>\n",
       "</div>"
      ],
      "text/plain": [
       "  character_ID character_name movie_ID                 movie_title gender\n",
       "0           u0         BIANCA       m0  10 things i hate about you      F\n",
       "2           u2        CAMERON       m0  10 things i hate about you      M\n",
       "4           u4           JOEY       m0  10 things i hate about you      M\n",
       "5           u5            KAT       m0  10 things i hate about you      F\n",
       "6           u6       MANDELLA       m0  10 things i hate about you      F"
      ]
     },
     "execution_count": 42,
     "metadata": {},
     "output_type": "execute_result"
    }
   ],
   "source": [
    "characters_update_df.head()"
   ]
  },
  {
   "cell_type": "code",
   "execution_count": 43,
   "id": "4a6fce23",
   "metadata": {},
   "outputs": [
    {
     "data": {
      "text/html": [
       "<div>\n",
       "<style scoped>\n",
       "    .dataframe tbody tr th:only-of-type {\n",
       "        vertical-align: middle;\n",
       "    }\n",
       "\n",
       "    .dataframe tbody tr th {\n",
       "        vertical-align: top;\n",
       "    }\n",
       "\n",
       "    .dataframe thead th {\n",
       "        text-align: right;\n",
       "    }\n",
       "</style>\n",
       "<table border=\"1\" class=\"dataframe\">\n",
       "  <thead>\n",
       "    <tr style=\"text-align: right;\">\n",
       "      <th></th>\n",
       "      <th>character_ID</th>\n",
       "      <th>character_name</th>\n",
       "      <th>movie_ID</th>\n",
       "      <th>movie_title</th>\n",
       "    </tr>\n",
       "    <tr>\n",
       "      <th>gender</th>\n",
       "      <th></th>\n",
       "      <th></th>\n",
       "      <th></th>\n",
       "      <th></th>\n",
       "    </tr>\n",
       "  </thead>\n",
       "  <tbody>\n",
       "    <tr>\n",
       "      <th>A</th>\n",
       "      <td>976</td>\n",
       "      <td>976</td>\n",
       "      <td>976</td>\n",
       "      <td>976</td>\n",
       "    </tr>\n",
       "    <tr>\n",
       "      <th>F</th>\n",
       "      <td>2099</td>\n",
       "      <td>2099</td>\n",
       "      <td>2099</td>\n",
       "      <td>2099</td>\n",
       "    </tr>\n",
       "    <tr>\n",
       "      <th>M</th>\n",
       "      <td>3799</td>\n",
       "      <td>3799</td>\n",
       "      <td>3799</td>\n",
       "      <td>3799</td>\n",
       "    </tr>\n",
       "    <tr>\n",
       "      <th>unknown</th>\n",
       "      <td>2159</td>\n",
       "      <td>2159</td>\n",
       "      <td>2159</td>\n",
       "      <td>2159</td>\n",
       "    </tr>\n",
       "  </tbody>\n",
       "</table>\n",
       "</div>"
      ],
      "text/plain": [
       "         character_ID  character_name  movie_ID  movie_title\n",
       "gender                                                      \n",
       "A                 976             976       976          976\n",
       "F                2099            2099      2099         2099\n",
       "M                3799            3799      3799         3799\n",
       "unknown          2159            2159      2159         2159"
      ]
     },
     "execution_count": 43,
     "metadata": {},
     "output_type": "execute_result"
    }
   ],
   "source": [
    "characters_update_df.groupby('gender').count()"
   ]
  },
  {
   "cell_type": "code",
   "execution_count": 44,
   "id": "e093d72c",
   "metadata": {},
   "outputs": [
    {
     "data": {
      "image/png": "[encoded data removed]",
      "text/plain": [
       "<Figure size 432x288 with 1 Axes>"
      ]
     },
     "metadata": {},
     "output_type": "display_data"
    }
   ],
   "source": [
    "# another view of the gender split\n",
    "plt.pie(characters_update_df.gender.value_counts(), labels=[\"M\", \"unknown\", \"F\", \"A\"])\n",
    "plt.savefig('../data_visualization/gender_pie_final.png')\n",
    "plt.show()"
   ]
  },
  {
   "cell_type": "code",
   "execution_count": 45,
   "id": "e6e05f2b",
   "metadata": {},
   "outputs": [
    {
     "data": {
      "image/png": "[encoded data removed]",
      "text/plain": [
       "<Figure size 432x288 with 1 Axes>"
      ]
     },
     "metadata": {
      "needs_background": "light"
     },
     "output_type": "display_data"
    }
   ],
   "source": [
    "# updated dataframe gender breakdown\n",
    "sns.countplot(x = \"gender\",\n",
    "             data = characters_update_df)\n",
    "plt.savefig('../data_visualization/gender_final.png')\n",
    "plt.show()"
   ]
  },
  {
   "cell_type": "code",
   "execution_count": 46,
   "id": "36d48199",
   "metadata": {
    "scrolled": true
   },
   "outputs": [
    {
     "data": {
      "image/png": "[encoded data removed]",
      "text/plain": [
       "<Figure size 432x288 with 1 Axes>"
      ]
     },
     "metadata": {
      "needs_background": "light"
     },
     "output_type": "display_data"
    }
   ],
   "source": [
    "# compared to the original dataframe! huge improvement, I was able to cut the unknown gender markers down by half\n",
    "sns.countplot(x = \"gender\",\n",
    "             data = characters_df)\n",
    "plt.show()\n",
    "# this plot has already been saved above"
   ]
  },
  {
   "cell_type": "markdown",
   "id": "d603923b",
   "metadata": {},
   "source": [
    "## Pickling the data and creating a csv"
   ]
  },
  {
   "cell_type": "code",
   "execution_count": 47,
   "id": "5bcc47f4",
   "metadata": {},
   "outputs": [],
   "source": [
    "import pickle"
   ]
  },
  {
   "cell_type": "code",
   "execution_count": 48,
   "id": "e9aca51b",
   "metadata": {},
   "outputs": [],
   "source": [
    "# pickle the data to use in other notebooks for further analysis\n",
    "f = open('characters_update_df.pkl', 'wb')\n",
    "pickle.dump(characters_update_df, f, -1)\n",
    "f.close()"
   ]
  },
  {
   "cell_type": "code",
   "execution_count": 49,
   "id": "7ff1c70b",
   "metadata": {},
   "outputs": [],
   "source": [
    "characters_update_df.to_csv('../new_data/characters_df.csv', header=True)"
   ]
  },
  {
   "cell_type": "markdown",
   "id": "757e6824",
   "metadata": {},
   "source": [
    "## Conclusion"
   ]
  },
  {
   "cell_type": "markdown",
   "id": "bed0db51",
   "metadata": {},
   "source": [
    "Even though these data are pre-compiled, there was still some tidying and improvement I was able to do. Because my analysis focuses on gender representation in movies, getting more markers was integral to make the rest of my data and analysis as coherent as possible. I was able to fill in 3859 markers out of the original 6018 missing markers. This accounted for around 64% of the missing markers.\n",
    "\n",
    "Some of the character names are in other languages, so if there was an NLTK names list equivalent in non-English languages, I would have been able to fill in more just from looking at names."
   ]
  }
 ],
 "metadata": {
  "kernelspec": {
   "display_name": "Python 3",
   "language": "python",
   "name": "python3"
  },
  "language_info": {
   "codemirror_mode": {
    "name": "ipython",
    "version": 3
   },
   "file_extension": ".py",
   "mimetype": "text/x-python",
   "name": "python",
   "nbconvert_exporter": "python",
   "pygments_lexer": "ipython3",
   "version": "3.8.8"
  }
 },
 "nbformat": 4,
 "nbformat_minor": 5
}
