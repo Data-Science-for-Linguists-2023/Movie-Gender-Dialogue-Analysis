{
 "cells": [
  {
   "cell_type": "markdown",
   "id": "c9626fb6",
   "metadata": {},
   "source": [
    "# Movies"
   ]
  },
  {
   "cell_type": "markdown",
   "id": "5a9624f5",
   "metadata": {},
   "source": [
    "EXISTING"
   ]
  },
  {
   "cell_type": "markdown",
   "id": "d3c326c0",
   "metadata": {},
   "source": [
    "This data frame lists all movies, their year, IMBD rating, IMBD votes, and their genres. The `movie_ID` column is later referenced in other data frames."
   ]
  },
  {
   "cell_type": "code",
   "execution_count": 1,
   "id": "12146bf6",
   "metadata": {},
   "outputs": [
    {
     "name": "stderr",
     "output_type": "stream",
     "text": [
      "/opt/anaconda3/lib/python3.8/site-packages/scipy/__init__.py:138: UserWarning: A NumPy version >=1.16.5 and <1.23.0 is required for this version of SciPy (detected version 1.24.1)\n",
      "  warnings.warn(f\"A NumPy version >={np_minversion} and <{np_maxversion} is required for this version of \"\n"
     ]
    }
   ],
   "source": [
    "# import packages\n",
    "import numpy as np\n",
    "import pandas as pd\n",
    "import re\n",
    "import matplotlib.pyplot as plt\n",
    "import seaborn as sns"
   ]
  },
  {
   "cell_type": "code",
   "execution_count": 2,
   "id": "74b9ca42",
   "metadata": {},
   "outputs": [
    {
     "name": "stdout",
     "output_type": "stream",
     "text": [
      "Pretty printing has been turned OFF\n"
     ]
    }
   ],
   "source": [
    "# turn off pretty printing\n",
    "%pprint"
   ]
  },
  {
   "cell_type": "markdown",
   "id": "e0f29e9e",
   "metadata": {},
   "source": [
    "## Loading in the data and basic summary"
   ]
  },
  {
   "cell_type": "code",
   "execution_count": 3,
   "id": "ea141c53",
   "metadata": {},
   "outputs": [],
   "source": [
    "movies_df = pd.read_csv('./data/movie_titles_metadata.txt', sep='\\s+\\+\\+\\+\\$\\+\\+\\+\\s?',\n",
    "                        names=['movie_ID', 'movie_title' , 'movie_year', 'IMDB_rating', 'IMBD_votes', 'genres'], \n",
    "                        engine='python', encoding='ISO-8859-1')"
   ]
  },
  {
   "cell_type": "markdown",
   "id": "e9797725",
   "metadata": {},
   "source": [
    "The data was all separated with ' +++$+++ ' and did not have column names. The README described what each column was in the data so I used that to create column names."
   ]
  },
  {
   "cell_type": "code",
   "execution_count": 4,
   "id": "e9c965d8",
   "metadata": {},
   "outputs": [
    {
     "data": {
      "text/plain": [
       "(617, 5)"
      ]
     },
     "execution_count": 4,
     "metadata": {},
     "output_type": "execute_result"
    }
   ],
   "source": [
    "movies_df.shape"
   ]
  },
  {
   "cell_type": "code",
   "execution_count": 5,
   "id": "4bede941",
   "metadata": {},
   "outputs": [
    {
     "name": "stdout",
     "output_type": "stream",
     "text": [
      "<class 'pandas.core.frame.DataFrame'>\n",
      "Index: 617 entries, m0 to m616\n",
      "Data columns (total 5 columns):\n",
      " #   Column       Non-Null Count  Dtype  \n",
      "---  ------       --------------  -----  \n",
      " 0   movie_title  617 non-null    object \n",
      " 1   movie_year   617 non-null    object \n",
      " 2   IMDB_rating  617 non-null    float64\n",
      " 3   IMBD_votes   617 non-null    int64  \n",
      " 4   genres       617 non-null    object \n",
      "dtypes: float64(1), int64(1), object(3)\n",
      "memory usage: 28.9+ KB\n"
     ]
    }
   ],
   "source": [
    "# no missing values here\n",
    "movies_df.info()"
   ]
  },
  {
   "cell_type": "code",
   "execution_count": 6,
   "id": "996837f5",
   "metadata": {},
   "outputs": [
    {
     "data": {
      "text/html": [
       "<div>\n",
       "<style scoped>\n",
       "    .dataframe tbody tr th:only-of-type {\n",
       "        vertical-align: middle;\n",
       "    }\n",
       "\n",
       "    .dataframe tbody tr th {\n",
       "        vertical-align: top;\n",
       "    }\n",
       "\n",
       "    .dataframe thead th {\n",
       "        text-align: right;\n",
       "    }\n",
       "</style>\n",
       "<table border=\"1\" class=\"dataframe\">\n",
       "  <thead>\n",
       "    <tr style=\"text-align: right;\">\n",
       "      <th></th>\n",
       "      <th>movie_title</th>\n",
       "      <th>movie_year</th>\n",
       "      <th>IMDB_rating</th>\n",
       "      <th>IMBD_votes</th>\n",
       "      <th>genres</th>\n",
       "    </tr>\n",
       "    <tr>\n",
       "      <th>movie_ID</th>\n",
       "      <th></th>\n",
       "      <th></th>\n",
       "      <th></th>\n",
       "      <th></th>\n",
       "      <th></th>\n",
       "    </tr>\n",
       "  </thead>\n",
       "  <tbody>\n",
       "    <tr>\n",
       "      <th>m0</th>\n",
       "      <td>10 things i hate about you</td>\n",
       "      <td>1999</td>\n",
       "      <td>6.9</td>\n",
       "      <td>62847</td>\n",
       "      <td>['comedy', 'romance']</td>\n",
       "    </tr>\n",
       "    <tr>\n",
       "      <th>m1</th>\n",
       "      <td>1492: conquest of paradise</td>\n",
       "      <td>1992</td>\n",
       "      <td>6.2</td>\n",
       "      <td>10421</td>\n",
       "      <td>['adventure', 'biography', 'drama', 'history']</td>\n",
       "    </tr>\n",
       "    <tr>\n",
       "      <th>m2</th>\n",
       "      <td>15 minutes</td>\n",
       "      <td>2001</td>\n",
       "      <td>6.1</td>\n",
       "      <td>25854</td>\n",
       "      <td>['action', 'crime', 'drama', 'thriller']</td>\n",
       "    </tr>\n",
       "    <tr>\n",
       "      <th>m3</th>\n",
       "      <td>2001: a space odyssey</td>\n",
       "      <td>1968</td>\n",
       "      <td>8.4</td>\n",
       "      <td>163227</td>\n",
       "      <td>['adventure', 'mystery', 'sci-fi']</td>\n",
       "    </tr>\n",
       "    <tr>\n",
       "      <th>m4</th>\n",
       "      <td>48 hrs.</td>\n",
       "      <td>1982</td>\n",
       "      <td>6.9</td>\n",
       "      <td>22289</td>\n",
       "      <td>['action', 'comedy', 'crime', 'drama', 'thrill...</td>\n",
       "    </tr>\n",
       "  </tbody>\n",
       "</table>\n",
       "</div>"
      ],
      "text/plain": [
       "                         movie_title movie_year  IMDB_rating  IMBD_votes  \\\n",
       "movie_ID                                                                   \n",
       "m0        10 things i hate about you       1999          6.9       62847   \n",
       "m1        1492: conquest of paradise       1992          6.2       10421   \n",
       "m2                        15 minutes       2001          6.1       25854   \n",
       "m3             2001: a space odyssey       1968          8.4      163227   \n",
       "m4                           48 hrs.       1982          6.9       22289   \n",
       "\n",
       "                                                     genres  \n",
       "movie_ID                                                     \n",
       "m0                                    ['comedy', 'romance']  \n",
       "m1           ['adventure', 'biography', 'drama', 'history']  \n",
       "m2                 ['action', 'crime', 'drama', 'thriller']  \n",
       "m3                       ['adventure', 'mystery', 'sci-fi']  \n",
       "m4        ['action', 'comedy', 'crime', 'drama', 'thrill...  "
      ]
     },
     "execution_count": 6,
     "metadata": {},
     "output_type": "execute_result"
    }
   ],
   "source": [
    "movies_df.head()"
   ]
  },
  {
   "cell_type": "code",
   "execution_count": 7,
   "id": "bac54d88",
   "metadata": {},
   "outputs": [],
   "source": [
    "# I do not need the IMDB information\n",
    "movies_df = movies_df[['movie_title', 'movie_year', 'genres']]"
   ]
  },
  {
   "cell_type": "code",
   "execution_count": 8,
   "id": "35137d43",
   "metadata": {},
   "outputs": [
    {
     "data": {
      "text/plain": [
       "'1927'"
      ]
     },
     "execution_count": 8,
     "metadata": {},
     "output_type": "execute_result"
    }
   ],
   "source": [
    "# what is the earliest movie in the df?\n",
    "movies_df['movie_year'].min()"
   ]
  },
  {
   "cell_type": "code",
   "execution_count": 9,
   "id": "8b2e1a2a",
   "metadata": {},
   "outputs": [
    {
     "data": {
      "text/plain": [
       "'2010'"
      ]
     },
     "execution_count": 9,
     "metadata": {},
     "output_type": "execute_result"
    }
   ],
   "source": [
    "# what is the most recent movie in the df?\n",
    "movies_df['movie_year'].max()"
   ]
  },
  {
   "cell_type": "code",
   "execution_count": 10,
   "id": "7ec2093e",
   "metadata": {},
   "outputs": [
    {
     "data": {
      "text/html": [
       "<div>\n",
       "<style scoped>\n",
       "    .dataframe tbody tr th:only-of-type {\n",
       "        vertical-align: middle;\n",
       "    }\n",
       "\n",
       "    .dataframe tbody tr th {\n",
       "        vertical-align: top;\n",
       "    }\n",
       "\n",
       "    .dataframe thead th {\n",
       "        text-align: right;\n",
       "    }\n",
       "</style>\n",
       "<table border=\"1\" class=\"dataframe\">\n",
       "  <thead>\n",
       "    <tr style=\"text-align: right;\">\n",
       "      <th></th>\n",
       "      <th>movie_title</th>\n",
       "      <th>genres</th>\n",
       "    </tr>\n",
       "    <tr>\n",
       "      <th>movie_year</th>\n",
       "      <th></th>\n",
       "      <th></th>\n",
       "    </tr>\n",
       "  </thead>\n",
       "  <tbody>\n",
       "    <tr>\n",
       "      <th>1927</th>\n",
       "      <td>2</td>\n",
       "      <td>2</td>\n",
       "    </tr>\n",
       "    <tr>\n",
       "      <th>1931</th>\n",
       "      <td>2</td>\n",
       "      <td>2</td>\n",
       "    </tr>\n",
       "    <tr>\n",
       "      <th>1932</th>\n",
       "      <td>4</td>\n",
       "      <td>4</td>\n",
       "    </tr>\n",
       "    <tr>\n",
       "      <th>1933</th>\n",
       "      <td>2</td>\n",
       "      <td>2</td>\n",
       "    </tr>\n",
       "    <tr>\n",
       "      <th>1934</th>\n",
       "      <td>3</td>\n",
       "      <td>3</td>\n",
       "    </tr>\n",
       "    <tr>\n",
       "      <th>...</th>\n",
       "      <td>...</td>\n",
       "      <td>...</td>\n",
       "    </tr>\n",
       "    <tr>\n",
       "      <th>2007/I</th>\n",
       "      <td>1</td>\n",
       "      <td>1</td>\n",
       "    </tr>\n",
       "    <tr>\n",
       "      <th>2008</th>\n",
       "      <td>1</td>\n",
       "      <td>1</td>\n",
       "    </tr>\n",
       "    <tr>\n",
       "      <th>2009</th>\n",
       "      <td>3</td>\n",
       "      <td>3</td>\n",
       "    </tr>\n",
       "    <tr>\n",
       "      <th>2009/I</th>\n",
       "      <td>1</td>\n",
       "      <td>1</td>\n",
       "    </tr>\n",
       "    <tr>\n",
       "      <th>2010</th>\n",
       "      <td>1</td>\n",
       "      <td>1</td>\n",
       "    </tr>\n",
       "  </tbody>\n",
       "</table>\n",
       "<p>88 rows × 2 columns</p>\n",
       "</div>"
      ],
      "text/plain": [
       "            movie_title  genres\n",
       "movie_year                     \n",
       "1927                  2       2\n",
       "1931                  2       2\n",
       "1932                  4       4\n",
       "1933                  2       2\n",
       "1934                  3       3\n",
       "...                 ...     ...\n",
       "2007/I                1       1\n",
       "2008                  1       1\n",
       "2009                  3       3\n",
       "2009/I                1       1\n",
       "2010                  1       1\n",
       "\n",
       "[88 rows x 2 columns]"
      ]
     },
     "execution_count": 10,
     "metadata": {},
     "output_type": "execute_result"
    }
   ],
   "source": [
    "# how many movies per year?\n",
    "movies_df.groupby('movie_year').count()"
   ]
  },
  {
   "cell_type": "markdown",
   "id": "281d2c32",
   "metadata": {},
   "source": [
    "## Cleaning the data"
   ]
  },
  {
   "cell_type": "markdown",
   "id": "1f89cfef",
   "metadata": {},
   "source": [
    "Too many years to display all at once, I will add decade information for easier analysis. Some of this data will need to be cleaned up as well, extra '/I' after some of the movie years for some reason."
   ]
  },
  {
   "cell_type": "code",
   "execution_count": 11,
   "id": "1a21d7d9",
   "metadata": {},
   "outputs": [],
   "source": [
    "# removing extra characters after the year\n",
    "movies_df['movie_year'] = movies_df['movie_year'].str.rstrip(r'/I')"
   ]
  },
  {
   "cell_type": "code",
   "execution_count": 12,
   "id": "2b683ef4",
   "metadata": {},
   "outputs": [],
   "source": [
    "# convert the movie_year to integer to generate decade\n",
    "movies_df = movies_df.astype({'movie_year':'int'})"
   ]
  },
  {
   "cell_type": "code",
   "execution_count": 13,
   "id": "f9a5e48b",
   "metadata": {},
   "outputs": [
    {
     "data": {
      "text/html": [
       "<div>\n",
       "<style scoped>\n",
       "    .dataframe tbody tr th:only-of-type {\n",
       "        vertical-align: middle;\n",
       "    }\n",
       "\n",
       "    .dataframe tbody tr th {\n",
       "        vertical-align: top;\n",
       "    }\n",
       "\n",
       "    .dataframe thead th {\n",
       "        text-align: right;\n",
       "    }\n",
       "</style>\n",
       "<table border=\"1\" class=\"dataframe\">\n",
       "  <thead>\n",
       "    <tr style=\"text-align: right;\">\n",
       "      <th></th>\n",
       "      <th>movie_title</th>\n",
       "      <th>genres</th>\n",
       "    </tr>\n",
       "    <tr>\n",
       "      <th>movie_year</th>\n",
       "      <th></th>\n",
       "      <th></th>\n",
       "    </tr>\n",
       "  </thead>\n",
       "  <tbody>\n",
       "    <tr>\n",
       "      <th>1927</th>\n",
       "      <td>2</td>\n",
       "      <td>2</td>\n",
       "    </tr>\n",
       "    <tr>\n",
       "      <th>1931</th>\n",
       "      <td>2</td>\n",
       "      <td>2</td>\n",
       "    </tr>\n",
       "    <tr>\n",
       "      <th>1932</th>\n",
       "      <td>4</td>\n",
       "      <td>4</td>\n",
       "    </tr>\n",
       "    <tr>\n",
       "      <th>1933</th>\n",
       "      <td>2</td>\n",
       "      <td>2</td>\n",
       "    </tr>\n",
       "    <tr>\n",
       "      <th>1934</th>\n",
       "      <td>3</td>\n",
       "      <td>3</td>\n",
       "    </tr>\n",
       "    <tr>\n",
       "      <th>...</th>\n",
       "      <td>...</td>\n",
       "      <td>...</td>\n",
       "    </tr>\n",
       "    <tr>\n",
       "      <th>2006</th>\n",
       "      <td>6</td>\n",
       "      <td>6</td>\n",
       "    </tr>\n",
       "    <tr>\n",
       "      <th>2007</th>\n",
       "      <td>5</td>\n",
       "      <td>5</td>\n",
       "    </tr>\n",
       "    <tr>\n",
       "      <th>2008</th>\n",
       "      <td>1</td>\n",
       "      <td>1</td>\n",
       "    </tr>\n",
       "    <tr>\n",
       "      <th>2009</th>\n",
       "      <td>4</td>\n",
       "      <td>4</td>\n",
       "    </tr>\n",
       "    <tr>\n",
       "      <th>2010</th>\n",
       "      <td>1</td>\n",
       "      <td>1</td>\n",
       "    </tr>\n",
       "  </tbody>\n",
       "</table>\n",
       "<p>74 rows × 2 columns</p>\n",
       "</div>"
      ],
      "text/plain": [
       "            movie_title  genres\n",
       "movie_year                     \n",
       "1927                  2       2\n",
       "1931                  2       2\n",
       "1932                  4       4\n",
       "1933                  2       2\n",
       "1934                  3       3\n",
       "...                 ...     ...\n",
       "2006                  6       6\n",
       "2007                  5       5\n",
       "2008                  1       1\n",
       "2009                  4       4\n",
       "2010                  1       1\n",
       "\n",
       "[74 rows x 2 columns]"
      ]
     },
     "execution_count": 13,
     "metadata": {},
     "output_type": "execute_result"
    }
   ],
   "source": [
    "movies_df.groupby('movie_year').count()"
   ]
  },
  {
   "cell_type": "code",
   "execution_count": 14,
   "id": "854108da",
   "metadata": {},
   "outputs": [],
   "source": [
    "# add decades for easier grouping\n",
    "movies_df['movie_decade'] = 10 * (movies_df['movie_year'] // 10)"
   ]
  },
  {
   "cell_type": "code",
   "execution_count": 15,
   "id": "d4502345",
   "metadata": {},
   "outputs": [
    {
     "data": {
      "text/html": [
       "<div>\n",
       "<style scoped>\n",
       "    .dataframe tbody tr th:only-of-type {\n",
       "        vertical-align: middle;\n",
       "    }\n",
       "\n",
       "    .dataframe tbody tr th {\n",
       "        vertical-align: top;\n",
       "    }\n",
       "\n",
       "    .dataframe thead th {\n",
       "        text-align: right;\n",
       "    }\n",
       "</style>\n",
       "<table border=\"1\" class=\"dataframe\">\n",
       "  <thead>\n",
       "    <tr style=\"text-align: right;\">\n",
       "      <th></th>\n",
       "      <th>movie_title</th>\n",
       "      <th>movie_year</th>\n",
       "      <th>genres</th>\n",
       "    </tr>\n",
       "    <tr>\n",
       "      <th>movie_decade</th>\n",
       "      <th></th>\n",
       "      <th></th>\n",
       "      <th></th>\n",
       "    </tr>\n",
       "  </thead>\n",
       "  <tbody>\n",
       "    <tr>\n",
       "      <th>1920</th>\n",
       "      <td>2</td>\n",
       "      <td>2</td>\n",
       "      <td>2</td>\n",
       "    </tr>\n",
       "    <tr>\n",
       "      <th>1930</th>\n",
       "      <td>16</td>\n",
       "      <td>16</td>\n",
       "      <td>16</td>\n",
       "    </tr>\n",
       "    <tr>\n",
       "      <th>1940</th>\n",
       "      <td>15</td>\n",
       "      <td>15</td>\n",
       "      <td>15</td>\n",
       "    </tr>\n",
       "    <tr>\n",
       "      <th>1950</th>\n",
       "      <td>17</td>\n",
       "      <td>17</td>\n",
       "      <td>17</td>\n",
       "    </tr>\n",
       "    <tr>\n",
       "      <th>1960</th>\n",
       "      <td>19</td>\n",
       "      <td>19</td>\n",
       "      <td>19</td>\n",
       "    </tr>\n",
       "    <tr>\n",
       "      <th>1970</th>\n",
       "      <td>51</td>\n",
       "      <td>51</td>\n",
       "      <td>51</td>\n",
       "    </tr>\n",
       "    <tr>\n",
       "      <th>1980</th>\n",
       "      <td>108</td>\n",
       "      <td>108</td>\n",
       "      <td>108</td>\n",
       "    </tr>\n",
       "    <tr>\n",
       "      <th>1990</th>\n",
       "      <td>244</td>\n",
       "      <td>244</td>\n",
       "      <td>244</td>\n",
       "    </tr>\n",
       "    <tr>\n",
       "      <th>2000</th>\n",
       "      <td>144</td>\n",
       "      <td>144</td>\n",
       "      <td>144</td>\n",
       "    </tr>\n",
       "    <tr>\n",
       "      <th>2010</th>\n",
       "      <td>1</td>\n",
       "      <td>1</td>\n",
       "      <td>1</td>\n",
       "    </tr>\n",
       "  </tbody>\n",
       "</table>\n",
       "</div>"
      ],
      "text/plain": [
       "              movie_title  movie_year  genres\n",
       "movie_decade                                 \n",
       "1920                    2           2       2\n",
       "1930                   16          16      16\n",
       "1940                   15          15      15\n",
       "1950                   17          17      17\n",
       "1960                   19          19      19\n",
       "1970                   51          51      51\n",
       "1980                  108         108     108\n",
       "1990                  244         244     244\n",
       "2000                  144         144     144\n",
       "2010                    1           1       1"
      ]
     },
     "execution_count": 15,
     "metadata": {},
     "output_type": "execute_result"
    }
   ],
   "source": [
    "# how many movies per decade?\n",
    "movies_df.groupby('movie_decade').count()"
   ]
  },
  {
   "cell_type": "code",
   "execution_count": 16,
   "id": "28ca319b",
   "metadata": {},
   "outputs": [
    {
     "data": {
      "image/png": "[encoded data removed]",
      "text/plain": [
       "<Figure size 432x288 with 1 Axes>"
      ]
     },
     "metadata": {
      "needs_background": "light"
     },
     "output_type": "display_data"
    }
   ],
   "source": [
    "sns.countplot(x = \"movie_decade\",\n",
    "             data = movies_df)\n",
    "plt.show()"
   ]
  },
  {
   "cell_type": "markdown",
   "id": "c79baa52",
   "metadata": {},
   "source": [
    "Wide span of movies, from the 1920s to the 2010s, but most of them come from the 1980s to the 2000s."
   ]
  },
  {
   "cell_type": "markdown",
   "id": "8ea900fc",
   "metadata": {},
   "source": [
    "## Pickling the data and creating a csv"
   ]
  },
  {
   "cell_type": "code",
   "execution_count": 17,
   "id": "671439e6",
   "metadata": {},
   "outputs": [],
   "source": [
    "import pickle"
   ]
  },
  {
   "cell_type": "code",
   "execution_count": 18,
   "id": "22ffaaad",
   "metadata": {},
   "outputs": [],
   "source": [
    "# pickle the data to use in other notebooks for further analysis\n",
    "f = open('movies_df.pkl', 'wb')\n",
    "pickle.dump(movies_df, f, -1)\n",
    "f.close()"
   ]
  },
  {
   "cell_type": "code",
   "execution_count": 20,
   "id": "fc7a7df2",
   "metadata": {},
   "outputs": [],
   "source": [
    "movies_df.to_csv('./new_data/movies_df.csv', header=True)"
   ]
  }
 ],
 "metadata": {
  "kernelspec": {
   "display_name": "Python 3",
   "language": "python",
   "name": "python3"
  },
  "language_info": {
   "codemirror_mode": {
    "name": "ipython",
    "version": 3
   },
   "file_extension": ".py",
   "mimetype": "text/x-python",
   "name": "python",
   "nbconvert_exporter": "python",
   "pygments_lexer": "ipython3",
   "version": "3.8.8"
  }
 },
 "nbformat": 4,
 "nbformat_minor": 5
}
